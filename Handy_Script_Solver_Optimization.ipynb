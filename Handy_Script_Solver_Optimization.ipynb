{
  "nbformat": 4,
  "nbformat_minor": 0,
  "metadata": {
    "colab": {
      "name": "Handy Script Solver Optimization",
      "provenance": [],
      "collapsed_sections": [],
      "authorship_tag": "ABX9TyNcf1jKj1HA/U/a0dsnN4B/",
      "include_colab_link": true
    },
    "kernelspec": {
      "display_name": "R",
      "name": "ir"
    }
  },
  "cells": [
    {
      "cell_type": "markdown",
      "metadata": {
        "id": "view-in-github",
        "colab_type": "text"
      },
      "source": [
        "<a href=\"https://colab.research.google.com/github/ikanx101/G-Colab/blob/main/Handy_Script_Solver_Optimization.ipynb\" target=\"_parent\"><img src=\"https://colab.research.google.com/assets/colab-badge.svg\" alt=\"Open In Colab\"/></a>"
      ]
    },
    {
      "cell_type": "code",
      "metadata": {
        "id": "zBMEp-YXAJGg"
      },
      "source": [
        "#system(\"sudo apt-get install libglpk-dev\")\n",
        "#install.packages(\"ROI\")\n",
        "#install.packages(\"ompr\")\n",
        "#install.packages(\"ompr.roi\")\n",
        "#install.packages(\"ROI.plugin.glpk\")"
      ],
      "execution_count": 7,
      "outputs": []
    },
    {
      "cell_type": "code",
      "metadata": {
        "id": "3LxS87n8AQZs",
        "colab": {
          "base_uri": "https://localhost:8080/"
        },
        "outputId": "72917ef0-1aca-4609-8fd5-dc88dc73d0ed"
      },
      "source": [
        "library(dplyr)\n",
        "library(ompr)\n",
        "library(ompr.roi)\n",
        "library(ROI.plugin.glpk)\n",
        "library(ggplot2)\n",
        "\n",
        "rm(list=ls())"
      ],
      "execution_count": 8,
      "outputs": [
        {
          "output_type": "stream",
          "text": [
            "\n",
            "Attaching package: ‘dplyr’\n",
            "\n",
            "\n",
            "The following objects are masked from ‘package:stats’:\n",
            "\n",
            "    filter, lag\n",
            "\n",
            "\n",
            "The following objects are masked from ‘package:base’:\n",
            "\n",
            "    intersect, setdiff, setequal, union\n",
            "\n",
            "\n"
          ],
          "name": "stderr"
        }
      ]
    },
    {
      "cell_type": "code",
      "metadata": {
        "id": "KTmyf31vtG93"
      },
      "source": [
        "# binary\n",
        "# continuous\n",
        "# integer"
      ],
      "execution_count": 9,
      "outputs": []
    },
    {
      "cell_type": "code",
      "metadata": {
        "colab": {
          "base_uri": "https://localhost:8080/",
          "height": 139
        },
        "id": "iK74VEbhUPsq",
        "outputId": "58180a16-0eb1-44e9-ffe8-df829325e23b"
      },
      "source": [
        "model = \n",
        "  MIPModel() %>%\n",
        "  add_variable(x1,\n",
        "               type = \"continuous\",\n",
        "               lb = 0) %>%\n",
        "  add_variable(x2,\n",
        "               type = \"continuous\",\n",
        "               lb = 0) %>%\n",
        "  set_objective(2*x1 - x2,\n",
        "                \"min\") %>%\n",
        "  add_constraint(x1 + x2 == 1)\n",
        "model\n"
      ],
      "execution_count": 10,
      "outputs": [
        {
          "output_type": "display_data",
          "data": {
            "text/plain": [
              "Mixed integer linear optimization problem\n",
              "Variables:\n",
              "  Continuous: 2 \n",
              "  Integer: 0 \n",
              "  Binary: 0 \n",
              "Model sense: minimize \n",
              "Constraints: 1 "
            ]
          },
          "metadata": {
            "tags": []
          }
        }
      ]
    },
    {
      "cell_type": "code",
      "metadata": {
        "colab": {
          "base_uri": "https://localhost:8080/"
        },
        "id": "gvrPOGG_WTZV",
        "outputId": "9a7a5c0f-c853-4c68-c354-92197803ca0b"
      },
      "source": [
        "result <- solve_model(model, with_ROI(solver = \"glpk\", verbose = TRUE))"
      ],
      "execution_count": 11,
      "outputs": [
        {
          "output_type": "stream",
          "text": [
            "<SOLVER MSG>  ----\n",
            "GLPK Simplex Optimizer, v4.65\n",
            "1 row, 2 columns, 2 non-zeros\n",
            "      0: obj =   0.000000000e+00 inf =   1.000e+00 (1)\n",
            "      1: obj =   2.000000000e+00 inf =   0.000e+00 (0)\n",
            "*     2: obj =  -1.000000000e+00 inf =   0.000e+00 (0)\n",
            "OPTIMAL LP SOLUTION FOUND\n",
            "<!SOLVER MSG> ----\n"
          ],
          "name": "stdout"
        }
      ]
    },
    {
      "cell_type": "code",
      "metadata": {
        "colab": {
          "base_uri": "https://localhost:8080/",
          "height": 35
        },
        "id": "yR_hIvlLczux",
        "outputId": "11b2e356-f9e8-4ed3-d2a3-d7f77340c449"
      },
      "source": [
        "result$solution"
      ],
      "execution_count": 12,
      "outputs": [
        {
          "output_type": "display_data",
          "data": {
            "text/plain": [
              "x1 x2 \n",
              " 0  1 "
            ],
            "text/latex": "\\begin{description*}\n\\item[x1] 0\n\\item[x2] 1\n\\end{description*}\n",
            "text/markdown": "x1\n:   0x2\n:   1\n\n",
            "text/html": [
              "<style>\n",
              ".dl-inline {width: auto; margin:0; padding: 0}\n",
              ".dl-inline>dt, .dl-inline>dd {float: none; width: auto; display: inline-block}\n",
              ".dl-inline>dt::after {content: \":\\0020\"; padding-right: .5ex}\n",
              ".dl-inline>dt:not(:first-of-type) {padding-left: .5ex}\n",
              "</style><dl class=dl-inline><dt>x1</dt><dd>0</dd><dt>x2</dt><dd>1</dd></dl>\n"
            ]
          },
          "metadata": {
            "tags": []
          }
        }
      ]
    },
    {
      "cell_type": "code",
      "metadata": {
        "colab": {
          "base_uri": "https://localhost:8080/",
          "height": 35
        },
        "id": "6ftf8taV-Stt",
        "outputId": "d87650e3-7f9d-4162-d9ee-660acf536502"
      },
      "source": [
        "result$objective_value"
      ],
      "execution_count": 13,
      "outputs": [
        {
          "output_type": "display_data",
          "data": {
            "text/plain": [
              "[1] -1"
            ],
            "text/latex": "-1",
            "text/markdown": "-1",
            "text/html": [
              "-1"
            ]
          },
          "metadata": {
            "tags": []
          }
        }
      ]
    }
  ]
}