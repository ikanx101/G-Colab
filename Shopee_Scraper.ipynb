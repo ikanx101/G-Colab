{
  "nbformat": 4,
  "nbformat_minor": 0,
  "metadata": {
    "colab": {
      "name": "Shopee Scraper",
      "provenance": [],
      "collapsed_sections": [],
      "include_colab_link": true
    },
    "kernelspec": {
      "name": "ir",
      "display_name": "R"
    }
  },
  "cells": [
    {
      "cell_type": "markdown",
      "metadata": {
        "id": "view-in-github",
        "colab_type": "text"
      },
      "source": [
        "<a href=\"https://colab.research.google.com/github/ikanx101/G-Colab/blob/main/Shopee_Scraper.ipynb\" target=\"_parent\"><img src=\"https://colab.research.google.com/assets/colab-badge.svg\" alt=\"Open In Colab\"/></a>"
      ]
    },
    {
      "cell_type": "markdown",
      "metadata": {
        "id": "Efl5wx9ZDFUQ"
      },
      "source": [
        "# **Shopee Scraper v3.0**\n",
        "\n",
        "## ___What's new?___\n",
        "\n",
        "Pada versi terbaru ini, akan ada dua _files_ hasil _scrape_, yakni:\n",
        "\n",
        "1. Informasi seputar produk; berada pada _file_ bernama `Hasil Scrape Produk.csv`.\n",
        "2. Informasi seputar toko; berada pada file bernama `Hasil Scrape Toko.csv`.\n",
        "\n",
        "Kedua _files_ tersebut disatukan dengan variabel `link` yang sama.\n",
        "\n",
        "## __Petunjuk Pemakaian__ \n",
        "\n",
        "1. Silakan _upload file_ `.txt` berisi _links_ produk __Shopee__ yang hendak di-_scrape_ datanya.\n",
        "1. Pastikan bahwa setiap baris dari file `.txt` tersebut hanya berisi satu _link_ produk saja.\n",
        "1. Tuliskan nama file `.txt` tersebut dalam kolom yang disediakan secara lengkap. Misalkan nama _file:_ `link produk.txt`.\n",
        "1. Silakan pilih `Runtime` > `Run All` dan tunggu hingga selesai.\n",
        "1. Setelah proses selesai, silakan _download files_ yang tersedia.\n",
        "\n",
        "## __Notes__\n",
        "\n",
        "Dilarang mengubah algoritma yang ada. Silakan di-_clone_ ke _GDrive_ sendiri jika memang ingin memodifikasi algoritma ini.\n",
        "\n",
        "_Created by:_ [Ikang](https://ikanx101.com/)"
      ]
    },
    {
      "cell_type": "code",
      "metadata": {
        "id": "vfbUH6plFVze",
        "cellView": "form"
      },
      "source": [
        "#@title Nama File `.txt`\n",
        "rm(list=ls())\n",
        "nama_file <- \"Shopee 17 Feb.txt\" #@param {type:\"string\"}"
      ],
      "execution_count": 61,
      "outputs": []
    },
    {
      "cell_type": "code",
      "metadata": {
        "id": "nLvaId12CkWd",
        "cellView": "form"
      },
      "source": [
        "#@title Preparation Product Links \n",
        "print(\"-- Proses Scrape Produk Dimulai --\")\n",
        "library(jsonlite)\n",
        "library(dplyr)\n",
        "library(tidyr)\n",
        " \n",
        "contoh = c(\"https://shopee.co.id/Tropicana-Slim-Kecap-Manis-200Ml-i.12656836.95387848\",\n",
        "           \"https://shopee.co.id/Tropicana-Slim-Sugar-Free-Cookies-Choco-200G-Tropicana-Slim-Hokkaido-Cheese-Cookies-100gr-i.12656836.6149828589\",\n",
        "           \"https://shopee.co.id/HiLo-Thai-Tea-15-gr-10's-i.12656836.1389108883\")\n",
        " \n",
        "links = readLines(nama_file)\n",
        "link = unique(links)\n",
        "#link = contoh\n",
        "\n",
        "dummy = data.frame(id = c(1:length(link)),\n",
        "                   url = link,\n",
        "                   asli = link) %>% \n",
        "  filter(grepl('-i.',url,fixed = T)) %>% \n",
        "  filter(!grepl(\"help\",url)) %>% \n",
        "  mutate(url = gsub(\"wpi\",\"\",url,ignore.case = T),\n",
        "         url = gsub(\"isi\",\"\",url,ignore.case = T),\n",
        "         url = gsub(\"iso\",\"\",url,ignore.case = T),\n",
        "         url = gsub(\"imi\",\"\",url,ignore.case = T),\n",
        "         url = gsub(\"im\",\"\",url,ignore.case = T),\n",
        "         url = gsub(\"in\",\"\",url,ignore.case = T)) %>% \n",
        "  tidyr::separate(url,into = c('hapus','pakai'),sep = '-i.') %>% \n",
        "  tidyr::separate(pakai, into = c('info1','info2'),sep = '\\\\.') %>%\n",
        "  mutate(link_final = paste0('https://shopee.co.id/api/v2/item/get?itemid=',\n",
        "                             info2,\n",
        "                             '&shopid=',\n",
        "                             info1)) %>% \n",
        "  filter(!is.na(info2))\n",
        " \n",
        "url = dummy$link_final"
      ],
      "execution_count": null,
      "outputs": []
    },
    {
      "cell_type": "code",
      "metadata": {
        "id": "8SGgfAjHIciK",
        "cellView": "form"
      },
      "source": [
        "#@title Product Scrape Function\n",
        "scrape_shopee = function(url){\n",
        "  # buka json\n",
        "  tes = read_json(url)\n",
        "  #bentuk data frame\n",
        "  data = data.frame(\n",
        "    nama = tes$item$name,\n",
        "    merek = ifelse(is.null(tes$item$brand),NA,tes$item$brand),\n",
        "    harga_before_disc = tes$item$price_before_discount/100000,\n",
        "    harga = tes$item$price/100000,\n",
        "    terjual = tes$item$sold,\n",
        "    lokasi = tes$item$shop_location,\n",
        "    status = tes$item$item_status,\n",
        "    kategori = ifelse(is.null(tes$item$categories[[3]]$display_name),NA,tes$item$categories[[3]]$display_name),\n",
        "    link = url\n",
        "  )\n",
        "  return(data)\n",
        "}"
      ],
      "execution_count": 63,
      "outputs": []
    },
    {
      "cell_type": "code",
      "metadata": {
        "id": "aCebR3W_Kbda",
        "cellView": "form"
      },
      "source": [
        "#@title Proses Scraping (Mohon Bersabar ya)\n",
        "i = 1\n",
        "data = scrape_shopee(url[i])\n",
        "\n",
        "for(i in 2:length(url)){\n",
        "  temp = scrape_shopee(url[i])\n",
        "  data = rbind(data,temp)\n",
        "}\n",
        "\n",
        "data$waktu.scrape = Sys.time()\n",
        "raw = distinct(data)"
      ],
      "execution_count": 64,
      "outputs": []
    },
    {
      "cell_type": "code",
      "metadata": {
        "id": "VOhAatK_j5sn",
        "cellView": "form"
      },
      "source": [
        "#@title Cleaning Hasil Scrape Produk\n",
        "# cleaning\n",
        "data_clean = \n",
        "    raw %>% \n",
        "    mutate(merek = case_when(\n",
        "        grepl(\"tropicana\",nama,ignore.case = T) ~ \"Tropicana Slim\",\n",
        "        grepl(\"l-men\",nama,ignore.case = T) ~ \"L-Men\",\n",
        "        grepl(\"nutri\",nama,ignore.case = T) ~ \"NutriSari\",\n",
        "        grepl(\"teen\",nama,ignore.case = T) ~ \"HiLo Teen\",\n",
        "        grepl(\"school\",nama,ignore.case = T) ~ \"HiLo School\",\n",
        "        grepl(\"hilo\",nama,ignore.case = T) & grepl(\"rtd\",nama,ignore.case = T) ~ \"HiLo RTD\",\n",
        "        grepl(\"hilo\",nama,ignore.case = T) & !grepl(\"teen|school|rtd\",nama,ignore.case = T) ~ \"HiLo Active/Gold\",\n",
        "        grepl(\"lokala\",nama,ignore.case = T) ~ \"Lokalate\",\n",
        "        grepl(\"wdan|dank|wedan\",nama,ignore.case = T) ~ \"WDank\"\n",
        "    )\n",
        "               ) %>% \n",
        "    arrange(merek,nama,waktu.scrape) %>% \n",
        "    mutate(discount = ifelse(harga_before_disc > 0,\n",
        "                             harga_before_disc - harga,\n",
        "                             NA)) %>%\n",
        "    mutate(waktu.scrape = as.POSIXct(waktu.scrape) + 7*60*60)"
      ],
      "execution_count": 65,
      "outputs": []
    },
    {
      "cell_type": "code",
      "metadata": {
        "id": "faCI_bj1kblB",
        "colab": {
          "base_uri": "https://localhost:8080/"
        },
        "cellView": "form",
        "outputId": "565f7863-5ab9-4828-ccd6-07fd294694c6"
      },
      "source": [
        "#@title Exporting Hasil Scrape Produk to `.csv`\n",
        "judul = paste0(\"Hasil Scrape Produk.csv\")\n",
        "write.csv(data_clean,judul)\n",
        "print(\"-- Hasil Scrape Produk Sudah Selesai --\")\n",
        "print(\"-- Proses Scrape Toko Dimulai --\")"
      ],
      "execution_count": 66,
      "outputs": [
        {
          "output_type": "stream",
          "text": [
            "[1] \"-- Hasil Scrape Produk Sudah Selesai --\"\n",
            "[1] \"-- Proses Scrape Toko Dimulai --\"\n"
          ],
          "name": "stdout"
        }
      ]
    },
    {
      "cell_type": "code",
      "metadata": {
        "cellView": "form",
        "id": "ORFrvn_vJmR8"
      },
      "source": [
        "#@title Preparation utk Scrape Toko\n",
        "data_toko = \n",
        "  data_clean %>% \n",
        "  mutate(link_new = link) %>%\n",
        "  separate(link_new,\n",
        "           into = c(\"ikanx\",\"fadhli\"),\n",
        "           sep = \"shopid=\") %>%\n",
        "  mutate(ikanx = NULL,\n",
        "         link_new = paste0(\"https://shopee.co.id/api/v2/shop/get?&shopid=\",fadhli)) %>%\n",
        "  select(link,link_new)\n",
        "link_toko = unique(data_toko$link_new)"
      ],
      "execution_count": 67,
      "outputs": []
    },
    {
      "cell_type": "code",
      "metadata": {
        "cellView": "form",
        "id": "xYYDrveTKUrj"
      },
      "source": [
        "#@title Function Scrape Toko\n",
        "scrape_toko_donk = function(url){\n",
        "  tes = read_json(url)\n",
        "  nama_seller = tes$data$name\n",
        "  nama_seller = ifelse(is.null(nama_seller),NA,nama_seller)\n",
        "  lokasi = tes$data$place\n",
        "  lokasi = ifelse(is.null(lokasi),NA,lokasi)\n",
        "  is_official = tes$data$is_official_shop\n",
        "  is_official = ifelse(is.null(is_official),NA,is_official)\n",
        "  is_verified = tes$data$is_shopee_verified\n",
        "  is_verified = ifelse(is.null(is_verified),NA,is_verified)\n",
        "  rating = tes$data$rating_star\n",
        "  rating = ifelse(is.null(rating),NA,rating)\n",
        "  follower_count = tes$data$follower_count\n",
        "  follower_count = ifelse(is.null(follower_count),NA,follower_count)\n",
        "  item_count = tes$data$item_count\n",
        "  item_count = ifelse(is.null(item_count),NA,item_count)\n",
        "  data_toko_clean = data.frame(link_toko,nama_seller,lokasi,is_official,\n",
        "                               is_verified,rating,follower_count,item_count)\n",
        "return(data_toko_clean)\n",
        "}"
      ],
      "execution_count": 69,
      "outputs": []
    },
    {
      "cell_type": "code",
      "metadata": {
        "cellView": "form",
        "id": "iuO28c4nNuqk"
      },
      "source": [
        "#@title Scraping Toko\n",
        "temp = data.frame()\n",
        "for(i in 1:length(link_toko)){\n",
        "  tempx = scrape_toko_donk(link_toko[i])\n",
        "  temp = rbind(temp,tempx)\n",
        "}"
      ],
      "execution_count": 70,
      "outputs": []
    },
    {
      "cell_type": "code",
      "metadata": {
        "colab": {
          "base_uri": "https://localhost:8080/"
        },
        "cellView": "form",
        "id": "Jge3mKqlOC0u",
        "outputId": "3b13f4f1-c6e1-436e-b069-a38dd6fe4789"
      },
      "source": [
        "#@title Exporting Hasil Scrape Toko to `.csv`\n",
        "data_toko_clean_banget = merge(data_toko,temp) %>% select(-link_new)\n",
        "judul = paste0(\"Hasil Scrape Toko.csv\")\n",
        "write.csv(data_toko_clean_banget,judul)\n",
        "print(\"-- Hasil Scrape Toko Sudah Selesai --\")\n",
        "print(\"--- DONE ---\")"
      ],
      "execution_count": 71,
      "outputs": [
        {
          "output_type": "stream",
          "text": [
            "[1] \"-- Hasil Scrape Toko Sudah Selesai --\"\n"
          ],
          "name": "stdout"
        }
      ]
    }
  ]
}