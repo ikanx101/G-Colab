{
  "nbformat": 4,
  "nbformat_minor": 0,
  "metadata": {
    "colab": {
      "name": "Shopee Scraper",
      "provenance": [],
      "collapsed_sections": [],
      "authorship_tag": "ABX9TyOxgi29TauvL/VJ606imfGA",
      "include_colab_link": true
    },
    "kernelspec": {
      "name": "ir",
      "display_name": "R"
    }
  },
  "cells": [
    {
      "cell_type": "markdown",
      "metadata": {
        "id": "view-in-github",
        "colab_type": "text"
      },
      "source": [
        "<a href=\"https://colab.research.google.com/github/ikanx101/G-Colab/blob/main/Shopee_Scraper.ipynb\" target=\"_parent\"><img src=\"https://colab.research.google.com/assets/colab-badge.svg\" alt=\"Open In Colab\"/></a>"
      ]
    },
    {
      "cell_type": "markdown",
      "metadata": {
        "id": "Efl5wx9ZDFUQ"
      },
      "source": [
        "# **Shopee Scraper v2.0**\n",
        "\n",
        "## Petunjuk pemakaian \n",
        "\n",
        "1. Silakan _upload file_ `.txt` berisi _links_ produk __Shopee__ yang hendak di-_scrape_ datanya.\n",
        "1. Pastikan bahwa setiap baris dari file `.txt` tersebut hanya berisi satu _link_ produk saja.\n",
        "1. Tuliskan nama file `.txt` tersebut dalam kolom yang disediakan secara lengkap. Misalkan nama _file:_ `link produk.txt`.\n",
        "1. Silakan pilih `Runtime` > `Run All` dan tunggu hingga selesai.\n",
        "1. Setelah proses selesai, silakan _download file_ hasilnya bernama `scraped_data.xlsx`.\n",
        "\n",
        "_Created by:_ [Ikang](https://ikanx101.com/)"
      ]
    },
    {
      "cell_type": "code",
      "metadata": {
        "id": "vfbUH6plFVze",
        "cellView": "form"
      },
      "source": [
        "#@title Nama File `.txt`\n",
        "rm(list=ls())\n",
        "nama_file <- \"Contoh.txt\" #@param {type:\"string\"}\n"
      ],
      "execution_count": 18,
      "outputs": []
    },
    {
      "cell_type": "code",
      "metadata": {
        "id": "nLvaId12CkWd",
        "collapsed": true,
        "cellView": "form"
      },
      "source": [
        "#@title\n",
        "library(jsonlite)\n",
        "library(dplyr)\n",
        "\n",
        "contoh = c(\"https://shopee.co.id/Tropicana-Slim-Kecap-Manis-200Ml-i.12656836.95387848\",\n",
        "           \"https://shopee.co.id/Tropicana-Slim-Choco-Spread-300-gr-i.12656836.4134919883\",\n",
        "           \"https://shopee.co.id/HiLo-Active-Chocolate-500-gr-i.12656836.1309066998\",\n",
        "           \"https://shopee.co.id/Tropicana-Slim-Caffe-Latte-10's-i.12656836.95387852\",\n",
        "           \"https://shopee.co.id/Tropicana-Slim-Sugar-Free-Cookies-Choco-200G-Tropicana-Slim-Hokkaido-Cheese-Cookies-100gr-i.12656836.6149828589\",\n",
        "           \"https://shopee.co.id/HiLo-Thai-Tea-15-gr-10's-i.12656836.1389108883\")\n",
        "\n",
        "links = readLines(nama_file)\n",
        "\n",
        "link = unique(links)\n",
        "\n",
        "dummy = data.frame(id = c(1:length(link)),\n",
        "                   url = link,\n",
        "                   asli = link) %>% \n",
        "  filter(grepl('-i.',url,fixed = T)) %>% \n",
        "  filter(!grepl(\"help\",url)) %>% \n",
        "  mutate(url = gsub(\"wpi\",\"\",url,ignore.case = T),\n",
        "         url = gsub(\"isi\",\"\",url,ignore.case = T),\n",
        "         url = gsub(\"iso\",\"\",url,ignore.case = T),\n",
        "         url = gsub(\"imi\",\"\",url,ignore.case = T),\n",
        "         url = gsub(\"im\",\"\",url,ignore.case = T),\n",
        "         url = gsub(\"in\",\"\",url,ignore.case = T)) %>% \n",
        "  tidyr::separate(url,into = c('hapus','pakai'),sep = '-i.') %>% \n",
        "  tidyr::separate(pakai, into = c('info1','info2'),sep = '\\\\.') %>%\n",
        "  mutate(link_final = paste0('https://shopee.co.id/api/v2/item/get?itemid=',\n",
        "                             info2,\n",
        "                             '&shopid=',\n",
        "                             info1)) %>% \n",
        "  filter(!is.na(info2))\n",
        "\n",
        "url = dummy$link_final\n"
      ],
      "execution_count": 19,
      "outputs": []
    },
    {
      "cell_type": "code",
      "metadata": {
        "id": "8SGgfAjHIciK",
        "cellView": "form"
      },
      "source": [
        "#@title\n",
        "scrape_shopee = function(url){\n",
        "  # buka json\n",
        "  tes = read_json(url)\n",
        "  #bentuk data frame\n",
        "  data = data.frame(\n",
        "    nama = tes$item$name,\n",
        "    merek = ifelse(is.null(tes$item$brand),NA,tes$item$brand),\n",
        "    harga_before_disc = tes$item$price_before_discount/100000,\n",
        "    harga = tes$item$price/100000,\n",
        "    terjual = tes$item$sold,\n",
        "    lokasi = tes$item$shop_location,\n",
        "    status = tes$item$item_status,\n",
        "    kategori = ifelse(is.null(tes$item$categories[[3]]$display_name),NA,tes$item$categories[[3]]$display_name),\n",
        "    link = url\n",
        "  )\n",
        "  return(data)\n",
        "}"
      ],
      "execution_count": 20,
      "outputs": []
    },
    {
      "cell_type": "code",
      "metadata": {
        "id": "aCebR3W_Kbda",
        "cellView": "form"
      },
      "source": [
        "#@title\n",
        "i = 1\n",
        "data = scrape_shopee(url[i])\n",
        "\n",
        "for(i in 2:length(url)){\n",
        "  temp = scrape_shopee(url[i])\n",
        "  data = rbind(data,temp)\n",
        "}\n",
        "\n",
        "data$waktu.scrape = Sys.time()\n",
        "raw = distinct(data)"
      ],
      "execution_count": 21,
      "outputs": []
    },
    {
      "cell_type": "code",
      "metadata": {
        "id": "VOhAatK_j5sn",
        "cellView": "form"
      },
      "source": [
        "#@title\n",
        "# cleaning\n",
        "data_clean = \n",
        "    raw %>% \n",
        "    mutate(merek = case_when(\n",
        "        grepl(\"tropicana\",nama,ignore.case = T) ~ \"Tropicana Slim\",\n",
        "        grepl(\"l-men\",nama,ignore.case = T) ~ \"L-Men\",\n",
        "        grepl(\"nutri\",nama,ignore.case = T) ~ \"NutriSari\",\n",
        "        grepl(\"teen\",nama,ignore.case = T) ~ \"HiLo Teen\",\n",
        "        grepl(\"school\",nama,ignore.case = T) ~ \"HiLo School\",\n",
        "        grepl(\"hilo\",nama,ignore.case = T) & grepl(\"rtd\",nama,ignore.case = T) ~ \"HiLo RTD\",\n",
        "        grepl(\"hilo\",nama,ignore.case = T) & !grepl(\"teen|school|rtd\",nama,ignore.case = T) ~ \"HiLo Active/Gold\",\n",
        "        grepl(\"lokala\",nama,ignore.case = T) ~ \"Lokalate\",\n",
        "        grepl(\"wdan|dank|wedan\",nama,ignore.case = T) ~ \"WDank\"\n",
        "    )\n",
        "               ) %>% \n",
        "    arrange(merek,nama,waktu.scrape) %>% \n",
        "    mutate(discount = ifelse(harga_before_disc > 0,\n",
        "                             harga_before_disc - harga,\n",
        "                             NA)) %>%\n",
        "    mutate(waktu.scrape = as.POSIXct(waktu.scrape) + 7*60*60) "
      ],
      "execution_count": 22,
      "outputs": []
    },
    {
      "cell_type": "code",
      "metadata": {
        "id": "faCI_bj1kblB",
        "colab": {
          "base_uri": "https://localhost:8080/"
        },
        "cellView": "form",
        "outputId": "72f09b6e-22e7-4a33-bfd8-8a303a5bd766"
      },
      "source": [
        "#@title\n",
        "judul = paste0(\"Hasil Scrape Shopee.csv\")\n",
        "write.csv(data_clean,judul)\n",
        "print(\"-- DONE --\")\n",
        "print(\"Proses telah selesai\")"
      ],
      "execution_count": 23,
      "outputs": [
        {
          "output_type": "stream",
          "text": [
            "[1] \"-- DONE --\"\n",
            "[1] \"Proses telah selesai\"\n"
          ],
          "name": "stdout"
        }
      ]
    }
  ]
}