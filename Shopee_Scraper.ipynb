{
  "nbformat": 4,
  "nbformat_minor": 0,
  "metadata": {
    "colab": {
      "name": "Shopee Scraper",
      "provenance": [],
      "collapsed_sections": [],
      "toc_visible": true,
      "include_colab_link": true
    },
    "kernelspec": {
      "name": "ir",
      "display_name": "R"
    }
  },
  "cells": [
    {
      "cell_type": "markdown",
      "metadata": {
        "id": "view-in-github",
        "colab_type": "text"
      },
      "source": [
        "<a href=\"https://colab.research.google.com/github/ikanx101/G-Colab/blob/main/Shopee_Scraper.ipynb\" target=\"_parent\"><img src=\"https://colab.research.google.com/assets/colab-badge.svg\" alt=\"Open In Colab\"/></a>"
      ]
    },
    {
      "cell_type": "markdown",
      "metadata": {
        "id": "Efl5wx9ZDFUQ"
      },
      "source": [
        "# **Shopee Scraper v4.1**\n",
        "\n",
        "## ___What's new?___\n",
        "\n",
        "Ada beberapa perubahan yang terjadi pada versi ini. Yakni:\n",
        "\n",
        "1. Ada perubahan pada **API** Shopee sehingga tidak memungkinkan untuk mengambil nilai **terjual** dari suatu produk. Jika ada *updates* terkait hal ini, akan saya kabari kemudian.\n",
        "\n",
        "2. Pada versi terbaru ini, akan ada dua _files_ hasil _scrape_, yakni:\n",
        "\n",
        "  1. Informasi seputar produk; berada pada _file_ bernama `Hasil Scrape Produk.csv`.\n",
        "  2. Informasi seputar toko; berada pada file bernama `Hasil Scrape Toko.csv`.\n",
        "\n",
        "Kedua _files_ tersebut disatukan dengan variabel `link` yang sama.\n",
        "\n",
        "## __Petunjuk Pemakaian__ \n",
        "\n",
        "1. Silakan _upload file_ `.txt` berisi _links_ produk __Shopee__ yang hendak di-_scrape_ datanya.\n",
        "1. Pastikan bahwa setiap baris dari file `.txt` tersebut hanya berisi satu _link_ produk saja.\n",
        "1. Tuliskan nama file `.txt` tersebut dalam kolom yang disediakan secara lengkap. Misalkan nama _file:_ `link produk.txt`.\n",
        "1. Silakan pilih `Runtime` > `Run All` dan tunggu hingga selesai.\n",
        "1. Setelah proses selesai, silakan _download files_ yang tersedia.\n",
        "\n",
        "## __Notes__\n",
        "\n",
        "Dilarang mengubah algoritma yang ada. Silakan di-_clone_ ke _GDrive_ sendiri jika memang ingin memodifikasi algoritma ini.\n",
        "\n",
        "_Created by:_ [Ikang](https://ikanx101.com/)\n",
        "*Last Modif:* Senin, 15 Maret 2021 ~ 1.30 pm"
      ]
    },
    {
      "cell_type": "code",
      "metadata": {
        "id": "vfbUH6plFVze"
      },
      "source": [
        "#@title Nama File `.txt`\n",
        "rm(list=ls())\n",
        "nama_file <- \"satu doang.txt\" #@param {type:\"string\"}"
      ],
      "execution_count": 6,
      "outputs": []
    },
    {
      "cell_type": "code",
      "metadata": {
        "id": "nLvaId12CkWd",
        "colab": {
          "base_uri": "https://localhost:8080/"
        },
        "outputId": "ca3c2841-dff2-4c82-ec35-8810c5b0dce5"
      },
      "source": [
        "#@title Preparation Product Links \n",
        "print(\"-- Proses Scrape Produk Dimulai --\")\n",
        "library(jsonlite)\n",
        "library(dplyr)\n",
        "library(tidyr)\n",
        " \n",
        "contoh = c(\"https://shopee.co.id/Tropicana-Slim-Kecap-Manis-200Ml-i.12656836.95387848\",\n",
        "           \"https://shopee.co.id/Tropicana-Slim-Sugar-Free-Cookies-Choco-200G-Tropicana-Slim-Hokkaido-Cheese-Cookies-100gr-i.12656836.6149828589\",\n",
        "           \"https://shopee.co.id/HiLo-Thai-Tea-15-gr-10's-i.12656836.1389108883\")\n",
        " \n",
        "#links = readLines(nama_file)\n",
        "#link = unique(links)\n",
        "link = contoh\n",
        "\n",
        "dummy = data.frame(id = c(1:length(link)),\n",
        "                   url = link,\n",
        "                   asli = link) %>% \n",
        "  filter(grepl('-i.',url,fixed = T)) %>% \n",
        "  filter(!grepl(\"help\",url)) %>% \n",
        "  mutate(url = gsub(\"wpi\",\"\",url,ignore.case = T),\n",
        "         url = gsub(\"isi\",\"\",url,ignore.case = T),\n",
        "         url = gsub(\"iso\",\"\",url,ignore.case = T),\n",
        "         url = gsub(\"imi\",\"\",url,ignore.case = T),\n",
        "         url = gsub(\"im\",\"\",url,ignore.case = T),\n",
        "         url = gsub(\"in\",\"\",url,ignore.case = T)) %>% \n",
        "  tidyr::separate(url,into = c('hapus','pakai'),sep = '-i.') %>% \n",
        "  tidyr::separate(pakai, into = c('info1','info2'),sep = '\\\\.') %>%\n",
        "  mutate(link_final = paste0('https://shopee.co.id/api/v2/item/get?itemid=',\n",
        "                             info2,\n",
        "                             '&shopid=',\n",
        "                             info1)) %>% \n",
        "  filter(!is.na(info2))\n",
        " \n",
        "url = dummy$link_final"
      ],
      "execution_count": 7,
      "outputs": [
        {
          "output_type": "stream",
          "text": [
            "[1] \"-- Proses Scrape Produk Dimulai --\"\n"
          ],
          "name": "stdout"
        }
      ]
    },
    {
      "cell_type": "code",
      "metadata": {
        "id": "8SGgfAjHIciK",
        "cellView": "form"
      },
      "source": [
        "#@title Product Scrape Function\n",
        "scrape_shopee = function(url){\n",
        "  # buka json\n",
        "  tes = read_json(url)\n",
        "  #bentuk data frame\n",
        "  data = data.frame(\n",
        "    nama = tes$item$name,\n",
        "    merek = ifelse(is.null(tes$item$brand),NA,tes$item$brand),\n",
        "    diskon_produk = tes$item$discount,\n",
        "    lokasi = tes$item$shop_location,\n",
        "    status = tes$item$item_status,\n",
        "    kategori = ifelse(is.null(tes$item$categories[[3]]$display_name),NA,tes$item$categories[[3]]$display_name),\n",
        "    link = url\n",
        "  )\n",
        "  return(data)\n",
        "}"
      ],
      "execution_count": 8,
      "outputs": []
    },
    {
      "cell_type": "code",
      "metadata": {
        "id": "aCebR3W_Kbda",
        "cellView": "form"
      },
      "source": [
        "#@title Proses Scraping (Mohon Bersabar ya)\n",
        "i = 1\n",
        "data = scrape_shopee(url[i])\n",
        "\n",
        "for(i in 2:length(url)){\n",
        "  temp = scrape_shopee(url[i])\n",
        "  data = rbind(data,temp)\n",
        "}\n",
        "\n",
        "data$waktu.scrape = Sys.time()\n",
        "raw = distinct(data)"
      ],
      "execution_count": 9,
      "outputs": []
    },
    {
      "cell_type": "code",
      "metadata": {
        "id": "VOhAatK_j5sn",
        "cellView": "form"
      },
      "source": [
        "#@title Cleaning Hasil Scrape Produk\n",
        "# cleaning\n",
        "data_clean = \n",
        "    raw %>% \n",
        "    mutate(merek = case_when(\n",
        "        grepl(\"tropicana\",nama,ignore.case = T) ~ \"Tropicana Slim\",\n",
        "        grepl(\"l-men\",nama,ignore.case = T) ~ \"L-Men\",\n",
        "        grepl(\"nutri\",nama,ignore.case = T) ~ \"NutriSari\",\n",
        "        grepl(\"teen\",nama,ignore.case = T) ~ \"HiLo Teen\",\n",
        "        grepl(\"school\",nama,ignore.case = T) ~ \"HiLo School\",\n",
        "        grepl(\"hilo\",nama,ignore.case = T) & grepl(\"rtd\",nama,ignore.case = T) ~ \"HiLo RTD\",\n",
        "        grepl(\"hilo\",nama,ignore.case = T) & !grepl(\"teen|school|rtd\",nama,ignore.case = T) ~ \"HiLo Active/Gold\",\n",
        "        grepl(\"lokala\",nama,ignore.case = T) ~ \"Lokalate\",\n",
        "        grepl(\"wdan|dank|wedan\",nama,ignore.case = T) ~ \"WDank\"\n",
        "    )\n",
        "               ) %>% \n",
        "    arrange(merek,nama,waktu.scrape) %>% \n",
        "    mutate(waktu.scrape = as.POSIXct(waktu.scrape) + 7*60*60)"
      ],
      "execution_count": 10,
      "outputs": []
    },
    {
      "cell_type": "code",
      "metadata": {
        "id": "faCI_bj1kblB",
        "colab": {
          "base_uri": "https://localhost:8080/"
        },
        "cellView": "form",
        "outputId": "338392c8-a514-4555-cb4e-05d506eb0508"
      },
      "source": [
        "#@title Exporting Hasil Scrape Produk to `.csv`\n",
        "judul = paste0(\"Hasil Scrape Produk.csv\")\n",
        "write.csv(data_clean,judul)\n",
        "print(\"-- Hasil Scrape Produk Sudah Selesai --\")\n",
        "print(\"-- Proses Scrape Toko Dimulai --\")"
      ],
      "execution_count": 11,
      "outputs": [
        {
          "output_type": "stream",
          "text": [
            "[1] \"-- Hasil Scrape Produk Sudah Selesai --\"\n",
            "[1] \"-- Proses Scrape Toko Dimulai --\"\n"
          ],
          "name": "stdout"
        }
      ]
    },
    {
      "cell_type": "code",
      "metadata": {
        "cellView": "form",
        "id": "ORFrvn_vJmR8"
      },
      "source": [
        "#@title Preparation utk Scrape Toko\n",
        "data_toko = \n",
        "  data_clean %>% \n",
        "  mutate(link_new = link) %>%\n",
        "  separate(link_new,\n",
        "           into = c(\"ikanx\",\"fadhli\"),\n",
        "           sep = \"shopid=\") %>%\n",
        "  mutate(ikanx = NULL,\n",
        "         link_new = paste0(\"https://shopee.co.id/api/v2/shop/get?&shopid=\",fadhli)) %>%\n",
        "  select(link,link_new)\n",
        "link_toko = unique(data_toko$link_new)"
      ],
      "execution_count": 12,
      "outputs": []
    },
    {
      "cell_type": "code",
      "metadata": {
        "cellView": "form",
        "id": "xYYDrveTKUrj"
      },
      "source": [
        "#@title Function Scrape Toko\n",
        "scrape_toko_donk = function(url){\n",
        "  tes = read_json(url)\n",
        "  nama_seller = tes$data$name\n",
        "  nama_seller = ifelse(is.null(nama_seller),NA,nama_seller)\n",
        "  lokasi = tes$data$place\n",
        "  lokasi = ifelse(is.null(lokasi),NA,lokasi)\n",
        "  is_official = tes$data$is_official_shop\n",
        "  is_official = ifelse(is.null(is_official),NA,is_official)\n",
        "  is_verified = tes$data$is_shopee_verified\n",
        "  is_verified = ifelse(is.null(is_verified),NA,is_verified)\n",
        "  rating = tes$data$rating_star\n",
        "  rating = ifelse(is.null(rating),NA,rating)\n",
        "  follower_count = tes$data$follower_count\n",
        "  follower_count = ifelse(is.null(follower_count),NA,follower_count)\n",
        "  item_count = tes$data$item_count\n",
        "  item_count = ifelse(is.null(item_count),NA,item_count)\n",
        "  data_toko_clean = data.frame(link_toko,nama_seller,lokasi,is_official,\n",
        "                               is_verified,rating,follower_count,item_count)\n",
        "return(data_toko_clean)\n",
        "}"
      ],
      "execution_count": 13,
      "outputs": []
    },
    {
      "cell_type": "code",
      "metadata": {
        "cellView": "form",
        "id": "iuO28c4nNuqk"
      },
      "source": [
        "#@title Scraping Toko\n",
        "temp = data.frame()\n",
        "for(i in 1:length(link_toko)){\n",
        "  tempx = scrape_toko_donk(link_toko[i])\n",
        "  temp = rbind(temp,tempx)\n",
        "}"
      ],
      "execution_count": 14,
      "outputs": []
    },
    {
      "cell_type": "code",
      "metadata": {
        "colab": {
          "base_uri": "https://localhost:8080/"
        },
        "cellView": "form",
        "id": "Jge3mKqlOC0u",
        "outputId": "0f20dfed-0547-4b9b-c1ff-7dca4b4b35c8"
      },
      "source": [
        "#@title Exporting Hasil Scrape Toko to `.csv`\n",
        "data_toko_clean_banget = merge(data_toko,temp) %>% select(-link_new)\n",
        "judul = paste0(\"Hasil Scrape Toko.csv\")\n",
        "write.csv(data_toko_clean_banget,judul)\n",
        "print(\"-- Hasil Scrape Toko Sudah Selesai --\")\n",
        "print(\"--- DONE ---\")"
      ],
      "execution_count": 15,
      "outputs": [
        {
          "output_type": "stream",
          "text": [
            "[1] \"-- Hasil Scrape Toko Sudah Selesai --\"\n",
            "[1] \"--- DONE ---\"\n"
          ],
          "name": "stdout"
        }
      ]
    },
    {
      "cell_type": "code",
      "metadata": {
        "colab": {
          "base_uri": "https://localhost:8080/",
          "height": 848
        },
        "id": "MhMqF-BwN-OD",
        "outputId": "641a391a-a4ea-4d21-f2ae-1af5fd0359e7"
      },
      "source": [
        "ls()\n",
        "\n",
        "data_clean\n",
        "data_toko_clean_banget"
      ],
      "execution_count": 18,
      "outputs": [
        {
          "output_type": "display_data",
          "data": {
            "text/plain": [
              " [1] \"contoh\"                 \"data\"                   \"data_clean\"            \n",
              " [4] \"data_toko\"              \"data_toko_clean_banget\" \"dummy\"                 \n",
              " [7] \"i\"                      \"judul\"                  \"link\"                  \n",
              "[10] \"link_toko\"              \"nama_file\"              \"raw\"                   \n",
              "[13] \"scrape_shopee\"          \"scrape_toko_donk\"       \"temp\"                  \n",
              "[16] \"tempx\"                  \"url\"                   "
            ],
            "text/latex": "\\begin{enumerate*}\n\\item 'contoh'\n\\item 'data'\n\\item 'data\\_clean'\n\\item 'data\\_toko'\n\\item 'data\\_toko\\_clean\\_banget'\n\\item 'dummy'\n\\item 'i'\n\\item 'judul'\n\\item 'link'\n\\item 'link\\_toko'\n\\item 'nama\\_file'\n\\item 'raw'\n\\item 'scrape\\_shopee'\n\\item 'scrape\\_toko\\_donk'\n\\item 'temp'\n\\item 'tempx'\n\\item 'url'\n\\end{enumerate*}\n",
            "text/markdown": "1. 'contoh'\n2. 'data'\n3. 'data_clean'\n4. 'data_toko'\n5. 'data_toko_clean_banget'\n6. 'dummy'\n7. 'i'\n8. 'judul'\n9. 'link'\n10. 'link_toko'\n11. 'nama_file'\n12. 'raw'\n13. 'scrape_shopee'\n14. 'scrape_toko_donk'\n15. 'temp'\n16. 'tempx'\n17. 'url'\n\n\n",
            "text/html": [
              "<style>\n",
              ".list-inline {list-style: none; margin:0; padding: 0}\n",
              ".list-inline>li {display: inline-block}\n",
              ".list-inline>li:not(:last-child)::after {content: \"\\00b7\"; padding: 0 .5ex}\n",
              "</style>\n",
              "<ol class=list-inline><li>'contoh'</li><li>'data'</li><li>'data_clean'</li><li>'data_toko'</li><li>'data_toko_clean_banget'</li><li>'dummy'</li><li>'i'</li><li>'judul'</li><li>'link'</li><li>'link_toko'</li><li>'nama_file'</li><li>'raw'</li><li>'scrape_shopee'</li><li>'scrape_toko_donk'</li><li>'temp'</li><li>'tempx'</li><li>'url'</li></ol>\n"
            ]
          },
          "metadata": {
            "tags": []
          }
        },
        {
          "output_type": "display_data",
          "data": {
            "text/plain": [
              "  nama                                                                                  \n",
              "1 HiLo Thai Tea 15 gr                                                                   \n",
              "2 Tropicana Slim Kecap Manis                                                            \n",
              "3 Tropicana Slim Sugar Free Cookies Choco 200G + Tropicana Slim Hokkaido Cheese Cookies \n",
              "  merek            diskon_produk lokasi status kategori \n",
              "1 HiLo Active/Gold 63%           KOTA B n      Minuman  \n",
              "2 Tropicana Slim   10%           KOTA B n      Kecap & S\n",
              "3 Tropicana Slim   23%           KOTA B n      Kue K    \n",
              "  link                                                                  \n",
              "1 https://shopee.co.id/api/v2/item/get?itemid=1389108883&shopid=12656836\n",
              "2 https://shopee.co.id/api/v2/item/get?itemid=95387848&shopid=12656836  \n",
              "3 https://shopee.co.id/api/v2/item/get?itemid=6149828589&shopid=12656836\n",
              "  waktu.scrape       \n",
              "1 2021-03-15 13:20:34\n",
              "2 2021-03-15 13:20:34\n",
              "3 2021-03-15 13:20:34"
            ],
            "text/latex": "A data.frame: 3 × 8\n\\begin{tabular}{llllllll}\n nama & merek & diskon\\_produk & lokasi & status & kategori & link & waktu.scrape\\\\\n <chr> & <chr> & <chr> & <chr> & <chr> & <chr> & <chr> & <dttm>\\\\\n\\hline\n\t HiLo Thai Tea 15 gr                                                                    & HiLo Active/Gold & 63\\% & KOTA B & n & Minuman   & https://shopee.co.id/api/v2/item/get?itemid=1389108883\\&shopid=12656836 & 2021-03-15 13:20:34\\\\\n\t Tropicana Slim Kecap Manis                                                             & Tropicana Slim   & 10\\% & KOTA B & n & Kecap \\& S & https://shopee.co.id/api/v2/item/get?itemid=95387848\\&shopid=12656836   & 2021-03-15 13:20:34\\\\\n\t Tropicana Slim Sugar Free Cookies Choco 200G + Tropicana Slim Hokkaido Cheese Cookies  & Tropicana Slim   & 23\\% & KOTA B & n & Kue K     & https://shopee.co.id/api/v2/item/get?itemid=6149828589\\&shopid=12656836 & 2021-03-15 13:20:34\\\\\n\\end{tabular}\n",
            "text/markdown": "\nA data.frame: 3 × 8\n\n| nama &lt;chr&gt; | merek &lt;chr&gt; | diskon_produk &lt;chr&gt; | lokasi &lt;chr&gt; | status &lt;chr&gt; | kategori &lt;chr&gt; | link &lt;chr&gt; | waktu.scrape &lt;dttm&gt; |\n|---|---|---|---|---|---|---|---|\n| HiLo Thai Tea 15 gr                                                                    | HiLo Active/Gold | 63% | KOTA B | n | Minuman   | https://shopee.co.id/api/v2/item/get?itemid=1389108883&amp;shopid=12656836 | 2021-03-15 13:20:34 |\n| Tropicana Slim Kecap Manis                                                             | Tropicana Slim   | 10% | KOTA B | n | Kecap &amp; S | https://shopee.co.id/api/v2/item/get?itemid=95387848&amp;shopid=12656836   | 2021-03-15 13:20:34 |\n| Tropicana Slim Sugar Free Cookies Choco 200G + Tropicana Slim Hokkaido Cheese Cookies  | Tropicana Slim   | 23% | KOTA B | n | Kue K     | https://shopee.co.id/api/v2/item/get?itemid=6149828589&amp;shopid=12656836 | 2021-03-15 13:20:34 |\n\n",
            "text/html": [
              "<table class=\"dataframe\">\n",
              "<caption>A data.frame: 3 × 8</caption>\n",
              "<thead>\n",
              "\t<tr><th scope=col>nama</th><th scope=col>merek</th><th scope=col>diskon_produk</th><th scope=col>lokasi</th><th scope=col>status</th><th scope=col>kategori</th><th scope=col>link</th><th scope=col>waktu.scrape</th></tr>\n",
              "\t<tr><th scope=col>&lt;chr&gt;</th><th scope=col>&lt;chr&gt;</th><th scope=col>&lt;chr&gt;</th><th scope=col>&lt;chr&gt;</th><th scope=col>&lt;chr&gt;</th><th scope=col>&lt;chr&gt;</th><th scope=col>&lt;chr&gt;</th><th scope=col>&lt;dttm&gt;</th></tr>\n",
              "</thead>\n",
              "<tbody>\n",
              "\t<tr><td><span style=white-space:pre-wrap>HiLo Thai Tea 15 gr                                                                   </span></td><td>HiLo Active/Gold</td><td>63%</td><td>KOTA B</td><td>n</td><td><span style=white-space:pre-wrap>Minuman  </span></td><td>https://shopee.co.id/api/v2/item/get?itemid=1389108883&amp;shopid=12656836</td><td>2021-03-15 13:20:34</td></tr>\n",
              "\t<tr><td><span style=white-space:pre-wrap>Tropicana Slim Kecap Manis                                                            </span></td><td><span style=white-space:pre-wrap>Tropicana Slim  </span></td><td>10%</td><td>KOTA B</td><td>n</td><td>Kecap &amp; S</td><td><span style=white-space:pre-wrap>https://shopee.co.id/api/v2/item/get?itemid=95387848&amp;shopid=12656836  </span></td><td>2021-03-15 13:20:34</td></tr>\n",
              "\t<tr><td>Tropicana Slim Sugar Free Cookies Choco 200G + Tropicana Slim Hokkaido Cheese Cookies </td><td><span style=white-space:pre-wrap>Tropicana Slim  </span></td><td>23%</td><td>KOTA B</td><td>n</td><td><span style=white-space:pre-wrap>Kue K    </span></td><td>https://shopee.co.id/api/v2/item/get?itemid=6149828589&amp;shopid=12656836</td><td>2021-03-15 13:20:34</td></tr>\n",
              "</tbody>\n",
              "</table>\n"
            ]
          },
          "metadata": {
            "tags": []
          }
        },
        {
          "output_type": "display_data",
          "data": {
            "text/plain": [
              "  link                                                                  \n",
              "1 https://shopee.co.id/api/v2/item/get?itemid=1389108883&shopid=12656836\n",
              "2 https://shopee.co.id/api/v2/item/get?itemid=95387848&shopid=12656836  \n",
              "3 https://shopee.co.id/api/v2/item/get?itemid=6149828589&shopid=12656836\n",
              "  link_toko                                             nama_seller\n",
              "1 https://shopee.co.id/api/v2/shop/get?&shopid=12656836 Nutrimart  \n",
              "2 https://shopee.co.id/api/v2/shop/get?&shopid=12656836 Nutrimart  \n",
              "3 https://shopee.co.id/api/v2/shop/get?&shopid=12656836 Nutrimart  \n",
              "  lokasi                                     is_official is_verified rating  \n",
              "1 KOTA BEKASI - MEDAN SATRIA, JAWA BARAT, ID TRUE        FALSE       4.906609\n",
              "2 KOTA BEKASI - MEDAN SATRIA, JAWA BARAT, ID TRUE        FALSE       4.906609\n",
              "3 KOTA BEKASI - MEDAN SATRIA, JAWA BARAT, ID TRUE        FALSE       4.906609\n",
              "  follower_count item_count\n",
              "1 179690         424       \n",
              "2 179690         424       \n",
              "3 179690         424       "
            ],
            "text/latex": "A data.frame: 3 × 9\n\\begin{tabular}{lllllllll}\n link & link\\_toko & nama\\_seller & lokasi & is\\_official & is\\_verified & rating & follower\\_count & item\\_count\\\\\n <chr> & <chr> & <chr> & <chr> & <lgl> & <lgl> & <dbl> & <int> & <int>\\\\\n\\hline\n\t https://shopee.co.id/api/v2/item/get?itemid=1389108883\\&shopid=12656836 & https://shopee.co.id/api/v2/shop/get?\\&shopid=12656836 & Nutrimart & KOTA BEKASI - MEDAN SATRIA, JAWA BARAT, ID & TRUE & FALSE & 4.906609 & 179690 & 424\\\\\n\t https://shopee.co.id/api/v2/item/get?itemid=95387848\\&shopid=12656836   & https://shopee.co.id/api/v2/shop/get?\\&shopid=12656836 & Nutrimart & KOTA BEKASI - MEDAN SATRIA, JAWA BARAT, ID & TRUE & FALSE & 4.906609 & 179690 & 424\\\\\n\t https://shopee.co.id/api/v2/item/get?itemid=6149828589\\&shopid=12656836 & https://shopee.co.id/api/v2/shop/get?\\&shopid=12656836 & Nutrimart & KOTA BEKASI - MEDAN SATRIA, JAWA BARAT, ID & TRUE & FALSE & 4.906609 & 179690 & 424\\\\\n\\end{tabular}\n",
            "text/markdown": "\nA data.frame: 3 × 9\n\n| link &lt;chr&gt; | link_toko &lt;chr&gt; | nama_seller &lt;chr&gt; | lokasi &lt;chr&gt; | is_official &lt;lgl&gt; | is_verified &lt;lgl&gt; | rating &lt;dbl&gt; | follower_count &lt;int&gt; | item_count &lt;int&gt; |\n|---|---|---|---|---|---|---|---|---|\n| https://shopee.co.id/api/v2/item/get?itemid=1389108883&amp;shopid=12656836 | https://shopee.co.id/api/v2/shop/get?&amp;shopid=12656836 | Nutrimart | KOTA BEKASI - MEDAN SATRIA, JAWA BARAT, ID | TRUE | FALSE | 4.906609 | 179690 | 424 |\n| https://shopee.co.id/api/v2/item/get?itemid=95387848&amp;shopid=12656836   | https://shopee.co.id/api/v2/shop/get?&amp;shopid=12656836 | Nutrimart | KOTA BEKASI - MEDAN SATRIA, JAWA BARAT, ID | TRUE | FALSE | 4.906609 | 179690 | 424 |\n| https://shopee.co.id/api/v2/item/get?itemid=6149828589&amp;shopid=12656836 | https://shopee.co.id/api/v2/shop/get?&amp;shopid=12656836 | Nutrimart | KOTA BEKASI - MEDAN SATRIA, JAWA BARAT, ID | TRUE | FALSE | 4.906609 | 179690 | 424 |\n\n",
            "text/html": [
              "<table class=\"dataframe\">\n",
              "<caption>A data.frame: 3 × 9</caption>\n",
              "<thead>\n",
              "\t<tr><th scope=col>link</th><th scope=col>link_toko</th><th scope=col>nama_seller</th><th scope=col>lokasi</th><th scope=col>is_official</th><th scope=col>is_verified</th><th scope=col>rating</th><th scope=col>follower_count</th><th scope=col>item_count</th></tr>\n",
              "\t<tr><th scope=col>&lt;chr&gt;</th><th scope=col>&lt;chr&gt;</th><th scope=col>&lt;chr&gt;</th><th scope=col>&lt;chr&gt;</th><th scope=col>&lt;lgl&gt;</th><th scope=col>&lt;lgl&gt;</th><th scope=col>&lt;dbl&gt;</th><th scope=col>&lt;int&gt;</th><th scope=col>&lt;int&gt;</th></tr>\n",
              "</thead>\n",
              "<tbody>\n",
              "\t<tr><td>https://shopee.co.id/api/v2/item/get?itemid=1389108883&amp;shopid=12656836</td><td>https://shopee.co.id/api/v2/shop/get?&amp;shopid=12656836</td><td>Nutrimart</td><td>KOTA BEKASI - MEDAN SATRIA, JAWA BARAT, ID</td><td>TRUE</td><td>FALSE</td><td>4.906609</td><td>179690</td><td>424</td></tr>\n",
              "\t<tr><td><span style=white-space:pre-wrap>https://shopee.co.id/api/v2/item/get?itemid=95387848&amp;shopid=12656836  </span></td><td>https://shopee.co.id/api/v2/shop/get?&amp;shopid=12656836</td><td>Nutrimart</td><td>KOTA BEKASI - MEDAN SATRIA, JAWA BARAT, ID</td><td>TRUE</td><td>FALSE</td><td>4.906609</td><td>179690</td><td>424</td></tr>\n",
              "\t<tr><td>https://shopee.co.id/api/v2/item/get?itemid=6149828589&amp;shopid=12656836</td><td>https://shopee.co.id/api/v2/shop/get?&amp;shopid=12656836</td><td>Nutrimart</td><td>KOTA BEKASI - MEDAN SATRIA, JAWA BARAT, ID</td><td>TRUE</td><td>FALSE</td><td>4.906609</td><td>179690</td><td>424</td></tr>\n",
              "</tbody>\n",
              "</table>\n"
            ]
          },
          "metadata": {
            "tags": []
          }
        }
      ]
    }
  ]
}