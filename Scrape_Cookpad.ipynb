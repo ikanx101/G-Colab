{
  "nbformat": 4,
  "nbformat_minor": 0,
  "metadata": {
    "colab": {
      "name": "Scrape Cookpad",
      "provenance": [],
      "collapsed_sections": [],
      "authorship_tag": "ABX9TyP1wTl/m7tjwjiqH1BVteaH",
      "include_colab_link": true
    },
    "kernelspec": {
      "name": "ir",
      "display_name": "R"
    },
    "language_info": {
      "name": "R"
    }
  },
  "cells": [
    {
      "cell_type": "markdown",
      "metadata": {
        "id": "view-in-github",
        "colab_type": "text"
      },
      "source": [
        "<a href=\"https://colab.research.google.com/github/ikanx101/G-Colab/blob/main/Scrape_Cookpad.ipynb\" target=\"_parent\"><img src=\"https://colab.research.google.com/assets/colab-badge.svg\" alt=\"Open In Colab\"/></a>"
      ]
    },
    {
      "cell_type": "markdown",
      "metadata": {
        "id": "7VsXR1MQaze5"
      },
      "source": [
        "# Cara _Web Scrape_\n",
        "\n",
        "1. _Targeting_ `.css` _object_.\n",
        "    - CLI: _command line interface_.\n",
        "    - Gak butuh _browser_.\n",
        "    - Seolah-olah si __R__ atau ___Python___ dia menjadi _browser_-nya.\n",
        "    - Plus: prosesnya cepat.\n",
        "    - Minus: Kalau situsnya dijaga sama _bot_, ini susah tembus. \n",
        "1. __API__ _based_.\n",
        "    - _Targeting database_ si penyedia layanan.\n",
        "    - Biasanya itu berlaku situs-situs pemerintahan.\n",
        "    - Plus: lebih cepat dan _reliable_.\n",
        "    - Minus: Tidak semua situs ada __API__-nya.\n",
        "1. _Mimicking browser_.\n",
        "    - Seolah-olah ada _browser_.\n",
        "    - _Killer method_ 100% _works_.\n",
        "    - Plus: walau dijaga _bot_, dia tetap bisa.\n",
        "    - Minus: proses lebih lama dan _coding_ lebih sulit."
      ]
    },
    {
      "cell_type": "code",
      "metadata": {
        "id": "pvmDwFkKYF_j"
      },
      "source": [
        "# membersihkan environment\n",
        "rm(list=ls())\n",
        "\n",
        "# libraries\n",
        "library(dplyr) # data cleaning\n",
        "library(rvest) # intinya utk web scrape\n",
        "library(stringr) # manipulasi text\n",
        "\n",
        "# contoh\n",
        "# misalkan saya mau scrape resep berikut\n",
        "url = \"https://cookpad.com/id/resep/15229535-bolu-kukus-anak-ayam\""
      ],
      "execution_count": 9,
      "outputs": []
    },
    {
      "cell_type": "code",
      "metadata": {
        "colab": {
          "base_uri": "https://localhost:8080/",
          "height": 34
        },
        "id": "59EsZ4YcYYc8",
        "outputId": "6ef7001f-1f85-4486-82da-6737171da480"
      },
      "source": [
        "# induksi mendapatkan nama resep\n",
        "nama_resep = \n",
        "  url %>% \n",
        "  read_html() %>% \n",
        "  html_nodes(\".field-group--no-container-xs\") %>% \n",
        "  html_text()\n",
        "\n",
        "nama_resep = nama_resep %>% str_squish() %>% str_trim()\n",
        "nama_resep"
      ],
      "execution_count": 13,
      "outputs": [
        {
          "output_type": "display_data",
          "data": {
            "text/plain": [
              "[1] \"Bolu Kukus Anak Ayam\""
            ],
            "text/latex": "'Bolu Kukus Anak Ayam'",
            "text/markdown": "'Bolu Kukus Anak Ayam'",
            "text/html": [
              "'Bolu Kukus Anak Ayam'"
            ]
          },
          "metadata": {
            "tags": []
          }
        }
      ]
    },
    {
      "cell_type": "code",
      "metadata": {
        "colab": {
          "base_uri": "https://localhost:8080/",
          "height": 34
        },
        "id": "UB80hQo4fUt0",
        "outputId": "59e2604b-fb14-481f-adbe-71d1971b6fa3"
      },
      "source": [
        "# induksi mendapatkan bahan\n",
        "bahan = \n",
        "  url %>% \n",
        "  read_html() %>%\n",
        "  html_nodes(\".border-dashed div\") %>% \n",
        "  html_text()\n",
        "\n",
        "bahan = bahan %>% str_squish() %>% str_trim()\n",
        "bahan"
      ],
      "execution_count": 14,
      "outputs": [
        {
          "output_type": "display_data",
          "data": {
            "text/plain": [
              "[1] \"250 gr tepung terigu\"                           \n",
              "[2] \"200 gr gula pasir\"                              \n",
              "[3] \"2 butir telur\"                                  \n",
              "[4] \"150 ml santan (me kara kecil + air)\"            \n",
              "[5] \"1/2 sdt baking powder\"                          \n",
              "[6] \"1 sdt SP\"                                       \n",
              "[7] \"Pewarna makanan : saya biru, merah rose, kuning\"\n",
              "[8] \"mata Choco chips untuk hiasan\"                  "
            ],
            "text/latex": "\\begin{enumerate*}\n\\item '250 gr tepung terigu'\n\\item '200 gr gula pasir'\n\\item '2 butir telur'\n\\item '150 ml santan (me kara kecil + air)'\n\\item '1/2 sdt baking powder'\n\\item '1 sdt SP'\n\\item 'Pewarna makanan : saya biru, merah rose, kuning'\n\\item 'mata Choco chips untuk hiasan'\n\\end{enumerate*}\n",
            "text/markdown": "1. '250 gr tepung terigu'\n2. '200 gr gula pasir'\n3. '2 butir telur'\n4. '150 ml santan (me kara kecil + air)'\n5. '1/2 sdt baking powder'\n6. '1 sdt SP'\n7. 'Pewarna makanan : saya biru, merah rose, kuning'\n8. 'mata Choco chips untuk hiasan'\n\n\n",
            "text/html": [
              "<style>\n",
              ".list-inline {list-style: none; margin:0; padding: 0}\n",
              ".list-inline>li {display: inline-block}\n",
              ".list-inline>li:not(:last-child)::after {content: \"\\00b7\"; padding: 0 .5ex}\n",
              "</style>\n",
              "<ol class=list-inline><li>'250 gr tepung terigu'</li><li>'200 gr gula pasir'</li><li>'2 butir telur'</li><li>'150 ml santan (me kara kecil + air)'</li><li>'1/2 sdt baking powder'</li><li>'1 sdt SP'</li><li>'Pewarna makanan : saya biru, merah rose, kuning'</li><li>'mata Choco chips untuk hiasan'</li></ol>\n"
            ]
          },
          "metadata": {
            "tags": []
          }
        }
      ]
    },
    {
      "cell_type": "code",
      "metadata": {
        "colab": {
          "base_uri": "https://localhost:8080/",
          "height": 345
        },
        "id": "v7kcJpVrgCye",
        "outputId": "4b410276-2665-4500-f0f9-bd4efb07a020"
      },
      "source": [
        "# induksi menggabungkan data\n",
        "data = data.frame(nama_resep,bahan)\n",
        "data"
      ],
      "execution_count": 15,
      "outputs": [
        {
          "output_type": "display_data",
          "data": {
            "text/plain": [
              "  nama_resep           bahan                                          \n",
              "1 Bolu Kukus Anak Ayam 250 gr tepung terigu                           \n",
              "2 Bolu Kukus Anak Ayam 200 gr gula pasir                              \n",
              "3 Bolu Kukus Anak Ayam 2 butir telur                                  \n",
              "4 Bolu Kukus Anak Ayam 150 ml santan (me kara kecil + air)            \n",
              "5 Bolu Kukus Anak Ayam 1/2 sdt baking powder                          \n",
              "6 Bolu Kukus Anak Ayam 1 sdt SP                                       \n",
              "7 Bolu Kukus Anak Ayam Pewarna makanan : saya biru, merah rose, kuning\n",
              "8 Bolu Kukus Anak Ayam mata Choco chips untuk hiasan                  "
            ],
            "text/latex": "A data.frame: 8 × 2\n\\begin{tabular}{ll}\n nama\\_resep & bahan\\\\\n <chr> & <chr>\\\\\n\\hline\n\t Bolu Kukus Anak Ayam & 250 gr tepung terigu                           \\\\\n\t Bolu Kukus Anak Ayam & 200 gr gula pasir                              \\\\\n\t Bolu Kukus Anak Ayam & 2 butir telur                                  \\\\\n\t Bolu Kukus Anak Ayam & 150 ml santan (me kara kecil + air)            \\\\\n\t Bolu Kukus Anak Ayam & 1/2 sdt baking powder                          \\\\\n\t Bolu Kukus Anak Ayam & 1 sdt SP                                       \\\\\n\t Bolu Kukus Anak Ayam & Pewarna makanan : saya biru, merah rose, kuning\\\\\n\t Bolu Kukus Anak Ayam & mata Choco chips untuk hiasan                  \\\\\n\\end{tabular}\n",
            "text/markdown": "\nA data.frame: 8 × 2\n\n| nama_resep &lt;chr&gt; | bahan &lt;chr&gt; |\n|---|---|\n| Bolu Kukus Anak Ayam | 250 gr tepung terigu                            |\n| Bolu Kukus Anak Ayam | 200 gr gula pasir                               |\n| Bolu Kukus Anak Ayam | 2 butir telur                                   |\n| Bolu Kukus Anak Ayam | 150 ml santan (me kara kecil + air)             |\n| Bolu Kukus Anak Ayam | 1/2 sdt baking powder                           |\n| Bolu Kukus Anak Ayam | 1 sdt SP                                        |\n| Bolu Kukus Anak Ayam | Pewarna makanan : saya biru, merah rose, kuning |\n| Bolu Kukus Anak Ayam | mata Choco chips untuk hiasan                   |\n\n",
            "text/html": [
              "<table class=\"dataframe\">\n",
              "<caption>A data.frame: 8 × 2</caption>\n",
              "<thead>\n",
              "\t<tr><th scope=col>nama_resep</th><th scope=col>bahan</th></tr>\n",
              "\t<tr><th scope=col>&lt;chr&gt;</th><th scope=col>&lt;chr&gt;</th></tr>\n",
              "</thead>\n",
              "<tbody>\n",
              "\t<tr><td>Bolu Kukus Anak Ayam</td><td>250 gr tepung terigu                           </td></tr>\n",
              "\t<tr><td>Bolu Kukus Anak Ayam</td><td>200 gr gula pasir                              </td></tr>\n",
              "\t<tr><td>Bolu Kukus Anak Ayam</td><td>2 butir telur                                  </td></tr>\n",
              "\t<tr><td>Bolu Kukus Anak Ayam</td><td>150 ml santan (me kara kecil + air)            </td></tr>\n",
              "\t<tr><td>Bolu Kukus Anak Ayam</td><td>1/2 sdt baking powder                          </td></tr>\n",
              "\t<tr><td>Bolu Kukus Anak Ayam</td><td>1 sdt SP                                       </td></tr>\n",
              "\t<tr><td>Bolu Kukus Anak Ayam</td><td>Pewarna makanan : saya biru, merah rose, kuning</td></tr>\n",
              "\t<tr><td>Bolu Kukus Anak Ayam</td><td>mata Choco chips untuk hiasan                  </td></tr>\n",
              "</tbody>\n",
              "</table>\n"
            ]
          },
          "metadata": {
            "tags": []
          }
        }
      ]
    },
    {
      "cell_type": "code",
      "metadata": {
        "id": "OCNZahxXgNUk"
      },
      "source": [
        "# fungsi scraping versi 1\n",
        "scrape_cookpad = function(url){\n",
        "  nama_resep = \n",
        "    url %>% \n",
        "    read_html() %>% \n",
        "    html_nodes(\".field-group--no-container-xs\") %>% \n",
        "    html_text()\n",
        "\n",
        "  nama_resep = nama_resep %>% str_squish() %>% str_trim()\n",
        "  \n",
        "  bahan = \n",
        "    url %>% \n",
        "    read_html() %>%\n",
        "    html_nodes(\".border-dashed div\") %>% \n",
        "    html_text()\n",
        "\n",
        "  bahan = bahan %>% str_squish() %>% str_trim()\n",
        "\n",
        "  data = data.frame(nama_resep,bahan)\n",
        "  return(data)\n",
        "}"
      ],
      "execution_count": 16,
      "outputs": []
    },
    {
      "cell_type": "code",
      "metadata": {
        "colab": {
          "base_uri": "https://localhost:8080/",
          "height": 221
        },
        "id": "dTw_rTMzggYF",
        "outputId": "0901f976-3372-44b4-ba29-bcf9552dc65b"
      },
      "source": [
        "url_baru = \"https://cookpad.com/id/resep/14454088-kentang-goreng-ala-kfc\"\n",
        "scrape_cookpad(url_baru)"
      ],
      "execution_count": 17,
      "outputs": [
        {
          "output_type": "display_data",
          "data": {
            "text/plain": [
              "  nama_resep             bahan              \n",
              "1 Kentang goreng ala KFC 1 kg kentang       \n",
              "2 Kentang goreng ala KFC 5 sdm tepung terigu\n",
              "3 Kentang goreng ala KFC 2,5 tepung maizena \n",
              "4 Kentang goreng ala KFC 1 sdm garam        "
            ],
            "text/latex": "A data.frame: 4 × 2\n\\begin{tabular}{ll}\n nama\\_resep & bahan\\\\\n <chr> & <chr>\\\\\n\\hline\n\t Kentang goreng ala KFC & 1 kg kentang       \\\\\n\t Kentang goreng ala KFC & 5 sdm tepung terigu\\\\\n\t Kentang goreng ala KFC & 2,5 tepung maizena \\\\\n\t Kentang goreng ala KFC & 1 sdm garam        \\\\\n\\end{tabular}\n",
            "text/markdown": "\nA data.frame: 4 × 2\n\n| nama_resep &lt;chr&gt; | bahan &lt;chr&gt; |\n|---|---|\n| Kentang goreng ala KFC | 1 kg kentang        |\n| Kentang goreng ala KFC | 5 sdm tepung terigu |\n| Kentang goreng ala KFC | 2,5 tepung maizena  |\n| Kentang goreng ala KFC | 1 sdm garam         |\n\n",
            "text/html": [
              "<table class=\"dataframe\">\n",
              "<caption>A data.frame: 4 × 2</caption>\n",
              "<thead>\n",
              "\t<tr><th scope=col>nama_resep</th><th scope=col>bahan</th></tr>\n",
              "\t<tr><th scope=col>&lt;chr&gt;</th><th scope=col>&lt;chr&gt;</th></tr>\n",
              "</thead>\n",
              "<tbody>\n",
              "\t<tr><td>Kentang goreng ala KFC</td><td>1 kg kentang       </td></tr>\n",
              "\t<tr><td>Kentang goreng ala KFC</td><td>5 sdm tepung terigu</td></tr>\n",
              "\t<tr><td>Kentang goreng ala KFC</td><td>2,5 tepung maizena </td></tr>\n",
              "\t<tr><td>Kentang goreng ala KFC</td><td>1 sdm garam        </td></tr>\n",
              "</tbody>\n",
              "</table>\n"
            ]
          },
          "metadata": {
            "tags": []
          }
        }
      ]
    },
    {
      "cell_type": "code",
      "metadata": {
        "colab": {
          "base_uri": "https://localhost:8080/",
          "height": 221
        },
        "id": "5pqclgmYg51h",
        "outputId": "774a4aa8-34f9-45b6-ae05-1e5fee8f27d9"
      },
      "source": [
        "# fungsi scraping versi 2\n",
        "# lebih cepat harusnya karena proses membacanya cukup sekali\n",
        "scrape_cookpad_v2 = function(url){\n",
        "  data = \n",
        "    url %>% \n",
        "    read_html() %>% {tibble(\n",
        "      nama = html_nodes(.,\".field-group--no-container-xs\") %>% html_text() %>% str_squish() %>% str_trim(),\n",
        "      bahan = html_nodes(.,\".border-dashed div\") %>% html_text() %>% str_squish() %>% str_trim()\n",
        "  )\n",
        "    } \n",
        "  return(data)\n",
        "}\n",
        "\n",
        "scrape_cookpad_v2(url_baru)"
      ],
      "execution_count": 18,
      "outputs": [
        {
          "output_type": "display_data",
          "data": {
            "text/plain": [
              "  nama                   bahan              \n",
              "1 Kentang goreng ala KFC 1 kg kentang       \n",
              "2 Kentang goreng ala KFC 5 sdm tepung terigu\n",
              "3 Kentang goreng ala KFC 2,5 tepung maizena \n",
              "4 Kentang goreng ala KFC 1 sdm garam        "
            ],
            "text/latex": "A tibble: 4 × 2\n\\begin{tabular}{ll}\n nama & bahan\\\\\n <chr> & <chr>\\\\\n\\hline\n\t Kentang goreng ala KFC & 1 kg kentang       \\\\\n\t Kentang goreng ala KFC & 5 sdm tepung terigu\\\\\n\t Kentang goreng ala KFC & 2,5 tepung maizena \\\\\n\t Kentang goreng ala KFC & 1 sdm garam        \\\\\n\\end{tabular}\n",
            "text/markdown": "\nA tibble: 4 × 2\n\n| nama &lt;chr&gt; | bahan &lt;chr&gt; |\n|---|---|\n| Kentang goreng ala KFC | 1 kg kentang        |\n| Kentang goreng ala KFC | 5 sdm tepung terigu |\n| Kentang goreng ala KFC | 2,5 tepung maizena  |\n| Kentang goreng ala KFC | 1 sdm garam         |\n\n",
            "text/html": [
              "<table class=\"dataframe\">\n",
              "<caption>A tibble: 4 × 2</caption>\n",
              "<thead>\n",
              "\t<tr><th scope=col>nama</th><th scope=col>bahan</th></tr>\n",
              "\t<tr><th scope=col>&lt;chr&gt;</th><th scope=col>&lt;chr&gt;</th></tr>\n",
              "</thead>\n",
              "<tbody>\n",
              "\t<tr><td>Kentang goreng ala KFC</td><td>1 kg kentang       </td></tr>\n",
              "\t<tr><td>Kentang goreng ala KFC</td><td>5 sdm tepung terigu</td></tr>\n",
              "\t<tr><td>Kentang goreng ala KFC</td><td>2,5 tepung maizena </td></tr>\n",
              "\t<tr><td>Kentang goreng ala KFC</td><td>1 sdm garam        </td></tr>\n",
              "</tbody>\n",
              "</table>\n"
            ]
          },
          "metadata": {
            "tags": []
          }
        }
      ]
    },
    {
      "cell_type": "code",
      "metadata": {
        "colab": {
          "base_uri": "https://localhost:8080/",
          "height": 562
        },
        "id": "ALTbUms2hn_m",
        "outputId": "7f8406eb-e64f-4674-edb8-dd3a4753e1ae"
      },
      "source": [
        "scrape_cookpad_v2(\"https://cookpad.com/id/resep/13042002-rendang-daging-tanpa-santan\")"
      ],
      "execution_count": 24,
      "outputs": [
        {
          "output_type": "display_data",
          "data": {
            "text/plain": [
              "   nama                        bahan                  \n",
              "1  Rendang daging tanpa santan 500 gr daging sapi     \n",
              "2  Rendang daging tanpa santan 6 butir bawang merah   \n",
              "3  Rendang daging tanpa santan 4 butir bawang putih   \n",
              "4  Rendang daging tanpa santan 2 butir kemiri         \n",
              "5  Rendang daging tanpa santan 1/2 sendok ketumbar    \n",
              "6  Rendang daging tanpa santan 3 cm kunyit            \n",
              "7  Rendang daging tanpa santan 3 cm jahe              \n",
              "8  Rendang daging tanpa santan 2 batang sereh         \n",
              "9  Rendang daging tanpa santan 2 lembar daun salam    \n",
              "10 Rendang daging tanpa santan 2 lembar daun jeruk    \n",
              "11 Rendang daging tanpa santan secukupnya Gula merah  \n",
              "12 Rendang daging tanpa santan Secukupnya air         \n",
              "13 Rendang daging tanpa santan Secukupnya garam       \n",
              "14 Rendang daging tanpa santan Secukupnya royco sapi  \n",
              "15 Rendang daging tanpa santan Secukupnya minyak sayur"
            ],
            "text/latex": "A tibble: 15 × 2\n\\begin{tabular}{ll}\n nama & bahan\\\\\n <chr> & <chr>\\\\\n\\hline\n\t Rendang daging tanpa santan & 500 gr daging sapi     \\\\\n\t Rendang daging tanpa santan & 6 butir bawang merah   \\\\\n\t Rendang daging tanpa santan & 4 butir bawang putih   \\\\\n\t Rendang daging tanpa santan & 2 butir kemiri         \\\\\n\t Rendang daging tanpa santan & 1/2 sendok ketumbar    \\\\\n\t Rendang daging tanpa santan & 3 cm kunyit            \\\\\n\t Rendang daging tanpa santan & 3 cm jahe              \\\\\n\t Rendang daging tanpa santan & 2 batang sereh         \\\\\n\t Rendang daging tanpa santan & 2 lembar daun salam    \\\\\n\t Rendang daging tanpa santan & 2 lembar daun jeruk    \\\\\n\t Rendang daging tanpa santan & secukupnya Gula merah  \\\\\n\t Rendang daging tanpa santan & Secukupnya air         \\\\\n\t Rendang daging tanpa santan & Secukupnya garam       \\\\\n\t Rendang daging tanpa santan & Secukupnya royco sapi  \\\\\n\t Rendang daging tanpa santan & Secukupnya minyak sayur\\\\\n\\end{tabular}\n",
            "text/markdown": "\nA tibble: 15 × 2\n\n| nama &lt;chr&gt; | bahan &lt;chr&gt; |\n|---|---|\n| Rendang daging tanpa santan | 500 gr daging sapi      |\n| Rendang daging tanpa santan | 6 butir bawang merah    |\n| Rendang daging tanpa santan | 4 butir bawang putih    |\n| Rendang daging tanpa santan | 2 butir kemiri          |\n| Rendang daging tanpa santan | 1/2 sendok ketumbar     |\n| Rendang daging tanpa santan | 3 cm kunyit             |\n| Rendang daging tanpa santan | 3 cm jahe               |\n| Rendang daging tanpa santan | 2 batang sereh          |\n| Rendang daging tanpa santan | 2 lembar daun salam     |\n| Rendang daging tanpa santan | 2 lembar daun jeruk     |\n| Rendang daging tanpa santan | secukupnya Gula merah   |\n| Rendang daging tanpa santan | Secukupnya air          |\n| Rendang daging tanpa santan | Secukupnya garam        |\n| Rendang daging tanpa santan | Secukupnya royco sapi   |\n| Rendang daging tanpa santan | Secukupnya minyak sayur |\n\n",
            "text/html": [
              "<table class=\"dataframe\">\n",
              "<caption>A tibble: 15 × 2</caption>\n",
              "<thead>\n",
              "\t<tr><th scope=col>nama</th><th scope=col>bahan</th></tr>\n",
              "\t<tr><th scope=col>&lt;chr&gt;</th><th scope=col>&lt;chr&gt;</th></tr>\n",
              "</thead>\n",
              "<tbody>\n",
              "\t<tr><td>Rendang daging tanpa santan</td><td>500 gr daging sapi     </td></tr>\n",
              "\t<tr><td>Rendang daging tanpa santan</td><td>6 butir bawang merah   </td></tr>\n",
              "\t<tr><td>Rendang daging tanpa santan</td><td>4 butir bawang putih   </td></tr>\n",
              "\t<tr><td>Rendang daging tanpa santan</td><td>2 butir kemiri         </td></tr>\n",
              "\t<tr><td>Rendang daging tanpa santan</td><td>1/2 sendok ketumbar    </td></tr>\n",
              "\t<tr><td>Rendang daging tanpa santan</td><td>3 cm kunyit            </td></tr>\n",
              "\t<tr><td>Rendang daging tanpa santan</td><td>3 cm jahe              </td></tr>\n",
              "\t<tr><td>Rendang daging tanpa santan</td><td>2 batang sereh         </td></tr>\n",
              "\t<tr><td>Rendang daging tanpa santan</td><td>2 lembar daun salam    </td></tr>\n",
              "\t<tr><td>Rendang daging tanpa santan</td><td>2 lembar daun jeruk    </td></tr>\n",
              "\t<tr><td>Rendang daging tanpa santan</td><td>secukupnya Gula merah  </td></tr>\n",
              "\t<tr><td>Rendang daging tanpa santan</td><td>Secukupnya air         </td></tr>\n",
              "\t<tr><td>Rendang daging tanpa santan</td><td>Secukupnya garam       </td></tr>\n",
              "\t<tr><td>Rendang daging tanpa santan</td><td>Secukupnya royco sapi  </td></tr>\n",
              "\t<tr><td>Rendang daging tanpa santan</td><td>Secukupnya minyak sayur</td></tr>\n",
              "</tbody>\n",
              "</table>\n"
            ]
          },
          "metadata": {
            "tags": []
          }
        }
      ]
    },
    {
      "cell_type": "code",
      "metadata": {
        "colab": {
          "base_uri": "https://localhost:8080/",
          "height": 153
        },
        "id": "TVVlGxIgiTs8",
        "outputId": "034beb8f-e113-4931-aefb-9982d58b5e92"
      },
      "source": [
        "daftar_link = readLines(\"resep cookpad.txt\")\n",
        "daftar_link"
      ],
      "execution_count": 31,
      "outputs": [
        {
          "output_type": "display_data",
          "data": {
            "text/plain": [
              " [1] \"https://cookpad.com/id/resep/15229535-bolu-kukus-anak-ayam\"                 \n",
              " [2] \"https://cookpad.com/id/resep/15183268-puding-susu-cokelat\"                  \n",
              " [3] \"https://cookpad.com/id/resep/15233025-quiche-lorraine-teflon%F0%9F%A5%A7\"   \n",
              " [4] \"https://cookpad.com/id/resep/15224718-tom-kha-gai-thai-coconut-chicken-soup\"\n",
              " [5] \"https://cookpad.com/id/resep/15230629-melted-cheese-chicken\"                \n",
              " [6] \"https://cookpad.com/id/resep/15233113-ayam-cabe-hijau\"                      \n",
              " [7] \"https://cookpad.com/id/resep/15233173-ayam-bacem-bakar\"                     \n",
              " [8] \"https://cookpad.com/id/resep/15233162-tumis-daun-pepaya-kecombrang\"         \n",
              " [9] \"https://cookpad.com/id/resep/14932681-egg-roll-ala-hokben\"                  \n",
              "[10] \"https://cookpad.com/id/resep/15232533-ogura-cake-ketan-hitam\"               \n",
              "[11] \"https://cookpad.com/id/resep/15233124-nasi-liwet-bakar-isi-teri-pete\"       \n",
              "[12] \"https://cookpad.com/id/resep/15233114-sambal-goreng-telur-tempe\"            \n",
              "[13] \"https://cookpad.com/id/resep/14454088-kentang-goreng-ala-kfc\"               \n",
              "[14] \"https://cookpad.com/id/resep/15233130-dada-ayam-panggang-rosemari\"          \n",
              "[15] \"https://cookpad.com/id/resep/15233017-kue-lapis-kenyal\"                     \n",
              "[16] \"https://cookpad.com/id/resep/15233128-sambal-geprek\"                        \n",
              "[17] \"https://cookpad.com/id/resep/15233125-gulai-ikan-mas\"                       \n",
              "[18] \"https://cookpad.com/id/resep/15230576-marmer-butter-cake\"                   \n",
              "[19] \"https://cookpad.com/id/resep/15148440-jamur-enoki-crispy-saos-telur-asin\"   \n",
              "[20] \"https://cookpad.com/id/resep/15233122-c-h-i-k-e-n-k-a-t-s-u-%F0%9F%8D%B4\"   \n",
              "[21] \"https://cookpad.com/id/resep/15233145-nasi-ayam\"                            \n",
              "[22] \"https://cookpad.com/id/resep/15232826-qurus-arabian-pancake-versi-arab-oman\"\n",
              "[23] \"https://cookpad.com/id/resep/13042002-rendang-daging-tanpa-santan\"          \n",
              "[24] \"https://cookpad.com/id/resep/15233117-chicken-fillet-crispy\"                "
            ],
            "text/latex": "\\begin{enumerate*}\n\\item 'https://cookpad.com/id/resep/15229535-bolu-kukus-anak-ayam'\n\\item 'https://cookpad.com/id/resep/15183268-puding-susu-cokelat'\n\\item 'https://cookpad.com/id/resep/15233025-quiche-lorraine-teflon\\%F0\\%9F\\%A5\\%A7'\n\\item 'https://cookpad.com/id/resep/15224718-tom-kha-gai-thai-coconut-chicken-soup'\n\\item 'https://cookpad.com/id/resep/15230629-melted-cheese-chicken'\n\\item 'https://cookpad.com/id/resep/15233113-ayam-cabe-hijau'\n\\item 'https://cookpad.com/id/resep/15233173-ayam-bacem-bakar'\n\\item 'https://cookpad.com/id/resep/15233162-tumis-daun-pepaya-kecombrang'\n\\item 'https://cookpad.com/id/resep/14932681-egg-roll-ala-hokben'\n\\item 'https://cookpad.com/id/resep/15232533-ogura-cake-ketan-hitam'\n\\item 'https://cookpad.com/id/resep/15233124-nasi-liwet-bakar-isi-teri-pete'\n\\item 'https://cookpad.com/id/resep/15233114-sambal-goreng-telur-tempe'\n\\item 'https://cookpad.com/id/resep/14454088-kentang-goreng-ala-kfc'\n\\item 'https://cookpad.com/id/resep/15233130-dada-ayam-panggang-rosemari'\n\\item 'https://cookpad.com/id/resep/15233017-kue-lapis-kenyal'\n\\item 'https://cookpad.com/id/resep/15233128-sambal-geprek'\n\\item 'https://cookpad.com/id/resep/15233125-gulai-ikan-mas'\n\\item 'https://cookpad.com/id/resep/15230576-marmer-butter-cake'\n\\item 'https://cookpad.com/id/resep/15148440-jamur-enoki-crispy-saos-telur-asin'\n\\item 'https://cookpad.com/id/resep/15233122-c-h-i-k-e-n-k-a-t-s-u-\\%F0\\%9F\\%8D\\%B4'\n\\item 'https://cookpad.com/id/resep/15233145-nasi-ayam'\n\\item 'https://cookpad.com/id/resep/15232826-qurus-arabian-pancake-versi-arab-oman'\n\\item 'https://cookpad.com/id/resep/13042002-rendang-daging-tanpa-santan'\n\\item 'https://cookpad.com/id/resep/15233117-chicken-fillet-crispy'\n\\end{enumerate*}\n",
            "text/markdown": "1. 'https://cookpad.com/id/resep/15229535-bolu-kukus-anak-ayam'\n2. 'https://cookpad.com/id/resep/15183268-puding-susu-cokelat'\n3. 'https://cookpad.com/id/resep/15233025-quiche-lorraine-teflon%F0%9F%A5%A7'\n4. 'https://cookpad.com/id/resep/15224718-tom-kha-gai-thai-coconut-chicken-soup'\n5. 'https://cookpad.com/id/resep/15230629-melted-cheese-chicken'\n6. 'https://cookpad.com/id/resep/15233113-ayam-cabe-hijau'\n7. 'https://cookpad.com/id/resep/15233173-ayam-bacem-bakar'\n8. 'https://cookpad.com/id/resep/15233162-tumis-daun-pepaya-kecombrang'\n9. 'https://cookpad.com/id/resep/14932681-egg-roll-ala-hokben'\n10. 'https://cookpad.com/id/resep/15232533-ogura-cake-ketan-hitam'\n11. 'https://cookpad.com/id/resep/15233124-nasi-liwet-bakar-isi-teri-pete'\n12. 'https://cookpad.com/id/resep/15233114-sambal-goreng-telur-tempe'\n13. 'https://cookpad.com/id/resep/14454088-kentang-goreng-ala-kfc'\n14. 'https://cookpad.com/id/resep/15233130-dada-ayam-panggang-rosemari'\n15. 'https://cookpad.com/id/resep/15233017-kue-lapis-kenyal'\n16. 'https://cookpad.com/id/resep/15233128-sambal-geprek'\n17. 'https://cookpad.com/id/resep/15233125-gulai-ikan-mas'\n18. 'https://cookpad.com/id/resep/15230576-marmer-butter-cake'\n19. 'https://cookpad.com/id/resep/15148440-jamur-enoki-crispy-saos-telur-asin'\n20. 'https://cookpad.com/id/resep/15233122-c-h-i-k-e-n-k-a-t-s-u-%F0%9F%8D%B4'\n21. 'https://cookpad.com/id/resep/15233145-nasi-ayam'\n22. 'https://cookpad.com/id/resep/15232826-qurus-arabian-pancake-versi-arab-oman'\n23. 'https://cookpad.com/id/resep/13042002-rendang-daging-tanpa-santan'\n24. 'https://cookpad.com/id/resep/15233117-chicken-fillet-crispy'\n\n\n",
            "text/html": [
              "<style>\n",
              ".list-inline {list-style: none; margin:0; padding: 0}\n",
              ".list-inline>li {display: inline-block}\n",
              ".list-inline>li:not(:last-child)::after {content: \"\\00b7\"; padding: 0 .5ex}\n",
              "</style>\n",
              "<ol class=list-inline><li>'https://cookpad.com/id/resep/15229535-bolu-kukus-anak-ayam'</li><li>'https://cookpad.com/id/resep/15183268-puding-susu-cokelat'</li><li>'https://cookpad.com/id/resep/15233025-quiche-lorraine-teflon%F0%9F%A5%A7'</li><li>'https://cookpad.com/id/resep/15224718-tom-kha-gai-thai-coconut-chicken-soup'</li><li>'https://cookpad.com/id/resep/15230629-melted-cheese-chicken'</li><li>'https://cookpad.com/id/resep/15233113-ayam-cabe-hijau'</li><li>'https://cookpad.com/id/resep/15233173-ayam-bacem-bakar'</li><li>'https://cookpad.com/id/resep/15233162-tumis-daun-pepaya-kecombrang'</li><li>'https://cookpad.com/id/resep/14932681-egg-roll-ala-hokben'</li><li>'https://cookpad.com/id/resep/15232533-ogura-cake-ketan-hitam'</li><li>'https://cookpad.com/id/resep/15233124-nasi-liwet-bakar-isi-teri-pete'</li><li>'https://cookpad.com/id/resep/15233114-sambal-goreng-telur-tempe'</li><li>'https://cookpad.com/id/resep/14454088-kentang-goreng-ala-kfc'</li><li>'https://cookpad.com/id/resep/15233130-dada-ayam-panggang-rosemari'</li><li>'https://cookpad.com/id/resep/15233017-kue-lapis-kenyal'</li><li>'https://cookpad.com/id/resep/15233128-sambal-geprek'</li><li>'https://cookpad.com/id/resep/15233125-gulai-ikan-mas'</li><li>'https://cookpad.com/id/resep/15230576-marmer-butter-cake'</li><li>'https://cookpad.com/id/resep/15148440-jamur-enoki-crispy-saos-telur-asin'</li><li>'https://cookpad.com/id/resep/15233122-c-h-i-k-e-n-k-a-t-s-u-%F0%9F%8D%B4'</li><li>'https://cookpad.com/id/resep/15233145-nasi-ayam'</li><li>'https://cookpad.com/id/resep/15232826-qurus-arabian-pancake-versi-arab-oman'</li><li>'https://cookpad.com/id/resep/13042002-rendang-daging-tanpa-santan'</li><li>'https://cookpad.com/id/resep/15233117-chicken-fillet-crispy'</li></ol>\n"
            ]
          },
          "metadata": {
            "tags": []
          }
        }
      ]
    },
    {
      "cell_type": "code",
      "metadata": {
        "colab": {
          "base_uri": "https://localhost:8080/",
          "height": 1000
        },
        "id": "gkKIgVa5ib0p",
        "outputId": "fab666d0-28ea-435f-fad3-90978860f49b"
      },
      "source": [
        "hasil_scrape = data.frame()\n",
        "\n",
        "for(i in 1:5){\n",
        "  temp = scrape_cookpad_v2(daftar_link[i])\n",
        "  Sys.sleep(10)\n",
        "  hasil_scrape = rbind(temp,hasil_scrape)\n",
        "}\n",
        "\n",
        "hasil_scrape"
      ],
      "execution_count": 32,
      "outputs": [
        {
          "output_type": "display_data",
          "data": {
            "text/plain": [
              "   nama                                   \n",
              "1  Melted Cheese Chicken                  \n",
              "2  Melted Cheese Chicken                  \n",
              "3  Melted Cheese Chicken                  \n",
              "4  Melted Cheese Chicken                  \n",
              "5  Melted Cheese Chicken                  \n",
              "6  Melted Cheese Chicken                  \n",
              "7  Melted Cheese Chicken                  \n",
              "8  Melted Cheese Chicken                  \n",
              "9  Melted Cheese Chicken                  \n",
              "10 Melted Cheese Chicken                  \n",
              "11 Melted Cheese Chicken                  \n",
              "12 Melted Cheese Chicken                  \n",
              "13 Melted Cheese Chicken                  \n",
              "14 Melted Cheese Chicken                  \n",
              "15 Tom Kha Gai (Thai Coconut Chicken Soup)\n",
              "16 Tom Kha Gai (Thai Coconut Chicken Soup)\n",
              "17 Tom Kha Gai (Thai Coconut Chicken Soup)\n",
              "18 Tom Kha Gai (Thai Coconut Chicken Soup)\n",
              "19 Tom Kha Gai (Thai Coconut Chicken Soup)\n",
              "20 Tom Kha Gai (Thai Coconut Chicken Soup)\n",
              "21 Tom Kha Gai (Thai Coconut Chicken Soup)\n",
              "22 Tom Kha Gai (Thai Coconut Chicken Soup)\n",
              "23 Tom Kha Gai (Thai Coconut Chicken Soup)\n",
              "24 Tom Kha Gai (Thai Coconut Chicken Soup)\n",
              "25 Tom Kha Gai (Thai Coconut Chicken Soup)\n",
              "26 Tom Kha Gai (Thai Coconut Chicken Soup)\n",
              "27 Tom Kha Gai (Thai Coconut Chicken Soup)\n",
              "28 Tom Kha Gai (Thai Coconut Chicken Soup)\n",
              "29 Tom Kha Gai (Thai Coconut Chicken Soup)\n",
              "30 Tom Kha Gai (Thai Coconut Chicken Soup)\n",
              "⋮  ⋮                                      \n",
              "39 Quiche Lorraine teflon🥧               \n",
              "40 Quiche Lorraine teflon🥧               \n",
              "41 Quiche Lorraine teflon🥧               \n",
              "42 Quiche Lorraine teflon🥧               \n",
              "43 Quiche Lorraine teflon🥧               \n",
              "44 Quiche Lorraine teflon🥧               \n",
              "45 Quiche Lorraine teflon🥧               \n",
              "46 Quiche Lorraine teflon🥧               \n",
              "47 Quiche Lorraine teflon🥧               \n",
              "48 Quiche Lorraine teflon🥧               \n",
              "49 Quiche Lorraine teflon🥧               \n",
              "50 Puding Susu Cokelat                    \n",
              "51 Puding Susu Cokelat                    \n",
              "52 Puding Susu Cokelat                    \n",
              "53 Puding Susu Cokelat                    \n",
              "54 Puding Susu Cokelat                    \n",
              "55 Puding Susu Cokelat                    \n",
              "56 Puding Susu Cokelat                    \n",
              "57 Puding Susu Cokelat                    \n",
              "58 Puding Susu Cokelat                    \n",
              "59 Puding Susu Cokelat                    \n",
              "60 Puding Susu Cokelat                    \n",
              "61 Bolu Kukus Anak Ayam                   \n",
              "62 Bolu Kukus Anak Ayam                   \n",
              "63 Bolu Kukus Anak Ayam                   \n",
              "64 Bolu Kukus Anak Ayam                   \n",
              "65 Bolu Kukus Anak Ayam                   \n",
              "66 Bolu Kukus Anak Ayam                   \n",
              "67 Bolu Kukus Anak Ayam                   \n",
              "68 Bolu Kukus Anak Ayam                   \n",
              "   bahan                                                           \n",
              "1  300 gr Ayam fillet, iris tipis menjadi 4 bagian                 \n",
              "2  200 gr Melted Cheese (saya: quick melt cheese)                  \n",
              "3  Secukupnya Minyak untuk menggoreng                              \n",
              "4  150 ml Susu cair                                                \n",
              "5  2 siung Bawang Putih, haluskan atau 1/2 sdt garlic powder       \n",
              "6  1 sdt Garam                                                     \n",
              "7  1/4 sdt lada bubuk                                              \n",
              "8  1/2 sdt Kaldu bubuk (opsional)                                  \n",
              "9  Bahan pelapis:                                                  \n",
              "10 150 gr Tepung terigu                                            \n",
              "11 Secukupnya Garam                                                \n",
              "12 Secukupnya Lada bubuk                                           \n",
              "13 250 gr Tepung Roti                                              \n",
              "14 Secukupnya air                                                  \n",
              "15 240 g ayam broiler bagian dada                                  \n",
              "16 2 ruas jari kunyit (geprek)                                     \n",
              "17 1 ruas jari jahe (geprek)                                       \n",
              "18 300 ml air kaldu                                                \n",
              "19 225 g jamur tiram                                               \n",
              "20 350 ml santan kental                                            \n",
              "21 350 ml santan encer                                             \n",
              "22 2 sdt air perasan jeruk nipis (sesuai selera)                   \n",
              "23 2 batang daun cilantro / bisa seledri (ambil daunnya lalu irisi)\n",
              "24 3 siung bawang putih                                            \n",
              "25 2 ruas jari lengkuas                                            \n",
              "26 5 buah cabai rawit merah                                        \n",
              "27 2 buah cabai keriting merah (potong serong biar cantik)         \n",
              "28 5 lembar daun jeruk (sobeki)                                    \n",
              "29 2 batang serai (ukuran kecil)                                   \n",
              "30 2 sdm fish saus (kecap ikan thailand)                           \n",
              "⋮  ⋮                                                               \n",
              "39 1 sdm minyak                                                    \n",
              "40 1/2 buah bawang bombay                                          \n",
              "41 1 mangkuk kecil bayam cincang                                   \n",
              "42 5 sdm keju parut                                                \n",
              "43 Sejumput oregano                                                \n",
              "44 100 ml susu uht                                                 \n",
              "45 1 butir telur                                                   \n",
              "46 Bumbu bubuk:                                                    \n",
              "47 1/2 sdt penyedap                                                \n",
              "48 Sejumput garam                                                  \n",
              "49 1 sdt lada bubuk/sesuai selera                                  \n",
              "50 1/2 bungkus agar- agar plain                                    \n",
              "51 1/2 bungkus nutrigel plain (ukuran kecil)                       \n",
              "52 70 gram gula                                                    \n",
              "53 60 gram wcc (coklat batang putih)                               \n",
              "54 600 ml susu cair                                                \n",
              "55 1/2 bungkus agar- agar plain                                    \n",
              "56 1/2 bungkus nutrigel plain (ukuran kecil)                       \n",
              "57 70 gram gula                                                    \n",
              "58 50 gram dcc (cokelat batang)                                    \n",
              "59 20 gram coklat bubuk                                            \n",
              "60 600 ml susu cair                                                \n",
              "61 250 gr tepung terigu                                            \n",
              "62 200 gr gula pasir                                               \n",
              "63 2 butir telur                                                   \n",
              "64 150 ml santan (me kara kecil + air)                             \n",
              "65 1/2 sdt baking powder                                           \n",
              "66 1 sdt SP                                                        \n",
              "67 Pewarna makanan : saya biru, merah rose, kuning                 \n",
              "68 mata Choco chips untuk hiasan                                   "
            ],
            "text/latex": "A tibble: 68 × 2\n\\begin{tabular}{ll}\n nama & bahan\\\\\n <chr> & <chr>\\\\\n\\hline\n\t Melted Cheese Chicken                   & 300 gr Ayam fillet, iris tipis menjadi 4 bagian                 \\\\\n\t Melted Cheese Chicken                   & 200 gr Melted Cheese (saya: quick melt cheese)                  \\\\\n\t Melted Cheese Chicken                   & Secukupnya Minyak untuk menggoreng                              \\\\\n\t Melted Cheese Chicken                   & 150 ml Susu cair                                                \\\\\n\t Melted Cheese Chicken                   & 2 siung Bawang Putih, haluskan atau 1/2 sdt garlic powder       \\\\\n\t Melted Cheese Chicken                   & 1 sdt Garam                                                     \\\\\n\t Melted Cheese Chicken                   & 1/4 sdt lada bubuk                                              \\\\\n\t Melted Cheese Chicken                   & 1/2 sdt Kaldu bubuk (opsional)                                  \\\\\n\t Melted Cheese Chicken                   & Bahan pelapis:                                                  \\\\\n\t Melted Cheese Chicken                   & 150 gr Tepung terigu                                            \\\\\n\t Melted Cheese Chicken                   & Secukupnya Garam                                                \\\\\n\t Melted Cheese Chicken                   & Secukupnya Lada bubuk                                           \\\\\n\t Melted Cheese Chicken                   & 250 gr Tepung Roti                                              \\\\\n\t Melted Cheese Chicken                   & Secukupnya air                                                  \\\\\n\t Tom Kha Gai (Thai Coconut Chicken Soup) & 240 g ayam broiler bagian dada                                  \\\\\n\t Tom Kha Gai (Thai Coconut Chicken Soup) & 2 ruas jari kunyit (geprek)                                     \\\\\n\t Tom Kha Gai (Thai Coconut Chicken Soup) & 1 ruas jari jahe (geprek)                                       \\\\\n\t Tom Kha Gai (Thai Coconut Chicken Soup) & 300 ml air kaldu                                                \\\\\n\t Tom Kha Gai (Thai Coconut Chicken Soup) & 225 g jamur tiram                                               \\\\\n\t Tom Kha Gai (Thai Coconut Chicken Soup) & 350 ml santan kental                                            \\\\\n\t Tom Kha Gai (Thai Coconut Chicken Soup) & 350 ml santan encer                                             \\\\\n\t Tom Kha Gai (Thai Coconut Chicken Soup) & 2 sdt air perasan jeruk nipis (sesuai selera)                   \\\\\n\t Tom Kha Gai (Thai Coconut Chicken Soup) & 2 batang daun cilantro / bisa seledri (ambil daunnya lalu irisi)\\\\\n\t Tom Kha Gai (Thai Coconut Chicken Soup) & 3 siung bawang putih                                            \\\\\n\t Tom Kha Gai (Thai Coconut Chicken Soup) & 2 ruas jari lengkuas                                            \\\\\n\t Tom Kha Gai (Thai Coconut Chicken Soup) & 5 buah cabai rawit merah                                        \\\\\n\t Tom Kha Gai (Thai Coconut Chicken Soup) & 2 buah cabai keriting merah (potong serong biar cantik)         \\\\\n\t Tom Kha Gai (Thai Coconut Chicken Soup) & 5 lembar daun jeruk (sobeki)                                    \\\\\n\t Tom Kha Gai (Thai Coconut Chicken Soup) & 2 batang serai (ukuran kecil)                                   \\\\\n\t Tom Kha Gai (Thai Coconut Chicken Soup) & 2 sdm fish saus (kecap ikan thailand)                           \\\\\n\t ⋮ & ⋮\\\\\n\t Quiche Lorraine teflon🥧 & 1 sdm minyak                                   \\\\\n\t Quiche Lorraine teflon🥧 & 1/2 buah bawang bombay                         \\\\\n\t Quiche Lorraine teflon🥧 & 1 mangkuk kecil bayam cincang                  \\\\\n\t Quiche Lorraine teflon🥧 & 5 sdm keju parut                               \\\\\n\t Quiche Lorraine teflon🥧 & Sejumput oregano                               \\\\\n\t Quiche Lorraine teflon🥧 & 100 ml susu uht                                \\\\\n\t Quiche Lorraine teflon🥧 & 1 butir telur                                  \\\\\n\t Quiche Lorraine teflon🥧 & Bumbu bubuk:                                   \\\\\n\t Quiche Lorraine teflon🥧 & 1/2 sdt penyedap                               \\\\\n\t Quiche Lorraine teflon🥧 & Sejumput garam                                 \\\\\n\t Quiche Lorraine teflon🥧 & 1 sdt lada bubuk/sesuai selera                 \\\\\n\t Puding Susu Cokelat      & 1/2 bungkus agar- agar plain                   \\\\\n\t Puding Susu Cokelat      & 1/2 bungkus nutrigel plain (ukuran kecil)      \\\\\n\t Puding Susu Cokelat      & 70 gram gula                                   \\\\\n\t Puding Susu Cokelat      & 60 gram wcc (coklat batang putih)              \\\\\n\t Puding Susu Cokelat      & 600 ml susu cair                               \\\\\n\t Puding Susu Cokelat      & 1/2 bungkus agar- agar plain                   \\\\\n\t Puding Susu Cokelat      & 1/2 bungkus nutrigel plain (ukuran kecil)      \\\\\n\t Puding Susu Cokelat      & 70 gram gula                                   \\\\\n\t Puding Susu Cokelat      & 50 gram dcc (cokelat batang)                   \\\\\n\t Puding Susu Cokelat      & 20 gram coklat bubuk                           \\\\\n\t Puding Susu Cokelat      & 600 ml susu cair                               \\\\\n\t Bolu Kukus Anak Ayam     & 250 gr tepung terigu                           \\\\\n\t Bolu Kukus Anak Ayam     & 200 gr gula pasir                              \\\\\n\t Bolu Kukus Anak Ayam     & 2 butir telur                                  \\\\\n\t Bolu Kukus Anak Ayam     & 150 ml santan (me kara kecil + air)            \\\\\n\t Bolu Kukus Anak Ayam     & 1/2 sdt baking powder                          \\\\\n\t Bolu Kukus Anak Ayam     & 1 sdt SP                                       \\\\\n\t Bolu Kukus Anak Ayam     & Pewarna makanan : saya biru, merah rose, kuning\\\\\n\t Bolu Kukus Anak Ayam     & mata Choco chips untuk hiasan                  \\\\\n\\end{tabular}\n",
            "text/markdown": "\nA tibble: 68 × 2\n\n| nama &lt;chr&gt; | bahan &lt;chr&gt; |\n|---|---|\n| Melted Cheese Chicken                   | 300 gr Ayam fillet, iris tipis menjadi 4 bagian                  |\n| Melted Cheese Chicken                   | 200 gr Melted Cheese (saya: quick melt cheese)                   |\n| Melted Cheese Chicken                   | Secukupnya Minyak untuk menggoreng                               |\n| Melted Cheese Chicken                   | 150 ml Susu cair                                                 |\n| Melted Cheese Chicken                   | 2 siung Bawang Putih, haluskan atau 1/2 sdt garlic powder        |\n| Melted Cheese Chicken                   | 1 sdt Garam                                                      |\n| Melted Cheese Chicken                   | 1/4 sdt lada bubuk                                               |\n| Melted Cheese Chicken                   | 1/2 sdt Kaldu bubuk (opsional)                                   |\n| Melted Cheese Chicken                   | Bahan pelapis:                                                   |\n| Melted Cheese Chicken                   | 150 gr Tepung terigu                                             |\n| Melted Cheese Chicken                   | Secukupnya Garam                                                 |\n| Melted Cheese Chicken                   | Secukupnya Lada bubuk                                            |\n| Melted Cheese Chicken                   | 250 gr Tepung Roti                                               |\n| Melted Cheese Chicken                   | Secukupnya air                                                   |\n| Tom Kha Gai (Thai Coconut Chicken Soup) | 240 g ayam broiler bagian dada                                   |\n| Tom Kha Gai (Thai Coconut Chicken Soup) | 2 ruas jari kunyit (geprek)                                      |\n| Tom Kha Gai (Thai Coconut Chicken Soup) | 1 ruas jari jahe (geprek)                                        |\n| Tom Kha Gai (Thai Coconut Chicken Soup) | 300 ml air kaldu                                                 |\n| Tom Kha Gai (Thai Coconut Chicken Soup) | 225 g jamur tiram                                                |\n| Tom Kha Gai (Thai Coconut Chicken Soup) | 350 ml santan kental                                             |\n| Tom Kha Gai (Thai Coconut Chicken Soup) | 350 ml santan encer                                              |\n| Tom Kha Gai (Thai Coconut Chicken Soup) | 2 sdt air perasan jeruk nipis (sesuai selera)                    |\n| Tom Kha Gai (Thai Coconut Chicken Soup) | 2 batang daun cilantro / bisa seledri (ambil daunnya lalu irisi) |\n| Tom Kha Gai (Thai Coconut Chicken Soup) | 3 siung bawang putih                                             |\n| Tom Kha Gai (Thai Coconut Chicken Soup) | 2 ruas jari lengkuas                                             |\n| Tom Kha Gai (Thai Coconut Chicken Soup) | 5 buah cabai rawit merah                                         |\n| Tom Kha Gai (Thai Coconut Chicken Soup) | 2 buah cabai keriting merah (potong serong biar cantik)          |\n| Tom Kha Gai (Thai Coconut Chicken Soup) | 5 lembar daun jeruk (sobeki)                                     |\n| Tom Kha Gai (Thai Coconut Chicken Soup) | 2 batang serai (ukuran kecil)                                    |\n| Tom Kha Gai (Thai Coconut Chicken Soup) | 2 sdm fish saus (kecap ikan thailand)                            |\n| ⋮ | ⋮ |\n| Quiche Lorraine teflon🥧 | 1 sdm minyak                                    |\n| Quiche Lorraine teflon🥧 | 1/2 buah bawang bombay                          |\n| Quiche Lorraine teflon🥧 | 1 mangkuk kecil bayam cincang                   |\n| Quiche Lorraine teflon🥧 | 5 sdm keju parut                                |\n| Quiche Lorraine teflon🥧 | Sejumput oregano                                |\n| Quiche Lorraine teflon🥧 | 100 ml susu uht                                 |\n| Quiche Lorraine teflon🥧 | 1 butir telur                                   |\n| Quiche Lorraine teflon🥧 | Bumbu bubuk:                                    |\n| Quiche Lorraine teflon🥧 | 1/2 sdt penyedap                                |\n| Quiche Lorraine teflon🥧 | Sejumput garam                                  |\n| Quiche Lorraine teflon🥧 | 1 sdt lada bubuk/sesuai selera                  |\n| Puding Susu Cokelat      | 1/2 bungkus agar- agar plain                    |\n| Puding Susu Cokelat      | 1/2 bungkus nutrigel plain (ukuran kecil)       |\n| Puding Susu Cokelat      | 70 gram gula                                    |\n| Puding Susu Cokelat      | 60 gram wcc (coklat batang putih)               |\n| Puding Susu Cokelat      | 600 ml susu cair                                |\n| Puding Susu Cokelat      | 1/2 bungkus agar- agar plain                    |\n| Puding Susu Cokelat      | 1/2 bungkus nutrigel plain (ukuran kecil)       |\n| Puding Susu Cokelat      | 70 gram gula                                    |\n| Puding Susu Cokelat      | 50 gram dcc (cokelat batang)                    |\n| Puding Susu Cokelat      | 20 gram coklat bubuk                            |\n| Puding Susu Cokelat      | 600 ml susu cair                                |\n| Bolu Kukus Anak Ayam     | 250 gr tepung terigu                            |\n| Bolu Kukus Anak Ayam     | 200 gr gula pasir                               |\n| Bolu Kukus Anak Ayam     | 2 butir telur                                   |\n| Bolu Kukus Anak Ayam     | 150 ml santan (me kara kecil + air)             |\n| Bolu Kukus Anak Ayam     | 1/2 sdt baking powder                           |\n| Bolu Kukus Anak Ayam     | 1 sdt SP                                        |\n| Bolu Kukus Anak Ayam     | Pewarna makanan : saya biru, merah rose, kuning |\n| Bolu Kukus Anak Ayam     | mata Choco chips untuk hiasan                   |\n\n",
            "text/html": [
              "<table class=\"dataframe\">\n",
              "<caption>A tibble: 68 × 2</caption>\n",
              "<thead>\n",
              "\t<tr><th scope=col>nama</th><th scope=col>bahan</th></tr>\n",
              "\t<tr><th scope=col>&lt;chr&gt;</th><th scope=col>&lt;chr&gt;</th></tr>\n",
              "</thead>\n",
              "<tbody>\n",
              "\t<tr><td>Melted Cheese Chicken                  </td><td>300 gr Ayam fillet, iris tipis menjadi 4 bagian                 </td></tr>\n",
              "\t<tr><td>Melted Cheese Chicken                  </td><td>200 gr Melted Cheese (saya: quick melt cheese)                  </td></tr>\n",
              "\t<tr><td>Melted Cheese Chicken                  </td><td>Secukupnya Minyak untuk menggoreng                              </td></tr>\n",
              "\t<tr><td>Melted Cheese Chicken                  </td><td>150 ml Susu cair                                                </td></tr>\n",
              "\t<tr><td>Melted Cheese Chicken                  </td><td>2 siung Bawang Putih, haluskan atau 1/2 sdt garlic powder       </td></tr>\n",
              "\t<tr><td>Melted Cheese Chicken                  </td><td>1 sdt Garam                                                     </td></tr>\n",
              "\t<tr><td>Melted Cheese Chicken                  </td><td>1/4 sdt lada bubuk                                              </td></tr>\n",
              "\t<tr><td>Melted Cheese Chicken                  </td><td>1/2 sdt Kaldu bubuk (opsional)                                  </td></tr>\n",
              "\t<tr><td>Melted Cheese Chicken                  </td><td>Bahan pelapis:                                                  </td></tr>\n",
              "\t<tr><td>Melted Cheese Chicken                  </td><td>150 gr Tepung terigu                                            </td></tr>\n",
              "\t<tr><td>Melted Cheese Chicken                  </td><td>Secukupnya Garam                                                </td></tr>\n",
              "\t<tr><td>Melted Cheese Chicken                  </td><td>Secukupnya Lada bubuk                                           </td></tr>\n",
              "\t<tr><td>Melted Cheese Chicken                  </td><td>250 gr Tepung Roti                                              </td></tr>\n",
              "\t<tr><td>Melted Cheese Chicken                  </td><td>Secukupnya air                                                  </td></tr>\n",
              "\t<tr><td>Tom Kha Gai (Thai Coconut Chicken Soup)</td><td>240 g ayam broiler bagian dada                                  </td></tr>\n",
              "\t<tr><td>Tom Kha Gai (Thai Coconut Chicken Soup)</td><td>2 ruas jari kunyit (geprek)                                     </td></tr>\n",
              "\t<tr><td>Tom Kha Gai (Thai Coconut Chicken Soup)</td><td>1 ruas jari jahe (geprek)                                       </td></tr>\n",
              "\t<tr><td>Tom Kha Gai (Thai Coconut Chicken Soup)</td><td>300 ml air kaldu                                                </td></tr>\n",
              "\t<tr><td>Tom Kha Gai (Thai Coconut Chicken Soup)</td><td>225 g jamur tiram                                               </td></tr>\n",
              "\t<tr><td>Tom Kha Gai (Thai Coconut Chicken Soup)</td><td>350 ml santan kental                                            </td></tr>\n",
              "\t<tr><td>Tom Kha Gai (Thai Coconut Chicken Soup)</td><td>350 ml santan encer                                             </td></tr>\n",
              "\t<tr><td>Tom Kha Gai (Thai Coconut Chicken Soup)</td><td>2 sdt air perasan jeruk nipis (sesuai selera)                   </td></tr>\n",
              "\t<tr><td>Tom Kha Gai (Thai Coconut Chicken Soup)</td><td>2 batang daun cilantro / bisa seledri (ambil daunnya lalu irisi)</td></tr>\n",
              "\t<tr><td>Tom Kha Gai (Thai Coconut Chicken Soup)</td><td>3 siung bawang putih                                            </td></tr>\n",
              "\t<tr><td>Tom Kha Gai (Thai Coconut Chicken Soup)</td><td>2 ruas jari lengkuas                                            </td></tr>\n",
              "\t<tr><td>Tom Kha Gai (Thai Coconut Chicken Soup)</td><td>5 buah cabai rawit merah                                        </td></tr>\n",
              "\t<tr><td>Tom Kha Gai (Thai Coconut Chicken Soup)</td><td>2 buah cabai keriting merah (potong serong biar cantik)         </td></tr>\n",
              "\t<tr><td>Tom Kha Gai (Thai Coconut Chicken Soup)</td><td>5 lembar daun jeruk (sobeki)                                    </td></tr>\n",
              "\t<tr><td>Tom Kha Gai (Thai Coconut Chicken Soup)</td><td>2 batang serai (ukuran kecil)                                   </td></tr>\n",
              "\t<tr><td>Tom Kha Gai (Thai Coconut Chicken Soup)</td><td>2 sdm fish saus (kecap ikan thailand)                           </td></tr>\n",
              "\t<tr><td>⋮</td><td>⋮</td></tr>\n",
              "\t<tr><td>Quiche Lorraine teflon🥧</td><td>1 sdm minyak                                   </td></tr>\n",
              "\t<tr><td>Quiche Lorraine teflon🥧</td><td>1/2 buah bawang bombay                         </td></tr>\n",
              "\t<tr><td>Quiche Lorraine teflon🥧</td><td>1 mangkuk kecil bayam cincang                  </td></tr>\n",
              "\t<tr><td>Quiche Lorraine teflon🥧</td><td>5 sdm keju parut                               </td></tr>\n",
              "\t<tr><td>Quiche Lorraine teflon🥧</td><td>Sejumput oregano                               </td></tr>\n",
              "\t<tr><td>Quiche Lorraine teflon🥧</td><td>100 ml susu uht                                </td></tr>\n",
              "\t<tr><td>Quiche Lorraine teflon🥧</td><td>1 butir telur                                  </td></tr>\n",
              "\t<tr><td>Quiche Lorraine teflon🥧</td><td>Bumbu bubuk:                                   </td></tr>\n",
              "\t<tr><td>Quiche Lorraine teflon🥧</td><td>1/2 sdt penyedap                               </td></tr>\n",
              "\t<tr><td>Quiche Lorraine teflon🥧</td><td>Sejumput garam                                 </td></tr>\n",
              "\t<tr><td>Quiche Lorraine teflon🥧</td><td>1 sdt lada bubuk/sesuai selera                 </td></tr>\n",
              "\t<tr><td>Puding Susu Cokelat     </td><td>1/2 bungkus agar- agar plain                   </td></tr>\n",
              "\t<tr><td>Puding Susu Cokelat     </td><td>1/2 bungkus nutrigel plain (ukuran kecil)      </td></tr>\n",
              "\t<tr><td>Puding Susu Cokelat     </td><td>70 gram gula                                   </td></tr>\n",
              "\t<tr><td>Puding Susu Cokelat     </td><td>60 gram wcc (coklat batang putih)              </td></tr>\n",
              "\t<tr><td>Puding Susu Cokelat     </td><td>600 ml susu cair                               </td></tr>\n",
              "\t<tr><td>Puding Susu Cokelat     </td><td>1/2 bungkus agar- agar plain                   </td></tr>\n",
              "\t<tr><td>Puding Susu Cokelat     </td><td>1/2 bungkus nutrigel plain (ukuran kecil)      </td></tr>\n",
              "\t<tr><td>Puding Susu Cokelat     </td><td>70 gram gula                                   </td></tr>\n",
              "\t<tr><td>Puding Susu Cokelat     </td><td>50 gram dcc (cokelat batang)                   </td></tr>\n",
              "\t<tr><td>Puding Susu Cokelat     </td><td>20 gram coklat bubuk                           </td></tr>\n",
              "\t<tr><td>Puding Susu Cokelat     </td><td>600 ml susu cair                               </td></tr>\n",
              "\t<tr><td>Bolu Kukus Anak Ayam    </td><td>250 gr tepung terigu                           </td></tr>\n",
              "\t<tr><td>Bolu Kukus Anak Ayam    </td><td>200 gr gula pasir                              </td></tr>\n",
              "\t<tr><td>Bolu Kukus Anak Ayam    </td><td>2 butir telur                                  </td></tr>\n",
              "\t<tr><td>Bolu Kukus Anak Ayam    </td><td>150 ml santan (me kara kecil + air)            </td></tr>\n",
              "\t<tr><td>Bolu Kukus Anak Ayam    </td><td>1/2 sdt baking powder                          </td></tr>\n",
              "\t<tr><td>Bolu Kukus Anak Ayam    </td><td>1 sdt SP                                       </td></tr>\n",
              "\t<tr><td>Bolu Kukus Anak Ayam    </td><td>Pewarna makanan : saya biru, merah rose, kuning</td></tr>\n",
              "\t<tr><td>Bolu Kukus Anak Ayam    </td><td>mata Choco chips untuk hiasan                  </td></tr>\n",
              "</tbody>\n",
              "</table>\n"
            ]
          },
          "metadata": {
            "tags": []
          }
        }
      ]
    },
    {
      "cell_type": "code",
      "metadata": {
        "id": "WW_CSFRsmGJs"
      },
      "source": [
        "# jika ingin menambahkan user agent\n",
        "uastring = \"Mozilla/5.0 (X11; Linux x86_64) AppleWebKit/537.36 (KHTML, like Gecko) Chrome/91.0.4472.77 Safari/537.36\"\n",
        "x = html_session(url,httr::user_agent(uastring))\n",
        "\n",
        "read_html(x)"
      ],
      "execution_count": null,
      "outputs": []
    }
  ]
}