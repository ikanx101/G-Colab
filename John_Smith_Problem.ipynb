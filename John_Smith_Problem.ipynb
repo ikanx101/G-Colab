{
  "nbformat": 4,
  "nbformat_minor": 0,
  "metadata": {
    "colab": {
      "name": "John Smith Problem",
      "provenance": [],
      "authorship_tag": "ABX9TyOkBvroySOcMf/hsqxVjNLx",
      "include_colab_link": true
    },
    "kernelspec": {
      "name": "ir",
      "display_name": "R"
    }
  },
  "cells": [
    {
      "cell_type": "markdown",
      "metadata": {
        "id": "view-in-github",
        "colab_type": "text"
      },
      "source": [
        "<a href=\"https://colab.research.google.com/github/ikanx101/G-Colab/blob/main/John_Smith_Problem.ipynb\" target=\"_parent\"><img src=\"https://colab.research.google.com/assets/colab-badge.svg\" alt=\"Open In Colab\"/></a>"
      ]
    },
    {
      "cell_type": "code",
      "metadata": {
        "id": "cgSSah4-EjAy"
      },
      "source": [
        "rm(list=ls())"
      ],
      "execution_count": null,
      "outputs": []
    },
    {
      "cell_type": "code",
      "metadata": {
        "id": "Zs3ec0emFaO1"
      },
      "source": [
        "library(stringdist)\n",
        "library(stringr)\n",
        "library(readxl)\n",
        "df = read_excel(\"many_john_smiths.xlsx\")"
      ],
      "execution_count": null,
      "outputs": []
    },
    {
      "cell_type": "code",
      "metadata": {
        "id": "f7tmRFaJGJrJ"
      },
      "source": [
        "str(df)"
      ],
      "execution_count": null,
      "outputs": []
    },
    {
      "cell_type": "code",
      "metadata": {
        "id": "3tQqGhUkH63N"
      },
      "source": [
        "df"
      ],
      "execution_count": null,
      "outputs": []
    },
    {
      "cell_type": "code",
      "metadata": {
        "id": "lIcbEsCRJm4l"
      },
      "source": [
        "d_new = stringsimmatrix(paste0(df$FirstName,df$LastName,df$AddressLine1,\n",
        "df$AddressPostcode,df$AddressSuburb,df$Phone),method = \"cosine\")\n",
        "d_new"
      ],
      "execution_count": null,
      "outputs": []
    },
    {
      "cell_type": "code",
      "metadata": {
        "id": "rzVhICs4LSd5"
      },
      "source": [
        "#similarity = 1 - distance\n",
        "similarity <- round(d_new,2)\n",
        "sim_matrix <- as.matrix(similarity)\n",
        "sim_matrix"
      ],
      "execution_count": null,
      "outputs": []
    },
    {
      "cell_type": "code",
      "metadata": {
        "id": "NJJsIS9KLsp1"
      },
      "source": [
        "#convert to upper triangular to prevent double counting\n",
        "sim_matrix[lower.tri(sim_matrix)] <- 0\n",
        "#set diagonals to zero to avoid comparing row to itself\n",
        "diag(sim_matrix) <- 0\n",
        "sim_matrix"
      ],
      "execution_count": null,
      "outputs": []
    },
    {
      "cell_type": "code",
      "metadata": {
        "id": "FpqXMy_tM9DL"
      },
      "source": [
        "res = order(sim_matrix,decreasing = T)\n",
        "hasil = arrayInd(res,dim(sim_matrix),useNames = TRUE)\n",
        "hasil = data.frame(hasil)\n",
        "hasil$score = sim_matrix[res]\n",
        "final = \n",
        "  hasil %>% \n",
        "  filter(score >= .95) %>% \n",
        "  rename(entry_1 = row,\n",
        "         entry_2 = col)"
      ],
      "execution_count": null,
      "outputs": []
    },
    {
      "cell_type": "code",
      "metadata": {
        "id": "UcrSTl6HNBjH"
      },
      "source": [
        "n = length(final$entry_1)\n",
        "\n",
        "for(i in 1:n){\n",
        "  kata_1 = paste(df[final$entry_1[i],],collapse = \" \")\n",
        "  kata_2 = paste(df[final$entry_2[i],],collapse = \" \")\n",
        "  cat(\"Rekomendasi \",i,\" dengan score: \",final$score[i],\"\\n\")\n",
        "  cat(\"Entry ke: \",final$entry_1[i],\" ~ \",kata_1,\"\\n\")\n",
        "  cat(\"Entry ke: \",final$entry_2[i],\" ~ \",kata_2,\"\\n\\n\")\n",
        "}"
      ],
      "execution_count": null,
      "outputs": []
    }
  ]
}