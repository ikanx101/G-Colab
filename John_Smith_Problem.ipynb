{
  "nbformat": 4,
  "nbformat_minor": 0,
  "metadata": {
    "colab": {
      "name": "John Smith Problem",
      "provenance": [],
      "authorship_tag": "ABX9TyMEmb7H9jmA16oUii9xjslG",
      "include_colab_link": true
    },
    "kernelspec": {
      "name": "ir",
      "display_name": "R"
    }
  },
  "cells": [
    {
      "cell_type": "markdown",
      "metadata": {
        "id": "view-in-github",
        "colab_type": "text"
      },
      "source": [
        "<a href=\"https://colab.research.google.com/github/ikanx101/G-Colab/blob/main/John_Smith_Problem.ipynb\" target=\"_parent\"><img src=\"https://colab.research.google.com/assets/colab-badge.svg\" alt=\"Open In Colab\"/></a>"
      ]
    },
    {
      "cell_type": "code",
      "metadata": {
        "id": "cgSSah4-EjAy"
      },
      "source": [
        "rm(list=ls())"
      ],
      "execution_count": 37,
      "outputs": []
    },
    {
      "cell_type": "code",
      "metadata": {
        "id": "Zs3ec0emFaO1"
      },
      "source": [
        "library(stringdist)\n",
        "library(stringr)\n",
        "library(readxl)\n",
        "df = read_excel(\"many_john_smiths.xlsx\")"
      ],
      "execution_count": 38,
      "outputs": []
    },
    {
      "cell_type": "code",
      "metadata": {
        "colab": {
          "base_uri": "https://localhost:8080/"
        },
        "id": "f7tmRFaJGJrJ",
        "outputId": "bffd8234-5db0-4d6f-a6fc-be4f1cf95729"
      },
      "source": [
        "str(df)"
      ],
      "execution_count": 39,
      "outputs": [
        {
          "output_type": "stream",
          "text": [
            "tibble [10 × 8] (S3: tbl_df/tbl/data.frame)\n",
            " $ CustomerID     : num [1:10] 1 2 3 4 5 6 7 8 9 10\n",
            " $ FirstName      : chr [1:10] \"John\" \"Jhon\" \"J\" \"John\" ...\n",
            " $ LastName       : chr [1:10] \"Smith\" \"Smith\" \"Smith\" \"Smith\" ...\n",
            " $ Title          : chr [1:10] \"Mr\" \"Mr\" \"Mr.\" \"Mr\" ...\n",
            " $ AddressLine1   : chr [1:10] \"12 Acadia Rd\" \"12 Arcadia Road\" \"12 Acadia Ave\" \"13 Kynaston Rd\" ...\n",
            " $ AddressSuburb  : chr [1:10] \"Burnton\" \"Bernton\" \"Burnton\" \"Burnton\" ...\n",
            " $ AddressPostcode: chr [1:10] \"9671\" \"967\" \"867`1\" \"9671\" ...\n",
            " $ Phone          : chr [1:10] \"1234 5678\" \"1233 5678\" \"1233 567\" \"34561234\" ...\n"
          ],
          "name": "stdout"
        }
      ]
    },
    {
      "cell_type": "code",
      "metadata": {
        "colab": {
          "base_uri": "https://localhost:8080/",
          "height": 285
        },
        "id": "3tQqGhUkH63N",
        "outputId": "138a83f0-6b22-4ce8-cd6f-b138a2552c99"
      },
      "source": [
        "df"
      ],
      "execution_count": 40,
      "outputs": [
        {
          "output_type": "display_data",
          "data": {
            "text/plain": [
              "   CustomerID FirstName LastName Title AddressLine1     AddressSuburb\n",
              "1   1         John      Smith    Mr    12 Acadia Rd     Burnton      \n",
              "2   2         Jhon      Smith    Mr    12 Arcadia Road  Bernton      \n",
              "3   3         J         Smith    Mr.   12 Acadia Ave    Burnton      \n",
              "4   4         John      Smith    Mr    13 Kynaston Rd   Burnton      \n",
              "5   5         John      Smith    Dr    NA               Burnton      \n",
              "6   6         John      S        Dr.   12 Kinaston Road Bernton      \n",
              "7   7         Jon       Smith    Mr.   13 Kinaston Rd   Barnston     \n",
              "8   8         John      Smith    Dr    12 Aracadia St   Brenton      \n",
              "9   9         John      Smith    Mr    13 Acacia Ave    Burnside     \n",
              "10 10         John      Smith    Dr    12 Kingsford Rd  Burnton      \n",
              "   AddressPostcode Phone    \n",
              "1  9671            1234 5678\n",
              "2  967             1233 5678\n",
              "3  867`1           1233 567 \n",
              "4  9671            34561234 \n",
              "5  9671            34561233 \n",
              "6  9677            34561223 \n",
              "7  9761            36451223 \n",
              "8  9761            12345666 \n",
              "9  8961            67231231 \n",
              "10 9671            89624328 "
            ],
            "text/latex": "A tibble: 10 × 8\n\\begin{tabular}{llllllll}\n CustomerID & FirstName & LastName & Title & AddressLine1 & AddressSuburb & AddressPostcode & Phone\\\\\n <dbl> & <chr> & <chr> & <chr> & <chr> & <chr> & <chr> & <chr>\\\\\n\\hline\n\t  1 & John & Smith & Mr  & 12 Acadia Rd     & Burnton  & 9671  & 1234 5678\\\\\n\t  2 & Jhon & Smith & Mr  & 12 Arcadia Road  & Bernton  & 967   & 1233 5678\\\\\n\t  3 & J    & Smith & Mr. & 12 Acadia Ave    & Burnton  & 867`1 & 1233 567 \\\\\n\t  4 & John & Smith & Mr  & 13 Kynaston Rd   & Burnton  & 9671  & 34561234 \\\\\n\t  5 & John & Smith & Dr  & NA               & Burnton  & 9671  & 34561233 \\\\\n\t  6 & John & S     & Dr. & 12 Kinaston Road & Bernton  & 9677  & 34561223 \\\\\n\t  7 & Jon  & Smith & Mr. & 13 Kinaston Rd   & Barnston & 9761  & 36451223 \\\\\n\t  8 & John & Smith & Dr  & 12 Aracadia St   & Brenton  & 9761  & 12345666 \\\\\n\t  9 & John & Smith & Mr  & 13 Acacia Ave    & Burnside & 8961  & 67231231 \\\\\n\t 10 & John & Smith & Dr  & 12 Kingsford Rd  & Burnton  & 9671  & 89624328 \\\\\n\\end{tabular}\n",
            "text/markdown": "\nA tibble: 10 × 8\n\n| CustomerID &lt;dbl&gt; | FirstName &lt;chr&gt; | LastName &lt;chr&gt; | Title &lt;chr&gt; | AddressLine1 &lt;chr&gt; | AddressSuburb &lt;chr&gt; | AddressPostcode &lt;chr&gt; | Phone &lt;chr&gt; |\n|---|---|---|---|---|---|---|---|\n|  1 | John | Smith | Mr  | 12 Acadia Rd     | Burnton  | 9671  | 1234 5678 |\n|  2 | Jhon | Smith | Mr  | 12 Arcadia Road  | Bernton  | 967   | 1233 5678 |\n|  3 | J    | Smith | Mr. | 12 Acadia Ave    | Burnton  | 867`1 | 1233 567  |\n|  4 | John | Smith | Mr  | 13 Kynaston Rd   | Burnton  | 9671  | 34561234  |\n|  5 | John | Smith | Dr  | NA               | Burnton  | 9671  | 34561233  |\n|  6 | John | S     | Dr. | 12 Kinaston Road | Bernton  | 9677  | 34561223  |\n|  7 | Jon  | Smith | Mr. | 13 Kinaston Rd   | Barnston | 9761  | 36451223  |\n|  8 | John | Smith | Dr  | 12 Aracadia St   | Brenton  | 9761  | 12345666  |\n|  9 | John | Smith | Mr  | 13 Acacia Ave    | Burnside | 8961  | 67231231  |\n| 10 | John | Smith | Dr  | 12 Kingsford Rd  | Burnton  | 9671  | 89624328  |\n\n",
            "text/html": [
              "<table>\n",
              "<caption>A tibble: 10 × 8</caption>\n",
              "<thead>\n",
              "\t<tr><th scope=col>CustomerID</th><th scope=col>FirstName</th><th scope=col>LastName</th><th scope=col>Title</th><th scope=col>AddressLine1</th><th scope=col>AddressSuburb</th><th scope=col>AddressPostcode</th><th scope=col>Phone</th></tr>\n",
              "\t<tr><th scope=col>&lt;dbl&gt;</th><th scope=col>&lt;chr&gt;</th><th scope=col>&lt;chr&gt;</th><th scope=col>&lt;chr&gt;</th><th scope=col>&lt;chr&gt;</th><th scope=col>&lt;chr&gt;</th><th scope=col>&lt;chr&gt;</th><th scope=col>&lt;chr&gt;</th></tr>\n",
              "</thead>\n",
              "<tbody>\n",
              "\t<tr><td> 1</td><td>John</td><td>Smith</td><td>Mr </td><td>12 Acadia Rd    </td><td>Burnton </td><td>9671 </td><td>1234 5678</td></tr>\n",
              "\t<tr><td> 2</td><td>Jhon</td><td>Smith</td><td>Mr </td><td>12 Arcadia Road </td><td>Bernton </td><td>967  </td><td>1233 5678</td></tr>\n",
              "\t<tr><td> 3</td><td>J   </td><td>Smith</td><td>Mr.</td><td>12 Acadia Ave   </td><td>Burnton </td><td>867`1</td><td>1233 567 </td></tr>\n",
              "\t<tr><td> 4</td><td>John</td><td>Smith</td><td>Mr </td><td>13 Kynaston Rd  </td><td>Burnton </td><td>9671 </td><td>34561234 </td></tr>\n",
              "\t<tr><td> 5</td><td>John</td><td>Smith</td><td>Dr </td><td>NA              </td><td>Burnton </td><td>9671 </td><td>34561233 </td></tr>\n",
              "\t<tr><td> 6</td><td>John</td><td>S    </td><td>Dr.</td><td>12 Kinaston Road</td><td>Bernton </td><td>9677 </td><td>34561223 </td></tr>\n",
              "\t<tr><td> 7</td><td>Jon </td><td>Smith</td><td>Mr.</td><td>13 Kinaston Rd  </td><td>Barnston</td><td>9761 </td><td>36451223 </td></tr>\n",
              "\t<tr><td> 8</td><td>John</td><td>Smith</td><td>Dr </td><td>12 Aracadia St  </td><td>Brenton </td><td>9761 </td><td>12345666 </td></tr>\n",
              "\t<tr><td> 9</td><td>John</td><td>Smith</td><td>Mr </td><td>13 Acacia Ave   </td><td>Burnside</td><td>8961 </td><td>67231231 </td></tr>\n",
              "\t<tr><td>10</td><td>John</td><td>Smith</td><td>Dr </td><td>12 Kingsford Rd </td><td>Burnton </td><td>9671 </td><td>89624328 </td></tr>\n",
              "</tbody>\n",
              "</table>\n"
            ]
          },
          "metadata": {
            "tags": []
          }
        }
      ]
    },
    {
      "cell_type": "code",
      "metadata": {
        "id": "ED6IyC7JH_El"
      },
      "source": [
        ""
      ],
      "execution_count": 41,
      "outputs": []
    },
    {
      "cell_type": "code",
      "metadata": {
        "id": "7ZSS8jULJIRZ"
      },
      "source": [
        ""
      ],
      "execution_count": 42,
      "outputs": []
    },
    {
      "cell_type": "code",
      "metadata": {
        "id": "aU0GoZ51JRco"
      },
      "source": [
        ""
      ],
      "execution_count": 43,
      "outputs": []
    },
    {
      "cell_type": "code",
      "metadata": {
        "colab": {
          "base_uri": "https://localhost:8080/",
          "height": 264
        },
        "id": "lIcbEsCRJm4l",
        "outputId": "d578010e-bc47-4ed8-802c-e78d7e9b7fd1"
      },
      "source": [
        "d_new = stringsimmatrix(paste0(df$FirstName,df$LastName,df$AddressLine1,\n",
        "df$AddressPostcode,df$AddressSuburb,df$Phone),method = \"cosine\")\n",
        "d_new"
      ],
      "execution_count": 44,
      "outputs": [
        {
          "output_type": "display_data",
          "data": {
            "text/plain": [
              "   1         2         3         4         5         6         7        \n",
              "1  1.0000000 0.9529928 0.9191892 0.8698061 0.7901744 0.8673284 0.8748935\n",
              "2  0.9529928 1.0000000 0.9034703 0.8404077 0.7731113 0.8942037 0.8772277\n",
              "3  0.9191892 0.9034703 1.0000000 0.7698449 0.7512531 0.7781678 0.8026133\n",
              "4  0.8698061 0.8404077 0.7698449 1.0000000 0.9011041 0.9140313 0.9585414\n",
              "5  0.7901744 0.7731113 0.7512531 0.9011041 1.0000000 0.8096409 0.8545060\n",
              "6  0.8673284 0.8942037 0.7781678 0.9140313 0.8096409 1.0000000 0.9478411\n",
              "7  0.8748935 0.8772277 0.8026133 0.9585414 0.8545060 0.9478411 1.0000000\n",
              "8  0.9148533 0.9165588 0.8785765 0.8387582 0.8096409 0.8478261 0.8635886\n",
              "9  0.8579542 0.8539326 0.9194621 0.7427461 0.7565344 0.7280252 0.7825384\n",
              "10 0.8796856 0.8505747 0.7485897 0.8625237 0.7879789 0.8718486 0.8663978\n",
              "   8         9         10       \n",
              "1  0.9148533 0.8579542 0.8796856\n",
              "2  0.9165588 0.8539326 0.8505747\n",
              "3  0.8785765 0.9194621 0.7485897\n",
              "4  0.8387582 0.7427461 0.8625237\n",
              "5  0.8096409 0.7565344 0.7879789\n",
              "6  0.8478261 0.7280252 0.8718486\n",
              "7  0.8635886 0.7825384 0.8663978\n",
              "8  1.0000000 0.8417791 0.8047833\n",
              "9  0.8417791 1.0000000 0.7369555\n",
              "10 0.8047833 0.7369555 1.0000000"
            ],
            "text/latex": "A matrix: 10 × 10 of type dbl\n\\begin{tabular}{r|llllllllll}\n  & 1 & 2 & 3 & 4 & 5 & 6 & 7 & 8 & 9 & 10\\\\\n\\hline\n\t1 & 1.0000000 & 0.9529928 & 0.9191892 & 0.8698061 & 0.7901744 & 0.8673284 & 0.8748935 & 0.9148533 & 0.8579542 & 0.8796856\\\\\n\t2 & 0.9529928 & 1.0000000 & 0.9034703 & 0.8404077 & 0.7731113 & 0.8942037 & 0.8772277 & 0.9165588 & 0.8539326 & 0.8505747\\\\\n\t3 & 0.9191892 & 0.9034703 & 1.0000000 & 0.7698449 & 0.7512531 & 0.7781678 & 0.8026133 & 0.8785765 & 0.9194621 & 0.7485897\\\\\n\t4 & 0.8698061 & 0.8404077 & 0.7698449 & 1.0000000 & 0.9011041 & 0.9140313 & 0.9585414 & 0.8387582 & 0.7427461 & 0.8625237\\\\\n\t5 & 0.7901744 & 0.7731113 & 0.7512531 & 0.9011041 & 1.0000000 & 0.8096409 & 0.8545060 & 0.8096409 & 0.7565344 & 0.7879789\\\\\n\t6 & 0.8673284 & 0.8942037 & 0.7781678 & 0.9140313 & 0.8096409 & 1.0000000 & 0.9478411 & 0.8478261 & 0.7280252 & 0.8718486\\\\\n\t7 & 0.8748935 & 0.8772277 & 0.8026133 & 0.9585414 & 0.8545060 & 0.9478411 & 1.0000000 & 0.8635886 & 0.7825384 & 0.8663978\\\\\n\t8 & 0.9148533 & 0.9165588 & 0.8785765 & 0.8387582 & 0.8096409 & 0.8478261 & 0.8635886 & 1.0000000 & 0.8417791 & 0.8047833\\\\\n\t9 & 0.8579542 & 0.8539326 & 0.9194621 & 0.7427461 & 0.7565344 & 0.7280252 & 0.7825384 & 0.8417791 & 1.0000000 & 0.7369555\\\\\n\t10 & 0.8796856 & 0.8505747 & 0.7485897 & 0.8625237 & 0.7879789 & 0.8718486 & 0.8663978 & 0.8047833 & 0.7369555 & 1.0000000\\\\\n\\end{tabular}\n",
            "text/markdown": "\nA matrix: 10 × 10 of type dbl\n\n| <!--/--> | 1 | 2 | 3 | 4 | 5 | 6 | 7 | 8 | 9 | 10 |\n|---|---|---|---|---|---|---|---|---|---|---|\n| 1 | 1.0000000 | 0.9529928 | 0.9191892 | 0.8698061 | 0.7901744 | 0.8673284 | 0.8748935 | 0.9148533 | 0.8579542 | 0.8796856 |\n| 2 | 0.9529928 | 1.0000000 | 0.9034703 | 0.8404077 | 0.7731113 | 0.8942037 | 0.8772277 | 0.9165588 | 0.8539326 | 0.8505747 |\n| 3 | 0.9191892 | 0.9034703 | 1.0000000 | 0.7698449 | 0.7512531 | 0.7781678 | 0.8026133 | 0.8785765 | 0.9194621 | 0.7485897 |\n| 4 | 0.8698061 | 0.8404077 | 0.7698449 | 1.0000000 | 0.9011041 | 0.9140313 | 0.9585414 | 0.8387582 | 0.7427461 | 0.8625237 |\n| 5 | 0.7901744 | 0.7731113 | 0.7512531 | 0.9011041 | 1.0000000 | 0.8096409 | 0.8545060 | 0.8096409 | 0.7565344 | 0.7879789 |\n| 6 | 0.8673284 | 0.8942037 | 0.7781678 | 0.9140313 | 0.8096409 | 1.0000000 | 0.9478411 | 0.8478261 | 0.7280252 | 0.8718486 |\n| 7 | 0.8748935 | 0.8772277 | 0.8026133 | 0.9585414 | 0.8545060 | 0.9478411 | 1.0000000 | 0.8635886 | 0.7825384 | 0.8663978 |\n| 8 | 0.9148533 | 0.9165588 | 0.8785765 | 0.8387582 | 0.8096409 | 0.8478261 | 0.8635886 | 1.0000000 | 0.8417791 | 0.8047833 |\n| 9 | 0.8579542 | 0.8539326 | 0.9194621 | 0.7427461 | 0.7565344 | 0.7280252 | 0.7825384 | 0.8417791 | 1.0000000 | 0.7369555 |\n| 10 | 0.8796856 | 0.8505747 | 0.7485897 | 0.8625237 | 0.7879789 | 0.8718486 | 0.8663978 | 0.8047833 | 0.7369555 | 1.0000000 |\n\n",
            "text/html": [
              "<table>\n",
              "<caption>A matrix: 10 × 10 of type dbl</caption>\n",
              "<thead>\n",
              "\t<tr><th></th><th scope=col>1</th><th scope=col>2</th><th scope=col>3</th><th scope=col>4</th><th scope=col>5</th><th scope=col>6</th><th scope=col>7</th><th scope=col>8</th><th scope=col>9</th><th scope=col>10</th></tr>\n",
              "</thead>\n",
              "<tbody>\n",
              "\t<tr><th scope=row>1</th><td>1.0000000</td><td>0.9529928</td><td>0.9191892</td><td>0.8698061</td><td>0.7901744</td><td>0.8673284</td><td>0.8748935</td><td>0.9148533</td><td>0.8579542</td><td>0.8796856</td></tr>\n",
              "\t<tr><th scope=row>2</th><td>0.9529928</td><td>1.0000000</td><td>0.9034703</td><td>0.8404077</td><td>0.7731113</td><td>0.8942037</td><td>0.8772277</td><td>0.9165588</td><td>0.8539326</td><td>0.8505747</td></tr>\n",
              "\t<tr><th scope=row>3</th><td>0.9191892</td><td>0.9034703</td><td>1.0000000</td><td>0.7698449</td><td>0.7512531</td><td>0.7781678</td><td>0.8026133</td><td>0.8785765</td><td>0.9194621</td><td>0.7485897</td></tr>\n",
              "\t<tr><th scope=row>4</th><td>0.8698061</td><td>0.8404077</td><td>0.7698449</td><td>1.0000000</td><td>0.9011041</td><td>0.9140313</td><td>0.9585414</td><td>0.8387582</td><td>0.7427461</td><td>0.8625237</td></tr>\n",
              "\t<tr><th scope=row>5</th><td>0.7901744</td><td>0.7731113</td><td>0.7512531</td><td>0.9011041</td><td>1.0000000</td><td>0.8096409</td><td>0.8545060</td><td>0.8096409</td><td>0.7565344</td><td>0.7879789</td></tr>\n",
              "\t<tr><th scope=row>6</th><td>0.8673284</td><td>0.8942037</td><td>0.7781678</td><td>0.9140313</td><td>0.8096409</td><td>1.0000000</td><td>0.9478411</td><td>0.8478261</td><td>0.7280252</td><td>0.8718486</td></tr>\n",
              "\t<tr><th scope=row>7</th><td>0.8748935</td><td>0.8772277</td><td>0.8026133</td><td>0.9585414</td><td>0.8545060</td><td>0.9478411</td><td>1.0000000</td><td>0.8635886</td><td>0.7825384</td><td>0.8663978</td></tr>\n",
              "\t<tr><th scope=row>8</th><td>0.9148533</td><td>0.9165588</td><td>0.8785765</td><td>0.8387582</td><td>0.8096409</td><td>0.8478261</td><td>0.8635886</td><td>1.0000000</td><td>0.8417791</td><td>0.8047833</td></tr>\n",
              "\t<tr><th scope=row>9</th><td>0.8579542</td><td>0.8539326</td><td>0.9194621</td><td>0.7427461</td><td>0.7565344</td><td>0.7280252</td><td>0.7825384</td><td>0.8417791</td><td>1.0000000</td><td>0.7369555</td></tr>\n",
              "\t<tr><th scope=row>10</th><td>0.8796856</td><td>0.8505747</td><td>0.7485897</td><td>0.8625237</td><td>0.7879789</td><td>0.8718486</td><td>0.8663978</td><td>0.8047833</td><td>0.7369555</td><td>1.0000000</td></tr>\n",
              "</tbody>\n",
              "</table>\n"
            ]
          },
          "metadata": {
            "tags": []
          }
        }
      ]
    },
    {
      "cell_type": "code",
      "metadata": {
        "colab": {
          "base_uri": "https://localhost:8080/",
          "height": 264
        },
        "id": "rzVhICs4LSd5",
        "outputId": "e1c24aa7-093a-4137-95dc-e63c8aafc623"
      },
      "source": [
        "#similarity = 1 - distance\n",
        "similarity <- round(d_new,2)\n",
        "sim_matrix <- as.matrix(similarity)\n",
        "sim_matrix"
      ],
      "execution_count": 45,
      "outputs": [
        {
          "output_type": "display_data",
          "data": {
            "text/plain": [
              "   1    2    3    4    5    6    7    8    9    10  \n",
              "1  1.00 0.95 0.92 0.87 0.79 0.87 0.87 0.91 0.86 0.88\n",
              "2  0.95 1.00 0.90 0.84 0.77 0.89 0.88 0.92 0.85 0.85\n",
              "3  0.92 0.90 1.00 0.77 0.75 0.78 0.80 0.88 0.92 0.75\n",
              "4  0.87 0.84 0.77 1.00 0.90 0.91 0.96 0.84 0.74 0.86\n",
              "5  0.79 0.77 0.75 0.90 1.00 0.81 0.85 0.81 0.76 0.79\n",
              "6  0.87 0.89 0.78 0.91 0.81 1.00 0.95 0.85 0.73 0.87\n",
              "7  0.87 0.88 0.80 0.96 0.85 0.95 1.00 0.86 0.78 0.87\n",
              "8  0.91 0.92 0.88 0.84 0.81 0.85 0.86 1.00 0.84 0.80\n",
              "9  0.86 0.85 0.92 0.74 0.76 0.73 0.78 0.84 1.00 0.74\n",
              "10 0.88 0.85 0.75 0.86 0.79 0.87 0.87 0.80 0.74 1.00"
            ],
            "text/latex": "A matrix: 10 × 10 of type dbl\n\\begin{tabular}{r|llllllllll}\n  & 1 & 2 & 3 & 4 & 5 & 6 & 7 & 8 & 9 & 10\\\\\n\\hline\n\t1 & 1.00 & 0.95 & 0.92 & 0.87 & 0.79 & 0.87 & 0.87 & 0.91 & 0.86 & 0.88\\\\\n\t2 & 0.95 & 1.00 & 0.90 & 0.84 & 0.77 & 0.89 & 0.88 & 0.92 & 0.85 & 0.85\\\\\n\t3 & 0.92 & 0.90 & 1.00 & 0.77 & 0.75 & 0.78 & 0.80 & 0.88 & 0.92 & 0.75\\\\\n\t4 & 0.87 & 0.84 & 0.77 & 1.00 & 0.90 & 0.91 & 0.96 & 0.84 & 0.74 & 0.86\\\\\n\t5 & 0.79 & 0.77 & 0.75 & 0.90 & 1.00 & 0.81 & 0.85 & 0.81 & 0.76 & 0.79\\\\\n\t6 & 0.87 & 0.89 & 0.78 & 0.91 & 0.81 & 1.00 & 0.95 & 0.85 & 0.73 & 0.87\\\\\n\t7 & 0.87 & 0.88 & 0.80 & 0.96 & 0.85 & 0.95 & 1.00 & 0.86 & 0.78 & 0.87\\\\\n\t8 & 0.91 & 0.92 & 0.88 & 0.84 & 0.81 & 0.85 & 0.86 & 1.00 & 0.84 & 0.80\\\\\n\t9 & 0.86 & 0.85 & 0.92 & 0.74 & 0.76 & 0.73 & 0.78 & 0.84 & 1.00 & 0.74\\\\\n\t10 & 0.88 & 0.85 & 0.75 & 0.86 & 0.79 & 0.87 & 0.87 & 0.80 & 0.74 & 1.00\\\\\n\\end{tabular}\n",
            "text/markdown": "\nA matrix: 10 × 10 of type dbl\n\n| <!--/--> | 1 | 2 | 3 | 4 | 5 | 6 | 7 | 8 | 9 | 10 |\n|---|---|---|---|---|---|---|---|---|---|---|\n| 1 | 1.00 | 0.95 | 0.92 | 0.87 | 0.79 | 0.87 | 0.87 | 0.91 | 0.86 | 0.88 |\n| 2 | 0.95 | 1.00 | 0.90 | 0.84 | 0.77 | 0.89 | 0.88 | 0.92 | 0.85 | 0.85 |\n| 3 | 0.92 | 0.90 | 1.00 | 0.77 | 0.75 | 0.78 | 0.80 | 0.88 | 0.92 | 0.75 |\n| 4 | 0.87 | 0.84 | 0.77 | 1.00 | 0.90 | 0.91 | 0.96 | 0.84 | 0.74 | 0.86 |\n| 5 | 0.79 | 0.77 | 0.75 | 0.90 | 1.00 | 0.81 | 0.85 | 0.81 | 0.76 | 0.79 |\n| 6 | 0.87 | 0.89 | 0.78 | 0.91 | 0.81 | 1.00 | 0.95 | 0.85 | 0.73 | 0.87 |\n| 7 | 0.87 | 0.88 | 0.80 | 0.96 | 0.85 | 0.95 | 1.00 | 0.86 | 0.78 | 0.87 |\n| 8 | 0.91 | 0.92 | 0.88 | 0.84 | 0.81 | 0.85 | 0.86 | 1.00 | 0.84 | 0.80 |\n| 9 | 0.86 | 0.85 | 0.92 | 0.74 | 0.76 | 0.73 | 0.78 | 0.84 | 1.00 | 0.74 |\n| 10 | 0.88 | 0.85 | 0.75 | 0.86 | 0.79 | 0.87 | 0.87 | 0.80 | 0.74 | 1.00 |\n\n",
            "text/html": [
              "<table>\n",
              "<caption>A matrix: 10 × 10 of type dbl</caption>\n",
              "<thead>\n",
              "\t<tr><th></th><th scope=col>1</th><th scope=col>2</th><th scope=col>3</th><th scope=col>4</th><th scope=col>5</th><th scope=col>6</th><th scope=col>7</th><th scope=col>8</th><th scope=col>9</th><th scope=col>10</th></tr>\n",
              "</thead>\n",
              "<tbody>\n",
              "\t<tr><th scope=row>1</th><td>1.00</td><td>0.95</td><td>0.92</td><td>0.87</td><td>0.79</td><td>0.87</td><td>0.87</td><td>0.91</td><td>0.86</td><td>0.88</td></tr>\n",
              "\t<tr><th scope=row>2</th><td>0.95</td><td>1.00</td><td>0.90</td><td>0.84</td><td>0.77</td><td>0.89</td><td>0.88</td><td>0.92</td><td>0.85</td><td>0.85</td></tr>\n",
              "\t<tr><th scope=row>3</th><td>0.92</td><td>0.90</td><td>1.00</td><td>0.77</td><td>0.75</td><td>0.78</td><td>0.80</td><td>0.88</td><td>0.92</td><td>0.75</td></tr>\n",
              "\t<tr><th scope=row>4</th><td>0.87</td><td>0.84</td><td>0.77</td><td>1.00</td><td>0.90</td><td>0.91</td><td>0.96</td><td>0.84</td><td>0.74</td><td>0.86</td></tr>\n",
              "\t<tr><th scope=row>5</th><td>0.79</td><td>0.77</td><td>0.75</td><td>0.90</td><td>1.00</td><td>0.81</td><td>0.85</td><td>0.81</td><td>0.76</td><td>0.79</td></tr>\n",
              "\t<tr><th scope=row>6</th><td>0.87</td><td>0.89</td><td>0.78</td><td>0.91</td><td>0.81</td><td>1.00</td><td>0.95</td><td>0.85</td><td>0.73</td><td>0.87</td></tr>\n",
              "\t<tr><th scope=row>7</th><td>0.87</td><td>0.88</td><td>0.80</td><td>0.96</td><td>0.85</td><td>0.95</td><td>1.00</td><td>0.86</td><td>0.78</td><td>0.87</td></tr>\n",
              "\t<tr><th scope=row>8</th><td>0.91</td><td>0.92</td><td>0.88</td><td>0.84</td><td>0.81</td><td>0.85</td><td>0.86</td><td>1.00</td><td>0.84</td><td>0.80</td></tr>\n",
              "\t<tr><th scope=row>9</th><td>0.86</td><td>0.85</td><td>0.92</td><td>0.74</td><td>0.76</td><td>0.73</td><td>0.78</td><td>0.84</td><td>1.00</td><td>0.74</td></tr>\n",
              "\t<tr><th scope=row>10</th><td>0.88</td><td>0.85</td><td>0.75</td><td>0.86</td><td>0.79</td><td>0.87</td><td>0.87</td><td>0.80</td><td>0.74</td><td>1.00</td></tr>\n",
              "</tbody>\n",
              "</table>\n"
            ]
          },
          "metadata": {
            "tags": []
          }
        }
      ]
    },
    {
      "cell_type": "code",
      "metadata": {
        "colab": {
          "base_uri": "https://localhost:8080/",
          "height": 264
        },
        "id": "NJJsIS9KLsp1",
        "outputId": "e765f688-ba73-4df2-b605-1fdb6591d973"
      },
      "source": [
        "#convert to upper triangular to prevent double counting\n",
        "sim_matrix[lower.tri(sim_matrix)] <- 0\n",
        "#set diagonals to zero to avoid comparing row to itself\n",
        "diag(sim_matrix) <- 0\n",
        "sim_matrix"
      ],
      "execution_count": 46,
      "outputs": [
        {
          "output_type": "display_data",
          "data": {
            "text/plain": [
              "   1 2    3    4    5    6    7    8    9    10  \n",
              "1  0 0.95 0.92 0.87 0.79 0.87 0.87 0.91 0.86 0.88\n",
              "2  0 0.00 0.90 0.84 0.77 0.89 0.88 0.92 0.85 0.85\n",
              "3  0 0.00 0.00 0.77 0.75 0.78 0.80 0.88 0.92 0.75\n",
              "4  0 0.00 0.00 0.00 0.90 0.91 0.96 0.84 0.74 0.86\n",
              "5  0 0.00 0.00 0.00 0.00 0.81 0.85 0.81 0.76 0.79\n",
              "6  0 0.00 0.00 0.00 0.00 0.00 0.95 0.85 0.73 0.87\n",
              "7  0 0.00 0.00 0.00 0.00 0.00 0.00 0.86 0.78 0.87\n",
              "8  0 0.00 0.00 0.00 0.00 0.00 0.00 0.00 0.84 0.80\n",
              "9  0 0.00 0.00 0.00 0.00 0.00 0.00 0.00 0.00 0.74\n",
              "10 0 0.00 0.00 0.00 0.00 0.00 0.00 0.00 0.00 0.00"
            ],
            "text/latex": "A matrix: 10 × 10 of type dbl\n\\begin{tabular}{r|llllllllll}\n  & 1 & 2 & 3 & 4 & 5 & 6 & 7 & 8 & 9 & 10\\\\\n\\hline\n\t1 & 0 & 0.95 & 0.92 & 0.87 & 0.79 & 0.87 & 0.87 & 0.91 & 0.86 & 0.88\\\\\n\t2 & 0 & 0.00 & 0.90 & 0.84 & 0.77 & 0.89 & 0.88 & 0.92 & 0.85 & 0.85\\\\\n\t3 & 0 & 0.00 & 0.00 & 0.77 & 0.75 & 0.78 & 0.80 & 0.88 & 0.92 & 0.75\\\\\n\t4 & 0 & 0.00 & 0.00 & 0.00 & 0.90 & 0.91 & 0.96 & 0.84 & 0.74 & 0.86\\\\\n\t5 & 0 & 0.00 & 0.00 & 0.00 & 0.00 & 0.81 & 0.85 & 0.81 & 0.76 & 0.79\\\\\n\t6 & 0 & 0.00 & 0.00 & 0.00 & 0.00 & 0.00 & 0.95 & 0.85 & 0.73 & 0.87\\\\\n\t7 & 0 & 0.00 & 0.00 & 0.00 & 0.00 & 0.00 & 0.00 & 0.86 & 0.78 & 0.87\\\\\n\t8 & 0 & 0.00 & 0.00 & 0.00 & 0.00 & 0.00 & 0.00 & 0.00 & 0.84 & 0.80\\\\\n\t9 & 0 & 0.00 & 0.00 & 0.00 & 0.00 & 0.00 & 0.00 & 0.00 & 0.00 & 0.74\\\\\n\t10 & 0 & 0.00 & 0.00 & 0.00 & 0.00 & 0.00 & 0.00 & 0.00 & 0.00 & 0.00\\\\\n\\end{tabular}\n",
            "text/markdown": "\nA matrix: 10 × 10 of type dbl\n\n| <!--/--> | 1 | 2 | 3 | 4 | 5 | 6 | 7 | 8 | 9 | 10 |\n|---|---|---|---|---|---|---|---|---|---|---|\n| 1 | 0 | 0.95 | 0.92 | 0.87 | 0.79 | 0.87 | 0.87 | 0.91 | 0.86 | 0.88 |\n| 2 | 0 | 0.00 | 0.90 | 0.84 | 0.77 | 0.89 | 0.88 | 0.92 | 0.85 | 0.85 |\n| 3 | 0 | 0.00 | 0.00 | 0.77 | 0.75 | 0.78 | 0.80 | 0.88 | 0.92 | 0.75 |\n| 4 | 0 | 0.00 | 0.00 | 0.00 | 0.90 | 0.91 | 0.96 | 0.84 | 0.74 | 0.86 |\n| 5 | 0 | 0.00 | 0.00 | 0.00 | 0.00 | 0.81 | 0.85 | 0.81 | 0.76 | 0.79 |\n| 6 | 0 | 0.00 | 0.00 | 0.00 | 0.00 | 0.00 | 0.95 | 0.85 | 0.73 | 0.87 |\n| 7 | 0 | 0.00 | 0.00 | 0.00 | 0.00 | 0.00 | 0.00 | 0.86 | 0.78 | 0.87 |\n| 8 | 0 | 0.00 | 0.00 | 0.00 | 0.00 | 0.00 | 0.00 | 0.00 | 0.84 | 0.80 |\n| 9 | 0 | 0.00 | 0.00 | 0.00 | 0.00 | 0.00 | 0.00 | 0.00 | 0.00 | 0.74 |\n| 10 | 0 | 0.00 | 0.00 | 0.00 | 0.00 | 0.00 | 0.00 | 0.00 | 0.00 | 0.00 |\n\n",
            "text/html": [
              "<table>\n",
              "<caption>A matrix: 10 × 10 of type dbl</caption>\n",
              "<thead>\n",
              "\t<tr><th></th><th scope=col>1</th><th scope=col>2</th><th scope=col>3</th><th scope=col>4</th><th scope=col>5</th><th scope=col>6</th><th scope=col>7</th><th scope=col>8</th><th scope=col>9</th><th scope=col>10</th></tr>\n",
              "</thead>\n",
              "<tbody>\n",
              "\t<tr><th scope=row>1</th><td>0</td><td>0.95</td><td>0.92</td><td>0.87</td><td>0.79</td><td>0.87</td><td>0.87</td><td>0.91</td><td>0.86</td><td>0.88</td></tr>\n",
              "\t<tr><th scope=row>2</th><td>0</td><td>0.00</td><td>0.90</td><td>0.84</td><td>0.77</td><td>0.89</td><td>0.88</td><td>0.92</td><td>0.85</td><td>0.85</td></tr>\n",
              "\t<tr><th scope=row>3</th><td>0</td><td>0.00</td><td>0.00</td><td>0.77</td><td>0.75</td><td>0.78</td><td>0.80</td><td>0.88</td><td>0.92</td><td>0.75</td></tr>\n",
              "\t<tr><th scope=row>4</th><td>0</td><td>0.00</td><td>0.00</td><td>0.00</td><td>0.90</td><td>0.91</td><td>0.96</td><td>0.84</td><td>0.74</td><td>0.86</td></tr>\n",
              "\t<tr><th scope=row>5</th><td>0</td><td>0.00</td><td>0.00</td><td>0.00</td><td>0.00</td><td>0.81</td><td>0.85</td><td>0.81</td><td>0.76</td><td>0.79</td></tr>\n",
              "\t<tr><th scope=row>6</th><td>0</td><td>0.00</td><td>0.00</td><td>0.00</td><td>0.00</td><td>0.00</td><td>0.95</td><td>0.85</td><td>0.73</td><td>0.87</td></tr>\n",
              "\t<tr><th scope=row>7</th><td>0</td><td>0.00</td><td>0.00</td><td>0.00</td><td>0.00</td><td>0.00</td><td>0.00</td><td>0.86</td><td>0.78</td><td>0.87</td></tr>\n",
              "\t<tr><th scope=row>8</th><td>0</td><td>0.00</td><td>0.00</td><td>0.00</td><td>0.00</td><td>0.00</td><td>0.00</td><td>0.00</td><td>0.84</td><td>0.80</td></tr>\n",
              "\t<tr><th scope=row>9</th><td>0</td><td>0.00</td><td>0.00</td><td>0.00</td><td>0.00</td><td>0.00</td><td>0.00</td><td>0.00</td><td>0.00</td><td>0.74</td></tr>\n",
              "\t<tr><th scope=row>10</th><td>0</td><td>0.00</td><td>0.00</td><td>0.00</td><td>0.00</td><td>0.00</td><td>0.00</td><td>0.00</td><td>0.00</td><td>0.00</td></tr>\n",
              "</tbody>\n",
              "</table>\n"
            ]
          },
          "metadata": {
            "tags": []
          }
        }
      ]
    },
    {
      "cell_type": "code",
      "metadata": {
        "id": "FpqXMy_tM9DL"
      },
      "source": [
        "nlargest <- function(m, n) {\n",
        "res <- order(m, decreasing = T)[seq_len(n)];\n",
        "pos <- arrayInd(res, dim(m), useNames = TRUE);\n",
        "list(values = m[res],\n",
        "position = pos)\n",
        "}"
      ],
      "execution_count": 49,
      "outputs": []
    },
    {
      "cell_type": "code",
      "metadata": {
        "colab": {
          "base_uri": "https://localhost:8080/",
          "height": 293
        },
        "id": "UcrSTl6HNBjH",
        "outputId": "55766566-3a2b-447d-d209-783c0d2f3018"
      },
      "source": [
        "top_n <- 5\n",
        "sim_list <- nlargest(sim_matrix,top_n)\n",
        "sim_list"
      ],
      "execution_count": 48,
      "outputs": [
        {
          "output_type": "display_data",
          "data": {
            "text/plain": [
              "$values\n",
              "[1] 0.96 0.95 0.95 0.92 0.92\n",
              "\n",
              "$position\n",
              "     row col\n",
              "[1,]   4   7\n",
              "[2,]   1   2\n",
              "[3,]   6   7\n",
              "[4,]   1   3\n",
              "[5,]   2   8\n"
            ],
            "text/latex": "\\begin{description}\n\\item[\\$values] \\begin{enumerate*}\n\\item 0.96\n\\item 0.95\n\\item 0.95\n\\item 0.92\n\\item 0.92\n\\end{enumerate*}\n\n\\item[\\$position] A matrix: 5 × 2 of type int\n\\begin{tabular}{ll}\n row & col\\\\\n\\hline\n\t 4 & 7\\\\\n\t 1 & 2\\\\\n\t 6 & 7\\\\\n\t 1 & 3\\\\\n\t 2 & 8\\\\\n\\end{tabular}\n\n\\end{description}\n",
            "text/markdown": "$values\n:   1. 0.96\n2. 0.95\n3. 0.95\n4. 0.92\n5. 0.92\n\n\n\n$position\n:   \nA matrix: 5 × 2 of type int\n\n| row | col |\n|---|---|\n| 4 | 7 |\n| 1 | 2 |\n| 6 | 7 |\n| 1 | 3 |\n| 2 | 8 |\n\n\n\n\n",
            "text/html": [
              "<dl>\n",
              "\t<dt>$values</dt>\n",
              "\t\t<dd><style>\n",
              ".list-inline {list-style: none; margin:0; padding: 0}\n",
              ".list-inline>li {display: inline-block}\n",
              ".list-inline>li:not(:last-child)::after {content: \"\\00b7\"; padding: 0 .5ex}\n",
              "</style>\n",
              "<ol class=list-inline><li>0.96</li><li>0.95</li><li>0.95</li><li>0.92</li><li>0.92</li></ol>\n",
              "</dd>\n",
              "\t<dt>$position</dt>\n",
              "\t\t<dd><table>\n",
              "<caption>A matrix: 5 × 2 of type int</caption>\n",
              "<thead>\n",
              "\t<tr><th scope=col>row</th><th scope=col>col</th></tr>\n",
              "</thead>\n",
              "<tbody>\n",
              "\t<tr><td>4</td><td>7</td></tr>\n",
              "\t<tr><td>1</td><td>2</td></tr>\n",
              "\t<tr><td>6</td><td>7</td></tr>\n",
              "\t<tr><td>1</td><td>3</td></tr>\n",
              "\t<tr><td>2</td><td>8</td></tr>\n",
              "</tbody>\n",
              "</table>\n",
              "</dd>\n",
              "</dl>\n"
            ]
          },
          "metadata": {
            "tags": []
          }
        }
      ]
    },
    {
      "cell_type": "code",
      "metadata": {
        "colab": {
          "base_uri": "https://localhost:8080/"
        },
        "id": "vdW3YYVsOrOO",
        "outputId": "23f6a513-410a-418e-ae95-49f6f1df9d5e"
      },
      "source": [
        "for (i in 1:top_n){\n",
        "rec <- as.character(df[sim_list$position[i],])\n",
        "sim_rec <- as.character(df[sim_list$position[i+top_n],])\n",
        "cat(\"score: \",sim_list$values[i],\"\\n\")\n",
        "cat(\"record 1: \",rec,\"\\n\")\n",
        "cat (\"record 2: \",sim_rec,\"\\n\\n\")\n",
        "}"
      ],
      "execution_count": 50,
      "outputs": [
        {
          "output_type": "stream",
          "text": [
            "score:  0.96 \n",
            "record 1:  4 John Smith Mr 13 Kynaston Rd Burnton 9671 34561234 \n",
            "record 2:  7 Jon Smith Mr. 13 Kinaston Rd Barnston 9761 36451223 \n",
            "\n",
            "score:  0.95 \n",
            "record 1:  1 John Smith Mr 12 Acadia Rd Burnton 9671 1234 5678 \n",
            "record 2:  2 Jhon Smith Mr 12 Arcadia Road Bernton 967 1233 5678 \n",
            "\n",
            "score:  0.95 \n",
            "record 1:  6 John S Dr. 12 Kinaston Road Bernton 9677 34561223 \n",
            "record 2:  7 Jon Smith Mr. 13 Kinaston Rd Barnston 9761 36451223 \n",
            "\n",
            "score:  0.92 \n",
            "record 1:  1 John Smith Mr 12 Acadia Rd Burnton 9671 1234 5678 \n",
            "record 2:  3 J Smith Mr. 12 Acadia Ave Burnton 867`1 1233 567 \n",
            "\n",
            "score:  0.92 \n",
            "record 1:  2 Jhon Smith Mr 12 Arcadia Road Bernton 967 1233 5678 \n",
            "record 2:  8 John Smith Dr 12 Aracadia St Brenton 9761 12345666 \n",
            "\n"
          ],
          "name": "stdout"
        }
      ]
    }
  ]
}