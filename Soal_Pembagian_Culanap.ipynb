{
  "nbformat": 4,
  "nbformat_minor": 0,
  "metadata": {
    "colab": {
      "name": "Soal Pembagian Culanap",
      "provenance": [],
      "authorship_tag": "ABX9TyNwFFzSyUF1H7haX/mkfREO",
      "include_colab_link": true
    },
    "kernelspec": {
      "name": "ir",
      "display_name": "R"
    }
  },
  "cells": [
    {
      "cell_type": "markdown",
      "metadata": {
        "id": "view-in-github",
        "colab_type": "text"
      },
      "source": [
        "<a href=\"https://colab.research.google.com/github/ikanx101/G-Colab/blob/main/Soal_Pembagian_Culanap.ipynb\" target=\"_parent\"><img src=\"https://colab.research.google.com/assets/colab-badge.svg\" alt=\"Open In Colab\"/></a>"
      ]
    },
    {
      "cell_type": "code",
      "metadata": {
        "id": "73k3wJKYwseM"
      },
      "source": [
        "soal = function(x,y){\n",
        "real = x/y\n",
        "bulat = floor(real)\n",
        "r = round((real-bulat)*y)\n",
        "Jawab = paste0(bulat,\" R \",r)\n",
        "return(Jawab)\n",
        "}"
      ],
      "execution_count": 33,
      "outputs": []
    },
    {
      "cell_type": "code",
      "metadata": {
        "id": "exkrxlmDyuZi"
      },
      "source": [
        "x1 = sample(100:200,5)\n",
        "y1 = sample(9,5)"
      ],
      "execution_count": 34,
      "outputs": []
    },
    {
      "cell_type": "code",
      "metadata": {
        "colab": {
          "base_uri": "https://localhost:8080/",
          "height": 254
        },
        "id": "IaVMF5OTz0d4",
        "outputId": "cde07cbe-8895-4a13-dc80-baaf027ded09"
      },
      "source": [
        "data.frame(x1,y1,jawab=soal(x1,y1))"
      ],
      "execution_count": 35,
      "outputs": [
        {
          "output_type": "display_data",
          "data": {
            "text/plain": [
              "  x1  y1 jawab  \n",
              "1 191 2  95 R 1 \n",
              "2 181 6  30 R 1 \n",
              "3 124 1  124 R 0\n",
              "4 178 4  44 R 2 \n",
              "5 174 5  34 R 4 "
            ],
            "text/latex": "A data.frame: 5 × 3\n\\begin{tabular}{lll}\n x1 & y1 & jawab\\\\\n <int> & <int> & <chr>\\\\\n\\hline\n\t 191 & 2 & 95 R 1 \\\\\n\t 181 & 6 & 30 R 1 \\\\\n\t 124 & 1 & 124 R 0\\\\\n\t 178 & 4 & 44 R 2 \\\\\n\t 174 & 5 & 34 R 4 \\\\\n\\end{tabular}\n",
            "text/markdown": "\nA data.frame: 5 × 3\n\n| x1 &lt;int&gt; | y1 &lt;int&gt; | jawab &lt;chr&gt; |\n|---|---|---|\n| 191 | 2 | 95 R 1  |\n| 181 | 6 | 30 R 1  |\n| 124 | 1 | 124 R 0 |\n| 178 | 4 | 44 R 2  |\n| 174 | 5 | 34 R 4  |\n\n",
            "text/html": [
              "<table class=\"dataframe\">\n",
              "<caption>A data.frame: 5 × 3</caption>\n",
              "<thead>\n",
              "\t<tr><th scope=col>x1</th><th scope=col>y1</th><th scope=col>jawab</th></tr>\n",
              "\t<tr><th scope=col>&lt;int&gt;</th><th scope=col>&lt;int&gt;</th><th scope=col>&lt;chr&gt;</th></tr>\n",
              "</thead>\n",
              "<tbody>\n",
              "\t<tr><td>191</td><td>2</td><td>95 R 1 </td></tr>\n",
              "\t<tr><td>181</td><td>6</td><td>30 R 1 </td></tr>\n",
              "\t<tr><td>124</td><td>1</td><td>124 R 0</td></tr>\n",
              "\t<tr><td>178</td><td>4</td><td>44 R 2 </td></tr>\n",
              "\t<tr><td>174</td><td>5</td><td>34 R 4 </td></tr>\n",
              "</tbody>\n",
              "</table>\n"
            ]
          },
          "metadata": {
            "tags": []
          }
        }
      ]
    }
  ]
}