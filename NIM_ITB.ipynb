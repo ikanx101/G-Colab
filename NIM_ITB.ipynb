{
  "nbformat": 4,
  "nbformat_minor": 0,
  "metadata": {
    "colab": {
      "name": "NIM ITB",
      "provenance": [],
      "collapsed_sections": [],
      "authorship_tag": "ABX9TyOKzrRz269wWU/s4T2iWEwV",
      "include_colab_link": true
    },
    "kernelspec": {
      "name": "ir",
      "display_name": "R"
    }
  },
  "cells": [
    {
      "cell_type": "markdown",
      "metadata": {
        "id": "view-in-github",
        "colab_type": "text"
      },
      "source": [
        "<a href=\"https://colab.research.google.com/github/ikanx101/G-Colab/blob/main/NIM_ITB.ipynb\" target=\"_parent\"><img src=\"https://colab.research.google.com/assets/colab-badge.svg\" alt=\"Open In Colab\"/></a>"
      ]
    },
    {
      "cell_type": "markdown",
      "metadata": {
        "id": "27OGY5j5NU-a"
      },
      "source": [
        "# Algoritma _Scrape Data_ NIM dan Mahasiswa\n",
        "# Institut Teknologi Bandung\n",
        "\n",
        "Cara kerja:\n",
        "Membaca `.json` yang berasal dari situs `nimfinder.tools`."
      ]
    },
    {
      "cell_type": "code",
      "metadata": {
        "id": "i3zj5WA-m5V6",
        "colab": {
          "base_uri": "https://localhost:8080/",
          "height": 503
        },
        "cellView": "form",
        "outputId": "01df5496-a94f-4537-e8ff-49fdd3a37a64"
      },
      "source": [
        "#@title Proses _scraping_ dan _cleaning_.\n",
        "# algoritma scrape data NIM dan nama mahasiswa ITB\n",
        "rm(list=ls())\n",
        "library(dplyr)\n",
        "library(jsonlite)\n",
        "data = read_json(\"https://nim-finder-81831.firebaseio.com/-MHB-WfrZXdjUDVZBG-T/.json\")\n",
        "n = length(data)\n",
        "fin_data = data.frame(\n",
        "  jurusan = c(),\n",
        "  nama = c(),\n",
        "  tpb = c()\n",
        ")\n",
        "for(i in 1:n){\n",
        "  if(length(data[[i]]) == 3){\n",
        "    dummy = data.frame(\n",
        "      nama = data[[i]]$name,\n",
        "      jurusan = data[[i]]$jurusan,\n",
        "      tpb = data[[i]]$tpb\n",
        "    )\n",
        "  }else{\n",
        "    dummy = data.frame(\n",
        "      nama = data[[i]]$name,\n",
        "      jurusan = NA,\n",
        "      tpb = data[[i]]$tpb\n",
        "    )\n",
        "  }\n",
        "  fin_data = rbind(fin_data,dummy)\n",
        "}\n",
        "str(fin_data)\n",
        "head(fin_data,10)"
      ],
      "execution_count": 1,
      "outputs": [
        {
          "output_type": "stream",
          "text": [
            "\n",
            "Attaching package: ‘dplyr’\n",
            "\n",
            "\n",
            "The following objects are masked from ‘package:stats’:\n",
            "\n",
            "    filter, lag\n",
            "\n",
            "\n",
            "The following objects are masked from ‘package:base’:\n",
            "\n",
            "    intersect, setdiff, setequal, union\n",
            "\n",
            "\n",
            "Warning message in open.connection(con, \"rb\"):\n",
            "“cannot open URL 'https://nim-finder-81831.firebaseio.com/-MHB-WfrZXdjUDVZBG-T/.json': HTTP status was '402 Payment Required'”\n"
          ],
          "name": "stderr"
        },
        {
          "output_type": "error",
          "ename": "ERROR",
          "evalue": "ignored",
          "traceback": [
            "Error in open.connection(con, \"rb\"): cannot open the connection to 'https://nim-finder-81831.firebaseio.com/-MHB-WfrZXdjUDVZBG-T/.json'\nTraceback:\n",
            "1. read_json(\"https://nim-finder-81831.firebaseio.com/-MHB-WfrZXdjUDVZBG-T/.json\")",
            "2. parse_json(file(path), simplifyVector = simplifyVector, ...)",
            "3. parse_and_simplify(json, simplifyVector = simplifyVector, ...)",
            "4. parseJSON(txt, bigint_as_char)",
            "5. parse_con(txt, bigint_as_char)",
            "6. open(con, \"rb\")",
            "7. open.connection(con, \"rb\")"
          ]
        }
      ]
    },
    {
      "cell_type": "code",
      "metadata": {
        "id": "JN68V_bMnITq",
        "cellView": "form"
      },
      "source": [
        "#@title Data final ada di sini:\n",
        "write.csv(fin_data,\"data nim itb.csv\")\n",
        "print(\"-DONE-\")\n",
        "print(\"File tersedia di tab files\")"
      ],
      "execution_count": null,
      "outputs": []
    }
  ]
}