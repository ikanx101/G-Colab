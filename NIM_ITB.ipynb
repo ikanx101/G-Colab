{
  "nbformat": 4,
  "nbformat_minor": 0,
  "metadata": {
    "colab": {
      "name": "NIM ITB",
      "provenance": [],
      "collapsed_sections": [],
      "authorship_tag": "ABX9TyPXwYQoSQa38AZnamV0uLRv",
      "include_colab_link": true
    },
    "kernelspec": {
      "name": "ir",
      "display_name": "R"
    }
  },
  "cells": [
    {
      "cell_type": "markdown",
      "metadata": {
        "id": "view-in-github",
        "colab_type": "text"
      },
      "source": [
        "<a href=\"https://colab.research.google.com/github/ikanx101/G-Colab/blob/main/NIM_ITB.ipynb\" target=\"_parent\"><img src=\"https://colab.research.google.com/assets/colab-badge.svg\" alt=\"Open In Colab\"/></a>"
      ]
    },
    {
      "cell_type": "code",
      "metadata": {
        "id": "i3zj5WA-m5V6",
        "colab": {
          "base_uri": "https://localhost:8080/"
        },
        "outputId": "c0a057bc-f6be-4a9d-addb-8d8a56a5a448"
      },
      "source": [
        "# algoritma scrape data NIM dan nama mahasiswa ITB\n",
        "rm(list=ls())\n",
        "library(dplyr)\n",
        "library(jsonlite)"
      ],
      "execution_count": null,
      "outputs": [
        {
          "output_type": "stream",
          "text": [
            "\n",
            "Attaching package: ‘dplyr’\n",
            "\n",
            "\n",
            "The following objects are masked from ‘package:stats’:\n",
            "\n",
            "    filter, lag\n",
            "\n",
            "\n",
            "The following objects are masked from ‘package:base’:\n",
            "\n",
            "    intersect, setdiff, setequal, union\n",
            "\n",
            "\n"
          ],
          "name": "stderr"
        }
      ]
    },
    {
      "cell_type": "code",
      "metadata": {
        "id": "CPC_gBcqnDTW"
      },
      "source": [
        "# ambil data\n",
        "# dapat dari mana json nya?\n",
        "# cek XHR di network nimfinder.tools\n",
        "data = read_json(\"https://nim-finder-81831.firebaseio.com/-MHB-WfrZXdjUDVZBG-T/.json\")"
      ],
      "execution_count": null,
      "outputs": []
    },
    {
      "cell_type": "code",
      "metadata": {
        "colab": {
          "base_uri": "https://localhost:8080/",
          "height": 35
        },
        "id": "9141ZdEa-NAD",
        "outputId": "c9e8f8ea-994b-41ac-8ee1-82e028cd9840"
      },
      "source": [
        "n = length(data)\n",
        "fin_data = data.frame(\n",
        "  jurusan = c(),\n",
        "  nama = c(),\n",
        "  tpb = c()\n",
        ")"
      ],
      "execution_count": null,
      "outputs": [
        {
          "output_type": "display_data",
          "data": {
            "text/plain": [
              "[1] 3"
            ],
            "text/latex": "3",
            "text/markdown": "3",
            "text/html": [
              "3"
            ]
          },
          "metadata": {
            "tags": []
          }
        }
      ]
    },
    {
      "cell_type": "code",
      "metadata": {
        "id": "cywxj4IO-sVl"
      },
      "source": [
        "for(i in 1:n){\n",
        "  if(length(data[[i]]) == 3){\n",
        "    dummy = data.frame(\n",
        "      nama = data[[i]]$name,\n",
        "      jurusan = data[[i]]$jurusan,\n",
        "      tpb = data[[i]]$tpb\n",
        "    )\n",
        "  }else{\n",
        "    dummy = data.frame(\n",
        "      nama = data[[i]]$name,\n",
        "      jurusan = NA,\n",
        "      tpb = data[[i]]$tpb\n",
        "    )\n",
        "  }\n",
        "  fin_data = rbind(fin_data,dummy)\n",
        "}"
      ],
      "execution_count": null,
      "outputs": []
    },
    {
      "cell_type": "code",
      "metadata": {
        "colab": {
          "base_uri": "https://localhost:8080/"
        },
        "id": "1phjv-OPAG3T",
        "outputId": "c0338054-b099-438f-eed4-3237d9704707"
      },
      "source": [
        "str(fin_data)"
      ],
      "execution_count": null,
      "outputs": [
        {
          "output_type": "stream",
          "text": [
            "'data.frame':\t30937 obs. of  3 variables:\n",
            " $ jurusan: chr  \"10213064\" \"10213018\" \"10513066\" \"10113002\" ...\n",
            " $ nama   : chr  \"Rizky Ayu Ryani Putri\" \"Ardi Mohamad\" \"Fonna Dista Maisa Pusporini\" \"Alissa Rani Putri\" ...\n",
            " $ tpb    : chr  \"16013001\" \"16013002\" \"16013003\" \"16013004\" ...\n"
          ],
          "name": "stdout"
        }
      ]
    },
    {
      "cell_type": "code",
      "metadata": {
        "id": "JN68V_bMnITq"
      },
      "source": [
        "write.csv(fin_data,\"data nim itb.csv\")"
      ],
      "execution_count": null,
      "outputs": []
    }
  ]
}