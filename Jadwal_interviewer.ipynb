{
  "nbformat": 4,
  "nbformat_minor": 0,
  "metadata": {
    "colab": {
      "name": "Jadwal interviewer",
      "provenance": [],
      "collapsed_sections": [],
      "authorship_tag": "ABX9TyOJn0MRAPyt7Hf5GjFHR1nS",
      "include_colab_link": true
    },
    "kernelspec": {
      "display_name": "R",
      "name": "ir"
    }
  },
  "cells": [
    {
      "cell_type": "markdown",
      "metadata": {
        "id": "view-in-github",
        "colab_type": "text"
      },
      "source": [
        "<a href=\"https://colab.research.google.com/github/ikanx101/G-Colab/blob/main/Jadwal_interviewer.ipynb\" target=\"_parent\"><img src=\"https://colab.research.google.com/assets/colab-badge.svg\" alt=\"Open In Colab\"/></a>"
      ]
    },
    {
      "cell_type": "code",
      "metadata": {
        "id": "zBMEp-YXAJGg"
      },
      "source": [
        "#system(\"sudo apt-get install libglpk-dev\")\n",
        "#install.packages(\"ROI\")\n",
        "#install.packages(\"ompr\")\n",
        "#install.packages(\"ompr.roi\")\n",
        "#install.packages(\"ROI.plugin.glpk\")"
      ],
      "execution_count": 211,
      "outputs": []
    },
    {
      "cell_type": "code",
      "metadata": {
        "id": "3LxS87n8AQZs"
      },
      "source": [
        "library(dplyr)\n",
        "library(ompr)\n",
        "library(ompr.roi)\n",
        "library(ROI.plugin.glpk)\n",
        "library(ggplot2)\n",
        "\n",
        "rm(list=ls())"
      ],
      "execution_count": 212,
      "outputs": []
    },
    {
      "cell_type": "code",
      "metadata": {
        "id": "0wqhQVeSASqZ",
        "colab": {
          "base_uri": "https://localhost:8080/",
          "height": 202
        },
        "outputId": "ba1bba59-71b5-4668-9473-4be0bfb62e0b"
      },
      "source": [
        "# ada 3 tempat cenloc\n",
        "# jalan 10 hari\n",
        "# hari kerja min 3 orang, sabtu minggu jalan min 3 orang\n",
        "# interviewer hanya boleh kerja max 5 hari berturut2\n",
        "# ada 16 orang interviewer\n",
        "# 1 interviewer hanya bisa diassign ke 1 tempat cenloc di tanggal tertentu\n",
        "\n",
        "# Misal:\n",
        "# i = 1,2,...,16 banyak interviewer\n",
        "# c = 1,2,3 banyak tempat\n",
        "# h = 1,2,...,10 banyak hari\n",
        "# hk itu dari 1-5, 8-10\n",
        "# hl itu dari 6-7\n",
        "\n",
        "# x[i,c,h] = 1 artinya interviewer ke i diassign ke tempat x pada hari h\n",
        "\n",
        "problem = \n",
        "data.frame(\n",
        "  interviewer = rep(c(1:20),3),\n",
        "  tempat = c(rep(1,20),rep(2,20),rep(3,20)),\n",
        "  t1 = 0,\n",
        "  t2 = 0,\n",
        "  t3 = 0,\n",
        "  t4 = 0,\n",
        "  t5 = 0,\n",
        "  t6 = 0,\n",
        "  t7 = 0,\n",
        "  t8 = 0,\n",
        "  t9 = 0,\n",
        "  t10 = 10\n",
        ")\n",
        "\n",
        "head(problem)"
      ],
      "execution_count": 213,
      "outputs": [
        {
          "output_type": "display_data",
          "data": {
            "text/plain": [
              "  interviewer tempat t1 t2 t3 t4 t5 t6 t7 t8 t9 t10\n",
              "1 1           1      0  0  0  0  0  0  0  0  0  10 \n",
              "2 2           1      0  0  0  0  0  0  0  0  0  10 \n",
              "3 3           1      0  0  0  0  0  0  0  0  0  10 \n",
              "4 4           1      0  0  0  0  0  0  0  0  0  10 \n",
              "5 5           1      0  0  0  0  0  0  0  0  0  10 \n",
              "6 6           1      0  0  0  0  0  0  0  0  0  10 "
            ],
            "text/latex": "A data.frame: 6 × 12\n\\begin{tabular}{r|llllllllllll}\n  & interviewer & tempat & t1 & t2 & t3 & t4 & t5 & t6 & t7 & t8 & t9 & t10\\\\\n  & <int> & <dbl> & <dbl> & <dbl> & <dbl> & <dbl> & <dbl> & <dbl> & <dbl> & <dbl> & <dbl> & <dbl>\\\\\n\\hline\n\t1 & 1 & 1 & 0 & 0 & 0 & 0 & 0 & 0 & 0 & 0 & 0 & 10\\\\\n\t2 & 2 & 1 & 0 & 0 & 0 & 0 & 0 & 0 & 0 & 0 & 0 & 10\\\\\n\t3 & 3 & 1 & 0 & 0 & 0 & 0 & 0 & 0 & 0 & 0 & 0 & 10\\\\\n\t4 & 4 & 1 & 0 & 0 & 0 & 0 & 0 & 0 & 0 & 0 & 0 & 10\\\\\n\t5 & 5 & 1 & 0 & 0 & 0 & 0 & 0 & 0 & 0 & 0 & 0 & 10\\\\\n\t6 & 6 & 1 & 0 & 0 & 0 & 0 & 0 & 0 & 0 & 0 & 0 & 10\\\\\n\\end{tabular}\n",
            "text/markdown": "\nA data.frame: 6 × 12\n\n| <!--/--> | interviewer &lt;int&gt; | tempat &lt;dbl&gt; | t1 &lt;dbl&gt; | t2 &lt;dbl&gt; | t3 &lt;dbl&gt; | t4 &lt;dbl&gt; | t5 &lt;dbl&gt; | t6 &lt;dbl&gt; | t7 &lt;dbl&gt; | t8 &lt;dbl&gt; | t9 &lt;dbl&gt; | t10 &lt;dbl&gt; |\n|---|---|---|---|---|---|---|---|---|---|---|---|---|\n| 1 | 1 | 1 | 0 | 0 | 0 | 0 | 0 | 0 | 0 | 0 | 0 | 10 |\n| 2 | 2 | 1 | 0 | 0 | 0 | 0 | 0 | 0 | 0 | 0 | 0 | 10 |\n| 3 | 3 | 1 | 0 | 0 | 0 | 0 | 0 | 0 | 0 | 0 | 0 | 10 |\n| 4 | 4 | 1 | 0 | 0 | 0 | 0 | 0 | 0 | 0 | 0 | 0 | 10 |\n| 5 | 5 | 1 | 0 | 0 | 0 | 0 | 0 | 0 | 0 | 0 | 0 | 10 |\n| 6 | 6 | 1 | 0 | 0 | 0 | 0 | 0 | 0 | 0 | 0 | 0 | 10 |\n\n",
            "text/html": [
              "<table>\n",
              "<caption>A data.frame: 6 × 12</caption>\n",
              "<thead>\n",
              "\t<tr><th></th><th scope=col>interviewer</th><th scope=col>tempat</th><th scope=col>t1</th><th scope=col>t2</th><th scope=col>t3</th><th scope=col>t4</th><th scope=col>t5</th><th scope=col>t6</th><th scope=col>t7</th><th scope=col>t8</th><th scope=col>t9</th><th scope=col>t10</th></tr>\n",
              "\t<tr><th></th><th scope=col>&lt;int&gt;</th><th scope=col>&lt;dbl&gt;</th><th scope=col>&lt;dbl&gt;</th><th scope=col>&lt;dbl&gt;</th><th scope=col>&lt;dbl&gt;</th><th scope=col>&lt;dbl&gt;</th><th scope=col>&lt;dbl&gt;</th><th scope=col>&lt;dbl&gt;</th><th scope=col>&lt;dbl&gt;</th><th scope=col>&lt;dbl&gt;</th><th scope=col>&lt;dbl&gt;</th><th scope=col>&lt;dbl&gt;</th></tr>\n",
              "</thead>\n",
              "<tbody>\n",
              "\t<tr><th scope=row>1</th><td>1</td><td>1</td><td>0</td><td>0</td><td>0</td><td>0</td><td>0</td><td>0</td><td>0</td><td>0</td><td>0</td><td>10</td></tr>\n",
              "\t<tr><th scope=row>2</th><td>2</td><td>1</td><td>0</td><td>0</td><td>0</td><td>0</td><td>0</td><td>0</td><td>0</td><td>0</td><td>0</td><td>10</td></tr>\n",
              "\t<tr><th scope=row>3</th><td>3</td><td>1</td><td>0</td><td>0</td><td>0</td><td>0</td><td>0</td><td>0</td><td>0</td><td>0</td><td>0</td><td>10</td></tr>\n",
              "\t<tr><th scope=row>4</th><td>4</td><td>1</td><td>0</td><td>0</td><td>0</td><td>0</td><td>0</td><td>0</td><td>0</td><td>0</td><td>0</td><td>10</td></tr>\n",
              "\t<tr><th scope=row>5</th><td>5</td><td>1</td><td>0</td><td>0</td><td>0</td><td>0</td><td>0</td><td>0</td><td>0</td><td>0</td><td>0</td><td>10</td></tr>\n",
              "\t<tr><th scope=row>6</th><td>6</td><td>1</td><td>0</td><td>0</td><td>0</td><td>0</td><td>0</td><td>0</td><td>0</td><td>0</td><td>0</td><td>10</td></tr>\n",
              "</tbody>\n",
              "</table>\n"
            ]
          },
          "metadata": {
            "tags": []
          }
        }
      ]
    },
    {
      "cell_type": "code",
      "metadata": {
        "id": "iK74VEbhUPsq",
        "colab": {
          "base_uri": "https://localhost:8080/",
          "height": 139
        },
        "outputId": "1cf38942-11f1-4404-fb9d-4d9f887d30e1"
      },
      "source": [
        "i_max = 11\n",
        "\n",
        "model = \n",
        "  MIPModel() %>%\n",
        "\n",
        "  # decision variable\n",
        "  add_variable(x[i,c,h],\n",
        "               i = 1:i_max, # orangnya\n",
        "               c = 1:3,     # tempatnya\n",
        "               h = 1:10,    # tanggalnya\n",
        "               type = \"binary\") %>%\n",
        "  \n",
        "  # kalau hari kerja min 1 orang per tempat, per tanggal\n",
        "  add_constraint(sum_expr(x[i,c,h], i = 1:i_max) >= 1, h = c(1:5,8:10), c = 1:3) %>%\n",
        "\n",
        "  # kalau hari kerja min 1 orang per tempat, per tanggal\n",
        "  add_constraint(sum_expr(x[i,c,h], i = 1:i_max) <= 2, h = c(1:5,8:10), c = 1:3) %>%\n",
        "\n",
        "  # kalau hari libur min 3\n",
        "  add_constraint(sum_expr(x[i,c,h], i = 1:i_max) >= 3, h = c(6,7), c = 1:3) %>%\n",
        "\n",
        "  # satu interviewer di satu waktu\n",
        "  add_constraint(sum_expr(x[i,c,h], c = 1:3) <= 1, i = 1:i_max, h = 1:10) %>%\n",
        "\n",
        "  # satu orang interviewer gak boleh bekerja lebih dari 5 hari\n",
        "  add_constraint(sum_expr(x[i,c,h], c = 1:3, h = 1:10) <= 6, i = 1:i_max, c = 1:3) %>%\n",
        "\n",
        "  # set objective\n",
        "  set_objective(sum_expr(x[i,c,h],\n",
        "                  i = 1:i_max,\n",
        "                  c = 1:3,\n",
        "                  h = 1:10),\n",
        "                \"max\")\n",
        "\n",
        "model"
      ],
      "execution_count": 214,
      "outputs": [
        {
          "output_type": "display_data",
          "data": {
            "text/plain": [
              "Mixed integer linear optimization problem\n",
              "Variables:\n",
              "  Continuous: 0 \n",
              "  Integer: 0 \n",
              "  Binary: 330 \n",
              "Model sense: maximize \n",
              "Constraints: 197 "
            ]
          },
          "metadata": {
            "tags": []
          }
        }
      ]
    },
    {
      "cell_type": "code",
      "metadata": {
        "id": "gvrPOGG_WTZV",
        "colab": {
          "base_uri": "https://localhost:8080/"
        },
        "outputId": "27d363dc-3473-462c-c25f-1eb412e3c540"
      },
      "source": [
        "result <- solve_model(model, with_ROI(solver = \"glpk\", verbose = TRUE))"
      ],
      "execution_count": 215,
      "outputs": [
        {
          "output_type": "stream",
          "text": [
            "<SOLVER MSG>  ----\n",
            "GLPK Simplex Optimizer, v4.65\n",
            "197 rows, 330 columns, 1914 non-zeros\n",
            "      0: obj =  -0.000000000e+00 inf =   4.200e+01 (30)\n",
            "     87: obj =   4.200000000e+01 inf =   0.000e+00 (0)\n",
            "*   174: obj =   6.600000000e+01 inf =   0.000e+00 (0)\n",
            "OPTIMAL LP SOLUTION FOUND\n",
            "GLPK Integer Optimizer, v4.65\n",
            "197 rows, 330 columns, 1914 non-zeros\n",
            "330 integer variables, all of which are binary\n",
            "Integer optimization begins...\n",
            "Long-step dual simplex will be used\n",
            "+   174: mip =     not found yet <=              +inf        (1; 0)\n",
            "+   174: >>>>>   6.600000000e+01 <=   6.600000000e+01   0.0% (1; 0)\n",
            "+   174: mip =   6.600000000e+01 <=     tree is empty   0.0% (0; 1)\n",
            "INTEGER OPTIMAL SOLUTION FOUND\n",
            "<!SOLVER MSG> ----\n"
          ],
          "name": "stdout"
        }
      ]
    },
    {
      "cell_type": "code",
      "metadata": {
        "id": "yR_hIvlLczux",
        "colab": {
          "base_uri": "https://localhost:8080/",
          "height": 35
        },
        "outputId": "cb8f1e43-b6a8-4de6-ae48-e370a1ff1774"
      },
      "source": [
        "result$objective_value"
      ],
      "execution_count": 216,
      "outputs": [
        {
          "output_type": "display_data",
          "data": {
            "text/plain": [
              "[1] 66"
            ],
            "text/latex": "66",
            "text/markdown": "66",
            "text/html": [
              "66"
            ]
          },
          "metadata": {
            "tags": []
          }
        }
      ]
    },
    {
      "cell_type": "code",
      "metadata": {
        "id": "6ftf8taV-Stt"
      },
      "source": [
        "data = \n",
        "  result %>%\n",
        "  get_solution(x[i,c,h])"
      ],
      "execution_count": 217,
      "outputs": []
    },
    {
      "cell_type": "code",
      "metadata": {
        "colab": {
          "base_uri": "https://localhost:8080/",
          "height": 202
        },
        "id": "uqN-ITn4HNuA",
        "outputId": "6b809252-9b13-4e94-9071-95d4455d2492"
      },
      "source": [
        "library(reshape2)\n",
        "head(data)"
      ],
      "execution_count": 218,
      "outputs": [
        {
          "output_type": "display_data",
          "data": {
            "text/plain": [
              "  variable i c h value\n",
              "1 x        1 1 1 0    \n",
              "2 x        2 1 1 0    \n",
              "3 x        3 1 1 0    \n",
              "4 x        4 1 1 1    \n",
              "5 x        5 1 1 0    \n",
              "6 x        6 1 1 0    "
            ],
            "text/latex": "A data.frame: 6 × 5\n\\begin{tabular}{r|lllll}\n  & variable & i & c & h & value\\\\\n  & <chr> & <int> & <int> & <int> & <dbl>\\\\\n\\hline\n\t1 & x & 1 & 1 & 1 & 0\\\\\n\t2 & x & 2 & 1 & 1 & 0\\\\\n\t3 & x & 3 & 1 & 1 & 0\\\\\n\t4 & x & 4 & 1 & 1 & 1\\\\\n\t5 & x & 5 & 1 & 1 & 0\\\\\n\t6 & x & 6 & 1 & 1 & 0\\\\\n\\end{tabular}\n",
            "text/markdown": "\nA data.frame: 6 × 5\n\n| <!--/--> | variable &lt;chr&gt; | i &lt;int&gt; | c &lt;int&gt; | h &lt;int&gt; | value &lt;dbl&gt; |\n|---|---|---|---|---|---|\n| 1 | x | 1 | 1 | 1 | 0 |\n| 2 | x | 2 | 1 | 1 | 0 |\n| 3 | x | 3 | 1 | 1 | 0 |\n| 4 | x | 4 | 1 | 1 | 1 |\n| 5 | x | 5 | 1 | 1 | 0 |\n| 6 | x | 6 | 1 | 1 | 0 |\n\n",
            "text/html": [
              "<table>\n",
              "<caption>A data.frame: 6 × 5</caption>\n",
              "<thead>\n",
              "\t<tr><th></th><th scope=col>variable</th><th scope=col>i</th><th scope=col>c</th><th scope=col>h</th><th scope=col>value</th></tr>\n",
              "\t<tr><th></th><th scope=col>&lt;chr&gt;</th><th scope=col>&lt;int&gt;</th><th scope=col>&lt;int&gt;</th><th scope=col>&lt;int&gt;</th><th scope=col>&lt;dbl&gt;</th></tr>\n",
              "</thead>\n",
              "<tbody>\n",
              "\t<tr><th scope=row>1</th><td>x</td><td>1</td><td>1</td><td>1</td><td>0</td></tr>\n",
              "\t<tr><th scope=row>2</th><td>x</td><td>2</td><td>1</td><td>1</td><td>0</td></tr>\n",
              "\t<tr><th scope=row>3</th><td>x</td><td>3</td><td>1</td><td>1</td><td>0</td></tr>\n",
              "\t<tr><th scope=row>4</th><td>x</td><td>4</td><td>1</td><td>1</td><td>1</td></tr>\n",
              "\t<tr><th scope=row>5</th><td>x</td><td>5</td><td>1</td><td>1</td><td>0</td></tr>\n",
              "\t<tr><th scope=row>6</th><td>x</td><td>6</td><td>1</td><td>1</td><td>0</td></tr>\n",
              "</tbody>\n",
              "</table>\n"
            ]
          },
          "metadata": {
            "tags": []
          }
        }
      ]
    },
    {
      "cell_type": "code",
      "metadata": {
        "colab": {
          "base_uri": "https://localhost:8080/",
          "height": 175
        },
        "id": "km1zVsYUIEyL",
        "outputId": "e96e8b00-adb8-45b8-9094-e9b82ee3b563"
      },
      "source": [
        "data %>%\n",
        "  mutate(value = ifelse(value == 1, paste0(\"tempat-\",c),NA)) %>%\n",
        "  filter(!is.na(value)) %>%\n",
        "  group_by(c,h) %>%\n",
        "  summarise(interviewer = paste(i,collapse = \",\")) %>%\n",
        "  ungroup() %>%\n",
        "  rename(tempat = c,\n",
        "         tanggal = h) %>%\n",
        "  dcast(tempat~tanggal,value.var = \"interviewer\")"
      ],
      "execution_count": 219,
      "outputs": [
        {
          "output_type": "stream",
          "text": [
            "`summarise()` regrouping output by 'c' (override with `.groups` argument)\n",
            "\n"
          ],
          "name": "stderr"
        },
        {
          "output_type": "display_data",
          "data": {
            "text/plain": [
              "  tempat 1   2    3    4    5    6           7       8   9    10  \n",
              "1 1      4,8 1,10 1,10 1,11 1,11 1,2,3       4,5,6   4,7 4,8  4,8 \n",
              "2 2      2,9 2,11 2,11 2    2    4,5,6       7,8,9   5,8 5,9  5,9 \n",
              "3 3      3,5 3,6  3,7  3,7  3,7  7,8,9,10,11 1,10,11 6,9 6,10 6,10"
            ],
            "text/latex": "A data.frame: 3 × 11\n\\begin{tabular}{lllllllllll}\n tempat & 1 & 2 & 3 & 4 & 5 & 6 & 7 & 8 & 9 & 10\\\\\n <int> & <chr> & <chr> & <chr> & <chr> & <chr> & <chr> & <chr> & <chr> & <chr> & <chr>\\\\\n\\hline\n\t 1 & 4,8 & 1,10 & 1,10 & 1,11 & 1,11 & 1,2,3       & 4,5,6   & 4,7 & 4,8  & 4,8 \\\\\n\t 2 & 2,9 & 2,11 & 2,11 & 2    & 2    & 4,5,6       & 7,8,9   & 5,8 & 5,9  & 5,9 \\\\\n\t 3 & 3,5 & 3,6  & 3,7  & 3,7  & 3,7  & 7,8,9,10,11 & 1,10,11 & 6,9 & 6,10 & 6,10\\\\\n\\end{tabular}\n",
            "text/markdown": "\nA data.frame: 3 × 11\n\n| tempat &lt;int&gt; | 1 &lt;chr&gt; | 2 &lt;chr&gt; | 3 &lt;chr&gt; | 4 &lt;chr&gt; | 5 &lt;chr&gt; | 6 &lt;chr&gt; | 7 &lt;chr&gt; | 8 &lt;chr&gt; | 9 &lt;chr&gt; | 10 &lt;chr&gt; |\n|---|---|---|---|---|---|---|---|---|---|---|\n| 1 | 4,8 | 1,10 | 1,10 | 1,11 | 1,11 | 1,2,3       | 4,5,6   | 4,7 | 4,8  | 4,8  |\n| 2 | 2,9 | 2,11 | 2,11 | 2    | 2    | 4,5,6       | 7,8,9   | 5,8 | 5,9  | 5,9  |\n| 3 | 3,5 | 3,6  | 3,7  | 3,7  | 3,7  | 7,8,9,10,11 | 1,10,11 | 6,9 | 6,10 | 6,10 |\n\n",
            "text/html": [
              "<table>\n",
              "<caption>A data.frame: 3 × 11</caption>\n",
              "<thead>\n",
              "\t<tr><th scope=col>tempat</th><th scope=col>1</th><th scope=col>2</th><th scope=col>3</th><th scope=col>4</th><th scope=col>5</th><th scope=col>6</th><th scope=col>7</th><th scope=col>8</th><th scope=col>9</th><th scope=col>10</th></tr>\n",
              "\t<tr><th scope=col>&lt;int&gt;</th><th scope=col>&lt;chr&gt;</th><th scope=col>&lt;chr&gt;</th><th scope=col>&lt;chr&gt;</th><th scope=col>&lt;chr&gt;</th><th scope=col>&lt;chr&gt;</th><th scope=col>&lt;chr&gt;</th><th scope=col>&lt;chr&gt;</th><th scope=col>&lt;chr&gt;</th><th scope=col>&lt;chr&gt;</th><th scope=col>&lt;chr&gt;</th></tr>\n",
              "</thead>\n",
              "<tbody>\n",
              "\t<tr><td>1</td><td>4,8</td><td>1,10</td><td>1,10</td><td>1,11</td><td>1,11</td><td>1,2,3      </td><td>4,5,6  </td><td>4,7</td><td>4,8 </td><td>4,8 </td></tr>\n",
              "\t<tr><td>2</td><td>2,9</td><td>2,11</td><td>2,11</td><td>2   </td><td>2   </td><td>4,5,6      </td><td>7,8,9  </td><td>5,8</td><td>5,9 </td><td>5,9 </td></tr>\n",
              "\t<tr><td>3</td><td>3,5</td><td>3,6 </td><td>3,7 </td><td>3,7 </td><td>3,7 </td><td>7,8,9,10,11</td><td>1,10,11</td><td>6,9</td><td>6,10</td><td>6,10</td></tr>\n",
              "</tbody>\n",
              "</table>\n"
            ]
          },
          "metadata": {
            "tags": []
          }
        }
      ]
    },
    {
      "cell_type": "code",
      "metadata": {
        "colab": {
          "base_uri": "https://localhost:8080/",
          "height": 340
        },
        "id": "0YiCX9DJxYEh",
        "outputId": "9d6a15d7-bb15-4ab1-9e2d-f4694715d174"
      },
      "source": [
        "data %>%\n",
        "  filter(value == 1) %>%\n",
        "  group_by(i) %>%\n",
        "  summarise(bertugas = sum(value)) %>%\n",
        "  ungroup() %>%\n",
        "  rename(interviewer = i)"
      ],
      "execution_count": 220,
      "outputs": [
        {
          "output_type": "stream",
          "text": [
            "`summarise()` ungrouping output (override with `.groups` argument)\n",
            "\n"
          ],
          "name": "stderr"
        },
        {
          "output_type": "display_data",
          "data": {
            "text/plain": [
              "   interviewer bertugas\n",
              "1   1          6       \n",
              "2   2          6       \n",
              "3   3          6       \n",
              "4   4          6       \n",
              "5   5          6       \n",
              "6   6          6       \n",
              "7   7          6       \n",
              "8   8          6       \n",
              "9   9          6       \n",
              "10 10          6       \n",
              "11 11          6       "
            ],
            "text/latex": "A tibble: 11 × 2\n\\begin{tabular}{ll}\n interviewer & bertugas\\\\\n <int> & <dbl>\\\\\n\\hline\n\t  1 & 6\\\\\n\t  2 & 6\\\\\n\t  3 & 6\\\\\n\t  4 & 6\\\\\n\t  5 & 6\\\\\n\t  6 & 6\\\\\n\t  7 & 6\\\\\n\t  8 & 6\\\\\n\t  9 & 6\\\\\n\t 10 & 6\\\\\n\t 11 & 6\\\\\n\\end{tabular}\n",
            "text/markdown": "\nA tibble: 11 × 2\n\n| interviewer &lt;int&gt; | bertugas &lt;dbl&gt; |\n|---|---|\n|  1 | 6 |\n|  2 | 6 |\n|  3 | 6 |\n|  4 | 6 |\n|  5 | 6 |\n|  6 | 6 |\n|  7 | 6 |\n|  8 | 6 |\n|  9 | 6 |\n| 10 | 6 |\n| 11 | 6 |\n\n",
            "text/html": [
              "<table>\n",
              "<caption>A tibble: 11 × 2</caption>\n",
              "<thead>\n",
              "\t<tr><th scope=col>interviewer</th><th scope=col>bertugas</th></tr>\n",
              "\t<tr><th scope=col>&lt;int&gt;</th><th scope=col>&lt;dbl&gt;</th></tr>\n",
              "</thead>\n",
              "<tbody>\n",
              "\t<tr><td> 1</td><td>6</td></tr>\n",
              "\t<tr><td> 2</td><td>6</td></tr>\n",
              "\t<tr><td> 3</td><td>6</td></tr>\n",
              "\t<tr><td> 4</td><td>6</td></tr>\n",
              "\t<tr><td> 5</td><td>6</td></tr>\n",
              "\t<tr><td> 6</td><td>6</td></tr>\n",
              "\t<tr><td> 7</td><td>6</td></tr>\n",
              "\t<tr><td> 8</td><td>6</td></tr>\n",
              "\t<tr><td> 9</td><td>6</td></tr>\n",
              "\t<tr><td>10</td><td>6</td></tr>\n",
              "\t<tr><td>11</td><td>6</td></tr>\n",
              "</tbody>\n",
              "</table>\n"
            ]
          },
          "metadata": {
            "tags": []
          }
        }
      ]
    }
  ]
}