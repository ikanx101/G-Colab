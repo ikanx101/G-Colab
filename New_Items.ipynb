{
  "nbformat": 4,
  "nbformat_minor": 0,
  "metadata": {
    "colab": {
      "name": "New Items",
      "provenance": [],
      "collapsed_sections": [],
      "authorship_tag": "ABX9TyNFsXdFT8WhJdNJobRoXsGn",
      "include_colab_link": true
    },
    "kernelspec": {
      "display_name": "R",
      "name": "ir"
    }
  },
  "cells": [
    {
      "cell_type": "markdown",
      "metadata": {
        "id": "view-in-github",
        "colab_type": "text"
      },
      "source": [
        "<a href=\"https://colab.research.google.com/github/ikanx101/G-Colab/blob/main/New_Items.ipynb\" target=\"_parent\"><img src=\"https://colab.research.google.com/assets/colab-badge.svg\" alt=\"Open In Colab\"/></a>"
      ]
    },
    {
      "cell_type": "code",
      "metadata": {
        "id": "zBMEp-YXAJGg"
      },
      "source": [
        "#system(\"sudo apt-get install libglpk-dev\")\n",
        "#install.packages(\"ROI\")\n",
        "#install.packages(\"ompr\")\n",
        "#install.packages(\"ompr.roi\")\n",
        "#install.packages(\"ROI.plugin.glpk\")"
      ],
      "execution_count": 76,
      "outputs": []
    },
    {
      "cell_type": "code",
      "metadata": {
        "id": "3LxS87n8AQZs"
      },
      "source": [
        "library(dplyr)\n",
        "library(ompr)\n",
        "library(ompr.roi)\n",
        "library(ROI.plugin.glpk)\n",
        "library(ggplot2)\n",
        "\n",
        "rm(list=ls())"
      ],
      "execution_count": 77,
      "outputs": []
    },
    {
      "cell_type": "code",
      "metadata": {
        "colab": {
          "base_uri": "https://localhost:8080/",
          "height": 161
        },
        "id": "0wqhQVeSASqZ",
        "outputId": "efac5803-9830-48d9-9d47-ce6593d08e79"
      },
      "source": [
        "problem = \n",
        "data.frame(\n",
        "  keterangan = c(\"Plant 1, jam\",\"Plant 2, jam\",\"Profit\",\"Sales Potential\"),\n",
        "  item_1 = c(3,4,5,7),\n",
        "  item_2 = c(4,6,7,5),\n",
        "  item_3 = c(2,2,3,9),\n",
        "  production_time_per_plant = c(30,40,NA,NA)\n",
        ")\n",
        "\n",
        "problem"
      ],
      "execution_count": 78,
      "outputs": [
        {
          "output_type": "display_data",
          "data": {
            "text/plain": [
              "  keterangan      item_1 item_2 item_3 production_time_per_plant\n",
              "1 Plant 1, jam    3      4      2      30                       \n",
              "2 Plant 2, jam    4      6      2      40                       \n",
              "3 Profit          5      7      3      NA                       \n",
              "4 Sales Potential 7      5      9      NA                       "
            ],
            "text/latex": "A data.frame: 4 × 5\n\\begin{tabular}{lllll}\n keterangan & item\\_1 & item\\_2 & item\\_3 & production\\_time\\_per\\_plant\\\\\n <chr> & <dbl> & <dbl> & <dbl> & <dbl>\\\\\n\\hline\n\t Plant 1, jam    & 3 & 4 & 2 & 30\\\\\n\t Plant 2, jam    & 4 & 6 & 2 & 40\\\\\n\t Profit          & 5 & 7 & 3 & NA\\\\\n\t Sales Potential & 7 & 5 & 9 & NA\\\\\n\\end{tabular}\n",
            "text/markdown": "\nA data.frame: 4 × 5\n\n| keterangan &lt;chr&gt; | item_1 &lt;dbl&gt; | item_2 &lt;dbl&gt; | item_3 &lt;dbl&gt; | production_time_per_plant &lt;dbl&gt; |\n|---|---|---|---|---|\n| Plant 1, jam    | 3 | 4 | 2 | 30 |\n| Plant 2, jam    | 4 | 6 | 2 | 40 |\n| Profit          | 5 | 7 | 3 | NA |\n| Sales Potential | 7 | 5 | 9 | NA |\n\n",
            "text/html": [
              "<table>\n",
              "<caption>A data.frame: 4 × 5</caption>\n",
              "<thead>\n",
              "\t<tr><th scope=col>keterangan</th><th scope=col>item_1</th><th scope=col>item_2</th><th scope=col>item_3</th><th scope=col>production_time_per_plant</th></tr>\n",
              "\t<tr><th scope=col>&lt;chr&gt;</th><th scope=col>&lt;dbl&gt;</th><th scope=col>&lt;dbl&gt;</th><th scope=col>&lt;dbl&gt;</th><th scope=col>&lt;dbl&gt;</th></tr>\n",
              "</thead>\n",
              "<tbody>\n",
              "\t<tr><td>Plant 1, jam   </td><td>3</td><td>4</td><td>2</td><td>30</td></tr>\n",
              "\t<tr><td>Plant 2, jam   </td><td>4</td><td>6</td><td>2</td><td>40</td></tr>\n",
              "\t<tr><td>Profit         </td><td>5</td><td>7</td><td>3</td><td>NA</td></tr>\n",
              "\t<tr><td>Sales Potential</td><td>7</td><td>5</td><td>9</td><td>NA</td></tr>\n",
              "</tbody>\n",
              "</table>\n"
            ]
          },
          "metadata": {
            "tags": []
          }
        }
      ]
    },
    {
      "cell_type": "code",
      "metadata": {
        "id": "8ZgJ57tKzbAf"
      },
      "source": [
        "# hanya boleh pilih 1 plant saja dari 2 alternatif\n",
        "# max hanya 2 produk saja yang bisa dipilih\n",
        "# pertanyaannya: harus berapa konfigurasi produknya?\n",
        "\n",
        "# i adalah item, ada 3 --> continuous\n",
        "# j adalah plant, ada 2 --> binary\n",
        "\n",
        "profit = c(5,7,3)\n",
        "  # x[i] * profit[i] harus max\n",
        "\n",
        "sales_pot = c(7,5,9)\n",
        "  # x[i] <= sales_pot[i]\n",
        "\n",
        "# waktu\n",
        "  # 3*x[1] + 4*x[2] + 2*x[3] <= 30\n",
        "  # 4*x[1] + 6*x[2] + 2*x[3] <= 40\n",
        "\n",
        "# batas plant\n",
        "  # y[j] <= 2\n"
      ],
      "execution_count": 79,
      "outputs": []
    },
    {
      "cell_type": "code",
      "metadata": {
        "colab": {
          "base_uri": "https://localhost:8080/",
          "height": 139
        },
        "id": "iK74VEbhUPsq",
        "outputId": "8348b0ad-4ad4-4168-c166-96ce6a408785"
      },
      "source": [
        "M = 10000\n",
        "model = \n",
        "  MIPModel() %>%\n",
        "  add_variable(x[i],\n",
        "               i = 1:3,\n",
        "               type = \"continuous\",\n",
        "               lb = 0) %>%\n",
        "  add_variable(y[j],\n",
        "               j = 1:3,\n",
        "               type = \"binary\") %>%\n",
        "  add_variable(z[k],\n",
        "               k = 1,\n",
        "               type = \"binary\") %>%\n",
        "  set_objective(sum_expr(x[i] * profit[i], i = 1:3),\n",
        "                \"max\"\n",
        "               ) %>%\n",
        "  add_constraint(x[i] <= sales_pot[i], i = 1:3) %>%\n",
        "  add_constraint(x[1] - y[1]*M <= 0) %>% \n",
        "  add_constraint(x[2] - y[2]*M <= 0) %>%\n",
        "  add_constraint(x[3] - y[3]*M <= 0) %>%\n",
        "  add_constraint(sum_expr(y[i], i=1:3) <= 2) %>%\n",
        "  add_constraint(3*x[1] + 4*x[2] + 2*x[3] - M * z[1] <= 30 ) %>%\n",
        "  add_constraint(4*x[1] + 6*x[2] + 2*x[3] + M * z[1] <= 40 + M)\n",
        "model\n"
      ],
      "execution_count": 80,
      "outputs": [
        {
          "output_type": "display_data",
          "data": {
            "text/plain": [
              "Mixed integer linear optimization problem\n",
              "Variables:\n",
              "  Continuous: 3 \n",
              "  Integer: 0 \n",
              "  Binary: 5 \n",
              "Model sense: maximize \n",
              "Constraints: 10 "
            ]
          },
          "metadata": {
            "tags": []
          }
        }
      ]
    },
    {
      "cell_type": "code",
      "metadata": {
        "colab": {
          "base_uri": "https://localhost:8080/"
        },
        "id": "gvrPOGG_WTZV",
        "outputId": "53a4eba6-2514-4a62-e3c3-03a11e760b0f"
      },
      "source": [
        "result <- solve_model(model, with_ROI(solver = \"glpk\", verbose = TRUE))\n"
      ],
      "execution_count": 81,
      "outputs": [
        {
          "output_type": "stream",
          "text": [
            "<SOLVER MSG>  ----\n",
            "GLPK Simplex Optimizer, v4.65\n",
            "10 rows, 8 columns, 22 non-zeros\n",
            "*     0: obj =  -0.000000000e+00 inf =   0.000e+00 (3)\n",
            "*     7: obj =   9.700000000e+01 inf =   0.000e+00 (0)\n",
            "OPTIMAL LP SOLUTION FOUND\n",
            "GLPK Integer Optimizer, v4.65\n",
            "10 rows, 8 columns, 22 non-zeros\n",
            "5 integer variables, all of which are binary\n",
            "Integer optimization begins...\n",
            "Long-step dual simplex will be used\n",
            "+     7: mip =     not found yet <=              +inf        (1; 0)\n",
            "+    11: >>>>>   7.000000000e+01 <=   7.000000000e+01   0.0% (4; 0)\n",
            "+    11: mip =   7.000000000e+01 <=     tree is empty   0.0% (0; 7)\n",
            "INTEGER OPTIMAL SOLUTION FOUND\n",
            "<!SOLVER MSG> ----\n"
          ],
          "name": "stdout"
        }
      ]
    },
    {
      "cell_type": "code",
      "metadata": {
        "colab": {
          "base_uri": "https://localhost:8080/",
          "height": 213
        },
        "id": "yR_hIvlLczux",
        "outputId": "e82b52b9-7e8f-4037-b292-2cfc6a2a32f8"
      },
      "source": [
        "result$solution\n",
        "problem\n",
        "\n",
        "3*7 + 4*5\n",
        "4*7 + 6*5"
      ],
      "execution_count": 82,
      "outputs": [
        {
          "output_type": "display_data",
          "data": {
            "text/plain": [
              "x[1] x[2] x[3] y[1] y[2] y[3] z[1] z[2] \n",
              "   7    5    0    1    1    0    1    0 "
            ],
            "text/latex": "\\begin{description*}\n\\item[x\\{{[}\\}1\\{{]}\\}] 7\n\\item[x\\{{[}\\}2\\{{]}\\}] 5\n\\item[x\\{{[}\\}3\\{{]}\\}] 0\n\\item[y\\{{[}\\}1\\{{]}\\}] 1\n\\item[y\\{{[}\\}2\\{{]}\\}] 1\n\\item[y\\{{[}\\}3\\{{]}\\}] 0\n\\item[z\\{{[}\\}1\\{{]}\\}] 1\n\\item[z\\{{[}\\}2\\{{]}\\}] 0\n\\end{description*}\n",
            "text/markdown": "x[1]\n:   7x[2]\n:   5x[3]\n:   0y[1]\n:   1y[2]\n:   1y[3]\n:   0z[1]\n:   1z[2]\n:   0\n\n",
            "text/html": [
              "<style>\n",
              ".dl-inline {width: auto; margin:0; padding: 0}\n",
              ".dl-inline>dt, .dl-inline>dd {float: none; width: auto; display: inline-block}\n",
              ".dl-inline>dt::after {content: \":\\0020\"; padding-right: .5ex}\n",
              ".dl-inline>dt:not(:first-of-type) {padding-left: .5ex}\n",
              "</style><dl class=dl-inline><dt>x[1]</dt><dd>7</dd><dt>x[2]</dt><dd>5</dd><dt>x[3]</dt><dd>0</dd><dt>y[1]</dt><dd>1</dd><dt>y[2]</dt><dd>1</dd><dt>y[3]</dt><dd>0</dd><dt>z[1]</dt><dd>1</dd><dt>z[2]</dt><dd>0</dd></dl>\n"
            ]
          },
          "metadata": {
            "tags": []
          }
        },
        {
          "output_type": "display_data",
          "data": {
            "text/plain": [
              "  keterangan      item_1 item_2 item_3 production_time_per_plant\n",
              "1 Plant 1, jam    3      4      2      30                       \n",
              "2 Plant 2, jam    4      6      2      40                       \n",
              "3 Profit          5      7      3      NA                       \n",
              "4 Sales Potential 7      5      9      NA                       "
            ],
            "text/latex": "A data.frame: 4 × 5\n\\begin{tabular}{lllll}\n keterangan & item\\_1 & item\\_2 & item\\_3 & production\\_time\\_per\\_plant\\\\\n <chr> & <dbl> & <dbl> & <dbl> & <dbl>\\\\\n\\hline\n\t Plant 1, jam    & 3 & 4 & 2 & 30\\\\\n\t Plant 2, jam    & 4 & 6 & 2 & 40\\\\\n\t Profit          & 5 & 7 & 3 & NA\\\\\n\t Sales Potential & 7 & 5 & 9 & NA\\\\\n\\end{tabular}\n",
            "text/markdown": "\nA data.frame: 4 × 5\n\n| keterangan &lt;chr&gt; | item_1 &lt;dbl&gt; | item_2 &lt;dbl&gt; | item_3 &lt;dbl&gt; | production_time_per_plant &lt;dbl&gt; |\n|---|---|---|---|---|\n| Plant 1, jam    | 3 | 4 | 2 | 30 |\n| Plant 2, jam    | 4 | 6 | 2 | 40 |\n| Profit          | 5 | 7 | 3 | NA |\n| Sales Potential | 7 | 5 | 9 | NA |\n\n",
            "text/html": [
              "<table>\n",
              "<caption>A data.frame: 4 × 5</caption>\n",
              "<thead>\n",
              "\t<tr><th scope=col>keterangan</th><th scope=col>item_1</th><th scope=col>item_2</th><th scope=col>item_3</th><th scope=col>production_time_per_plant</th></tr>\n",
              "\t<tr><th scope=col>&lt;chr&gt;</th><th scope=col>&lt;dbl&gt;</th><th scope=col>&lt;dbl&gt;</th><th scope=col>&lt;dbl&gt;</th><th scope=col>&lt;dbl&gt;</th></tr>\n",
              "</thead>\n",
              "<tbody>\n",
              "\t<tr><td>Plant 1, jam   </td><td>3</td><td>4</td><td>2</td><td>30</td></tr>\n",
              "\t<tr><td>Plant 2, jam   </td><td>4</td><td>6</td><td>2</td><td>40</td></tr>\n",
              "\t<tr><td>Profit         </td><td>5</td><td>7</td><td>3</td><td>NA</td></tr>\n",
              "\t<tr><td>Sales Potential</td><td>7</td><td>5</td><td>9</td><td>NA</td></tr>\n",
              "</tbody>\n",
              "</table>\n"
            ]
          },
          "metadata": {
            "tags": []
          }
        },
        {
          "output_type": "display_data",
          "data": {
            "text/plain": [
              "[1] 41"
            ],
            "text/latex": "41",
            "text/markdown": "41",
            "text/html": [
              "41"
            ]
          },
          "metadata": {
            "tags": []
          }
        },
        {
          "output_type": "display_data",
          "data": {
            "text/plain": [
              "[1] 58"
            ],
            "text/latex": "58",
            "text/markdown": "58",
            "text/html": [
              "58"
            ]
          },
          "metadata": {
            "tags": []
          }
        }
      ]
    }
  ]
}