{
  "nbformat": 4,
  "nbformat_minor": 0,
  "metadata": {
    "colab": {
      "name": "Ambil Komen Home Tester Club",
      "provenance": [],
      "collapsed_sections": [],
      "authorship_tag": "ABX9TyNPyFoLwfwiYqCmvAZ0PgXu",
      "include_colab_link": true
    },
    "kernelspec": {
      "name": "ir",
      "display_name": "R"
    }
  },
  "cells": [
    {
      "cell_type": "markdown",
      "metadata": {
        "id": "view-in-github",
        "colab_type": "text"
      },
      "source": [
        "<a href=\"https://colab.research.google.com/github/ikanx101/G-Colab/blob/main/Ambil_Komen_Home_Tester_Club.ipynb\" target=\"_parent\"><img src=\"https://colab.research.google.com/assets/colab-badge.svg\" alt=\"Open In Colab\"/></a>"
      ]
    },
    {
      "cell_type": "code",
      "metadata": {
        "id": "48dHGm3Rees7"
      },
      "source": [
        "rm(list=ls())\n",
        "library(rvest)\n",
        "library(dplyr)\n",
        "library(tidytext)\n",
        "library(tidyr)"
      ],
      "execution_count": 16,
      "outputs": []
    },
    {
      "cell_type": "code",
      "metadata": {
        "id": "TLEsa1eXemha"
      },
      "source": [
        "# kita akan ambil stevie dan diabetasol\n",
        "# data per 3 desember 2020 9.46 WIB\n",
        "\n",
        "# stevia\n",
        "# 4.8 dari 76\n",
        "url1 = \"https://www.hometesterclub.com/id/id/reviews/tropicana-slim-stevia\"\n",
        "url_komen1 = paste0(url1,\"?review-page=1,76&orderby=id%20desc\")\n",
        "\n",
        "# diabetasol\n",
        "url2 = \"https://www.hometesterclub.com/id/id/reviews/diabetasol-sweetener\"\n",
        "url_komen2 = paste0(url2,\"?review-page=1,108&orderby=id%20desc\")"
      ],
      "execution_count": 17,
      "outputs": []
    },
    {
      "cell_type": "code",
      "metadata": {
        "id": "_yUIvrNjgeWJ"
      },
      "source": [
        "# function ambil komen\n",
        "# tropicana slim\n",
        "komen1 = \n",
        "  read_html(url_komen1) %>% \n",
        "  html_nodes(\".review-user_comment\") %>% \n",
        "  html_text()\n",
        "\n",
        "# diabetasol\n",
        "komen2 = \n",
        "  read_html(url_komen2) %>% \n",
        "  html_nodes(\".review-user_comment\") %>% \n",
        "  html_text()\n"
      ],
      "execution_count": 18,
      "outputs": []
    },
    {
      "cell_type": "code",
      "metadata": {
        "id": "-JoIOYPehaKX"
      },
      "source": [
        "data1 = data.frame(\n",
        "  id = c(1:length(komen1)),\n",
        "  produk = \"TS Stevia\",\n",
        "  komen = komen1\n",
        ")\n",
        "\n",
        "data2 = data.frame(\n",
        "  id = c(1:length(komen2)),\n",
        "  produk = \"Diabetasol\",\n",
        "  komen = komen2\n",
        ")"
      ],
      "execution_count": 19,
      "outputs": []
    },
    {
      "cell_type": "code",
      "metadata": {
        "id": "RteTPzxPhzba"
      },
      "source": [
        "data = rbind(data1,data2)"
      ],
      "execution_count": 30,
      "outputs": []
    },
    {
      "cell_type": "code",
      "metadata": {
        "id": "gLi22Wy0h_SY"
      },
      "source": [
        "data = \n",
        "  data %>%\n",
        "  mutate(komen = tolower(komen),\n",
        "         komen = gsub(\"\\\\,\",\"\",komen),\n",
        "         komen = gsub(\"\\\\n\",\"\",komen),\n",
        "         komen = gsub(\"\\\\#\",\"\",komen),\n",
        "         komen = gsub(\"\\\\~\",\"\",komen),\n",
        "         komen = gsub('\\\\\"',\"\",komen),\n",
        "         komen = gsub(\"..\",\".\",komen,fixed = T),\n",
        "         komen = gsub(\"..\",\".\",komen,fixed = T))"
      ],
      "execution_count": 31,
      "outputs": []
    },
    {
      "cell_type": "code",
      "metadata": {
        "id": "TsvVPh3ukDTT"
      },
      "source": [
        "pre_data = \n",
        "  data %>%\n",
        "  unnest_tokens(out,komen,token = \"regex\",pattern = \"\\\\.\") %>%\n",
        "  ungroup() %>%\n",
        "  rename(member = id) %>%\n",
        "  arrange(produk,member)"
      ],
      "execution_count": 32,
      "outputs": []
    },
    {
      "cell_type": "code",
      "metadata": {
        "colab": {
          "base_uri": "https://localhost:8080/",
          "height": 1000
        },
        "id": "1LVulDnKnxm2",
        "outputId": "0e174faa-acba-4482-dba3-498a9d9514bc"
      },
      "source": [
        "pre_data"
      ],
      "execution_count": 33,
      "outputs": [
        {
          "output_type": "display_data",
          "data": {
            "text/plain": [
              "    member produk    \n",
              "1    1     Diabetasol\n",
              "2    1     Diabetasol\n",
              "3    2     Diabetasol\n",
              "4    3     Diabetasol\n",
              "5    3     Diabetasol\n",
              "6    3     Diabetasol\n",
              "7    4     Diabetasol\n",
              "8    4     Diabetasol\n",
              "9    4     Diabetasol\n",
              "10   5     Diabetasol\n",
              "11   5     Diabetasol\n",
              "12   5     Diabetasol\n",
              "13   6     Diabetasol\n",
              "14   6     Diabetasol\n",
              "15   7     Diabetasol\n",
              "16   8     Diabetasol\n",
              "17   8     Diabetasol\n",
              "18   9     Diabetasol\n",
              "19   9     Diabetasol\n",
              "20   9     Diabetasol\n",
              "21   9     Diabetasol\n",
              "22  10     Diabetasol\n",
              "23  10     Diabetasol\n",
              "24  11     Diabetasol\n",
              "25  11     Diabetasol\n",
              "26  11     Diabetasol\n",
              "27  11     Diabetasol\n",
              "28  11     Diabetasol\n",
              "29  11     Diabetasol\n",
              "30  12     Diabetasol\n",
              "⋮   ⋮      ⋮         \n",
              "408 67     TS Stevia \n",
              "409 67     TS Stevia \n",
              "410 68     TS Stevia \n",
              "411 69     TS Stevia \n",
              "412 70     TS Stevia \n",
              "413 70     TS Stevia \n",
              "414 71     TS Stevia \n",
              "415 71     TS Stevia \n",
              "416 71     TS Stevia \n",
              "417 72     TS Stevia \n",
              "418 72     TS Stevia \n",
              "419 73     TS Stevia \n",
              "420 73     TS Stevia \n",
              "421 74     TS Stevia \n",
              "422 74     TS Stevia \n",
              "423 74     TS Stevia \n",
              "424 74     TS Stevia \n",
              "425 74     TS Stevia \n",
              "426 74     TS Stevia \n",
              "427 74     TS Stevia \n",
              "428 74     TS Stevia \n",
              "429 74     TS Stevia \n",
              "430 75     TS Stevia \n",
              "431 75     TS Stevia \n",
              "432 76     TS Stevia \n",
              "433 76     TS Stevia \n",
              "434 76     TS Stevia \n",
              "435 76     TS Stevia \n",
              "436 76     TS Stevia \n",
              "437 76     TS Stevia \n",
              "    out                                                                                                                                                                                             \n",
              "1   diabetasol sweeter cocok banget digunakan sebagai alternatif gula bagi penderita diabetes ataupun untuk orang yang lagi diet                                                                    \n",
              "2    rasanya enak dan tidak meninggalkan rasa pahit meskipun diseduh dengan air panas                                                                                                               \n",
              "3   menjaga lbh baik daripada mengobati diabetasol aman tuk dikonsumsi baik buat penderita diabets millitus ataupun kita yg sehat                                                                   \n",
              "4   sikecil manis yang jumlah gulanya tidak setinggi gula biasa                                                                                                                                     \n",
              "5    papa ku pakai ni satu sachet untuk satu gelas sudah cukup manis biasanya kalo pakai gula biasa dua sendok makan untuk satu gelas                                                               \n",
              "6    recommend                                                                                                                                                                                      \n",
              "7   diabetasol sweetenerpemanis pengganti gula yang tidak memiliki kalori aman digunakan bagi penderita diabetes mellitus                                                                           \n",
              "8    rasa manisnya pas                                                                                                                                                                              \n",
              "9    tersedia di minimarket dengan harga yang bersaing                                                                                                                                              \n",
              "10  pertama kali aku coba ini dirumah nenekku karena beliau memang selalu pakai untuk jaga kadar gulanya                                                                                            \n",
              "11   gula sachet tropicana ini memang didesain khusus bagi yang ingin tetap makan manis tapi dengan kandungan gula yang tetap terjaga juga                                                          \n",
              "12   buat yang masih muda juga cocok loh karena buat jaga kesehatan kan hehe silahkan coba                                                                                                          \n",
              "13  hal-hal yang saya sukai dari produk ini adalah harga yang lebih bersahabat dibanding gula khusus diabetes merek lain yang terkenal dan rasa manisnya yang pas                                   \n",
              "14   biasanya kami menggunakan produk ini untuk teh manis hangat dan rasanya enak                                                                                                                   \n",
              "15  bapak saya telah mencoba ini katanya rasa tidak terlalu manis pas cocok buat penderita diabetes jadi bapak saya tidak khawatir lagi untuk minum yg manis dengan menggunakan diabetasol sweetener\n",
              "16  kebetulan ibu ku sudah mengkonsumsi selama beberapa tahun ke belakang karna beliau terkena diabet                                                                                               \n",
              "17   enak  manis nya cukup                                                                                                                                                                          \n",
              "18  pernah cobain ini ketika bokap masih ada                                                                                                                                                        \n",
              "19   blio suka campur ini dengan tehangetnya                                                                                                                                                        \n",
              "20   dan kopi juga biasa bokap konsumsi ini                                                                                                                                                         \n",
              "21   kalau bakar peyeum blio pasti nabur ini diatasnya sebelum di santap                                                                                                                            \n",
              "22  diabetasol sweetener biasa digunakan oleh ibu saya yang menderita diabetes                                                                                                                      \n",
              "23   biasa digunakan untuk minum teh atau masak agar-agar dan lain-lain                                                                                                                             \n",
              "24  bapak aku penderita diabetes  tapi masih suka minum kopi dan teh                                                                                                                                \n",
              "25    ga mungkin kan harus pakai gula yang biasa                                                                                                                                                    \n",
              "26   \\rjadi waktu itu nyoba beliin yang merk ini  harganya lebih bersahabat juga                                                                                                                    \n",
              "27   \\raku pun nyobain rasa manisnya pas                                                                                                                                                            \n",
              "28    cocok banget untuk penderita diabetes dan yang ingin diet                                                                                                                                     \n",
              "29                                                                                                                                                                                                  \n",
              "30  gula yang bgus untuk usia lanjut yang mengatur pola gula yang tidak terlalu manis dan bagus buat diet                                                                                           \n",
              "⋮   ⋮                                                                                                                                                                                               \n",
              "408  recomend banget buat yang diet dan juga menghindari diabetes                                                                                                                                   \n",
              "409                                                                                                                                                                                                 \n",
              "410 keluarga saya kebanyakan memiliki diabetes dan untuk mengurangi resiko keturunan tersebut saya sekeluarga menggunakan gula tropicana slim ini selain dari rasanya jg yang pas juga sehat        \n",
              "411 keluarga saya punya keturunan diabetes dengan adanya tropicana slim stevia ini keluarga  saya jadi tak ragu2 lagi makan makanan manis                                                           \n",
              "412 aku pengen bgt bs mencoba produk ini tropicana slim stevia sepertinya bgs ya                                                                                                                    \n",
              "413  krn aku penyuka sesuatu yg manis tp kdg tkt tinggi calori krn pemanis buatan                                                                                                                   \n",
              "414 tropicana stevia ini cocok banget buat keluarga saya                                                                                                                                            \n",
              "415  biarpun tidak ada riwayat yang kena diabetes tapi setidaknya mencegah lebih baik daripada mengobati                                                                                            \n",
              "416  jadi cocok banget buat orang serumah                                                                                                                                                           \n",
              "417 enak cocok untuk ibu saya                                                                                                                                                                       \n",
              "418  rendah gula pokoknya mantap dah                                                                                                                                                                \n",
              "419 istriku sangat suka dengan tropicana slim stevia                                                                                                                                                \n",
              "420  katanya rasa manisnya pas                                                                                                                                                                      \n",
              "421 beberapa hari yang lalu saya beli produk ini di salah satu supermarket karena tertarik promo buy 1 get 1 free                                                                                   \n",
              "422  dari segi harga ketika itu menurut saya lumayan sekali                                                                                                                                         \n",
              "423  \\rtapi                                                                                                                                                                                         \n",
              "424  sebagai pecinta manis saya agak kecewa dengan tingkat kemanisannya                                                                                                                             \n",
              "425  sebagai konsumen tropicana slim “classic” stevia tidak bisa dijadikan sebagai pengganti classic                                                                                                \n",
              "426  misal: saya buat teh manis                                                                                                                                                                     \n",
              "427  biasanya dengan classic bisa 2-3 bungkus udah terasa bgt manisnya dengan stevia bisa coba 5 bungkus tp ttp gak menyamai manisnya classic                                                       \n",
              "428  just my opinion though                                                                                                                                                                         \n",
              "429                                                                                                                                                                                                 \n",
              "430 saya blm coba                                                                                                                                                                                   \n",
              "431  maauuu dooonggg tester nya di kirim kerumah                                                                                                                                                    \n",
              "432 pertama kali liat produk ini tropicana slim stevia melalui iklan di televisi                                                                                                                    \n",
              "433  saya sangat ingin tahu sekali tentang produk ini saya sering nonton televisi hanya untuk menunggu iklan tropicana slim stevia ditayangkan                                                      \n",
              "434  ibu saya adalah orang yang memiliki riwayat gula darah atau diabetes                                                                                                                           \n",
              "435  saya memiliki kemungkinan yang besar juga mengalami diabetes                                                                                                                                   \n",
              "436  mau donk mencoba produk gratisnya htc                                                                                                                                                          \n",
              "437  terimakasih : )                                                                                                                                                                                "
            ],
            "text/latex": "A data.frame: 437 × 3\n\\begin{tabular}{lll}\n member & produk & out\\\\\n <int> & <chr> & <chr>\\\\\n\\hline\n\t  1 & Diabetasol & diabetasol sweeter cocok banget digunakan sebagai alternatif gula bagi penderita diabetes ataupun untuk orang yang lagi diet                                                                    \\\\\n\t  1 & Diabetasol &  rasanya enak dan tidak meninggalkan rasa pahit meskipun diseduh dengan air panas                                                                                                               \\\\\n\t  2 & Diabetasol & menjaga lbh baik daripada mengobati diabetasol aman tuk dikonsumsi baik buat penderita diabets millitus ataupun kita yg sehat                                                                   \\\\\n\t  3 & Diabetasol & sikecil manis yang jumlah gulanya tidak setinggi gula biasa                                                                                                                                     \\\\\n\t  3 & Diabetasol &  papa ku pakai ni satu sachet untuk satu gelas sudah cukup manis biasanya kalo pakai gula biasa dua sendok makan untuk satu gelas                                                               \\\\\n\t  3 & Diabetasol &  recommend                                                                                                                                                                                      \\\\\n\t  4 & Diabetasol & diabetasol sweetenerpemanis pengganti gula yang tidak memiliki kalori aman digunakan bagi penderita diabetes mellitus                                                                           \\\\\n\t  4 & Diabetasol &  rasa manisnya pas                                                                                                                                                                              \\\\\n\t  4 & Diabetasol &  tersedia di minimarket dengan harga yang bersaing                                                                                                                                              \\\\\n\t  5 & Diabetasol & pertama kali aku coba ini dirumah nenekku karena beliau memang selalu pakai untuk jaga kadar gulanya                                                                                            \\\\\n\t  5 & Diabetasol &  gula sachet tropicana ini memang didesain khusus bagi yang ingin tetap makan manis tapi dengan kandungan gula yang tetap terjaga juga                                                          \\\\\n\t  5 & Diabetasol &  buat yang masih muda juga cocok loh karena buat jaga kesehatan kan hehe silahkan coba                                                                                                          \\\\\n\t  6 & Diabetasol & hal-hal yang saya sukai dari produk ini adalah harga yang lebih bersahabat dibanding gula khusus diabetes merek lain yang terkenal dan rasa manisnya yang pas                                   \\\\\n\t  6 & Diabetasol &  biasanya kami menggunakan produk ini untuk teh manis hangat dan rasanya enak                                                                                                                   \\\\\n\t  7 & Diabetasol & bapak saya telah mencoba ini katanya rasa tidak terlalu manis pas cocok buat penderita diabetes jadi bapak saya tidak khawatir lagi untuk minum yg manis dengan menggunakan diabetasol sweetener\\\\\n\t  8 & Diabetasol & kebetulan ibu ku sudah mengkonsumsi selama beberapa tahun ke belakang karna beliau terkena diabet                                                                                               \\\\\n\t  8 & Diabetasol &  enak  manis nya cukup                                                                                                                                                                          \\\\\n\t  9 & Diabetasol & pernah cobain ini ketika bokap masih ada                                                                                                                                                        \\\\\n\t  9 & Diabetasol &  blio suka campur ini dengan tehangetnya                                                                                                                                                        \\\\\n\t  9 & Diabetasol &  dan kopi juga biasa bokap konsumsi ini                                                                                                                                                         \\\\\n\t  9 & Diabetasol &  kalau bakar peyeum blio pasti nabur ini diatasnya sebelum di santap                                                                                                                            \\\\\n\t 10 & Diabetasol & diabetasol sweetener biasa digunakan oleh ibu saya yang menderita diabetes                                                                                                                      \\\\\n\t 10 & Diabetasol &  biasa digunakan untuk minum teh atau masak agar-agar dan lain-lain                                                                                                                             \\\\\n\t 11 & Diabetasol & bapak aku penderita diabetes  tapi masih suka minum kopi dan teh                                                                                                                                \\\\\n\t 11 & Diabetasol &   ga mungkin kan harus pakai gula yang biasa                                                                                                                                                    \\\\\n\t 11 & Diabetasol &  \rjadi waktu itu nyoba beliin yang merk ini  harganya lebih bersahabat juga                                                                                                                    \\\\\n\t 11 & Diabetasol &  \raku pun nyobain rasa manisnya pas                                                                                                                                                            \\\\\n\t 11 & Diabetasol &   cocok banget untuk penderita diabetes dan yang ingin diet                                                                                                                                     \\\\\n\t 11 & Diabetasol &                                                                                                                                                                                                 \\\\\n\t 12 & Diabetasol & gula yang bgus untuk usia lanjut yang mengatur pola gula yang tidak terlalu manis dan bagus buat diet                                                                                           \\\\\n\t ⋮ & ⋮ & ⋮\\\\\n\t 67 & TS Stevia &  recomend banget buat yang diet dan juga menghindari diabetes                                                                                                                           \\\\\n\t 67 & TS Stevia &                                                                                                                                                                                         \\\\\n\t 68 & TS Stevia & keluarga saya kebanyakan memiliki diabetes dan untuk mengurangi resiko keturunan tersebut saya sekeluarga menggunakan gula tropicana slim ini selain dari rasanya jg yang pas juga sehat\\\\\n\t 69 & TS Stevia & keluarga saya punya keturunan diabetes dengan adanya tropicana slim stevia ini keluarga  saya jadi tak ragu2 lagi makan makanan manis                                                   \\\\\n\t 70 & TS Stevia & aku pengen bgt bs mencoba produk ini tropicana slim stevia sepertinya bgs ya                                                                                                            \\\\\n\t 70 & TS Stevia &  krn aku penyuka sesuatu yg manis tp kdg tkt tinggi calori krn pemanis buatan                                                                                                           \\\\\n\t 71 & TS Stevia & tropicana stevia ini cocok banget buat keluarga saya                                                                                                                                    \\\\\n\t 71 & TS Stevia &  biarpun tidak ada riwayat yang kena diabetes tapi setidaknya mencegah lebih baik daripada mengobati                                                                                    \\\\\n\t 71 & TS Stevia &  jadi cocok banget buat orang serumah                                                                                                                                                   \\\\\n\t 72 & TS Stevia & enak cocok untuk ibu saya                                                                                                                                                               \\\\\n\t 72 & TS Stevia &  rendah gula pokoknya mantap dah                                                                                                                                                        \\\\\n\t 73 & TS Stevia & istriku sangat suka dengan tropicana slim stevia                                                                                                                                        \\\\\n\t 73 & TS Stevia &  katanya rasa manisnya pas                                                                                                                                                              \\\\\n\t 74 & TS Stevia & beberapa hari yang lalu saya beli produk ini di salah satu supermarket karena tertarik promo buy 1 get 1 free                                                                           \\\\\n\t 74 & TS Stevia &  dari segi harga ketika itu menurut saya lumayan sekali                                                                                                                                 \\\\\n\t 74 & TS Stevia &  \rtapi                                                                                                                                                                                 \\\\\n\t 74 & TS Stevia &  sebagai pecinta manis saya agak kecewa dengan tingkat kemanisannya                                                                                                                     \\\\\n\t 74 & TS Stevia &  sebagai konsumen tropicana slim “classic” stevia tidak bisa dijadikan sebagai pengganti classic                                                                                        \\\\\n\t 74 & TS Stevia &  misal: saya buat teh manis                                                                                                                                                             \\\\\n\t 74 & TS Stevia &  biasanya dengan classic bisa 2-3 bungkus udah terasa bgt manisnya dengan stevia bisa coba 5 bungkus tp ttp gak menyamai manisnya classic                                               \\\\\n\t 74 & TS Stevia &  just my opinion though                                                                                                                                                                 \\\\\n\t 74 & TS Stevia &                                                                                                                                                                                         \\\\\n\t 75 & TS Stevia & saya blm coba                                                                                                                                                                           \\\\\n\t 75 & TS Stevia &  maauuu dooonggg tester nya di kirim kerumah                                                                                                                                            \\\\\n\t 76 & TS Stevia & pertama kali liat produk ini tropicana slim stevia melalui iklan di televisi                                                                                                            \\\\\n\t 76 & TS Stevia &  saya sangat ingin tahu sekali tentang produk ini saya sering nonton televisi hanya untuk menunggu iklan tropicana slim stevia ditayangkan                                              \\\\\n\t 76 & TS Stevia &  ibu saya adalah orang yang memiliki riwayat gula darah atau diabetes                                                                                                                   \\\\\n\t 76 & TS Stevia &  saya memiliki kemungkinan yang besar juga mengalami diabetes                                                                                                                           \\\\\n\t 76 & TS Stevia &  mau donk mencoba produk gratisnya htc                                                                                                                                                  \\\\\n\t 76 & TS Stevia &  terimakasih : )                                                                                                                                                                        \\\\\n\\end{tabular}\n",
            "text/markdown": "\nA data.frame: 437 × 3\n\n| member &lt;int&gt; | produk &lt;chr&gt; | out &lt;chr&gt; |\n|---|---|---|\n|  1 | Diabetasol | diabetasol sweeter cocok banget digunakan sebagai alternatif gula bagi penderita diabetes ataupun untuk orang yang lagi diet                                                                     |\n|  1 | Diabetasol |  rasanya enak dan tidak meninggalkan rasa pahit meskipun diseduh dengan air panas                                                                                                                |\n|  2 | Diabetasol | menjaga lbh baik daripada mengobati diabetasol aman tuk dikonsumsi baik buat penderita diabets millitus ataupun kita yg sehat                                                                    |\n|  3 | Diabetasol | sikecil manis yang jumlah gulanya tidak setinggi gula biasa                                                                                                                                      |\n|  3 | Diabetasol |  papa ku pakai ni satu sachet untuk satu gelas sudah cukup manis biasanya kalo pakai gula biasa dua sendok makan untuk satu gelas                                                                |\n|  3 | Diabetasol |  recommend                                                                                                                                                                                       |\n|  4 | Diabetasol | diabetasol sweetenerpemanis pengganti gula yang tidak memiliki kalori aman digunakan bagi penderita diabetes mellitus                                                                            |\n|  4 | Diabetasol |  rasa manisnya pas                                                                                                                                                                               |\n|  4 | Diabetasol |  tersedia di minimarket dengan harga yang bersaing                                                                                                                                               |\n|  5 | Diabetasol | pertama kali aku coba ini dirumah nenekku karena beliau memang selalu pakai untuk jaga kadar gulanya                                                                                             |\n|  5 | Diabetasol |  gula sachet tropicana ini memang didesain khusus bagi yang ingin tetap makan manis tapi dengan kandungan gula yang tetap terjaga juga                                                           |\n|  5 | Diabetasol |  buat yang masih muda juga cocok loh karena buat jaga kesehatan kan hehe silahkan coba                                                                                                           |\n|  6 | Diabetasol | hal-hal yang saya sukai dari produk ini adalah harga yang lebih bersahabat dibanding gula khusus diabetes merek lain yang terkenal dan rasa manisnya yang pas                                    |\n|  6 | Diabetasol |  biasanya kami menggunakan produk ini untuk teh manis hangat dan rasanya enak                                                                                                                    |\n|  7 | Diabetasol | bapak saya telah mencoba ini katanya rasa tidak terlalu manis pas cocok buat penderita diabetes jadi bapak saya tidak khawatir lagi untuk minum yg manis dengan menggunakan diabetasol sweetener |\n|  8 | Diabetasol | kebetulan ibu ku sudah mengkonsumsi selama beberapa tahun ke belakang karna beliau terkena diabet                                                                                                |\n|  8 | Diabetasol |  enak  manis nya cukup                                                                                                                                                                           |\n|  9 | Diabetasol | pernah cobain ini ketika bokap masih ada                                                                                                                                                         |\n|  9 | Diabetasol |  blio suka campur ini dengan tehangetnya                                                                                                                                                         |\n|  9 | Diabetasol |  dan kopi juga biasa bokap konsumsi ini                                                                                                                                                          |\n|  9 | Diabetasol |  kalau bakar peyeum blio pasti nabur ini diatasnya sebelum di santap                                                                                                                             |\n| 10 | Diabetasol | diabetasol sweetener biasa digunakan oleh ibu saya yang menderita diabetes                                                                                                                       |\n| 10 | Diabetasol |  biasa digunakan untuk minum teh atau masak agar-agar dan lain-lain                                                                                                                              |\n| 11 | Diabetasol | bapak aku penderita diabetes  tapi masih suka minum kopi dan teh                                                                                                                                 |\n| 11 | Diabetasol |   ga mungkin kan harus pakai gula yang biasa                                                                                                                                                     |\n| 11 | Diabetasol |  \rjadi waktu itu nyoba beliin yang merk ini  harganya lebih bersahabat juga                                                                                                                     |\n| 11 | Diabetasol |  \raku pun nyobain rasa manisnya pas                                                                                                                                                             |\n| 11 | Diabetasol |   cocok banget untuk penderita diabetes dan yang ingin diet                                                                                                                                      |\n| 11 | Diabetasol | <!----> |\n| 12 | Diabetasol | gula yang bgus untuk usia lanjut yang mengatur pola gula yang tidak terlalu manis dan bagus buat diet                                                                                            |\n| ⋮ | ⋮ | ⋮ |\n| 67 | TS Stevia |  recomend banget buat yang diet dan juga menghindari diabetes                                                                                                                            |\n| 67 | TS Stevia | <!----> |\n| 68 | TS Stevia | keluarga saya kebanyakan memiliki diabetes dan untuk mengurangi resiko keturunan tersebut saya sekeluarga menggunakan gula tropicana slim ini selain dari rasanya jg yang pas juga sehat |\n| 69 | TS Stevia | keluarga saya punya keturunan diabetes dengan adanya tropicana slim stevia ini keluarga  saya jadi tak ragu2 lagi makan makanan manis                                                    |\n| 70 | TS Stevia | aku pengen bgt bs mencoba produk ini tropicana slim stevia sepertinya bgs ya                                                                                                             |\n| 70 | TS Stevia |  krn aku penyuka sesuatu yg manis tp kdg tkt tinggi calori krn pemanis buatan                                                                                                            |\n| 71 | TS Stevia | tropicana stevia ini cocok banget buat keluarga saya                                                                                                                                     |\n| 71 | TS Stevia |  biarpun tidak ada riwayat yang kena diabetes tapi setidaknya mencegah lebih baik daripada mengobati                                                                                     |\n| 71 | TS Stevia |  jadi cocok banget buat orang serumah                                                                                                                                                    |\n| 72 | TS Stevia | enak cocok untuk ibu saya                                                                                                                                                                |\n| 72 | TS Stevia |  rendah gula pokoknya mantap dah                                                                                                                                                         |\n| 73 | TS Stevia | istriku sangat suka dengan tropicana slim stevia                                                                                                                                         |\n| 73 | TS Stevia |  katanya rasa manisnya pas                                                                                                                                                               |\n| 74 | TS Stevia | beberapa hari yang lalu saya beli produk ini di salah satu supermarket karena tertarik promo buy 1 get 1 free                                                                            |\n| 74 | TS Stevia |  dari segi harga ketika itu menurut saya lumayan sekali                                                                                                                                  |\n| 74 | TS Stevia |  \rtapi                                                                                                                                                                                  |\n| 74 | TS Stevia |  sebagai pecinta manis saya agak kecewa dengan tingkat kemanisannya                                                                                                                      |\n| 74 | TS Stevia |  sebagai konsumen tropicana slim “classic” stevia tidak bisa dijadikan sebagai pengganti classic                                                                                         |\n| 74 | TS Stevia |  misal: saya buat teh manis                                                                                                                                                              |\n| 74 | TS Stevia |  biasanya dengan classic bisa 2-3 bungkus udah terasa bgt manisnya dengan stevia bisa coba 5 bungkus tp ttp gak menyamai manisnya classic                                                |\n| 74 | TS Stevia |  just my opinion though                                                                                                                                                                  |\n| 74 | TS Stevia | <!----> |\n| 75 | TS Stevia | saya blm coba                                                                                                                                                                            |\n| 75 | TS Stevia |  maauuu dooonggg tester nya di kirim kerumah                                                                                                                                             |\n| 76 | TS Stevia | pertama kali liat produk ini tropicana slim stevia melalui iklan di televisi                                                                                                             |\n| 76 | TS Stevia |  saya sangat ingin tahu sekali tentang produk ini saya sering nonton televisi hanya untuk menunggu iklan tropicana slim stevia ditayangkan                                               |\n| 76 | TS Stevia |  ibu saya adalah orang yang memiliki riwayat gula darah atau diabetes                                                                                                                    |\n| 76 | TS Stevia |  saya memiliki kemungkinan yang besar juga mengalami diabetes                                                                                                                            |\n| 76 | TS Stevia |  mau donk mencoba produk gratisnya htc                                                                                                                                                   |\n| 76 | TS Stevia |  terimakasih : )                                                                                                                                                                         |\n\n",
            "text/html": [
              "<table>\n",
              "<caption>A data.frame: 437 × 3</caption>\n",
              "<thead>\n",
              "\t<tr><th scope=col>member</th><th scope=col>produk</th><th scope=col>out</th></tr>\n",
              "\t<tr><th scope=col>&lt;int&gt;</th><th scope=col>&lt;chr&gt;</th><th scope=col>&lt;chr&gt;</th></tr>\n",
              "</thead>\n",
              "<tbody>\n",
              "\t<tr><td> 1</td><td>Diabetasol</td><td>diabetasol sweeter cocok banget digunakan sebagai alternatif gula bagi penderita diabetes ataupun untuk orang yang lagi diet                                                                    </td></tr>\n",
              "\t<tr><td> 1</td><td>Diabetasol</td><td> rasanya enak dan tidak meninggalkan rasa pahit meskipun diseduh dengan air panas                                                                                                               </td></tr>\n",
              "\t<tr><td> 2</td><td>Diabetasol</td><td>menjaga lbh baik daripada mengobati diabetasol aman tuk dikonsumsi baik buat penderita diabets millitus ataupun kita yg sehat                                                                   </td></tr>\n",
              "\t<tr><td> 3</td><td>Diabetasol</td><td>sikecil manis yang jumlah gulanya tidak setinggi gula biasa                                                                                                                                     </td></tr>\n",
              "\t<tr><td> 3</td><td>Diabetasol</td><td> papa ku pakai ni satu sachet untuk satu gelas sudah cukup manis biasanya kalo pakai gula biasa dua sendok makan untuk satu gelas                                                               </td></tr>\n",
              "\t<tr><td> 3</td><td>Diabetasol</td><td> recommend                                                                                                                                                                                      </td></tr>\n",
              "\t<tr><td> 4</td><td>Diabetasol</td><td>diabetasol sweetenerpemanis pengganti gula yang tidak memiliki kalori aman digunakan bagi penderita diabetes mellitus                                                                           </td></tr>\n",
              "\t<tr><td> 4</td><td>Diabetasol</td><td> rasa manisnya pas                                                                                                                                                                              </td></tr>\n",
              "\t<tr><td> 4</td><td>Diabetasol</td><td> tersedia di minimarket dengan harga yang bersaing                                                                                                                                              </td></tr>\n",
              "\t<tr><td> 5</td><td>Diabetasol</td><td>pertama kali aku coba ini dirumah nenekku karena beliau memang selalu pakai untuk jaga kadar gulanya                                                                                            </td></tr>\n",
              "\t<tr><td> 5</td><td>Diabetasol</td><td> gula sachet tropicana ini memang didesain khusus bagi yang ingin tetap makan manis tapi dengan kandungan gula yang tetap terjaga juga                                                          </td></tr>\n",
              "\t<tr><td> 5</td><td>Diabetasol</td><td> buat yang masih muda juga cocok loh karena buat jaga kesehatan kan hehe silahkan coba                                                                                                          </td></tr>\n",
              "\t<tr><td> 6</td><td>Diabetasol</td><td>hal-hal yang saya sukai dari produk ini adalah harga yang lebih bersahabat dibanding gula khusus diabetes merek lain yang terkenal dan rasa manisnya yang pas                                   </td></tr>\n",
              "\t<tr><td> 6</td><td>Diabetasol</td><td> biasanya kami menggunakan produk ini untuk teh manis hangat dan rasanya enak                                                                                                                   </td></tr>\n",
              "\t<tr><td> 7</td><td>Diabetasol</td><td>bapak saya telah mencoba ini katanya rasa tidak terlalu manis pas cocok buat penderita diabetes jadi bapak saya tidak khawatir lagi untuk minum yg manis dengan menggunakan diabetasol sweetener</td></tr>\n",
              "\t<tr><td> 8</td><td>Diabetasol</td><td>kebetulan ibu ku sudah mengkonsumsi selama beberapa tahun ke belakang karna beliau terkena diabet                                                                                               </td></tr>\n",
              "\t<tr><td> 8</td><td>Diabetasol</td><td> enak  manis nya cukup                                                                                                                                                                          </td></tr>\n",
              "\t<tr><td> 9</td><td>Diabetasol</td><td>pernah cobain ini ketika bokap masih ada                                                                                                                                                        </td></tr>\n",
              "\t<tr><td> 9</td><td>Diabetasol</td><td> blio suka campur ini dengan tehangetnya                                                                                                                                                        </td></tr>\n",
              "\t<tr><td> 9</td><td>Diabetasol</td><td> dan kopi juga biasa bokap konsumsi ini                                                                                                                                                         </td></tr>\n",
              "\t<tr><td> 9</td><td>Diabetasol</td><td> kalau bakar peyeum blio pasti nabur ini diatasnya sebelum di santap                                                                                                                            </td></tr>\n",
              "\t<tr><td>10</td><td>Diabetasol</td><td>diabetasol sweetener biasa digunakan oleh ibu saya yang menderita diabetes                                                                                                                      </td></tr>\n",
              "\t<tr><td>10</td><td>Diabetasol</td><td> biasa digunakan untuk minum teh atau masak agar-agar dan lain-lain                                                                                                                             </td></tr>\n",
              "\t<tr><td>11</td><td>Diabetasol</td><td>bapak aku penderita diabetes  tapi masih suka minum kopi dan teh                                                                                                                                </td></tr>\n",
              "\t<tr><td>11</td><td>Diabetasol</td><td>  ga mungkin kan harus pakai gula yang biasa                                                                                                                                                    </td></tr>\n",
              "\t<tr><td>11</td><td>Diabetasol</td><td> \rjadi waktu itu nyoba beliin yang merk ini  harganya lebih bersahabat juga                                                                                                                    </td></tr>\n",
              "\t<tr><td>11</td><td>Diabetasol</td><td> \raku pun nyobain rasa manisnya pas                                                                                                                                                            </td></tr>\n",
              "\t<tr><td>11</td><td>Diabetasol</td><td>  cocok banget untuk penderita diabetes dan yang ingin diet                                                                                                                                     </td></tr>\n",
              "\t<tr><td>11</td><td>Diabetasol</td><td>                                                                                                                                                                                                </td></tr>\n",
              "\t<tr><td>12</td><td>Diabetasol</td><td>gula yang bgus untuk usia lanjut yang mengatur pola gula yang tidak terlalu manis dan bagus buat diet                                                                                           </td></tr>\n",
              "\t<tr><td>⋮</td><td>⋮</td><td>⋮</td></tr>\n",
              "\t<tr><td>67</td><td>TS Stevia</td><td> recomend banget buat yang diet dan juga menghindari diabetes                                                                                                                           </td></tr>\n",
              "\t<tr><td>67</td><td>TS Stevia</td><td>                                                                                                                                                                                        </td></tr>\n",
              "\t<tr><td>68</td><td>TS Stevia</td><td>keluarga saya kebanyakan memiliki diabetes dan untuk mengurangi resiko keturunan tersebut saya sekeluarga menggunakan gula tropicana slim ini selain dari rasanya jg yang pas juga sehat</td></tr>\n",
              "\t<tr><td>69</td><td>TS Stevia</td><td>keluarga saya punya keturunan diabetes dengan adanya tropicana slim stevia ini keluarga  saya jadi tak ragu2 lagi makan makanan manis                                                   </td></tr>\n",
              "\t<tr><td>70</td><td>TS Stevia</td><td>aku pengen bgt bs mencoba produk ini tropicana slim stevia sepertinya bgs ya                                                                                                            </td></tr>\n",
              "\t<tr><td>70</td><td>TS Stevia</td><td> krn aku penyuka sesuatu yg manis tp kdg tkt tinggi calori krn pemanis buatan                                                                                                           </td></tr>\n",
              "\t<tr><td>71</td><td>TS Stevia</td><td>tropicana stevia ini cocok banget buat keluarga saya                                                                                                                                    </td></tr>\n",
              "\t<tr><td>71</td><td>TS Stevia</td><td> biarpun tidak ada riwayat yang kena diabetes tapi setidaknya mencegah lebih baik daripada mengobati                                                                                    </td></tr>\n",
              "\t<tr><td>71</td><td>TS Stevia</td><td> jadi cocok banget buat orang serumah                                                                                                                                                   </td></tr>\n",
              "\t<tr><td>72</td><td>TS Stevia</td><td>enak cocok untuk ibu saya                                                                                                                                                               </td></tr>\n",
              "\t<tr><td>72</td><td>TS Stevia</td><td> rendah gula pokoknya mantap dah                                                                                                                                                        </td></tr>\n",
              "\t<tr><td>73</td><td>TS Stevia</td><td>istriku sangat suka dengan tropicana slim stevia                                                                                                                                        </td></tr>\n",
              "\t<tr><td>73</td><td>TS Stevia</td><td> katanya rasa manisnya pas                                                                                                                                                              </td></tr>\n",
              "\t<tr><td>74</td><td>TS Stevia</td><td>beberapa hari yang lalu saya beli produk ini di salah satu supermarket karena tertarik promo buy 1 get 1 free                                                                           </td></tr>\n",
              "\t<tr><td>74</td><td>TS Stevia</td><td> dari segi harga ketika itu menurut saya lumayan sekali                                                                                                                                 </td></tr>\n",
              "\t<tr><td>74</td><td>TS Stevia</td><td> \rtapi                                                                                                                                                                                 </td></tr>\n",
              "\t<tr><td>74</td><td>TS Stevia</td><td> sebagai pecinta manis saya agak kecewa dengan tingkat kemanisannya                                                                                                                     </td></tr>\n",
              "\t<tr><td>74</td><td>TS Stevia</td><td> sebagai konsumen tropicana slim “classic” stevia tidak bisa dijadikan sebagai pengganti classic                                                                                        </td></tr>\n",
              "\t<tr><td>74</td><td>TS Stevia</td><td> misal: saya buat teh manis                                                                                                                                                             </td></tr>\n",
              "\t<tr><td>74</td><td>TS Stevia</td><td> biasanya dengan classic bisa 2-3 bungkus udah terasa bgt manisnya dengan stevia bisa coba 5 bungkus tp ttp gak menyamai manisnya classic                                               </td></tr>\n",
              "\t<tr><td>74</td><td>TS Stevia</td><td> just my opinion though                                                                                                                                                                 </td></tr>\n",
              "\t<tr><td>74</td><td>TS Stevia</td><td>                                                                                                                                                                                        </td></tr>\n",
              "\t<tr><td>75</td><td>TS Stevia</td><td>saya blm coba                                                                                                                                                                           </td></tr>\n",
              "\t<tr><td>75</td><td>TS Stevia</td><td> maauuu dooonggg tester nya di kirim kerumah                                                                                                                                            </td></tr>\n",
              "\t<tr><td>76</td><td>TS Stevia</td><td>pertama kali liat produk ini tropicana slim stevia melalui iklan di televisi                                                                                                            </td></tr>\n",
              "\t<tr><td>76</td><td>TS Stevia</td><td> saya sangat ingin tahu sekali tentang produk ini saya sering nonton televisi hanya untuk menunggu iklan tropicana slim stevia ditayangkan                                              </td></tr>\n",
              "\t<tr><td>76</td><td>TS Stevia</td><td> ibu saya adalah orang yang memiliki riwayat gula darah atau diabetes                                                                                                                   </td></tr>\n",
              "\t<tr><td>76</td><td>TS Stevia</td><td> saya memiliki kemungkinan yang besar juga mengalami diabetes                                                                                                                           </td></tr>\n",
              "\t<tr><td>76</td><td>TS Stevia</td><td> mau donk mencoba produk gratisnya htc                                                                                                                                                  </td></tr>\n",
              "\t<tr><td>76</td><td>TS Stevia</td><td> terimakasih : )                                                                                                                                                                        </td></tr>\n",
              "</tbody>\n",
              "</table>\n"
            ]
          },
          "metadata": {
            "tags": []
          }
        }
      ]
    },
    {
      "cell_type": "code",
      "metadata": {
        "id": "JnICOZVenaHF"
      },
      "source": [
        "save(data,pre_data,file = \"bahan_blog.rda\")"
      ],
      "execution_count": 34,
      "outputs": []
    }
  ]
}