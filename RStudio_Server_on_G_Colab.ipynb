{
  "nbformat": 4,
  "nbformat_minor": 0,
  "metadata": {
    "colab": {
      "name": "RStudio Server on G-Colab",
      "provenance": [],
      "authorship_tag": "ABX9TyPAWRm7T3r6K6lfgEDIzx4C",
      "include_colab_link": true
    },
    "kernelspec": {
      "name": "python3",
      "display_name": "Python 3"
    },
    "language_info": {
      "name": "python"
    }
  },
  "cells": [
    {
      "cell_type": "markdown",
      "metadata": {
        "id": "view-in-github",
        "colab_type": "text"
      },
      "source": [
        "<a href=\"https://colab.research.google.com/github/ikanx101/G-Colab/blob/main/RStudio_Server_on_G_Colab.ipynb\" target=\"_parent\"><img src=\"https://colab.research.google.com/assets/colab-badge.svg\" alt=\"Open In Colab\"/></a>"
      ]
    },
    {
      "cell_type": "code",
      "metadata": {
        "colab": {
          "base_uri": "https://localhost:8080/"
        },
        "id": "2e83umScA1qP",
        "outputId": "e219d4be-fb5c-425f-f097-0f609d501539"
      },
      "source": [
        "# Add new user called \"rstudio\" and define password (here \"password123\")\n",
        "!sudo useradd -m -s /bin/bash rstudio\n",
        "!echo rstudio:password | chpasswd\n",
        "\n",
        "# Install R and RStudio Server (Don't forget to update version to latest version)\n",
        "!apt-get update\n",
        "!apt-get install r-base\n",
        "!apt-get install libglpk-dev\n"
        "!apt-get install gdebi-core\n",
        "!wget https://download2.rstudio.org/server/bionic/amd64/rstudio-server-1.4.1103-amd64.deb\n",
        "!gdebi -n rstudio-server-1.4.1103-amd64.deb\n",
        "\n",
        "\n",
        "#===============================================================================\n",
        "# ALTERNATIVE 2 (preferred): Use localtunnel \n",
        "#===============================================================================\n",
        "# (see also: https://github.com/naru-T/RstudioServer_on_Colab/blob/master/Rstudio_server.ipynb)\n",
        "# Advantage: Stable usage of RStudio\n",
        "# Disadvantage: Does not run in the background (i.e. Colab blocked)\n",
        "\n",
        "# Install localtunnel\n",
        "!npm install -g npm\n",
        "!npm install -g localtunnel\n",
        "\n",
        "# Run localtunnel to tunnel RStudio app port 8787 to the outside world. \n",
        "# This command runs in the background.\n",
        "!lt --port 8787 \n",
        "\n",
        " # ==> To access to the RStudio server \n",
        " #     - click on this link, \n",
        " #     - click button \"Click to Continue\" on the \"friendly reminder\" page,\n",
        " #     - use the username \"rstudio\" and \n",
        " #     - the password you defined at the first cell (\"password123\" in this example)."
      ],
      "execution_count": null,
      "outputs": [
        {
          "output_type": "stream",
          "name": "stdout",
          "text": [
            "useradd: user 'rstudio' already exists\n",
            "Hit:1 http://security.ubuntu.com/ubuntu bionic-security InRelease\n",
            "Ign:2 https://developer.download.nvidia.com/compute/cuda/repos/ubuntu1804/x86_64  InRelease\n",
            "Hit:3 https://cloud.r-project.org/bin/linux/ubuntu bionic-cran40/ InRelease\n",
            "Hit:4 http://ppa.launchpad.net/c2d4u.team/c2d4u4.0+/ubuntu bionic InRelease\n",
            "Hit:5 http://archive.ubuntu.com/ubuntu bionic InRelease\n",
            "Ign:6 https://developer.download.nvidia.com/compute/machine-learning/repos/ubuntu1804/x86_64  InRelease\n",
            "Hit:7 https://developer.download.nvidia.com/compute/cuda/repos/ubuntu1804/x86_64  Release\n",
            "Hit:8 https://developer.download.nvidia.com/compute/machine-learning/repos/ubuntu1804/x86_64  Release\n",
            "Hit:9 http://archive.ubuntu.com/ubuntu bionic-updates InRelease\n",
            "Hit:10 http://ppa.launchpad.net/cran/libgit2/ubuntu bionic InRelease\n",
            "Hit:11 http://archive.ubuntu.com/ubuntu bionic-backports InRelease\n",
            "Hit:12 http://ppa.launchpad.net/deadsnakes/ppa/ubuntu bionic InRelease\n",
            "Hit:13 http://ppa.launchpad.net/graphics-drivers/ppa/ubuntu bionic InRelease\n",
            "Reading package lists... Done\n",
            "Reading package lists... Done\n",
            "Building dependency tree       \n",
            "Reading state information... Done\n",
            "r-base is already the newest version (4.1.1-1.1804.0).\n",
            "0 upgraded, 0 newly installed, 0 to remove and 72 not upgraded.\n",
            "Reading package lists... Done\n",
            "Building dependency tree       \n",
            "Reading state information... Done\n",
            "gdebi-core is already the newest version (0.9.5.7+nmu2).\n",
            "0 upgraded, 0 newly installed, 0 to remove and 72 not upgraded.\n",
            "--2021-10-26 00:51:16--  https://download2.rstudio.org/server/bionic/amd64/rstudio-server-1.4.1103-amd64.deb\n",
            "Resolving download2.rstudio.org (download2.rstudio.org)... 65.8.246.19, 65.8.246.48, 65.8.246.65, ...\n",
            "Connecting to download2.rstudio.org (download2.rstudio.org)|65.8.246.19|:443... connected.\n",
            "HTTP request sent, awaiting response... 200 OK\n",
            "Length: 55253666 (53M) [application/x-deb]\n",
            "Saving to: ‘rstudio-server-1.4.1103-amd64.deb.1’\n",
            "\n",
            "rstudio-server-1.4. 100%[===================>]  52.69M  38.8MB/s    in 1.4s    \n",
            "\n",
            "2021-10-26 00:51:19 (38.8 MB/s) - ‘rstudio-server-1.4.1103-amd64.deb.1’ saved [55253666/55253666]\n",
            "\n",
            "Reading package lists... Done\n",
            "Building dependency tree        \n",
            "Reading state information... Done\n",
            "Reading state information... Done\n",
            "(Reading database ... 157852 files and directories currently installed.)\n",
            "Preparing to unpack rstudio-server-1.4.1103-amd64.deb ...\n",
            "Unpacking rstudio-server (1.4.1103) over (1.4.1103) ...\n",
            "Couldn't find an alternative telinit implementation to spawn.\n",
            "Setting up rstudio-server (1.4.1103) ...\n",
            "useradd: user 'rstudio-server' already exists\n",
            "Couldn't find an alternative telinit implementation to spawn.\n",
            "Reading package lists... Done\n",
            "Building dependency tree       \n",
            "Reading state information... Done\n",
            "git is already the newest version (1:2.17.1-1ubuntu0.9).\n",
            "0 upgraded, 0 newly installed, 0 to remove and 72 not upgraded.\n",
            "Cloning into '209_ITB'...\n",
            "remote: Enumerating objects: 1238, done.\u001b[K\n",
            "remote: Counting objects: 100% (1238/1238), done.\u001b[K\n",
            "remote: Compressing objects: 100% (938/938), done.\u001b[K\n",
            "remote: Total 1238 (delta 647), reused 843 (delta 262), pack-reused 0\u001b[K\n",
            "Receiving objects: 100% (1238/1238), 107.81 MiB | 35.32 MiB/s, done.\n",
            "Resolving deltas: 100% (647/647), done.\n",
            "\u001b[K\u001b[?25h\n",
            "changed 14 packages, and audited 219 packages in 4s\n",
            "\n",
            "10 packages are looking for funding\n",
            "  run `npm fund` for details\n",
            "\n",
            "3 \u001b[33m\u001b[1mmoderate\u001b[22m\u001b[39m severity vulnerabilities\n",
            "\n",
            "To address all issues, run:\n",
            "  npm audit fix\n",
            "\n",
            "Run `npm audit` for details.\n",
            "\u001b[K\u001b[?25h\n",
            "changed 22 packages, and audited 23 packages in 2s\n",
            "\n",
            "3 packages are looking for funding\n",
            "  run `npm fund` for details\n",
            "\n",
            "found \u001b[32m\u001b[1m0\u001b[22m\u001b[39m vulnerabilities\n",
            "your url is: https://grumpy-pig-23.loca.lt\n"
          ]
        }
      ]
    }
  ]
}
