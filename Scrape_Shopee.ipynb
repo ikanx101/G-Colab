{
  "nbformat": 4,
  "nbformat_minor": 0,
  "metadata": {
    "colab": {
      "name": "Scrape Shopee",
      "provenance": [],
      "authorship_tag": "ABX9TyOZUtF/SN+cKvy+O4gnzXBG",
      "include_colab_link": true
    },
    "kernelspec": {
      "name": "ir",
      "display_name": "R"
    }
  },
  "cells": [
    {
      "cell_type": "markdown",
      "metadata": {
        "id": "view-in-github",
        "colab_type": "text"
      },
      "source": [
        "<a href=\"https://colab.research.google.com/github/ikanx101/G-Colab/blob/main/Scrape_Shopee.ipynb\" target=\"_parent\"><img src=\"https://colab.research.google.com/assets/colab-badge.svg\" alt=\"Open In Colab\"/></a>"
      ]
    },
    {
      "cell_type": "code",
      "metadata": {
        "id": "BSazR8n2A5o3"
      },
      "source": [
        "rm(list=ls())\r\n",
        "library(dplyr)\r\n",
        "library(jsonlite)"
      ],
      "execution_count": 12,
      "outputs": []
    },
    {
      "cell_type": "code",
      "metadata": {
        "id": "iKaozlKyBQsJ"
      },
      "source": [
        "load('hasil scrape.rda')"
      ],
      "execution_count": 13,
      "outputs": []
    },
    {
      "cell_type": "code",
      "metadata": {
        "id": "vrGYKXT9BzPZ"
      },
      "source": [
        "# bikin fungsi scrape\r\n",
        "scrape_shopee = function(url){\r\n",
        "  # buka json\r\n",
        "  tes = read_json(url)\r\n",
        "  #bentuk data frame\r\n",
        "  data = data.frame(\r\n",
        "    nama = tes$item$name,\r\n",
        "    kategori = tes$item$categories[[1]]$display_name,\r\n",
        "    terjual = tes$item$historical_sold,\r\n",
        "    merek = ifelse(is.null(tes$item$brand),'Tidak Ada Merek',tes$item$brand),\r\n",
        "    harga = tes$item$price,\r\n",
        "    harga_normal = tes$item$price_before_discount,\r\n",
        "    link = url\r\n",
        "  )\r\n",
        "  return(data)\r\n",
        "}"
      ],
      "execution_count": 7,
      "outputs": []
    },
    {
      "cell_type": "code",
      "metadata": {
        "id": "MZR824_YB__2"
      },
      "source": [
        "i = 1\r\n",
        "data = scrape_shopee(url[i])"
      ],
      "execution_count": 8,
      "outputs": []
    },
    {
      "cell_type": "code",
      "metadata": {
        "colab": {
          "base_uri": "https://localhost:8080/",
          "height": 116
        },
        "id": "fvNgGfsLCPx6",
        "outputId": "62174f14-7677-4d65-8e23-11023b5551d5"
      },
      "source": [
        "head(data)"
      ],
      "execution_count": 9,
      "outputs": [
        {
          "output_type": "display_data",
          "data": {
            "text/plain": [
              "  nama                                                                  \n",
              "1 Joss C1000 Vitamin C 11 Pack (66 Sachet) FREE Botol Tumbler dan Masker\n",
              "  kategori  terjual merek           harga   harga_normal\n",
              "1 Kesehatan 60      Bintang Toedjoe 9.5e+09 1.49e+10    \n",
              "  link                                                                   \n",
              "1 https://shopee.co.id/api/v2/item/get?itemid=3748179779&shopid=156508041"
            ],
            "text/latex": "A data.frame: 1 × 7\n\\begin{tabular}{r|lllllll}\n  & nama & kategori & terjual & merek & harga & harga\\_normal & link\\\\\n  & <chr> & <chr> & <int> & <chr> & <dbl> & <dbl> & <chr>\\\\\n\\hline\n\t1 & Joss C1000 Vitamin C 11 Pack (66 Sachet) FREE Botol Tumbler dan Masker & Kesehatan & 60 & Bintang Toedjoe & 9.5e+09 & 1.49e+10 & https://shopee.co.id/api/v2/item/get?itemid=3748179779\\&shopid=156508041\\\\\n\\end{tabular}\n",
            "text/markdown": "\nA data.frame: 1 × 7\n\n| <!--/--> | nama &lt;chr&gt; | kategori &lt;chr&gt; | terjual &lt;int&gt; | merek &lt;chr&gt; | harga &lt;dbl&gt; | harga_normal &lt;dbl&gt; | link &lt;chr&gt; |\n|---|---|---|---|---|---|---|---|\n| 1 | Joss C1000 Vitamin C 11 Pack (66 Sachet) FREE Botol Tumbler dan Masker | Kesehatan | 60 | Bintang Toedjoe | 9.5e+09 | 1.49e+10 | https://shopee.co.id/api/v2/item/get?itemid=3748179779&amp;shopid=156508041 |\n\n",
            "text/html": [
              "<table>\n",
              "<caption>A data.frame: 1 × 7</caption>\n",
              "<thead>\n",
              "\t<tr><th></th><th scope=col>nama</th><th scope=col>kategori</th><th scope=col>terjual</th><th scope=col>merek</th><th scope=col>harga</th><th scope=col>harga_normal</th><th scope=col>link</th></tr>\n",
              "\t<tr><th></th><th scope=col>&lt;chr&gt;</th><th scope=col>&lt;chr&gt;</th><th scope=col>&lt;int&gt;</th><th scope=col>&lt;chr&gt;</th><th scope=col>&lt;dbl&gt;</th><th scope=col>&lt;dbl&gt;</th><th scope=col>&lt;chr&gt;</th></tr>\n",
              "</thead>\n",
              "<tbody>\n",
              "\t<tr><th scope=row>1</th><td>Joss C1000 Vitamin C 11 Pack (66 Sachet) FREE Botol Tumbler dan Masker</td><td>Kesehatan</td><td>60</td><td>Bintang Toedjoe</td><td>9.5e+09</td><td>1.49e+10</td><td>https://shopee.co.id/api/v2/item/get?itemid=3748179779&amp;shopid=156508041</td></tr>\n",
              "</tbody>\n",
              "</table>\n"
            ]
          },
          "metadata": {
            "tags": []
          }
        }
      ]
    },
    {
      "cell_type": "code",
      "metadata": {
        "id": "IkVrrbzOCCvW"
      },
      "source": [
        "for(i in 2:length(url)){\r\n",
        "  temp = tryCatch({scrape_shopee(url[i])},\r\n",
        "                  error = function(e){\r\n",
        "                    temp = data.frame(nama = NA,\r\n",
        "                                      kategori = NA,\r\n",
        "                                      terjual = NA,\r\n",
        "                                      merek = NA,\r\n",
        "                                      harga = NA,\r\n",
        "                                      harga_normal = NA,\r\n",
        "                                      link = url)\r\n",
        "                  })\r\n",
        "  data = rbind(data,temp)\r\n",
        "  print(paste0('Alhamdulillah ',i,' sudah didapatkan...'))\r\n",
        "}"
      ],
      "execution_count": 10,
      "outputs": []
    },
    {
      "cell_type": "code",
      "metadata": {
        "id": "qMC2hsO4C1o5",
        "colab": {
          "base_uri": "https://localhost:8080/"
        },
        "outputId": "cbe6b5f4-e536-48d9-9417-5ff5164a620c"
      },
      "source": [
        "i\r\n",
        "str(data)"
      ],
      "execution_count": 17,
      "outputs": [
        {
          "output_type": "stream",
          "text": [
            "'data.frame':\t2815 obs. of  8 variables:\n",
            " $ nama        : chr  \"Joss C1000 Vitamin C 11 Pack (66 Sachet) FREE Botol Tumbler dan Masker\" \"Joss C1000 Vitamin C 6 Pack (36 sachet) FREE Tumblr\" \"ANTI BOCOR!!! ( COD ) Biosyafa G 8 | Bio Toksi | G8 PROBIOTIK SIKLUS BIOSYAFA | KEMASAN 100 ML\" \"Joss C1000 Vitamin C 3 Pack (18 Sachet)\" ...\n",
            " $ kategori    : chr  \"Kesehatan\" \"Kesehatan\" \"Kesehatan\" \"Makanan & Minuman\" ...\n",
            " $ terjual     : int  58 290 289 461 11 241 56 88 30 83 ...\n",
            " $ merek       : chr  \"Bintang Toedjoe\" \"Bintang Toedjoe\" \"Biosyafa\" \"Bintang Toedjoe\" ...\n",
            " $ harga       : num  9.90e+09 5.40e+09 4.50e+09 2.70e+09 1.68e+10 ...\n",
            " $ harga_normal: num  1.49e+10 9.44e+09 0.00 2.97e+09 0.00 ...\n",
            " $ link        : chr  \"https://shopee.co.id/api/v2/item/get?itemid=3748179779&shopid=156508041\" \"https://shopee.co.id/api/v2/item/get?itemid=3752933857&shopid=156508041\" \"https://shopee.co.id/api/v2/item/get?itemid=4435338704&shopid=236304512\" \"https://shopee.co.id/api/v2/item/get?itemid=2722191381&shopid=156508041\" ...\n",
            " $ waktu.scrape: Date, format: \"2021-01-20\" \"2021-01-20\" ...\n"
          ],
          "name": "stdout"
        }
      ]
    },
    {
      "cell_type": "code",
      "metadata": {
        "id": "RQ136c3rCGIG"
      },
      "source": [
        "data$waktu.scrape = Sys.Date()\r\n",
        "raw = rbind(data,raw)\r\n",
        "\r\n",
        "save(raw,url,file = 'hasil scrape new.rda')"
      ],
      "execution_count": null,
      "outputs": []
    }
  ]
}