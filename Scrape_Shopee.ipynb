{
  "nbformat": 4,
  "nbformat_minor": 0,
  "metadata": {
    "colab": {
      "name": "Scrape Shopee",
      "provenance": [],
      "authorship_tag": "ABX9TyMfJNqr+1L2nS1MK8hj3CgE",
      "include_colab_link": true
    },
    "kernelspec": {
      "name": "ir",
      "display_name": "R"
    }
  },
  "cells": [
    {
      "cell_type": "markdown",
      "metadata": {
        "id": "view-in-github",
        "colab_type": "text"
      },
      "source": [
        "<a href=\"https://colab.research.google.com/github/ikanx101/G-Colab/blob/main/Scrape_Shopee.ipynb\" target=\"_parent\"><img src=\"https://colab.research.google.com/assets/colab-badge.svg\" alt=\"Open In Colab\"/></a>"
      ]
    },
    {
      "cell_type": "code",
      "metadata": {
        "id": "BSazR8n2A5o3",
        "colab": {
          "base_uri": "https://localhost:8080/"
        },
        "outputId": "88cf7602-7b3a-411d-caf7-a55ae16702c4"
      },
      "source": [
        "rm(list=ls())\r\n",
        "library(dplyr)\r\n",
        "library(jsonlite)"
      ],
      "execution_count": 1,
      "outputs": [
        {
          "output_type": "stream",
          "text": [
            "\n",
            "Attaching package: ‘dplyr’\n",
            "\n",
            "\n",
            "The following objects are masked from ‘package:stats’:\n",
            "\n",
            "    filter, lag\n",
            "\n",
            "\n",
            "The following objects are masked from ‘package:base’:\n",
            "\n",
            "    intersect, setdiff, setequal, union\n",
            "\n",
            "\n"
          ],
          "name": "stderr"
        }
      ]
    },
    {
      "cell_type": "code",
      "metadata": {
        "id": "iKaozlKyBQsJ"
      },
      "source": [
        "load('hasil scrape.rda')"
      ],
      "execution_count": 2,
      "outputs": []
    },
    {
      "cell_type": "code",
      "metadata": {
        "id": "vrGYKXT9BzPZ"
      },
      "source": [
        "# bikin fungsi scrape\r\n",
        "scrape_shopee = function(url){\r\n",
        "  # buka json\r\n",
        "  tes = read_json(url)\r\n",
        "  #bentuk data frame\r\n",
        "  data = data.frame(\r\n",
        "    nama = tes$item$name,\r\n",
        "    kategori = tes$item$categories[[1]]$display_name,\r\n",
        "    terjual = tes$item$historical_sold,\r\n",
        "    merek = ifelse(is.null(tes$item$brand),'Tidak Ada Merek',tes$item$brand),\r\n",
        "    harga = tes$item$price,\r\n",
        "    harga_normal = tes$item$price_before_discount,\r\n",
        "    link = url\r\n",
        "  )\r\n",
        "  return(data)\r\n",
        "}"
      ],
      "execution_count": 3,
      "outputs": []
    },
    {
      "cell_type": "code",
      "metadata": {
        "id": "MZR824_YB__2"
      },
      "source": [
        "url = url[-1170]\r\n",
        "i = 1\r\n",
        "data = scrape_shopee(url[i])"
      ],
      "execution_count": 4,
      "outputs": []
    },
    {
      "cell_type": "code",
      "metadata": {
        "colab": {
          "base_uri": "https://localhost:8080/",
          "height": 104
        },
        "id": "fvNgGfsLCPx6",
        "outputId": "fc59b7e4-2f2f-48a4-f72f-bdcaa7900778"
      },
      "source": [
        "data"
      ],
      "execution_count": 5,
      "outputs": [
        {
          "output_type": "display_data",
          "data": {
            "text/plain": [
              "  nama                                                                  \n",
              "1 Joss C1000 Vitamin C 11 Pack (66 Sachet) FREE Botol Tumbler dan Masker\n",
              "  kategori  terjual merek           harga   harga_normal\n",
              "1 Kesehatan 58      Bintang Toedjoe 9.9e+09 1.49e+10    \n",
              "  link                                                                   \n",
              "1 https://shopee.co.id/api/v2/item/get?itemid=3748179779&shopid=156508041"
            ],
            "text/latex": "A data.frame: 1 × 7\n\\begin{tabular}{lllllll}\n nama & kategori & terjual & merek & harga & harga\\_normal & link\\\\\n <chr> & <chr> & <int> & <chr> & <dbl> & <dbl> & <chr>\\\\\n\\hline\n\t Joss C1000 Vitamin C 11 Pack (66 Sachet) FREE Botol Tumbler dan Masker & Kesehatan & 58 & Bintang Toedjoe & 9.9e+09 & 1.49e+10 & https://shopee.co.id/api/v2/item/get?itemid=3748179779\\&shopid=156508041\\\\\n\\end{tabular}\n",
            "text/markdown": "\nA data.frame: 1 × 7\n\n| nama &lt;chr&gt; | kategori &lt;chr&gt; | terjual &lt;int&gt; | merek &lt;chr&gt; | harga &lt;dbl&gt; | harga_normal &lt;dbl&gt; | link &lt;chr&gt; |\n|---|---|---|---|---|---|---|\n| Joss C1000 Vitamin C 11 Pack (66 Sachet) FREE Botol Tumbler dan Masker | Kesehatan | 58 | Bintang Toedjoe | 9.9e+09 | 1.49e+10 | https://shopee.co.id/api/v2/item/get?itemid=3748179779&amp;shopid=156508041 |\n\n",
            "text/html": [
              "<table>\n",
              "<caption>A data.frame: 1 × 7</caption>\n",
              "<thead>\n",
              "\t<tr><th scope=col>nama</th><th scope=col>kategori</th><th scope=col>terjual</th><th scope=col>merek</th><th scope=col>harga</th><th scope=col>harga_normal</th><th scope=col>link</th></tr>\n",
              "\t<tr><th scope=col>&lt;chr&gt;</th><th scope=col>&lt;chr&gt;</th><th scope=col>&lt;int&gt;</th><th scope=col>&lt;chr&gt;</th><th scope=col>&lt;dbl&gt;</th><th scope=col>&lt;dbl&gt;</th><th scope=col>&lt;chr&gt;</th></tr>\n",
              "</thead>\n",
              "<tbody>\n",
              "\t<tr><td>Joss C1000 Vitamin C 11 Pack (66 Sachet) FREE Botol Tumbler dan Masker</td><td>Kesehatan</td><td>58</td><td>Bintang Toedjoe</td><td>9.9e+09</td><td>1.49e+10</td><td>https://shopee.co.id/api/v2/item/get?itemid=3748179779&amp;shopid=156508041</td></tr>\n",
              "</tbody>\n",
              "</table>\n"
            ]
          },
          "metadata": {
            "tags": []
          }
        }
      ]
    },
    {
      "cell_type": "code",
      "metadata": {
        "colab": {
          "base_uri": "https://localhost:8080/"
        },
        "id": "IkVrrbzOCCvW",
        "outputId": "92537278-ec15-4546-fb7f-fd1bd878c993"
      },
      "source": [
        "for(i in 2:length(url)){\r\n",
        "  temp = tryCatch({scrape_shopee(url[i])},\r\n",
        "                  error = function(e){\r\n",
        "                    temp = data.frame(nama = NA,\r\n",
        "                                      kategori = NA,\r\n",
        "                                      terjual = NA,\r\n",
        "                                      merek = NA,\r\n",
        "                                      harga = NA,\r\n",
        "                                      harga_normal = NA,\r\n",
        "                                      link = url)\r\n",
        "                  })\r\n",
        "  data = rbind(data,temp)\r\n",
        "  print(paste0('Alhamdulillah ',i,' sudah didapatkan...'))\r\n",
        "}"
      ],
      "execution_count": 9,
      "outputs": [
        {
          "output_type": "stream",
          "text": [
            "[1] \"Alhamdulillah 2552 sudah didapatkan...\"\n",
            "[1] \"Alhamdulillah 2553 sudah didapatkan...\"\n",
            "[1] \"Alhamdulillah 2554 sudah didapatkan...\"\n",
            "[1] \"Alhamdulillah 2555 sudah didapatkan...\"\n",
            "[1] \"Alhamdulillah 2556 sudah didapatkan...\"\n",
            "[1] \"Alhamdulillah 2557 sudah didapatkan...\"\n",
            "[1] \"Alhamdulillah 2558 sudah didapatkan...\"\n",
            "[1] \"Alhamdulillah 2559 sudah didapatkan...\"\n",
            "[1] \"Alhamdulillah 2560 sudah didapatkan...\"\n",
            "[1] \"Alhamdulillah 2561 sudah didapatkan...\"\n",
            "[1] \"Alhamdulillah 2562 sudah didapatkan...\"\n",
            "[1] \"Alhamdulillah 2563 sudah didapatkan...\"\n",
            "[1] \"Alhamdulillah 2564 sudah didapatkan...\"\n",
            "[1] \"Alhamdulillah 2565 sudah didapatkan...\"\n",
            "[1] \"Alhamdulillah 2566 sudah didapatkan...\"\n",
            "[1] \"Alhamdulillah 2567 sudah didapatkan...\"\n",
            "[1] \"Alhamdulillah 2568 sudah didapatkan...\"\n",
            "[1] \"Alhamdulillah 2569 sudah didapatkan...\"\n",
            "[1] \"Alhamdulillah 2570 sudah didapatkan...\"\n",
            "[1] \"Alhamdulillah 2571 sudah didapatkan...\"\n",
            "[1] \"Alhamdulillah 2572 sudah didapatkan...\"\n",
            "[1] \"Alhamdulillah 2573 sudah didapatkan...\"\n",
            "[1] \"Alhamdulillah 2574 sudah didapatkan...\"\n",
            "[1] \"Alhamdulillah 2575 sudah didapatkan...\"\n",
            "[1] \"Alhamdulillah 2576 sudah didapatkan...\"\n",
            "[1] \"Alhamdulillah 2577 sudah didapatkan...\"\n",
            "[1] \"Alhamdulillah 2578 sudah didapatkan...\"\n",
            "[1] \"Alhamdulillah 2579 sudah didapatkan...\"\n",
            "[1] \"Alhamdulillah 2580 sudah didapatkan...\"\n",
            "[1] \"Alhamdulillah 2581 sudah didapatkan...\"\n",
            "[1] \"Alhamdulillah 2582 sudah didapatkan...\"\n",
            "[1] \"Alhamdulillah 2583 sudah didapatkan...\"\n",
            "[1] \"Alhamdulillah 2584 sudah didapatkan...\"\n",
            "[1] \"Alhamdulillah 2585 sudah didapatkan...\"\n",
            "[1] \"Alhamdulillah 2586 sudah didapatkan...\"\n",
            "[1] \"Alhamdulillah 2587 sudah didapatkan...\"\n",
            "[1] \"Alhamdulillah 2588 sudah didapatkan...\"\n",
            "[1] \"Alhamdulillah 2589 sudah didapatkan...\"\n",
            "[1] \"Alhamdulillah 2590 sudah didapatkan...\"\n",
            "[1] \"Alhamdulillah 2591 sudah didapatkan...\"\n",
            "[1] \"Alhamdulillah 2592 sudah didapatkan...\"\n",
            "[1] \"Alhamdulillah 2593 sudah didapatkan...\"\n",
            "[1] \"Alhamdulillah 2594 sudah didapatkan...\"\n",
            "[1] \"Alhamdulillah 2595 sudah didapatkan...\"\n",
            "[1] \"Alhamdulillah 2596 sudah didapatkan...\"\n",
            "[1] \"Alhamdulillah 2597 sudah didapatkan...\"\n",
            "[1] \"Alhamdulillah 2598 sudah didapatkan...\"\n",
            "[1] \"Alhamdulillah 2599 sudah didapatkan...\"\n",
            "[1] \"Alhamdulillah 2600 sudah didapatkan...\"\n",
            "[1] \"Alhamdulillah 2601 sudah didapatkan...\"\n",
            "[1] \"Alhamdulillah 2602 sudah didapatkan...\"\n",
            "[1] \"Alhamdulillah 2603 sudah didapatkan...\"\n",
            "[1] \"Alhamdulillah 2604 sudah didapatkan...\"\n",
            "[1] \"Alhamdulillah 2605 sudah didapatkan...\"\n",
            "[1] \"Alhamdulillah 2606 sudah didapatkan...\"\n",
            "[1] \"Alhamdulillah 2607 sudah didapatkan...\"\n",
            "[1] \"Alhamdulillah 2608 sudah didapatkan...\"\n",
            "[1] \"Alhamdulillah 2609 sudah didapatkan...\"\n",
            "[1] \"Alhamdulillah 2610 sudah didapatkan...\"\n",
            "[1] \"Alhamdulillah 2611 sudah didapatkan...\"\n",
            "[1] \"Alhamdulillah 2612 sudah didapatkan...\"\n",
            "[1] \"Alhamdulillah 2613 sudah didapatkan...\"\n",
            "[1] \"Alhamdulillah 2614 sudah didapatkan...\"\n",
            "[1] \"Alhamdulillah 2615 sudah didapatkan...\"\n",
            "[1] \"Alhamdulillah 2616 sudah didapatkan...\"\n",
            "[1] \"Alhamdulillah 2617 sudah didapatkan...\"\n",
            "[1] \"Alhamdulillah 2618 sudah didapatkan...\"\n",
            "[1] \"Alhamdulillah 2619 sudah didapatkan...\"\n",
            "[1] \"Alhamdulillah 2620 sudah didapatkan...\"\n",
            "[1] \"Alhamdulillah 2621 sudah didapatkan...\"\n",
            "[1] \"Alhamdulillah 2622 sudah didapatkan...\"\n",
            "[1] \"Alhamdulillah 2623 sudah didapatkan...\"\n",
            "[1] \"Alhamdulillah 2624 sudah didapatkan...\"\n",
            "[1] \"Alhamdulillah 2625 sudah didapatkan...\"\n",
            "[1] \"Alhamdulillah 2626 sudah didapatkan...\"\n",
            "[1] \"Alhamdulillah 2627 sudah didapatkan...\"\n",
            "[1] \"Alhamdulillah 2628 sudah didapatkan...\"\n",
            "[1] \"Alhamdulillah 2629 sudah didapatkan...\"\n",
            "[1] \"Alhamdulillah 2630 sudah didapatkan...\"\n",
            "[1] \"Alhamdulillah 2631 sudah didapatkan...\"\n",
            "[1] \"Alhamdulillah 2632 sudah didapatkan...\"\n",
            "[1] \"Alhamdulillah 2633 sudah didapatkan...\"\n",
            "[1] \"Alhamdulillah 2634 sudah didapatkan...\"\n",
            "[1] \"Alhamdulillah 2635 sudah didapatkan...\"\n",
            "[1] \"Alhamdulillah 2636 sudah didapatkan...\"\n",
            "[1] \"Alhamdulillah 2637 sudah didapatkan...\"\n",
            "[1] \"Alhamdulillah 2638 sudah didapatkan...\"\n",
            "[1] \"Alhamdulillah 2639 sudah didapatkan...\"\n",
            "[1] \"Alhamdulillah 2640 sudah didapatkan...\"\n",
            "[1] \"Alhamdulillah 2641 sudah didapatkan...\"\n",
            "[1] \"Alhamdulillah 2642 sudah didapatkan...\"\n",
            "[1] \"Alhamdulillah 2643 sudah didapatkan...\"\n",
            "[1] \"Alhamdulillah 2644 sudah didapatkan...\"\n",
            "[1] \"Alhamdulillah 2645 sudah didapatkan...\"\n",
            "[1] \"Alhamdulillah 2646 sudah didapatkan...\"\n",
            "[1] \"Alhamdulillah 2647 sudah didapatkan...\"\n",
            "[1] \"Alhamdulillah 2648 sudah didapatkan...\"\n",
            "[1] \"Alhamdulillah 2649 sudah didapatkan...\"\n",
            "[1] \"Alhamdulillah 2650 sudah didapatkan...\"\n",
            "[1] \"Alhamdulillah 2651 sudah didapatkan...\"\n",
            "[1] \"Alhamdulillah 2652 sudah didapatkan...\"\n",
            "[1] \"Alhamdulillah 2653 sudah didapatkan...\"\n",
            "[1] \"Alhamdulillah 2654 sudah didapatkan...\"\n",
            "[1] \"Alhamdulillah 2655 sudah didapatkan...\"\n",
            "[1] \"Alhamdulillah 2656 sudah didapatkan...\"\n",
            "[1] \"Alhamdulillah 2657 sudah didapatkan...\"\n",
            "[1] \"Alhamdulillah 2658 sudah didapatkan...\"\n",
            "[1] \"Alhamdulillah 2659 sudah didapatkan...\"\n",
            "[1] \"Alhamdulillah 2660 sudah didapatkan...\"\n",
            "[1] \"Alhamdulillah 2661 sudah didapatkan...\"\n",
            "[1] \"Alhamdulillah 2662 sudah didapatkan...\"\n",
            "[1] \"Alhamdulillah 2663 sudah didapatkan...\"\n",
            "[1] \"Alhamdulillah 2664 sudah didapatkan...\"\n",
            "[1] \"Alhamdulillah 2665 sudah didapatkan...\"\n",
            "[1] \"Alhamdulillah 2666 sudah didapatkan...\"\n",
            "[1] \"Alhamdulillah 2667 sudah didapatkan...\"\n",
            "[1] \"Alhamdulillah 2668 sudah didapatkan...\"\n",
            "[1] \"Alhamdulillah 2669 sudah didapatkan...\"\n",
            "[1] \"Alhamdulillah 2670 sudah didapatkan...\"\n",
            "[1] \"Alhamdulillah 2671 sudah didapatkan...\"\n",
            "[1] \"Alhamdulillah 2672 sudah didapatkan...\"\n",
            "[1] \"Alhamdulillah 2673 sudah didapatkan...\"\n",
            "[1] \"Alhamdulillah 2674 sudah didapatkan...\"\n",
            "[1] \"Alhamdulillah 2675 sudah didapatkan...\"\n",
            "[1] \"Alhamdulillah 2676 sudah didapatkan...\"\n",
            "[1] \"Alhamdulillah 2677 sudah didapatkan...\"\n",
            "[1] \"Alhamdulillah 2678 sudah didapatkan...\"\n",
            "[1] \"Alhamdulillah 2679 sudah didapatkan...\"\n",
            "[1] \"Alhamdulillah 2680 sudah didapatkan...\"\n",
            "[1] \"Alhamdulillah 2681 sudah didapatkan...\"\n",
            "[1] \"Alhamdulillah 2682 sudah didapatkan...\"\n",
            "[1] \"Alhamdulillah 2683 sudah didapatkan...\"\n",
            "[1] \"Alhamdulillah 2684 sudah didapatkan...\"\n",
            "[1] \"Alhamdulillah 2685 sudah didapatkan...\"\n",
            "[1] \"Alhamdulillah 2686 sudah didapatkan...\"\n",
            "[1] \"Alhamdulillah 2687 sudah didapatkan...\"\n",
            "[1] \"Alhamdulillah 2688 sudah didapatkan...\"\n",
            "[1] \"Alhamdulillah 2689 sudah didapatkan...\"\n",
            "[1] \"Alhamdulillah 2690 sudah didapatkan...\"\n",
            "[1] \"Alhamdulillah 2691 sudah didapatkan...\"\n",
            "[1] \"Alhamdulillah 2692 sudah didapatkan...\"\n",
            "[1] \"Alhamdulillah 2693 sudah didapatkan...\"\n",
            "[1] \"Alhamdulillah 2694 sudah didapatkan...\"\n",
            "[1] \"Alhamdulillah 2695 sudah didapatkan...\"\n",
            "[1] \"Alhamdulillah 2696 sudah didapatkan...\"\n",
            "[1] \"Alhamdulillah 2697 sudah didapatkan...\"\n",
            "[1] \"Alhamdulillah 2698 sudah didapatkan...\"\n",
            "[1] \"Alhamdulillah 2699 sudah didapatkan...\"\n",
            "[1] \"Alhamdulillah 2700 sudah didapatkan...\"\n",
            "[1] \"Alhamdulillah 2701 sudah didapatkan...\"\n",
            "[1] \"Alhamdulillah 2702 sudah didapatkan...\"\n",
            "[1] \"Alhamdulillah 2703 sudah didapatkan...\"\n",
            "[1] \"Alhamdulillah 2704 sudah didapatkan...\"\n",
            "[1] \"Alhamdulillah 2705 sudah didapatkan...\"\n",
            "[1] \"Alhamdulillah 2706 sudah didapatkan...\"\n",
            "[1] \"Alhamdulillah 2707 sudah didapatkan...\"\n",
            "[1] \"Alhamdulillah 2708 sudah didapatkan...\"\n",
            "[1] \"Alhamdulillah 2709 sudah didapatkan...\"\n",
            "[1] \"Alhamdulillah 2710 sudah didapatkan...\"\n",
            "[1] \"Alhamdulillah 2711 sudah didapatkan...\"\n",
            "[1] \"Alhamdulillah 2712 sudah didapatkan...\"\n",
            "[1] \"Alhamdulillah 2713 sudah didapatkan...\"\n",
            "[1] \"Alhamdulillah 2714 sudah didapatkan...\"\n",
            "[1] \"Alhamdulillah 2715 sudah didapatkan...\"\n",
            "[1] \"Alhamdulillah 2716 sudah didapatkan...\"\n",
            "[1] \"Alhamdulillah 2717 sudah didapatkan...\"\n",
            "[1] \"Alhamdulillah 2718 sudah didapatkan...\"\n",
            "[1] \"Alhamdulillah 2719 sudah didapatkan...\"\n",
            "[1] \"Alhamdulillah 2720 sudah didapatkan...\"\n",
            "[1] \"Alhamdulillah 2721 sudah didapatkan...\"\n",
            "[1] \"Alhamdulillah 2722 sudah didapatkan...\"\n",
            "[1] \"Alhamdulillah 2723 sudah didapatkan...\"\n",
            "[1] \"Alhamdulillah 2724 sudah didapatkan...\"\n",
            "[1] \"Alhamdulillah 2725 sudah didapatkan...\"\n",
            "[1] \"Alhamdulillah 2726 sudah didapatkan...\"\n",
            "[1] \"Alhamdulillah 2727 sudah didapatkan...\"\n",
            "[1] \"Alhamdulillah 2728 sudah didapatkan...\"\n",
            "[1] \"Alhamdulillah 2729 sudah didapatkan...\"\n",
            "[1] \"Alhamdulillah 2730 sudah didapatkan...\"\n",
            "[1] \"Alhamdulillah 2731 sudah didapatkan...\"\n",
            "[1] \"Alhamdulillah 2732 sudah didapatkan...\"\n",
            "[1] \"Alhamdulillah 2733 sudah didapatkan...\"\n",
            "[1] \"Alhamdulillah 2734 sudah didapatkan...\"\n",
            "[1] \"Alhamdulillah 2735 sudah didapatkan...\"\n",
            "[1] \"Alhamdulillah 2736 sudah didapatkan...\"\n",
            "[1] \"Alhamdulillah 2737 sudah didapatkan...\"\n",
            "[1] \"Alhamdulillah 2738 sudah didapatkan...\"\n",
            "[1] \"Alhamdulillah 2739 sudah didapatkan...\"\n",
            "[1] \"Alhamdulillah 2740 sudah didapatkan...\"\n",
            "[1] \"Alhamdulillah 2741 sudah didapatkan...\"\n",
            "[1] \"Alhamdulillah 2742 sudah didapatkan...\"\n",
            "[1] \"Alhamdulillah 2743 sudah didapatkan...\"\n",
            "[1] \"Alhamdulillah 2744 sudah didapatkan...\"\n",
            "[1] \"Alhamdulillah 2745 sudah didapatkan...\"\n",
            "[1] \"Alhamdulillah 2746 sudah didapatkan...\"\n",
            "[1] \"Alhamdulillah 2747 sudah didapatkan...\"\n",
            "[1] \"Alhamdulillah 2748 sudah didapatkan...\"\n",
            "[1] \"Alhamdulillah 2749 sudah didapatkan...\"\n",
            "[1] \"Alhamdulillah 2750 sudah didapatkan...\"\n",
            "[1] \"Alhamdulillah 2751 sudah didapatkan...\"\n",
            "[1] \"Alhamdulillah 2752 sudah didapatkan...\"\n",
            "[1] \"Alhamdulillah 2753 sudah didapatkan...\"\n",
            "[1] \"Alhamdulillah 2754 sudah didapatkan...\"\n",
            "[1] \"Alhamdulillah 2755 sudah didapatkan...\"\n",
            "[1] \"Alhamdulillah 2756 sudah didapatkan...\"\n",
            "[1] \"Alhamdulillah 2757 sudah didapatkan...\"\n",
            "[1] \"Alhamdulillah 2758 sudah didapatkan...\"\n",
            "[1] \"Alhamdulillah 2759 sudah didapatkan...\"\n",
            "[1] \"Alhamdulillah 2760 sudah didapatkan...\"\n",
            "[1] \"Alhamdulillah 2761 sudah didapatkan...\"\n",
            "[1] \"Alhamdulillah 2762 sudah didapatkan...\"\n",
            "[1] \"Alhamdulillah 2763 sudah didapatkan...\"\n",
            "[1] \"Alhamdulillah 2764 sudah didapatkan...\"\n",
            "[1] \"Alhamdulillah 2765 sudah didapatkan...\"\n",
            "[1] \"Alhamdulillah 2766 sudah didapatkan...\"\n",
            "[1] \"Alhamdulillah 2767 sudah didapatkan...\"\n",
            "[1] \"Alhamdulillah 2768 sudah didapatkan...\"\n",
            "[1] \"Alhamdulillah 2769 sudah didapatkan...\"\n",
            "[1] \"Alhamdulillah 2770 sudah didapatkan...\"\n",
            "[1] \"Alhamdulillah 2771 sudah didapatkan...\"\n",
            "[1] \"Alhamdulillah 2772 sudah didapatkan...\"\n",
            "[1] \"Alhamdulillah 2773 sudah didapatkan...\"\n",
            "[1] \"Alhamdulillah 2774 sudah didapatkan...\"\n",
            "[1] \"Alhamdulillah 2775 sudah didapatkan...\"\n",
            "[1] \"Alhamdulillah 2776 sudah didapatkan...\"\n",
            "[1] \"Alhamdulillah 2777 sudah didapatkan...\"\n",
            "[1] \"Alhamdulillah 2778 sudah didapatkan...\"\n",
            "[1] \"Alhamdulillah 2779 sudah didapatkan...\"\n",
            "[1] \"Alhamdulillah 2780 sudah didapatkan...\"\n",
            "[1] \"Alhamdulillah 2781 sudah didapatkan...\"\n",
            "[1] \"Alhamdulillah 2782 sudah didapatkan...\"\n",
            "[1] \"Alhamdulillah 2783 sudah didapatkan...\"\n",
            "[1] \"Alhamdulillah 2784 sudah didapatkan...\"\n",
            "[1] \"Alhamdulillah 2785 sudah didapatkan...\"\n",
            "[1] \"Alhamdulillah 2786 sudah didapatkan...\"\n",
            "[1] \"Alhamdulillah 2787 sudah didapatkan...\"\n",
            "[1] \"Alhamdulillah 2788 sudah didapatkan...\"\n",
            "[1] \"Alhamdulillah 2789 sudah didapatkan...\"\n",
            "[1] \"Alhamdulillah 2790 sudah didapatkan...\"\n",
            "[1] \"Alhamdulillah 2791 sudah didapatkan...\"\n",
            "[1] \"Alhamdulillah 2792 sudah didapatkan...\"\n",
            "[1] \"Alhamdulillah 2793 sudah didapatkan...\"\n",
            "[1] \"Alhamdulillah 2794 sudah didapatkan...\"\n",
            "[1] \"Alhamdulillah 2795 sudah didapatkan...\"\n",
            "[1] \"Alhamdulillah 2796 sudah didapatkan...\"\n",
            "[1] \"Alhamdulillah 2797 sudah didapatkan...\"\n",
            "[1] \"Alhamdulillah 2798 sudah didapatkan...\"\n",
            "[1] \"Alhamdulillah 2799 sudah didapatkan...\"\n",
            "[1] \"Alhamdulillah 2800 sudah didapatkan...\"\n",
            "[1] \"Alhamdulillah 2801 sudah didapatkan...\"\n",
            "[1] \"Alhamdulillah 2802 sudah didapatkan...\"\n",
            "[1] \"Alhamdulillah 2803 sudah didapatkan...\"\n",
            "[1] \"Alhamdulillah 2804 sudah didapatkan...\"\n",
            "[1] \"Alhamdulillah 2805 sudah didapatkan...\"\n",
            "[1] \"Alhamdulillah 2806 sudah didapatkan...\"\n",
            "[1] \"Alhamdulillah 2807 sudah didapatkan...\"\n",
            "[1] \"Alhamdulillah 2808 sudah didapatkan...\"\n",
            "[1] \"Alhamdulillah 2809 sudah didapatkan...\"\n",
            "[1] \"Alhamdulillah 2810 sudah didapatkan...\"\n",
            "[1] \"Alhamdulillah 2811 sudah didapatkan...\"\n",
            "[1] \"Alhamdulillah 2812 sudah didapatkan...\"\n",
            "[1] \"Alhamdulillah 2813 sudah didapatkan...\"\n",
            "[1] \"Alhamdulillah 2814 sudah didapatkan...\"\n",
            "[1] \"Alhamdulillah 2815 sudah didapatkan...\"\n"
          ],
          "name": "stdout"
        }
      ]
    },
    {
      "cell_type": "code",
      "metadata": {
        "id": "qMC2hsO4C1o5",
        "colab": {
          "base_uri": "https://localhost:8080/",
          "height": 195
        },
        "outputId": "cb4c9485-0609-4490-e7fc-6226e2c73a6c"
      },
      "source": [
        "i\r\n",
        "str(data)"
      ],
      "execution_count": 10,
      "outputs": [
        {
          "output_type": "display_data",
          "data": {
            "text/plain": [
              "[1] 2815"
            ],
            "text/latex": "2815",
            "text/markdown": "2815",
            "text/html": [
              "2815"
            ]
          },
          "metadata": {
            "tags": []
          }
        },
        {
          "output_type": "stream",
          "text": [
            "'data.frame':\t2816 obs. of  7 variables:\n",
            " $ nama        : chr  \"Joss C1000 Vitamin C 11 Pack (66 Sachet) FREE Botol Tumbler dan Masker\" \"Joss C1000 Vitamin C 6 Pack (36 sachet) FREE Tumblr\" \"ANTI BOCOR!!! ( COD ) Biosyafa G 8 | Bio Toksi | G8 PROBIOTIK SIKLUS BIOSYAFA | KEMASAN 100 ML\" \"Joss C1000 Vitamin C 3 Pack (18 Sachet)\" ...\n",
            " $ kategori    : chr  \"Kesehatan\" \"Kesehatan\" \"Kesehatan\" \"Makanan & Minuman\" ...\n",
            " $ terjual     : int  58 290 289 461 11 241 56 88 30 83 ...\n",
            " $ merek       : chr  \"Bintang Toedjoe\" \"Bintang Toedjoe\" \"Biosyafa\" \"Bintang Toedjoe\" ...\n",
            " $ harga       : num  9.90e+09 5.40e+09 4.50e+09 2.70e+09 1.68e+10 ...\n",
            " $ harga_normal: num  1.49e+10 9.44e+09 0.00 2.97e+09 0.00 ...\n",
            " $ link        : chr  \"https://shopee.co.id/api/v2/item/get?itemid=3748179779&shopid=156508041\" \"https://shopee.co.id/api/v2/item/get?itemid=3752933857&shopid=156508041\" \"https://shopee.co.id/api/v2/item/get?itemid=4435338704&shopid=236304512\" \"https://shopee.co.id/api/v2/item/get?itemid=2722191381&shopid=156508041\" ...\n"
          ],
          "name": "stdout"
        }
      ]
    },
    {
      "cell_type": "code",
      "metadata": {
        "id": "RQ136c3rCGIG"
      },
      "source": [
        "data$waktu.scrape = Sys.Date()\r\n",
        "raw = distinct(data)\r\n",
        "\r\n",
        "save(raw,url,file = 'hasil scrape new.rda')"
      ],
      "execution_count": 15,
      "outputs": []
    },
    {
      "cell_type": "code",
      "metadata": {
        "colab": {
          "base_uri": "https://localhost:8080/",
          "height": 33
        },
        "id": "1v_jffdPaC2k",
        "outputId": "157a03e8-b22c-4592-bc5d-aab5420ecb4f"
      },
      "source": [
        "length(url)"
      ],
      "execution_count": 14,
      "outputs": [
        {
          "output_type": "display_data",
          "data": {
            "text/plain": [
              "[1] 2815"
            ],
            "text/latex": "2815",
            "text/markdown": "2815",
            "text/html": [
              "2815"
            ]
          },
          "metadata": {
            "tags": []
          }
        }
      ]
    }
  ]
}