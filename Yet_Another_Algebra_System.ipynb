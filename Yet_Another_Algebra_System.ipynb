{
  "nbformat": 4,
  "nbformat_minor": 0,
  "metadata": {
    "colab": {
      "name": "Yet Another Algebra System",
      "provenance": [],
      "authorship_tag": "ABX9TyN6hbrqcPKLMvONDx1mTGOL",
      "include_colab_link": true
    },
    "kernelspec": {
      "name": "ir",
      "display_name": "R"
    },
    "language_info": {
      "name": "R"
    }
  },
  "cells": [
    {
      "cell_type": "markdown",
      "metadata": {
        "id": "view-in-github",
        "colab_type": "text"
      },
      "source": [
        "<a href=\"https://colab.research.google.com/github/ikanx101/G-Colab/blob/main/Yet_Another_Algebra_System.ipynb\" target=\"_parent\"><img src=\"https://colab.research.google.com/assets/colab-badge.svg\" alt=\"Open In Colab\"/></a>"
      ]
    },
    {
      "cell_type": "code",
      "metadata": {
        "id": "I0BW_J4hIipg"
      },
      "source": [
        "library(\"Ryacas\")"
      ],
      "execution_count": null,
      "outputs": []
    },
    {
      "cell_type": "markdown",
      "metadata": {
        "id": "V8pf0EKcL55b"
      },
      "source": [
        "Misalkan:\n",
        " \n",
        "Diberikan fungsi berikut:\n",
        " \n",
        "$f(x) = x^2 + 7x + 10$ \n",
        " \n",
        "Cari:\n",
        " \n",
        "- Akar persamaan tersebut!\n",
        "- Bentuk faktorisasi!\n",
        "- Turunan $\\frac{1}{dx}f(x)$!\n",
        "- Integral $\\int f(x) dx$\n",
        " \n",
        "Bingung cara ngerjainnya gimana?\n",
        " \n",
        "Pake _mathsolver_? _Gak perlu_, cukup pakai __R__ saja!"
      ]
    },
    {
      "cell_type": "code",
      "metadata": {
        "id": "IDyLRyvRJHRR"
      },
      "source": [
        "# soal\n",
        "eq = \"x^2 + 7*x + 10\""
      ],
      "execution_count": null,
      "outputs": []
    },
    {
      "cell_type": "code",
      "metadata": {
        "colab": {
          "base_uri": "https://localhost:8080/",
          "height": 34
        },
        "id": "tP8Vp7JeKPX1",
        "outputId": "c9b68c73-b3fa-4665-aa72-dac4f4321f05"
      },
      "source": [
        "# mencari akar\n",
        "eq %>% y_fn(\"FindRealRoots\") %>% yac_str()"
      ],
      "execution_count": null,
      "outputs": [
        {
          "output_type": "display_data",
          "data": {
            "text/plain": [
              "[1] \"{-5.,-2.}\""
            ],
            "text/latex": "'\\{-5.,-2.\\}'",
            "text/markdown": "'{-5.,-2.}'",
            "text/html": [
              "'{-5.,-2.}'"
            ]
          },
          "metadata": {
            "tags": []
          }
        }
      ]
    },
    {
      "cell_type": "code",
      "metadata": {
        "colab": {
          "base_uri": "https://localhost:8080/",
          "height": 34
        },
        "id": "85t_60nBJZcp",
        "outputId": "238b694f-d3c2-4b1d-ea01-b188fbf13969"
      },
      "source": [
        "# faktor\n",
        "eq %>% y_fn(\"Factor\") %>% yac_str()"
      ],
      "execution_count": null,
      "outputs": [
        {
          "output_type": "display_data",
          "data": {
            "text/plain": [
              "[1] \"(x+5)*(x+2)\""
            ],
            "text/latex": "'(x+5)*(x+2)'",
            "text/markdown": "'(x+5)*(x+2)'",
            "text/html": [
              "'(x+5)*(x+2)'"
            ]
          },
          "metadata": {
            "tags": []
          }
        }
      ]
    },
    {
      "cell_type": "code",
      "metadata": {
        "colab": {
          "base_uri": "https://localhost:8080/",
          "height": 34
        },
        "id": "ea-EqyegJ_ui",
        "outputId": "a03a3205-c9ce-41a7-80c4-669ef8cdebbd"
      },
      "source": [
        "# mencari turunan\n",
        "eq %>% y_fn(\"D(x)\") %>% yac_str()"
      ],
      "execution_count": null,
      "outputs": [
        {
          "output_type": "display_data",
          "data": {
            "text/plain": [
              "[1] \"2*x+7\""
            ],
            "text/latex": "'2*x+7'",
            "text/markdown": "'2*x+7'",
            "text/html": [
              "'2*x+7'"
            ]
          },
          "metadata": {
            "tags": []
          }
        }
      ]
    },
    {
      "cell_type": "code",
      "metadata": {
        "colab": {
          "base_uri": "https://localhost:8080/",
          "height": 34
        },
        "id": "GGTxcJ3cKtHJ",
        "outputId": "af3e84d9-8c0a-4eb2-ebea-356fb8c92b44"
      },
      "source": [
        "# mencari integral\n",
        "eq %>% y_fn(\"Integrate(x)\") %>% yac_str()"
      ],
      "execution_count": null,
      "outputs": [
        {
          "output_type": "display_data",
          "data": {
            "text/plain": [
              "[1] \"x^3/3+(7*x^2)/2+10*x\""
            ],
            "text/latex": "'x\\textasciicircum{}3/3+(7*x\\textasciicircum{}2)/2+10*x'",
            "text/markdown": "'x^3/3+(7*x^2)/2+10*x'",
            "text/html": [
              "'x^3/3+(7*x^2)/2+10*x'"
            ]
          },
          "metadata": {
            "tags": []
          }
        }
      ]
    }
  ]
}