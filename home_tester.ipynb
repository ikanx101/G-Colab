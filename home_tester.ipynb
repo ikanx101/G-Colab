{
  "nbformat": 4,
  "nbformat_minor": 0,
  "metadata": {
    "colab": {
      "name": "home tester",
      "provenance": [],
      "authorship_tag": "ABX9TyMeLVv9XTtK/qdTJokNrk3u",
      "include_colab_link": true
    },
    "kernelspec": {
      "name": "ir",
      "display_name": "R"
    }
  },
  "cells": [
    {
      "cell_type": "markdown",
      "metadata": {
        "id": "view-in-github",
        "colab_type": "text"
      },
      "source": [
        "<a href=\"https://colab.research.google.com/github/ikanx101/G-Colab/blob/main/home_tester.ipynb\" target=\"_parent\"><img src=\"https://colab.research.google.com/assets/colab-badge.svg\" alt=\"Open In Colab\"/></a>"
      ]
    },
    {
      "cell_type": "code",
      "metadata": {
        "id": "kovx759BfnH9"
      },
      "source": [
        "# sentiment analysis\n",
        "# home tester club\n",
        "\n",
        "library(dplyr)\n",
        "library(tidyr)\n",
        "library(tidytext)"
      ],
      "execution_count": 4,
      "outputs": []
    },
    {
      "cell_type": "code",
      "metadata": {
        "colab": {
          "base_uri": "https://localhost:8080/"
        },
        "id": "gmSkfEuWhJUg",
        "outputId": "d99c1fad-1435-4dd1-9acf-579795cd6dd1"
      },
      "source": [
        "load(\"scrape TS.rda\")\n",
        "str(data)\n",
        "stop = readLines(\"https://raw.githubusercontent.com/stopwords-iso/stopwords-id/master/stopwords-id.txt\")"
      ],
      "execution_count": 6,
      "outputs": [
        {
          "output_type": "stream",
          "text": [
            "'data.frame':\t165 obs. of  4 variables:\n",
            " $ produk   : chr  \"Tropicana Slim Sweet Orange\" \"Tropicana Slim Sweet Orange\" \"Tropicana Slim Sweet Orange\" \"Tropicana Slim Sweet Orange\" ...\n",
            " $ rate     : chr  \"4,9 dari 165 Review & Komentar\" \"4,9 dari 165 Review & Komentar\" \"4,9 dari 165 Review & Komentar\" \"4,9 dari 165 Review & Komentar\" ...\n",
            " $ deskripsi: chr  \"Minuman serbuk instan rasa jeruk yang tinggi serta & 7 vitamin\" \"Minuman serbuk instan rasa jeruk yang tinggi serta & 7 vitamin\" \"Minuman serbuk instan rasa jeruk yang tinggi serta & 7 vitamin\" \"Minuman serbuk instan rasa jeruk yang tinggi serta & 7 vitamin\" ...\n",
            " $ komen    : chr  \"Minuman serbuk rasa jeruk yang manisnya cocok untuk penderita diabetes aman pokoknya\" \"Saya adalah orang yang mengutamakan kesehatan, pingin manis tapi tetap segar saya biasa gunakan tropicana slim \"| __truncated__ \"Suka banget dengan minuman ini, manisnya pas. Buat aku yg nggak suka manis dan menghindarinya yg namanya kalori\"| __truncated__ \"Minumam ini cocok buat yg mau diet kaya aku gini,, yg pnya body over weight. Bukan hanya manfaat nyaa yg keren \"| __truncated__ ...\n"
          ],
          "name": "stdout"
        }
      ]
    },
    {
      "cell_type": "code",
      "metadata": {
        "id": "Qn4mNQaFhw_E"
      },
      "source": [
        "data_komen = data.frame(\n",
        "  id = c(1:length(data$komen),\n",
        "  komen = tolower(data$komen))\n",
        ")"
      ],
      "execution_count": 7,
      "outputs": []
    }
  ]
}