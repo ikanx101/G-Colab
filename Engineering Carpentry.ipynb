{
  "nbformat": 4,
  "nbformat_minor": 0,
  "metadata": {
    "colab": {
      "name": "Engineering",
      "provenance": [],
      "collapsed_sections": [],
      "authorship_tag": "ABX9TyOnpqq5rju6YHRje+fCcUs7",
      "include_colab_link": true
    },
    "kernelspec": {
      "name": "ir",
      "display_name": "R"
    }
  },
  "cells": [
    {
      "cell_type": "markdown",
      "metadata": {
        "id": "view-in-github",
        "colab_type": "text"
      },
      "source": [
        "<a href=\"https://colab.research.google.com/github/ikanx101/G-Colab/blob/main/Engineering%20Carpentry.ipynb\" target=\"_parent\"><img src=\"https://colab.research.google.com/assets/colab-badge.svg\" alt=\"Open In Colab\"/></a>"
      ]
    },
    {
      "cell_type": "code",
      "metadata": {
        "id": "fg4yjlFMtJKg"
      },
      "source": [
        "library(readxl)\n",
        "library(dplyr)\n",
        "library(tidytext)\n",
        "library(tidyr)\n",
        "rm(list=ls())"
      ],
      "execution_count": null,
      "outputs": []
    },
    {
      "cell_type": "code",
      "metadata": {
        "id": "h7TXS97jtlOp"
      },
      "source": [
        "file = \"Data_Mentah (10).xlsx\""
      ],
      "execution_count": null,
      "outputs": []
    },
    {
      "cell_type": "code",
      "metadata": {
        "colab": {
          "base_uri": "https://localhost:8080/"
        },
        "id": "3bu0iMtfurR6",
        "outputId": "0c18cfe0-0513-40b6-963c-275440cc17cb"
      },
      "source": [
        "data = read_excel(file,skip=2) %>% janitor::clean_names()\n",
        "str(data)"
      ],
      "execution_count": null,
      "outputs": [
        {
          "output_type": "stream",
          "text": [
            "tibble [4 × 25] (S3: tbl_df/tbl/data.frame)\n",
            " $ workcenter              : chr [1:4] \"Processing Dairy\" \"Processing Dairy\" \"Processing Dairy\" \"Processing Dairy\"\n",
            " $ mesin                   : chr [1:4] \"Clamp Station CLS2002\" \"Mixer MXR2001\" \"Mixer MXR2001\" \"Mixer MXR2002\"\n",
            " $ dept                    : chr [1:4] \"GRA\" \"GRA\" \"GRA\" \"GRA\"\n",
            " $ wo                      : chr [1:4] \"BC2105-0046\" \"BC2105-0019\" \"BC2105-0031\" \"BC2105-0021\"\n",
            " $ level_kerusakan         : chr [1:4] \"menghambat\" \"menghambat\" \"menghambat\" \"tidak menghambat\"\n",
            " $ level_urgensi           : chr [1:4] \"Emergency\" \"High\" \"Emergency\" \"Medium\"\n",
            " $ estimasi                : chr [1:4] \"1 Hari\" \"1 Hari\" \"1 Hari\" \"1 Hari\"\n",
            " $ requestor               : chr [1:4] \"User GRA\" \"User GRA\" \"User GRA\" \"Fida Hidayah\"\n",
            " $ status_wo               : chr [1:4] \"repaired\" \"done\" \"done\" \"done\"\n",
            " $ waktu_kerusakan_mesin   : POSIXct[1:4], format: \"2021-02-03 17:53:00\" \"2021-02-01 11:34:00\" ...\n",
            " $ waktu_pengajuan_servis  : POSIXct[1:4], format: \"2021-02-03 17:53:00\" \"2021-02-01 11:34:00\" ...\n",
            " $ history_kerusakan       : chr [1:4] \"produk tidak turun\" \"fleksibel hose\" \"suara ubnormal\" \"valve error\"\n",
            " $ deskripsi_kerusakan     : chr [1:4] \"Produk tidak bisa turun\" \"After las, fleksibel tdk masuk corong\" \"suara ubnormal di motor mixer\" \"valve mixer ke discharge hanya terbuka sebagian\"\n",
            " $ failure                 : chr [1:4] \"Pengoperasian tidak normal\" \"Misalignment\" \"Suplai utility kurang/hilang (angin, air, steam, listrik)\" \"Pengoperasian tidak normal\"\n",
            " $ penyebab_masalah        : chr [1:4] \"Produk dr mixer tidak bs terdicharge otomatis ke bin <-- sensor bin error <-- sensor baru (berbeda tipe) sehing\"| __truncated__ \"BFM tidak bisa terpasang pada spigot bawah <-- posisi spigot tidak pas <-- pipa diverter agak condong ke satu s\"| __truncated__ \"Terdengar suara bising dr gearbox mixer saat running <-- gearbox tdk running normal karena daya input kurang <-\"| __truncated__ \"Valve output mixer tidak bisa membuka secara auto dan manual dr display <-- program plc hang <-- terjadi proses\"| __truncated__\n",
            " $ penyelesaian            : chr [1:4] \"1. Cek koneksi di panel -> OK\\r\\n2. Cek fungsi relay -> ok\\r\\n3. Reset power -> ok\\r\\n4. Sensor tdk memberikan \"| __truncated__ \"1. Cek BFM -> #ok (BFM tidak bisa terpasang pada spigot)\\r\\n2. Cek pipa diverter -> #ok (pipa diverter condong \"| __truncated__ \"1. Cek oli gearbox -> OK\\r\\n2. Bongkar cover gearbox -> cek asal getaran dan suara bising\\r\\n3. Test run mesin \"| __truncated__ \"1. Pastikan selektor selenoid berada pada posisi ) -> OK\\r\\n2. Reset semua alarm yg berada di display -> OK\\r\\n\"| __truncated__\n",
            " $ saran                   : chr [1:4] \"Gunaka sensor yg se tipe\" \"PJS kan untuk penggantian pipa penyangga\" \"1. Pelepasan isolator kabel power yg dkt terminasi sehingga kabel tdk kaku\\r\\n2. Re-layout kabel ke motor\\r\\n3.\"| __truncated__ \"1. Mencari tahu ke supplier kenapa ada interrupt program\"\n",
            " $ waktu_mulai_dikerjakan  : POSIXct[1:4], format: \"2021-02-03 18:45:00\" \"2021-02-01 11:35:00\" ...\n",
            " $ waktu_selesai_dikerjakan: POSIXct[1:4], format: \"2021-02-03 19:05:00\" \"2021-02-01 13:00:00\" ...\n",
            " $ catatan_perlu_pmt       : logi [1:4] NA NA NA NA\n",
            " $ alasan_ditolak          : logi [1:4] NA NA NA NA\n",
            " $ waktu_ditolak_wo        : logi [1:4] NA NA NA NA\n",
            " $ ditolak_oleh            : logi [1:4] NA NA NA NA\n",
            " $ waktu_pengecekan        : POSIXct[1:4], format: \"2021-02-03 18:45:00\" \"2021-02-01 11:35:00\" ...\n",
            " $ waktu_status_checked    : POSIXct[1:4], format: \"2021-02-03 19:52:23\" \"2021-02-01 13:43:04\" ...\n"
          ],
          "name": "stdout"
        }
      ]
    },
    {
      "cell_type": "code",
      "metadata": {
        "colab": {
          "base_uri": "https://localhost:8080/",
          "height": 420
        },
        "id": "yGVv_rL7xNtR",
        "outputId": "9c609f98-5c80-49ba-c860-9054037abb37"
      },
      "source": [
        "data = data %>% select(workcenter,mesin,dept,wo,penyebab_masalah)\n",
        "str(data)\n",
        "head(data,3)"
      ],
      "execution_count": null,
      "outputs": [
        {
          "output_type": "stream",
          "text": [
            "tibble [4 × 5] (S3: tbl_df/tbl/data.frame)\n",
            " $ workcenter      : chr [1:4] \"Processing Dairy\" \"Processing Dairy\" \"Processing Dairy\" \"Processing Dairy\"\n",
            " $ mesin           : chr [1:4] \"Clamp Station CLS2002\" \"Mixer MXR2001\" \"Mixer MXR2001\" \"Mixer MXR2002\"\n",
            " $ dept            : chr [1:4] \"GRA\" \"GRA\" \"GRA\" \"GRA\"\n",
            " $ wo              : chr [1:4] \"BC2105-0046\" \"BC2105-0019\" \"BC2105-0031\" \"BC2105-0021\"\n",
            " $ penyebab_masalah: chr [1:4] \"Produk dr mixer tidak bs terdicharge otomatis ke bin <-- sensor bin error <-- sensor baru (berbeda tipe) sehing\"| __truncated__ \"BFM tidak bisa terpasang pada spigot bawah <-- posisi spigot tidak pas <-- pipa diverter agak condong ke satu s\"| __truncated__ \"Terdengar suara bising dr gearbox mixer saat running <-- gearbox tdk running normal karena daya input kurang <-\"| __truncated__ \"Valve output mixer tidak bisa membuka secara auto dan manual dr display <-- program plc hang <-- terjadi proses\"| __truncated__\n"
          ],
          "name": "stdout"
        },
        {
          "output_type": "display_data",
          "data": {
            "text/plain": [
              "  workcenter       mesin                 dept wo         \n",
              "1 Processing Dairy Clamp Station CLS2002 GRA  BC2105-0046\n",
              "2 Processing Dairy Mixer MXR2001         GRA  BC2105-0019\n",
              "3 Processing Dairy Mixer MXR2001         GRA  BC2105-0031\n",
              "  penyebab_masalah                                                                                                                                                                                                                                                                            \n",
              "1 Produk dr mixer tidak bs terdicharge otomatis ke bin <-- sensor bin error <-- sensor baru (berbeda tipe) sehingga perlu setting signal feedback                                                                                                                                             \n",
              "2 BFM tidak bisa terpasang pada spigot bawah <-- posisi spigot tidak pas <-- pipa diverter agak condong ke satu sisi <-- pipa diverter sedikit turun <-- after pengerjaan project output mixer & support penahan pipa yang sudah mulai bending.                                               \n",
              "3 Terdengar suara bising dr gearbox mixer saat running <-- gearbox tdk running normal karena daya input kurang <-- terdapat kabel power yg lepas dr skun di terminal motor <-- tertarik tray kabel saat proses vakuum mesin <- kabel power tidak terikat <- pengikat kabel sdh lapuk dan lepas"
            ],
            "text/latex": "A tibble: 3 × 5\n\\begin{tabular}{lllll}\n workcenter & mesin & dept & wo & penyebab\\_masalah\\\\\n <chr> & <chr> & <chr> & <chr> & <chr>\\\\\n\\hline\n\t Processing Dairy & Clamp Station CLS2002 & GRA & BC2105-0046 & Produk dr mixer tidak bs terdicharge otomatis ke bin <-- sensor bin error <-- sensor baru (berbeda tipe) sehingga perlu setting signal feedback                                                                                                                                             \\\\\n\t Processing Dairy & Mixer MXR2001         & GRA & BC2105-0019 & BFM tidak bisa terpasang pada spigot bawah <-- posisi spigot tidak pas <-- pipa diverter agak condong ke satu sisi <-- pipa diverter sedikit turun <-- after pengerjaan project output mixer \\& support penahan pipa yang sudah mulai bending.                                               \\\\\n\t Processing Dairy & Mixer MXR2001         & GRA & BC2105-0031 & Terdengar suara bising dr gearbox mixer saat running <-- gearbox tdk running normal karena daya input kurang <-- terdapat kabel power yg lepas dr skun di terminal motor <-- tertarik tray kabel saat proses vakuum mesin <- kabel power tidak terikat <- pengikat kabel sdh lapuk dan lepas\\\\\n\\end{tabular}\n",
            "text/markdown": "\nA tibble: 3 × 5\n\n| workcenter &lt;chr&gt; | mesin &lt;chr&gt; | dept &lt;chr&gt; | wo &lt;chr&gt; | penyebab_masalah &lt;chr&gt; |\n|---|---|---|---|---|\n| Processing Dairy | Clamp Station CLS2002 | GRA | BC2105-0046 | Produk dr mixer tidak bs terdicharge otomatis ke bin &lt;-- sensor bin error &lt;-- sensor baru (berbeda tipe) sehingga perlu setting signal feedback                                                                                                                                              |\n| Processing Dairy | Mixer MXR2001         | GRA | BC2105-0019 | BFM tidak bisa terpasang pada spigot bawah &lt;-- posisi spigot tidak pas &lt;-- pipa diverter agak condong ke satu sisi &lt;-- pipa diverter sedikit turun &lt;-- after pengerjaan project output mixer &amp; support penahan pipa yang sudah mulai bending.                                                |\n| Processing Dairy | Mixer MXR2001         | GRA | BC2105-0031 | Terdengar suara bising dr gearbox mixer saat running &lt;-- gearbox tdk running normal karena daya input kurang &lt;-- terdapat kabel power yg lepas dr skun di terminal motor &lt;-- tertarik tray kabel saat proses vakuum mesin &lt;- kabel power tidak terikat &lt;- pengikat kabel sdh lapuk dan lepas |\n\n",
            "text/html": [
              "<table class=\"dataframe\">\n",
              "<caption>A tibble: 3 × 5</caption>\n",
              "<thead>\n",
              "\t<tr><th scope=col>workcenter</th><th scope=col>mesin</th><th scope=col>dept</th><th scope=col>wo</th><th scope=col>penyebab_masalah</th></tr>\n",
              "\t<tr><th scope=col>&lt;chr&gt;</th><th scope=col>&lt;chr&gt;</th><th scope=col>&lt;chr&gt;</th><th scope=col>&lt;chr&gt;</th><th scope=col>&lt;chr&gt;</th></tr>\n",
              "</thead>\n",
              "<tbody>\n",
              "\t<tr><td>Processing Dairy</td><td>Clamp Station CLS2002</td><td>GRA</td><td>BC2105-0046</td><td><span style=white-space:pre-wrap>Produk dr mixer tidak bs terdicharge otomatis ke bin &lt;-- sensor bin error &lt;-- sensor baru (berbeda tipe) sehingga perlu setting signal feedback                                                                                                                                             </span></td></tr>\n",
              "\t<tr><td>Processing Dairy</td><td><span style=white-space:pre-wrap>Mixer MXR2001        </span></td><td>GRA</td><td>BC2105-0019</td><td><span style=white-space:pre-wrap>BFM tidak bisa terpasang pada spigot bawah &lt;-- posisi spigot tidak pas &lt;-- pipa diverter agak condong ke satu sisi &lt;-- pipa diverter sedikit turun &lt;-- after pengerjaan project output mixer &amp; support penahan pipa yang sudah mulai bending.                                               </span></td></tr>\n",
              "\t<tr><td>Processing Dairy</td><td><span style=white-space:pre-wrap>Mixer MXR2001        </span></td><td>GRA</td><td>BC2105-0031</td><td>Terdengar suara bising dr gearbox mixer saat running &lt;-- gearbox tdk running normal karena daya input kurang &lt;-- terdapat kabel power yg lepas dr skun di terminal motor &lt;-- tertarik tray kabel saat proses vakuum mesin &lt;- kabel power tidak terikat &lt;- pengikat kabel sdh lapuk dan lepas</td></tr>\n",
              "</tbody>\n",
              "</table>\n"
            ]
          },
          "metadata": {
            "tags": []
          }
        }
      ]
    },
    {
      "cell_type": "code",
      "metadata": {
        "colab": {
          "base_uri": "https://localhost:8080/",
          "height": 496
        },
        "id": "Yr4uKsjIxwbC",
        "outputId": "4a515d59-da3b-448f-aa79-3f78da691e36"
      },
      "source": [
        "hasil =\n",
        "   data %>%\n",
        "   unnest_tokens(penyebab_masalah,\n",
        "                 penyebab_masalah,\n",
        "                 token = \"regex\",\n",
        "                 pattern = \"<--\")\n",
        "head(hasil)"
      ],
      "execution_count": null,
      "outputs": [
        {
          "output_type": "display_data",
          "data": {
            "text/plain": [
              "  workcenter       mesin                 dept wo         \n",
              "1 Processing Dairy Clamp Station CLS2002 GRA  BC2105-0046\n",
              "2 Processing Dairy Clamp Station CLS2002 GRA  BC2105-0046\n",
              "3 Processing Dairy Clamp Station CLS2002 GRA  BC2105-0046\n",
              "4 Processing Dairy Mixer MXR2001         GRA  BC2105-0019\n",
              "5 Processing Dairy Mixer MXR2001         GRA  BC2105-0019\n",
              "6 Processing Dairy Mixer MXR2001         GRA  BC2105-0019\n",
              "  penyebab_masalah                                                  \n",
              "1 produk dr mixer tidak bs terdicharge otomatis ke bin              \n",
              "2  sensor bin error                                                 \n",
              "3  sensor baru (berbeda tipe) sehingga perlu setting signal feedback\n",
              "4 bfm tidak bisa terpasang pada spigot bawah                        \n",
              "5  posisi spigot tidak pas                                          \n",
              "6  pipa diverter agak condong ke satu sisi                          "
            ],
            "text/latex": "A tibble: 6 × 5\n\\begin{tabular}{lllll}\n workcenter & mesin & dept & wo & penyebab\\_masalah\\\\\n <chr> & <chr> & <chr> & <chr> & <chr>\\\\\n\\hline\n\t Processing Dairy & Clamp Station CLS2002 & GRA & BC2105-0046 & produk dr mixer tidak bs terdicharge otomatis ke bin              \\\\\n\t Processing Dairy & Clamp Station CLS2002 & GRA & BC2105-0046 &  sensor bin error                                                 \\\\\n\t Processing Dairy & Clamp Station CLS2002 & GRA & BC2105-0046 &  sensor baru (berbeda tipe) sehingga perlu setting signal feedback\\\\\n\t Processing Dairy & Mixer MXR2001         & GRA & BC2105-0019 & bfm tidak bisa terpasang pada spigot bawah                        \\\\\n\t Processing Dairy & Mixer MXR2001         & GRA & BC2105-0019 &  posisi spigot tidak pas                                          \\\\\n\t Processing Dairy & Mixer MXR2001         & GRA & BC2105-0019 &  pipa diverter agak condong ke satu sisi                          \\\\\n\\end{tabular}\n",
            "text/markdown": "\nA tibble: 6 × 5\n\n| workcenter &lt;chr&gt; | mesin &lt;chr&gt; | dept &lt;chr&gt; | wo &lt;chr&gt; | penyebab_masalah &lt;chr&gt; |\n|---|---|---|---|---|\n| Processing Dairy | Clamp Station CLS2002 | GRA | BC2105-0046 | produk dr mixer tidak bs terdicharge otomatis ke bin               |\n| Processing Dairy | Clamp Station CLS2002 | GRA | BC2105-0046 |  sensor bin error                                                  |\n| Processing Dairy | Clamp Station CLS2002 | GRA | BC2105-0046 |  sensor baru (berbeda tipe) sehingga perlu setting signal feedback |\n| Processing Dairy | Mixer MXR2001         | GRA | BC2105-0019 | bfm tidak bisa terpasang pada spigot bawah                         |\n| Processing Dairy | Mixer MXR2001         | GRA | BC2105-0019 |  posisi spigot tidak pas                                           |\n| Processing Dairy | Mixer MXR2001         | GRA | BC2105-0019 |  pipa diverter agak condong ke satu sisi                           |\n\n",
            "text/html": [
              "<table class=\"dataframe\">\n",
              "<caption>A tibble: 6 × 5</caption>\n",
              "<thead>\n",
              "\t<tr><th scope=col>workcenter</th><th scope=col>mesin</th><th scope=col>dept</th><th scope=col>wo</th><th scope=col>penyebab_masalah</th></tr>\n",
              "\t<tr><th scope=col>&lt;chr&gt;</th><th scope=col>&lt;chr&gt;</th><th scope=col>&lt;chr&gt;</th><th scope=col>&lt;chr&gt;</th><th scope=col>&lt;chr&gt;</th></tr>\n",
              "</thead>\n",
              "<tbody>\n",
              "\t<tr><td>Processing Dairy</td><td>Clamp Station CLS2002</td><td>GRA</td><td>BC2105-0046</td><td>produk dr mixer tidak bs terdicharge otomatis ke bin              </td></tr>\n",
              "\t<tr><td>Processing Dairy</td><td>Clamp Station CLS2002</td><td>GRA</td><td>BC2105-0046</td><td> sensor bin error                                                 </td></tr>\n",
              "\t<tr><td>Processing Dairy</td><td>Clamp Station CLS2002</td><td>GRA</td><td>BC2105-0046</td><td> sensor baru (berbeda tipe) sehingga perlu setting signal feedback</td></tr>\n",
              "\t<tr><td>Processing Dairy</td><td>Mixer MXR2001        </td><td>GRA</td><td>BC2105-0019</td><td>bfm tidak bisa terpasang pada spigot bawah                        </td></tr>\n",
              "\t<tr><td>Processing Dairy</td><td>Mixer MXR2001        </td><td>GRA</td><td>BC2105-0019</td><td> posisi spigot tidak pas                                          </td></tr>\n",
              "\t<tr><td>Processing Dairy</td><td>Mixer MXR2001        </td><td>GRA</td><td>BC2105-0019</td><td> pipa diverter agak condong ke satu sisi                          </td></tr>\n",
              "</tbody>\n",
              "</table>\n"
            ]
          },
          "metadata": {
            "tags": []
          }
        }
      ]
    },
    {
      "cell_type": "code",
      "metadata": {
        "id": "8wl2VKcsykBH"
      },
      "source": [
        "hasil %>% write.csv(\"after.csv\")\n",
        "data %>% write.csv(\"before.csv\")"
      ],
      "execution_count": null,
      "outputs": []
    },
    {
      "cell_type": "code",
      "metadata": {
        "colab": {
          "base_uri": "https://localhost:8080/"
        },
        "id": "smb4p2je1b9k",
        "outputId": "dd2356dc-5744-44c9-f658-524d8063c236"
      },
      "source": [
        "hasil2 =\n",
        "  data %>%\n",
        "  separate(penyebab_masalah,\n",
        "           into = c(\"why1\",\"why2\",\"why3\",\"why4\",\"why5\",\"why\",\"why6\"),\n",
        "           sep = \"<--\")"
      ],
      "execution_count": null,
      "outputs": [
        {
          "output_type": "stream",
          "text": [
            "Warning message:\n",
            "“Expected 7 pieces. Missing pieces filled with `NA` in 4 rows [1, 2, 3, 4].”\n"
          ],
          "name": "stderr"
        }
      ]
    },
    {
      "cell_type": "code",
      "metadata": {
        "id": "KSMF8-zJ20WL"
      },
      "source": [
        "hasil2 %>% write.csv(\"after lagi.csv\")"
      ],
      "execution_count": null,
      "outputs": []
    }
  ]
}