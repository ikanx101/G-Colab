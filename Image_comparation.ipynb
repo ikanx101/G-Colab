{
  "nbformat": 4,
  "nbformat_minor": 0,
  "metadata": {
    "colab": {
      "name": "Image comparation",
      "provenance": [],
      "collapsed_sections": [],
      "authorship_tag": "ABX9TyOndJRgIeWsMCCFCysz0H9r",
      "include_colab_link": true
    },
    "kernelspec": {
      "name": "ir",
      "display_name": "R"
    }
  },
  "cells": [
    {
      "cell_type": "markdown",
      "metadata": {
        "id": "view-in-github",
        "colab_type": "text"
      },
      "source": [
        "<a href=\"https://colab.research.google.com/github/ikanx101/G-Colab/blob/main/Image_comparation.ipynb\" target=\"_parent\"><img src=\"https://colab.research.google.com/assets/colab-badge.svg\" alt=\"Open In Colab\"/></a>"
      ]
    },
    {
      "cell_type": "markdown",
      "metadata": {
        "id": "mLyVdHFVTvmA"
      },
      "source": [
        "# Image Comparison Algorithm\n",
        "\n",
        "Cara pakai: \n",
        "1. _Upload_ `2` _images_ yang hendak dibandingkan.\n",
        "1. Tuliskan nama _files_ sesuai dengan peruntukkannya:\n",
        "  - _File_ gambar yang dijadikan basis.\n",
        "  - _File_ gambar yang akan dibandingkan.\n",
        "  - Masukkan nilai sensitivitas yang dikehendaki.\n",
        "1. Silakan run _code chunks_:\n",
        "  - _Chunk_ 1 cukup di-_run_ sekali saja.\n",
        "  - Jika ingin menggunakan gambar lain atau mengganti _files_, cukup _run_ _chunk_ 2 dan seterusnya.\n",
        "1. Tunggu prosesnya hingga selesai. Akan ada pesan `-DONE-` di akhir baris.\n",
        "\n",
        "_Created by_: [Ikang](https://ikanx101.com/)\n",
        "\n",
        "_feel free to discuss_"
      ]
    },
    {
      "cell_type": "code",
      "metadata": {
        "cellView": "form",
        "id": "Dm6C5FK0UuuT"
      },
      "source": [
        "#@title __Chunk 1__: Cukup _run chunk_ ini sekali di awal Anda membuka _notebook_ ini.\n",
        "# Install berbagai macam alat dan bumbu\n",
        "system(\"apt install libfftw3-dev\")\n",
        "install.packages(\"BiocManager\")\n",
        "BiocManager::install(\"EBImage\")\n",
        "install.packages(\"ggpubr\")"
      ],
      "execution_count": null,
      "outputs": []
    },
    {
      "cell_type": "code",
      "metadata": {
        "id": "UnfLH14_-Ohm",
        "cellView": "form"
      },
      "source": [
        "#@title Masukkan nama _files_ lengkap beserta _extention_-nya di sini:\n",
        "\n",
        "# sucikan hati\n",
        "rm(list=ls())\n",
        "\n",
        "# panggil libraries\n",
        "library(EBImage)\n",
        "library(dplyr)\n",
        "library(grid)\n",
        "library(ggplot2)\n",
        "library(ggpubr)\n",
        "\n",
        "nama_1 <- \"asli.png\" #@param {type:\"string\"}\n",
        "nama_2 <- \"new.png\" #@param {type:\"string\"}\n",
        "sensitivitas <- 0.1 #@param {type:\"number\"}"
      ],
      "execution_count": null,
      "outputs": []
    },
    {
      "cell_type": "code",
      "metadata": {
        "id": "HsYbk8mOEfZ5",
        "cellView": "form"
      },
      "source": [
        "#@title Dimensi dari kedua _images_:\n",
        "# membaca kedua gambar\n",
        "img_1 = readImage(nama_1)\n",
        "img_2 = readImage(nama_2)\n",
        "\n",
        "print(\"======================\")\n",
        "print(\"--Dimensi image 1--\")\n",
        "print(paste(\"width:\",dim(img_1)[1]))\n",
        "print(paste(\"height:\",dim(img_1)[2]))\n",
        "print(\"======================\")\n",
        "print(\"--Dimensi image 2--\")\n",
        "print(paste(\"width:\",dim(img_2)[1]))\n",
        "print(paste(\"height:\",dim(img_2)[2]))\n",
        "print(\"======================\")\n",
        "ket = \n",
        " ifelse(dim(img_1)[1] == dim(img_2)[1] &\n",
        "        dim(img_1)[2] == dim(img_2)[2],\n",
        "      \"Kedua images memiliki dimensi yang sama\",\n",
        "      \"Kedua images memiliki dimensi yang berbeda\")\n",
        "print(\"Keterangan:\")\n",
        "print(ket)"
      ],
      "execution_count": null,
      "outputs": []
    },
    {
      "cell_type": "code",
      "metadata": {
        "id": "mRRtZxzzFFQJ",
        "cellView": "form"
      },
      "source": [
        "#@title Proses _resizing_ dan perhitungan kesamaan antara kedua _images_: \n",
        "w = max(dim(img_1)[1],dim(img_2)[1])\n",
        "h = max(dim(img_1)[2],dim(img_2)[2])\n",
        "img_1 = resize(img_1,w,h)\n",
        "img_2 = resize(img_2,w,h)\n",
        "\n",
        "gbr_1 = imageData(img_1) \n",
        "gbr_2 = imageData(img_2)\n",
        "\n",
        "mat_gam = abs(gbr_1-gbr_2) < sensitivitas\n",
        "result = which(mat_gam == F, arr.ind = T)\n",
        "result = as.data.frame(result)\n",
        "result =\n",
        "        result %>% \n",
        "        group_by(dim1,dim2) %>% \n",
        "        summarise(freq = n()) %>% \n",
        "        ungroup() %>%\n",
        "        filter(freq == max(freq))\n",
        "\n",
        "image_new = readImage(nama_2)\n",
        "g = rasterGrob(image_new,width=unit(1,\"npc\"), height=unit(1,\"npc\"), interpolate=F)\n",
        "      \n",
        "qplot(1:w, 1:w, geom=\"blank\") +\n",
        "      annotation_custom(g, xmin=1, xmax=w, ymin=1, ymax=h) +\n",
        "      geom_point(aes(x = result$dim1,\n",
        "                     y = h-result$dim2),\n",
        "                 size = .05,\n",
        "                 color = \"darkred\",\n",
        "                 shape = 4) +\n",
        "      theme_minimal() +\n",
        "      labs(title = \"Apa saja perbedaan dari gambar ini ke gambar basis?\",\n",
        "           subtitle = \"Algoritma Match Matriks Gambar\",\n",
        "           caption = \"Dibuat oleh\\nikanx101.com\\nmenggunakan R\") +\n",
        "      theme(axis.text = element_blank(),\n",
        "            axis.title = element_blank())\n",
        "\n",
        "print(\"- DONE -\")"
      ],
      "execution_count": null,
      "outputs": []
    }
  ]
}