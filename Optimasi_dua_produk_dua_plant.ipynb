{
  "nbformat": 4,
  "nbformat_minor": 0,
  "metadata": {
    "colab": {
      "name": "Optimasi dua produk dua plant",
      "provenance": [],
      "collapsed_sections": [],
      "authorship_tag": "ABX9TyNnNM+gVy96HeYoW3g4sRpU",
      "include_colab_link": true
    },
    "kernelspec": {
      "display_name": "R",
      "name": "ir"
    }
  },
  "cells": [
    {
      "cell_type": "markdown",
      "metadata": {
        "id": "view-in-github",
        "colab_type": "text"
      },
      "source": [
        "<a href=\"https://colab.research.google.com/github/ikanx101/G-Colab/blob/main/Optimasi_dua_produk_dua_plant.ipynb\" target=\"_parent\"><img src=\"https://colab.research.google.com/assets/colab-badge.svg\" alt=\"Open In Colab\"/></a>"
      ]
    },
    {
      "cell_type": "code",
      "metadata": {
        "id": "zBMEp-YXAJGg"
      },
      "source": [
        "#system(\"sudo apt-get install libglpk-dev\")\n",
        "#install.packages(\"ROI\")\n",
        "#install.packages(\"ompr\")\n",
        "#install.packages(\"ompr.roi\")\n",
        "#install.packages(\"ROI.plugin.glpk\")"
      ],
      "execution_count": 134,
      "outputs": []
    },
    {
      "cell_type": "code",
      "metadata": {
        "id": "3LxS87n8AQZs"
      },
      "source": [
        "library(dplyr)\n",
        "library(ompr)\n",
        "library(ompr.roi)\n",
        "library(ROI.plugin.glpk)\n",
        "library(ggplot2)\n",
        "\n",
        "rm(list=ls())"
      ],
      "execution_count": 135,
      "outputs": []
    },
    {
      "cell_type": "code",
      "metadata": {
        "colab": {
          "base_uri": "https://localhost:8080/",
          "height": 140
        },
        "id": "0wqhQVeSASqZ",
        "outputId": "99f84fe6-37a8-43cf-c771-170ddf185b9c"
      },
      "source": [
        "problem = \n",
        "data.frame(\n",
        "  keterangan = c(\"Cars\",\"Trucks\",\"Man Hour\"),\n",
        "  plant_1 = c(\"2 man days\",\"5 man days\",\"150 man days\"),\n",
        "  plant_2 = c(\"3 man days\",\"3 man days\",\"140 man days\"),\n",
        "  demand_perweeks = c(50,30,\"\"),\n",
        "  profit = c(150,250,\"\")\n",
        ")\n",
        "\n",
        "problem"
      ],
      "execution_count": 136,
      "outputs": [
        {
          "output_type": "display_data",
          "data": {
            "text/plain": [
              "  keterangan plant_1      plant_2      demand_perweeks profit\n",
              "1 Cars       2 man days   3 man days   50              150   \n",
              "2 Trucks     5 man days   3 man days   30              250   \n",
              "3 Man Hour   150 man days 140 man days                       "
            ],
            "text/latex": "A data.frame: 3 × 5\n\\begin{tabular}{lllll}\n keterangan & plant\\_1 & plant\\_2 & demand\\_perweeks & profit\\\\\n <chr> & <chr> & <chr> & <chr> & <chr>\\\\\n\\hline\n\t Cars     & 2 man days   & 3 man days   & 50 & 150\\\\\n\t Trucks   & 5 man days   & 3 man days   & 30 & 250\\\\\n\t Man Hour & 150 man days & 140 man days &    &    \\\\\n\\end{tabular}\n",
            "text/markdown": "\nA data.frame: 3 × 5\n\n| keterangan &lt;chr&gt; | plant_1 &lt;chr&gt; | plant_2 &lt;chr&gt; | demand_perweeks &lt;chr&gt; | profit &lt;chr&gt; |\n|---|---|---|---|---|\n| Cars     | 2 man days   | 3 man days   | 50 | 150 |\n| Trucks   | 5 man days   | 3 man days   | 30 | 250 |\n| Man Hour | 150 man days | 140 man days | <!----> | <!----> |\n\n",
            "text/html": [
              "<table>\n",
              "<caption>A data.frame: 3 × 5</caption>\n",
              "<thead>\n",
              "\t<tr><th scope=col>keterangan</th><th scope=col>plant_1</th><th scope=col>plant_2</th><th scope=col>demand_perweeks</th><th scope=col>profit</th></tr>\n",
              "\t<tr><th scope=col>&lt;chr&gt;</th><th scope=col>&lt;chr&gt;</th><th scope=col>&lt;chr&gt;</th><th scope=col>&lt;chr&gt;</th><th scope=col>&lt;chr&gt;</th></tr>\n",
              "</thead>\n",
              "<tbody>\n",
              "\t<tr><td>Cars    </td><td>2 man days  </td><td>3 man days  </td><td>50</td><td>150</td></tr>\n",
              "\t<tr><td>Trucks  </td><td>5 man days  </td><td>3 man days  </td><td>30</td><td>250</td></tr>\n",
              "\t<tr><td>Man Hour</td><td>150 man days</td><td>140 man days</td><td>  </td><td>   </td></tr>\n",
              "</tbody>\n",
              "</table>\n"
            ]
          },
          "metadata": {
            "tags": []
          }
        }
      ]
    },
    {
      "cell_type": "code",
      "metadata": {
        "id": "KTmyf31vtG93"
      },
      "source": [
        "# misalkan:\n",
        "# i : banyak produk, i=1,2\n",
        "# j : banyak plant, j=1,2\n",
        "\n",
        "# x[i,j] banyaknya produk i yang diproduksi di plant j\n",
        "# profit[i] : profit pada produk i"
      ],
      "execution_count": 137,
      "outputs": []
    },
    {
      "cell_type": "code",
      "metadata": {
        "colab": {
          "base_uri": "https://localhost:8080/",
          "height": 139
        },
        "id": "iK74VEbhUPsq",
        "outputId": "d01b6af8-ebf1-4e1c-9d5e-e1d102c713c4"
      },
      "source": [
        "profit = c(150,250)\n",
        "\n",
        "model = \n",
        "  MIPModel() %>%\n",
        "  add_variable(x[i,j],\n",
        "               i = 1:2,\n",
        "               j = 1:2,\n",
        "               type = \"integer\",\n",
        "               lb = 0) %>%\n",
        "  set_objective(sum_expr(x[i,j] * profit[i], i = 1:2,j = 1:2),\n",
        "                \"max\"\n",
        "               ) %>%\n",
        "  add_constraint(2 * x[1,1] + 5 * x[2,1] <= 150) %>%\n",
        "  add_constraint(3 * x[1,2] + 3 * x[2,2] <= 140) %>%\n",
        "  add_constraint(x[1,1] + x[1,2] >= 50) %>%\n",
        "  add_constraint(x[2,1] + x[2,2] >= 30)\n",
        "model\n"
      ],
      "execution_count": 138,
      "outputs": [
        {
          "output_type": "display_data",
          "data": {
            "text/plain": [
              "Mixed integer linear optimization problem\n",
              "Variables:\n",
              "  Continuous: 0 \n",
              "  Integer: 4 \n",
              "  Binary: 0 \n",
              "Model sense: maximize \n",
              "Constraints: 4 "
            ]
          },
          "metadata": {
            "tags": []
          }
        }
      ]
    },
    {
      "cell_type": "code",
      "metadata": {
        "colab": {
          "base_uri": "https://localhost:8080/"
        },
        "id": "gvrPOGG_WTZV",
        "outputId": "6d08836c-64ee-4d07-95f2-291c6fc7c200"
      },
      "source": [
        "result <- solve_model(model, with_ROI(solver = \"glpk\", verbose = TRUE))\n"
      ],
      "execution_count": 139,
      "outputs": [
        {
          "output_type": "stream",
          "text": [
            "<SOLVER MSG>  ----\n",
            "GLPK Simplex Optimizer, v4.65\n",
            "4 rows, 4 columns, 8 non-zeros\n",
            "      0: obj =  -0.000000000e+00 inf =   8.000e+01 (2)\n",
            "      3: obj =   1.500000000e+04 inf =   0.000e+00 (0)\n",
            "*     5: obj =   2.291666667e+04 inf =   0.000e+00 (0)\n",
            "OPTIMAL LP SOLUTION FOUND\n",
            "GLPK Integer Optimizer, v4.65\n",
            "4 rows, 4 columns, 8 non-zeros\n",
            "4 integer variables, none of which are binary\n",
            "Integer optimization begins...\n",
            "Long-step dual simplex will be used\n",
            "+     5: mip =     not found yet <=              +inf        (1; 0)\n",
            "+     7: >>>>>   2.275000000e+04 <=   2.280000000e+04   0.2% (2; 0)\n",
            "+     7: mip =   2.275000000e+04 <=     tree is empty   0.0% (0; 3)\n",
            "INTEGER OPTIMAL SOLUTION FOUND\n",
            "<!SOLVER MSG> ----\n"
          ],
          "name": "stdout"
        }
      ]
    },
    {
      "cell_type": "code",
      "metadata": {
        "colab": {
          "base_uri": "https://localhost:8080/",
          "height": 35
        },
        "id": "yR_hIvlLczux",
        "outputId": "c8a2a68e-78b2-44da-9365-49b55c874d36"
      },
      "source": [
        "result$solution"
      ],
      "execution_count": 140,
      "outputs": [
        {
          "output_type": "display_data",
          "data": {
            "text/plain": [
              "x[1,1] x[2,1] x[1,2] x[2,2] \n",
              "    75      0      0     46 "
            ],
            "text/latex": "\\begin{description*}\n\\item[x\\{{[}\\}1,1\\{{]}\\}] 75\n\\item[x\\{{[}\\}2,1\\{{]}\\}] 0\n\\item[x\\{{[}\\}1,2\\{{]}\\}] 0\n\\item[x\\{{[}\\}2,2\\{{]}\\}] 46\n\\end{description*}\n",
            "text/markdown": "x[1,1]\n:   75x[2,1]\n:   0x[1,2]\n:   0x[2,2]\n:   46\n\n",
            "text/html": [
              "<style>\n",
              ".dl-inline {width: auto; margin:0; padding: 0}\n",
              ".dl-inline>dt, .dl-inline>dd {float: none; width: auto; display: inline-block}\n",
              ".dl-inline>dt::after {content: \":\\0020\"; padding-right: .5ex}\n",
              ".dl-inline>dt:not(:first-of-type) {padding-left: .5ex}\n",
              "</style><dl class=dl-inline><dt>x[1,1]</dt><dd>75</dd><dt>x[2,1]</dt><dd>0</dd><dt>x[1,2]</dt><dd>0</dd><dt>x[2,2]</dt><dd>46</dd></dl>\n"
            ]
          },
          "metadata": {
            "tags": []
          }
        }
      ]
    },
    {
      "cell_type": "code",
      "metadata": {
        "colab": {
          "base_uri": "https://localhost:8080/",
          "height": 35
        },
        "id": "6ftf8taV-Stt",
        "outputId": "82a8f9bb-adc9-426f-eb3e-d87c99948ca6"
      },
      "source": [
        "result$objective_value"
      ],
      "execution_count": 141,
      "outputs": [
        {
          "output_type": "display_data",
          "data": {
            "text/plain": [
              "[1] 22750"
            ],
            "text/latex": "22750",
            "text/markdown": "22750",
            "text/html": [
              "22750"
            ]
          },
          "metadata": {
            "tags": []
          }
        }
      ]
    }
  ]
}