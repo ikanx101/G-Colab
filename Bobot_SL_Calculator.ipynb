{
  "nbformat": 4,
  "nbformat_minor": 0,
  "metadata": {
    "colab": {
      "name": "Bobot SL Calculator",
      "provenance": [],
      "collapsed_sections": [],
      "authorship_tag": "ABX9TyOIoTPCHyUkEscX7y+HIikJ",
      "include_colab_link": true
    },
    "kernelspec": {
      "name": "ir",
      "display_name": "R"
    }
  },
  "cells": [
    {
      "cell_type": "markdown",
      "metadata": {
        "id": "view-in-github",
        "colab_type": "text"
      },
      "source": [
        "<a href=\"https://colab.research.google.com/github/ikanx101/G-Colab/blob/main/Bobot_SL_Calculator.ipynb\" target=\"_parent\"><img src=\"https://colab.research.google.com/assets/colab-badge.svg\" alt=\"Open In Colab\"/></a>"
      ]
    },
    {
      "cell_type": "markdown",
      "metadata": {
        "id": "eae6Xy1DqOfX"
      },
      "source": [
        "# _Customer Satisfaction & Loyalty Index_ \n",
        "## Kalkulator Bobot\n",
        "\n",
        "Cara pakai:\n",
        "\n",
        "1. Upload data Anda kedalam Google Colab ini. Data berupa file berekstensi `.xls` atau `.xlsx`.\n",
        "  1. Ganti `nama_file` dengan nama _file_ yang di-_upload_.\n",
        "  1. Tulis model relasi yang diinginkan. Gunakan tanda __\",\"__ (koma) di antara variabel yang akan dihitung.\n",
        "1. Silakan pilih `Runtime` -> `Run All`.\n",
        "1. Hasil perhitungan bernama `Hasil Perhitungan Bobot.csv`.\n",
        "1. Silakan _download_ _file_ tersebut.\n",
        "\n",
        "_Created by_: [Ikang](https://ikanx101.com/)\n",
        "\n",
        "_feel free to discuss_"
      ]
    },
    {
      "cell_type": "code",
      "metadata": {
        "id": "NSmViHLArxry",
        "cellView": "form"
      },
      "source": [
        "#@title Masukkan Informasi Berikut Ini\n",
        "rm(list=ls())\n",
        "nama_file <- \"Data Contoh CSLS.xlsx\" #@param {type:\"string\"}\n",
        "model <- \"loyal_1,loyal_2,loyal_3,loyal_4\" #@param {type:\"string\"}\n",
        "model = trimws(model)\n",
        "model = gsub(\"\\\\,\",\"+\",model)\n",
        "model = paste0(\"index =~ \",model)"
      ],
      "execution_count": null,
      "outputs": []
    },
    {
      "cell_type": "code",
      "metadata": {
        "id": "vreY-Xr3qJmD",
        "cellView": "form"
      },
      "source": [
        "#@title Cara kerja: Menggunakan _Confirmatory Factor Analysis_ (Atau __SEM__) yang di-_run_ menggunakan `library(lavaan)` di __R__.\n",
        "install.packages(\"lavaan\")\n",
        "library(lavaan)\n",
        "library(dplyr)\n",
        "library(readxl)\n",
        "\n",
        "data = read_excel(nama_file)\n",
        "hasil = cfa(model,data)"
      ],
      "execution_count": null,
      "outputs": []
    },
    {
      "cell_type": "code",
      "metadata": {
        "id": "6zuWG-h0tk1y",
        "cellView": "form"
      },
      "source": [
        "#@title Tunggu hasil selama 10-15 detik hingga ada pesan `DONE`.\n",
        "hasil_sem = \n",
        "  standardizedSolution(hasil) %>%\n",
        "  select(lhs,rhs,est.std) %>%\n",
        "  mutate(est.std = abs(est.std)) %>%\n",
        "  filter(lhs == \"index\") %>%\n",
        "  filter(rhs != \"index\") %>%\n",
        "  mutate(bobot = est.std/sum(est.std),\n",
        "         bobot = bobot*100,\n",
        "         bobot = round(bobot,3)) %>%\n",
        "  select(rhs,bobot) %>%\n",
        "  rename(variabel = rhs,\n",
        "         `bobot (dalam %)` = bobot)\n",
        "write.csv(hasil_sem,\"Hasil Perhitungan Bobot.csv\")\n",
        "print(\"-- DONE --\")\n",
        "print(\"--Silakan cek dan download data hasilnya--\")\n",
        "print(\"--Terima kasih--\")"
      ],
      "execution_count": null,
      "outputs": []
    }
  ]
}