{
  "nbformat": 4,
  "nbformat_minor": 0,
  "metadata": {
    "colab": {
      "name": "Signifikansi Nilai Ujian",
      "provenance": [],
      "collapsed_sections": [],
      "authorship_tag": "ABX9TyPHDjNQm8tVkaRbr42ikFbl",
      "include_colab_link": true
    },
    "kernelspec": {
      "name": "ir",
      "display_name": "R"
    },
    "language_info": {
      "name": "R"
    }
  },
  "cells": [
    {
      "cell_type": "markdown",
      "metadata": {
        "id": "view-in-github",
        "colab_type": "text"
      },
      "source": [
        "<a href=\"https://colab.research.google.com/github/ikanx101/G-Colab/blob/main/Signifikansi_Nilai_Ujian.ipynb\" target=\"_parent\"><img src=\"https://colab.research.google.com/assets/colab-badge.svg\" alt=\"Open In Colab\"/></a>"
      ]
    },
    {
      "cell_type": "code",
      "metadata": {
        "id": "WngiJy0I_gwu"
      },
      "source": [
        "library(dplyr)\n",
        "library(ggplot2)\n",
        "\n",
        "rm(list=ls())\n",
        "\n",
        "# benar atau tidak jawaban ngasal tersebut?\n",
        "betul = function(){\n",
        "  sample(c(1,0),1,prob = c(1/4,3/4))\n",
        "}\n",
        "\n",
        "# berapa banyak jawaban yang benar?\n",
        "# berapa nilainya?\n",
        "ujian = function(n){\n",
        "  n\n",
        "  x = 0\n",
        "  for(i in 1:50){\n",
        "    x = x + betul()\n",
        "  }\n",
        "  return(100*x/50)\n",
        "}\n",
        "\n",
        "# iterasi 8.000 kali\n",
        "data = data.frame(iterasi = c(1:9001))\n",
        "data$nilai_simulasi = sapply(data$iterasi,ujian)"
      ],
      "execution_count": null,
      "outputs": []
    },
    {
      "cell_type": "code",
      "metadata": {
        "id": "74TkeyGG_mOB"
      },
      "source": [
        "rekap = \n",
        "  data %>%\n",
        "  group_by(nilai_simulasi) %>%\n",
        "  tally() %>%\n",
        "  ungroup() %>%\n",
        "  mutate(persen = n/sum(n) *100,\n",
        "         persen = round(persen,1),\n",
        "         label_1 = paste0(persen,\"%\"),\n",
        "         cum = cumsum(persen),\n",
        "         label_2 = paste0(cum,\"%\"))"
      ],
      "execution_count": null,
      "outputs": []
    },
    {
      "cell_type": "code",
      "metadata": {
        "id": "NAySNc3xAYlM"
      },
      "source": [
        "rekap %>%\n",
        "  ggplot(aes(x = nilai_simulasi)) +\n",
        "  geom_col(aes(y = persen),\n",
        "           color = \"black\",\n",
        "           fill = \"steelblue\") +\n",
        "  geom_line(aes(y = cum),\n",
        "            group = 1,\n",
        "            color = \"darkred\",\n",
        "            alpha = .5) +\n",
        "  geom_label(aes(y = persen,\n",
        "                 label = label_1),\n",
        "             fill = \"steelblue\",\n",
        "             color = \"white\",\n",
        "             size = 2.5) +\n",
        "  geom_label(aes(y = cum,\n",
        "                 label = label_2),\n",
        "             fill = \"darkred\",\n",
        "             color = \"white\",\n",
        "             size = 2.5) +\n",
        "  theme_minimal() +\n",
        "  labs(x = \"Nilai Ujian\",\n",
        "       title = \"Berapa peluang seseorang bisa mendapatkan nilai ujian sebesar ... \",\n",
        "       subtitle = \"Biru menandakan peluang seseorang mendapatkan nilai ujian sebesar ...\\nMerah menandakan peluang kumulatif seseorang mendapatkan nilai ujian sebesar ... \") +\n",
        "  theme(axis.title.y = element_blank(),\n",
        "        axis.text.y = element_blank(),\n",
        "        plot.title = element_text(hjust = .5,size = 20),\n",
        "        plot.subtitle = element_text(hjust = .5, size = 12)) +\n",
        "  annotate(\"label\",\n",
        "           x = 25,\n",
        "           y = 20,\n",
        "           label = \"Expected nilai ujian:\\n25\")\n",
        "\n",
        "ggsave(\"sig.png\",\n",
        "       width = 12,\n",
        "       height = 8,\n",
        "       dpi = 900)"
      ],
      "execution_count": null,
      "outputs": []
    },
    {
      "cell_type": "code",
      "metadata": {
        "colab": {
          "base_uri": "https://localhost:8080/",
          "height": 34
        },
        "id": "r2SxXfeDDmvJ",
        "outputId": "5fe5a637-12bf-4f8a-cb5d-417b21c620a0"
      },
      "source": [
        "mean(rekap$nilai_simulasi)"
      ],
      "execution_count": null,
      "outputs": [
        {
          "output_type": "display_data",
          "data": {
            "text/plain": [
              "[1] 28.17391"
            ],
            "text/latex": "28.1739130434783",
            "text/markdown": "28.1739130434783",
            "text/html": [
              "28.1739130434783"
            ]
          },
          "metadata": {
            "tags": []
          }
        }
      ]
    }
  ]
}