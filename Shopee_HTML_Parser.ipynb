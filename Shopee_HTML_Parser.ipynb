{
  "nbformat": 4,
  "nbformat_minor": 0,
  "metadata": {
    "colab": {
      "name": "Shopee HTML Parser",
      "provenance": [],
      "collapsed_sections": [],
      "include_colab_link": true
    },
    "kernelspec": {
      "name": "ir",
      "display_name": "R"
    }
  },
  "cells": [
    {
      "cell_type": "markdown",
      "metadata": {
        "id": "view-in-github",
        "colab_type": "text"
      },
      "source": [
        "<a href=\"https://colab.research.google.com/github/ikanx101/G-Colab/blob/main/Shopee_HTML_Parser.ipynb\" target=\"_parent\"><img src=\"https://colab.research.google.com/assets/colab-badge.svg\" alt=\"Open In Colab\"/></a>"
      ]
    },
    {
      "cell_type": "markdown",
      "metadata": {
        "id": "Efl5wx9ZDFUQ"
      },
      "source": [
        "# **Shopee HTML Parser v1.0**\n",
        "\n",
        "## _Explanation_\n",
        "\n",
        "Per bulan lalu, _Shopee_ mengubah __API__ yang mereka gunakan untuk menampilkan data di _product pages_ mereka. Akibatnya pembacaan data `.json` menggunakan _headless browser_ yang selama ini kita andalkan menjadi tidak berguna lagi.\n",
        "\n",
        "Oleh karena itu, perlu ada alternatif cara lain untuk bisa mengambil data tersebut.\n",
        "\n",
        "Salah satu caranya adalah dengan _parsing html_ menggunakan _saved pages_ dari Shopee.\n",
        "\n",
        "## _How it works_\n",
        "\n",
        "Jika kita menyimpan suatu _webpage_ ke dalam _single html file_, maka __semua informasi__ yang ada pada _page_ tersebut otomatis telah tersimpan __meskipun__ terdapat _dynamic contents_.\n",
        "\n",
        "Dari _saved html_ tersebut, kita akan gunakan algoritma _parsing html_ untuk mendapatkan data yang diinginkan.\n",
        "\n",
        "## _Differences from Previous Shopee Scraper_\n",
        "\n",
        "Apa perbedaan dengan `Shopee Scraper` yang ada sebelumnya?\n",
        "\n",
        "1. `Shopee Scraper` mengambil data secara _real time_ sedangkan `Shopee HTML Parser` mengambil data hasil _saved html_.\n",
        "1. Pembacaan `Shopee Scraper` menjadi tidak _reliable_ karena __API__ yang sering berubah. Sedangkan `Shopee HTML Parser` lebih stabil.\n",
        "1. `Shopee Scraper` hanya membutuhkan _list url_ alamat produk berbentuk _file_ `.txt`. Sedangkan `Shopee HTML Parser` membutuhkan satu atau beberapa _saved html pages_ yang di-_compress_ dalam satu _file_ `.zip`. \n",
        "1. `Shopee HTML Parser` akan menghasilkan satu _file_ hasil dalam format `.csv` berisi informasi produk saja.\n",
        "\n",
        "## _Steps_\n",
        "\n",
        "1. _Save_ semua halaman produk __Shopee__ yang hendak diambil datanya dalam format _single html file_.\n",
        "1. _Compress_ semua _saved html_ tersebut ke dalam satu file `.zip`.\n",
        "1. _Upload_ _file_ `.zip` tersebut ke Google Colab ini.\n",
        "1. Isi nama _file_ `.zip` pada kolom isian yang diberikan.\n",
        "1. Klik `Runtime` -> `Run All`.\n",
        "1. Hasil _parsing_ akan tersedia dalam format `.csv`.\n",
        "\n",
        "## _Notes_\n",
        "\n",
        "Dilarang mengubah algoritma yang ada. Silakan di-_clone_ ke _GDrive_ sendiri jika memang ingin memodifikasi algoritma ini.\n",
        "\n",
        "_Created by:_ [Ikang](https://ikanx101.com/)\n",
        "\n",
        "*Last Modif:* Senin, 15 Maret 2021 ~ 20.30"
      ]
    },
    {
      "cell_type": "code",
      "metadata": {
        "id": "vfbUH6plFVze",
        "cellView": "form"
      },
      "source": [
        "#@title Nama File `.zip`\n",
        "rm(list=ls())\n",
        "library(dplyr)\n",
        "library(rvest)\n",
        "\n",
        "nama_file <- \"tes.zip\" #@param {type:\"string\"}"
      ],
      "execution_count": null,
      "outputs": []
    },
    {
      "cell_type": "code",
      "metadata": {
        "colab": {
          "base_uri": "https://localhost:8080/",
          "height": 51
        },
        "id": "-LUTWiNrEyRG",
        "cellView": "form",
        "outputId": "2f7df9e7-d95b-4dfe-e769-e1a3733ca4ac"
      },
      "source": [
        "#@title Preparation data\n",
        "\n",
        "# Function\n",
        "shopee_parser = function(url){\n",
        "  x = read_html(url)\n",
        "  # nama produk\n",
        "  nama_produk = x %>% html_nodes(\".attM6y span\") %>% html_text()\n",
        " \n",
        "  # harga\n",
        "  harga = x %>% html_nodes(\"._3e_UQT\") %>% html_text()\n",
        "  harga = gsub(\"[A-z]|\\\\.\",\"\",harga)\n",
        "  harga = as.numeric(harga)\n",
        "  # rating\n",
        "  rating = x %>% html_nodes(\"._1mYa1t\") %>% html_text() %>% as.numeric()\n",
        "  # terjual\n",
        "  terjual = x %>% html_nodes(\".aca9MM\") %>% html_text()\n",
        "  # seller\n",
        "  seller = x %>% html_nodes(\"._3uf2ae\") %>% html_text()\n",
        "  # waktu parsing\n",
        "  waktu = Sys.time()\n",
        "  # final\n",
        "  data = tibble(nama_produk,harga,rating,terjual,seller,marketplace = \"Shopee\",waktu)\n",
        "  return(data)\n",
        "}\n",
        "\n",
        "# ambil saved html\n",
        "saved_html = unzip(nama_file)\n",
        "cat(\"Keterangan:\")\n",
        "paste0(\"Ada \",length(saved_html),\" files html yang tersimpan dalam zip file tersebut\")"
      ],
      "execution_count": null,
      "outputs": [
        {
          "output_type": "stream",
          "text": [
            "Keterangan:"
          ],
          "name": "stdout"
        },
        {
          "output_type": "display_data",
          "data": {
            "text/plain": [
              "[1] \"Ada 5 files html yang tersimpan dalam zip file tersebut\""
            ],
            "text/latex": "'Ada 5 files html yang tersimpan dalam zip file tersebut'",
            "text/markdown": "'Ada 5 files html yang tersimpan dalam zip file tersebut'",
            "text/html": [
              "'Ada 5 files html yang tersimpan dalam zip file tersebut'"
            ]
          },
          "metadata": {
            "tags": []
          }
        }
      ]
    },
    {
      "cell_type": "code",
      "metadata": {
        "colab": {
          "base_uri": "https://localhost:8080/"
        },
        "id": "6tTdFQfPFtf6",
        "cellView": "form",
        "outputId": "6b481a0a-d8fc-4782-91c0-54758ebd3106"
      },
      "source": [
        "#@title Parsing HTML Files\n",
        "# inisiasi data awal\n",
        "raw_data = tibble()\n",
        "# proses looping parsing\n",
        "for(i in 1:length(saved_html)){\n",
        "  temp = shopee_parser(saved_html[i])\n",
        "  raw_data = rbind(temp,raw_data)\n",
        "}\n",
        "cat(\"Silakan download file csv\\n-- DONE --\")\n",
        "\n",
        "write.csv(raw_data,\"Data Hasil Parsing.csv\")"
      ],
      "execution_count": null,
      "outputs": [
        {
          "output_type": "stream",
          "text": [
            "Silakan download file csv\n",
            "-- DONE --"
          ],
          "name": "stdout"
        }
      ]
    },
    {
      "cell_type": "code",
      "metadata": {
        "colab": {
          "base_uri": "https://localhost:8080/",
          "height": 422
        },
        "id": "lfDlsw22iXbN",
        "outputId": "d84096ef-5b9a-494e-e819-adeb0c2473a2"
      },
      "source": [
        "#@title Berikut Data Hasilnya: \n",
        "raw_data"
      ],
      "execution_count": null,
      "outputs": [
        {
          "output_type": "display_data",
          "data": {
            "text/plain": [
              "  nama_produk                                                                            \n",
              "1 Tropicana Slim Topping Kental Manis Sugar Free                                         \n",
              "2 Tropicana Slim Sweetener I Sweet (25sx2.5g)                                            \n",
              "3 Tropicana Slim Hokkaido Cheese Cookies 100gr                                           \n",
              "4 Tropicana Slim Choco Spread 300 gr                                                     \n",
              "5 Paket Manis Sehat - Tropicana Slim Gula Jawa 350 ml & Tropicana Slim Kecap Manis 200 ml\n",
              "  harga rating terjual seller    marketplace waktu              \n",
              "1 25300 4.9    2,8RB   nutrimart Shopee      2021-03-18 04:50:01\n",
              "2 18100 4.9    9,7RB   nutrimart Shopee      2021-03-18 04:50:01\n",
              "3 20500 4.9    10RB+   nutrimart Shopee      2021-03-18 04:50:01\n",
              "4 63100 4.9    4,9RB   nutrimart Shopee      2021-03-18 04:50:01\n",
              "5 70700 4.9    251     nutrimart Shopee      2021-03-18 04:50:00"
            ],
            "text/latex": "A tibble: 5 × 7\n\\begin{tabular}{lllllll}\n nama\\_produk & harga & rating & terjual & seller & marketplace & waktu\\\\\n <chr> & <dbl> & <dbl> & <chr> & <chr> & <chr> & <dttm>\\\\\n\\hline\n\t Tropicana Slim Topping Kental Manis Sugar Free                                          & 25300 & 4.9 & 2,8RB & nutrimart & Shopee & 2021-03-18 04:50:01\\\\\n\t Tropicana Slim Sweetener I Sweet (25sx2.5g)                                             & 18100 & 4.9 & 9,7RB & nutrimart & Shopee & 2021-03-18 04:50:01\\\\\n\t Tropicana Slim Hokkaido Cheese Cookies 100gr                                            & 20500 & 4.9 & 10RB+ & nutrimart & Shopee & 2021-03-18 04:50:01\\\\\n\t Tropicana Slim Choco Spread 300 gr                                                      & 63100 & 4.9 & 4,9RB & nutrimart & Shopee & 2021-03-18 04:50:01\\\\\n\t Paket Manis Sehat - Tropicana Slim Gula Jawa 350 ml \\& Tropicana Slim Kecap Manis 200 ml & 70700 & 4.9 & 251   & nutrimart & Shopee & 2021-03-18 04:50:00\\\\\n\\end{tabular}\n",
            "text/markdown": "\nA tibble: 5 × 7\n\n| nama_produk &lt;chr&gt; | harga &lt;dbl&gt; | rating &lt;dbl&gt; | terjual &lt;chr&gt; | seller &lt;chr&gt; | marketplace &lt;chr&gt; | waktu &lt;dttm&gt; |\n|---|---|---|---|---|---|---|\n| Tropicana Slim Topping Kental Manis Sugar Free                                          | 25300 | 4.9 | 2,8RB | nutrimart | Shopee | 2021-03-18 04:50:01 |\n| Tropicana Slim Sweetener I Sweet (25sx2.5g)                                             | 18100 | 4.9 | 9,7RB | nutrimart | Shopee | 2021-03-18 04:50:01 |\n| Tropicana Slim Hokkaido Cheese Cookies 100gr                                            | 20500 | 4.9 | 10RB+ | nutrimart | Shopee | 2021-03-18 04:50:01 |\n| Tropicana Slim Choco Spread 300 gr                                                      | 63100 | 4.9 | 4,9RB | nutrimart | Shopee | 2021-03-18 04:50:01 |\n| Paket Manis Sehat - Tropicana Slim Gula Jawa 350 ml &amp; Tropicana Slim Kecap Manis 200 ml | 70700 | 4.9 | 251   | nutrimart | Shopee | 2021-03-18 04:50:00 |\n\n",
            "text/html": [
              "<table class=\"dataframe\">\n",
              "<caption>A tibble: 5 × 7</caption>\n",
              "<thead>\n",
              "\t<tr><th scope=col>nama_produk</th><th scope=col>harga</th><th scope=col>rating</th><th scope=col>terjual</th><th scope=col>seller</th><th scope=col>marketplace</th><th scope=col>waktu</th></tr>\n",
              "\t<tr><th scope=col>&lt;chr&gt;</th><th scope=col>&lt;dbl&gt;</th><th scope=col>&lt;dbl&gt;</th><th scope=col>&lt;chr&gt;</th><th scope=col>&lt;chr&gt;</th><th scope=col>&lt;chr&gt;</th><th scope=col>&lt;dttm&gt;</th></tr>\n",
              "</thead>\n",
              "<tbody>\n",
              "\t<tr><td>Tropicana Slim Topping Kental Manis Sugar Free                                         </td><td>25300</td><td>4.9</td><td>2,8RB</td><td>nutrimart</td><td>Shopee</td><td>2021-03-18 04:50:01</td></tr>\n",
              "\t<tr><td>Tropicana Slim Sweetener I Sweet (25sx2.5g)                                            </td><td>18100</td><td>4.9</td><td>9,7RB</td><td>nutrimart</td><td>Shopee</td><td>2021-03-18 04:50:01</td></tr>\n",
              "\t<tr><td>Tropicana Slim Hokkaido Cheese Cookies 100gr                                           </td><td>20500</td><td>4.9</td><td>10RB+</td><td>nutrimart</td><td>Shopee</td><td>2021-03-18 04:50:01</td></tr>\n",
              "\t<tr><td>Tropicana Slim Choco Spread 300 gr                                                     </td><td>63100</td><td>4.9</td><td>4,9RB</td><td>nutrimart</td><td>Shopee</td><td>2021-03-18 04:50:01</td></tr>\n",
              "\t<tr><td>Paket Manis Sehat - Tropicana Slim Gula Jawa 350 ml &amp; Tropicana Slim Kecap Manis 200 ml</td><td>70700</td><td>4.9</td><td><span style=white-space:pre-wrap>251  </span></td><td>nutrimart</td><td>Shopee</td><td>2021-03-18 04:50:00</td></tr>\n",
              "</tbody>\n",
              "</table>\n"
            ]
          },
          "metadata": {
            "tags": []
          }
        }
      ]
    }
  ]
}