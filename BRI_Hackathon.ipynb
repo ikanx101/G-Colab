{
  "nbformat": 4,
  "nbformat_minor": 0,
  "metadata": {
    "colab": {
      "name": "BRI Hackathon",
      "provenance": [],
      "authorship_tag": "ABX9TyM7muvhLnuO121K3S9PDXWk",
      "include_colab_link": true
    },
    "kernelspec": {
      "name": "ir",
      "display_name": "R"
    }
  },
  "cells": [
    {
      "cell_type": "markdown",
      "metadata": {
        "id": "view-in-github",
        "colab_type": "text"
      },
      "source": [
        "<a href=\"https://colab.research.google.com/github/ikanx101/G-Colab/blob/main/BRI_Hackathon.ipynb\" target=\"_parent\"><img src=\"https://colab.research.google.com/assets/colab-badge.svg\" alt=\"Open In Colab\"/></a>"
      ]
    },
    {
      "cell_type": "code",
      "metadata": {
        "colab": {
          "base_uri": "https://localhost:8080/",
          "height": 51
        },
        "id": "ucEs0VC4XxNJ",
        "outputId": "26340206-288c-4f7d-da15-64dce51f94da"
      },
      "source": [
        "a = 11.8\n",
        "s = 2.4\n",
        "n = 81\n",
        "error <- qnorm(0.975)*s/sqrt(n)\n",
        "left <- a-error\n",
        "right <- a+error\n",
        "left\n",
        "right"
      ],
      "execution_count": 6,
      "outputs": [
        {
          "output_type": "display_data",
          "data": {
            "text/plain": [
              "[1] 11.27734"
            ],
            "text/latex": "11.277342937456",
            "text/markdown": "11.277342937456",
            "text/html": [
              "11.277342937456"
            ]
          },
          "metadata": {
            "tags": []
          }
        },
        {
          "output_type": "display_data",
          "data": {
            "text/plain": [
              "[1] 12.32266"
            ],
            "text/latex": "12.322657062544",
            "text/markdown": "12.322657062544",
            "text/html": [
              "12.322657062544"
            ]
          },
          "metadata": {
            "tags": []
          }
        }
      ]
    },
    {
      "cell_type": "code",
      "metadata": {
        "colab": {
          "base_uri": "https://localhost:8080/"
        },
        "id": "8v4QTEGzZCY4",
        "outputId": "b04c99f3-c246-4b96-b3a0-0d7d77eb580a"
      },
      "source": [
        "rm(list=ls())\n",
        "library(dplyr)\n",
        "\n",
        "data = read.csv(\"credit-downsampled.csv\")"
      ],
      "execution_count": 7,
      "outputs": [
        {
          "output_type": "stream",
          "text": [
            "\n",
            "Attaching package: ‘dplyr’\n",
            "\n",
            "\n",
            "The following objects are masked from ‘package:stats’:\n",
            "\n",
            "    filter, lag\n",
            "\n",
            "\n",
            "The following objects are masked from ‘package:base’:\n",
            "\n",
            "    intersect, setdiff, setequal, union\n",
            "\n",
            "\n"
          ],
          "name": "stderr"
        }
      ]
    },
    {
      "cell_type": "code",
      "metadata": {
        "colab": {
          "base_uri": "https://localhost:8080/",
          "height": 289
        },
        "id": "51sX_qWAZMWb",
        "outputId": "88f79637-2ad5-4488-e935-b8ee807c4d94"
      },
      "source": [
        "str(data)\n",
        "apply(data, 2, function(x) any(is.na(x)))"
      ],
      "execution_count": 14,
      "outputs": [
        {
          "output_type": "stream",
          "text": [
            "'data.frame':\t20052 obs. of  11 variables:\n",
            " $ RevolvingUtilizationOfUnsecuredLines: num  1 0.4971 0.7977 0.0433 0.8109 ...\n",
            " $ age                                 : int  54 40 40 61 49 22 40 45 50 37 ...\n",
            " $ NumberOfTime30.59DaysPastDueNotWorse: int  0 0 1 0 0 0 1 0 2 2 ...\n",
            " $ DebtRatio                           : num  0 0.5104 0.0475 244 4 ...\n",
            " $ MonthlyIncome                       : int  1666 4200 3070 NA NA 820 6250 7848 3580 2975 ...\n",
            " $ NumberOfOpenCreditLinesAndLoans     : int  1 8 6 14 1 2 10 13 14 1 ...\n",
            " $ NumberOfTimes90DaysLate             : int  0 0 0 0 0 0 0 0 0 1 ...\n",
            " $ NumberRealEstateLoansOrLines        : int  0 2 0 0 0 0 1 2 2 0 ...\n",
            " $ NumberOfTime60.89DaysPastDueNotWorse: int  0 0 0 0 0 0 2 0 0 1 ...\n",
            " $ NumberOfDependents                  : int  0 3 2 0 0 0 1 0 0 1 ...\n",
            " $ Class                               : int  0 0 0 0 0 0 0 0 0 0 ...\n"
          ],
          "name": "stdout"
        },
        {
          "output_type": "display_data",
          "data": {
            "text/plain": [
              "RevolvingUtilizationOfUnsecuredLines                                  age \n",
              "                               FALSE                                FALSE \n",
              "NumberOfTime30.59DaysPastDueNotWorse                            DebtRatio \n",
              "                               FALSE                                FALSE \n",
              "                       MonthlyIncome      NumberOfOpenCreditLinesAndLoans \n",
              "                                TRUE                                FALSE \n",
              "             NumberOfTimes90DaysLate         NumberRealEstateLoansOrLines \n",
              "                               FALSE                                FALSE \n",
              "NumberOfTime60.89DaysPastDueNotWorse                   NumberOfDependents \n",
              "                               FALSE                                 TRUE \n",
              "                               Class \n",
              "                               FALSE "
            ],
            "text/latex": "\\begin{description*}\n\\item[RevolvingUtilizationOfUnsecuredLines] FALSE\n\\item[age] FALSE\n\\item[NumberOfTime30.59DaysPastDueNotWorse] FALSE\n\\item[DebtRatio] FALSE\n\\item[MonthlyIncome] TRUE\n\\item[NumberOfOpenCreditLinesAndLoans] FALSE\n\\item[NumberOfTimes90DaysLate] FALSE\n\\item[NumberRealEstateLoansOrLines] FALSE\n\\item[NumberOfTime60.89DaysPastDueNotWorse] FALSE\n\\item[NumberOfDependents] TRUE\n\\item[Class] FALSE\n\\end{description*}\n",
            "text/markdown": "RevolvingUtilizationOfUnsecuredLines\n:   FALSEage\n:   FALSENumberOfTime30.59DaysPastDueNotWorse\n:   FALSEDebtRatio\n:   FALSEMonthlyIncome\n:   TRUENumberOfOpenCreditLinesAndLoans\n:   FALSENumberOfTimes90DaysLate\n:   FALSENumberRealEstateLoansOrLines\n:   FALSENumberOfTime60.89DaysPastDueNotWorse\n:   FALSENumberOfDependents\n:   TRUEClass\n:   FALSE\n\n",
            "text/html": [
              "<style>\n",
              ".dl-inline {width: auto; margin:0; padding: 0}\n",
              ".dl-inline>dt, .dl-inline>dd {float: none; width: auto; display: inline-block}\n",
              ".dl-inline>dt::after {content: \":\\0020\"; padding-right: .5ex}\n",
              ".dl-inline>dt:not(:first-of-type) {padding-left: .5ex}\n",
              "</style><dl class=dl-inline><dt>RevolvingUtilizationOfUnsecuredLines</dt><dd>FALSE</dd><dt>age</dt><dd>FALSE</dd><dt>NumberOfTime30.59DaysPastDueNotWorse</dt><dd>FALSE</dd><dt>DebtRatio</dt><dd>FALSE</dd><dt>MonthlyIncome</dt><dd>TRUE</dd><dt>NumberOfOpenCreditLinesAndLoans</dt><dd>FALSE</dd><dt>NumberOfTimes90DaysLate</dt><dd>FALSE</dd><dt>NumberRealEstateLoansOrLines</dt><dd>FALSE</dd><dt>NumberOfTime60.89DaysPastDueNotWorse</dt><dd>FALSE</dd><dt>NumberOfDependents</dt><dd>TRUE</dd><dt>Class</dt><dd>FALSE</dd></dl>\n"
            ]
          },
          "metadata": {
            "tags": []
          }
        }
      ]
    },
    {
      "cell_type": "code",
      "metadata": {
        "colab": {
          "base_uri": "https://localhost:8080/",
          "height": 425
        },
        "id": "Tio0MUGGZ1bc",
        "outputId": "168a18cb-d7b2-4c70-e86c-c69ebf502233"
      },
      "source": [
        "model  <- lm(Class ~ age+DebtRatio+MonthlyIncome+NumberOfOpenCreditLinesAndLoans+RevolvingUtilizationOfUnsecuredLines,\n",
        "          data = data)\n",
        "summary(model)\n"
      ],
      "execution_count": 18,
      "outputs": [
        {
          "output_type": "display_data",
          "data": {
            "text/plain": [
              "\n",
              "Call:\n",
              "lm(formula = Class ~ age + DebtRatio + MonthlyIncome + NumberOfOpenCreditLinesAndLoans + \n",
              "    RevolvingUtilizationOfUnsecuredLines, data = data)\n",
              "\n",
              "Residuals:\n",
              "    Min      1Q  Median      3Q     Max \n",
              "-0.7344 -0.4850  0.2989  0.4668  1.4856 \n",
              "\n",
              "Coefficients:\n",
              "                                       Estimate Std. Error t value Pr(>|t|)    \n",
              "(Intercept)                           8.935e-01  1.428e-02  62.564  < 2e-16 ***\n",
              "age                                  -7.522e-03  2.823e-04 -26.648  < 2e-16 ***\n",
              "DebtRatio                            -8.388e-07  1.170e-05  -0.072    0.943    \n",
              "MonthlyIncome                        -1.905e-06  3.734e-07  -5.102  3.4e-07 ***\n",
              "NumberOfOpenCreditLinesAndLoans      -5.334e-04  7.220e-04  -0.739    0.460    \n",
              "RevolvingUtilizationOfUnsecuredLines -2.966e-05  3.239e-05  -0.916    0.360    \n",
              "---\n",
              "Signif. codes:  0 ‘***’ 0.001 ‘**’ 0.01 ‘*’ 0.05 ‘.’ 0.1 ‘ ’ 1\n",
              "\n",
              "Residual standard error: 0.4881 on 16374 degrees of freedom\n",
              "  (3672 observations deleted due to missingness)\n",
              "Multiple R-squared:  0.04696,\tAdjusted R-squared:  0.04667 \n",
              "F-statistic: 161.4 on 5 and 16374 DF,  p-value: < 2.2e-16\n"
            ]
          },
          "metadata": {
            "tags": []
          }
        }
      ]
    },
    {
      "cell_type": "code",
      "metadata": {
        "colab": {
          "base_uri": "https://localhost:8080/",
          "height": 102
        },
        "id": "nsdbcn2HalMs",
        "outputId": "dd564a19-c4d4-44f8-c23d-925b4a86a2ba"
      },
      "source": [
        "pred = ifelse(predict(model,data)>.5,1,0)\n",
        "table(pred,data$Class)\n"
      ],
      "execution_count": 28,
      "outputs": [
        {
          "output_type": "display_data",
          "data": {
            "text/plain": [
              "    \n",
              "pred    0    1\n",
              "   0 4322 2987\n",
              "   1 3701 5370"
            ]
          },
          "metadata": {
            "tags": []
          }
        },
        {
          "output_type": "display_data",
          "data": {
            "text/plain": [
              "[1] NA"
            ],
            "text/latex": "<NA>",
            "text/markdown": "&lt;NA&gt;",
            "text/html": [
              "&lt;NA&gt;"
            ]
          },
          "metadata": {
            "tags": []
          }
        }
      ]
    },
    {
      "cell_type": "code",
      "metadata": {
        "colab": {
          "base_uri": "https://localhost:8080/",
          "height": 34
        },
        "id": "DKz2FTyIbcXU",
        "outputId": "42dbd45b-ca34-4eb7-bc1b-1e9b882242cc"
      },
      "source": [
        "(4322+5370)/(length(data$Class))"
      ],
      "execution_count": 32,
      "outputs": [
        {
          "output_type": "display_data",
          "data": {
            "text/plain": [
              "[1] 0.4833433"
            ],
            "text/latex": "0.483343307400758",
            "text/markdown": "0.483343307400758",
            "text/html": [
              "0.483343307400758"
            ]
          },
          "metadata": {
            "tags": []
          }
        }
      ]
    }
  ]
}