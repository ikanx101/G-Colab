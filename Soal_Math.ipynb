{
  "nbformat": 4,
  "nbformat_minor": 0,
  "metadata": {
    "colab": {
      "name": "Soal Math",
      "provenance": [],
      "collapsed_sections": [],
      "authorship_tag": "ABX9TyMSGb7/FsoZGQDpRedZ1VW7",
      "include_colab_link": true
    },
    "kernelspec": {
      "name": "ir",
      "display_name": "R"
    },
    "language_info": {
      "name": "R"
    }
  },
  "cells": [
    {
      "cell_type": "markdown",
      "metadata": {
        "id": "view-in-github",
        "colab_type": "text"
      },
      "source": [
        "<a href=\"https://colab.research.google.com/github/ikanx101/G-Colab/blob/main/Soal_Math.ipynb\" target=\"_parent\"><img src=\"https://colab.research.google.com/assets/colab-badge.svg\" alt=\"Open In Colab\"/></a>"
      ]
    },
    {
      "cell_type": "markdown",
      "metadata": {
        "id": "tbQ8O1hTCzlv"
      },
      "source": [
        "# __SOAL PENGURANGAN PULUHAN RIBU__ versi 1.0\n",
        "\n",
        "Cara pakai:\n",
        "\n",
        "1. Klik `Runtime`\n",
        "1. Klik `Run All`\n",
        "1. Kerjakan soal di bawah:"
      ]
    },
    {
      "cell_type": "code",
      "metadata": {
        "id": "Sen2yiI99AZD",
        "cellView": "form"
      },
      "source": [
        "#@title\n",
        "quiz = function(){\n",
        "  nama = readline(prompt = \"Masukkan nama kamu: \")\n",
        "\n",
        "  waktu_awal = Sys.time()\n",
        "  hasil = 0\n",
        "  for(i in 1:5){\n",
        "      a = sample(10000:99999,2)\n",
        "      z = sum(a)\n",
        "      soal = paste(a,collapse = \" + \")\n",
        "      soal = paste0(soal,\" = \")\n",
        "      task = readline(prompt = soal)\n",
        "      task = as.numeric(task)\n",
        "      benar = task == z\n",
        "      hasil = hasil + benar\n",
        "  }\n",
        "  waktu_akhir = Sys.time()\n",
        "  waktu = waktu_akhir - waktu_awal\n",
        "  waktu = round(waktu,2)\n",
        "  ratio = hasil / 5 * 100\n",
        "  ratio = round(ratio,1)\n",
        "  pesan = paste0(nama,\" skor kamu adalah: \",ratio,\". Selesai dalam: \",waktu,\" detik\")\n",
        "  return(pesan)\n",
        "}\n",
        "quiz()"
      ],
      "execution_count": null,
      "outputs": []
    }
  ]
}