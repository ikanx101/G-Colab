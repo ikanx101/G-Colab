{
  "nbformat": 4,
  "nbformat_minor": 0,
  "metadata": {
    "colab": {
      "name": "Optimasi Mebel",
      "provenance": [],
      "collapsed_sections": [],
      "authorship_tag": "ABX9TyMJgqk1TI7o9uz0NDTTVTBD",
      "include_colab_link": true
    },
    "kernelspec": {
      "display_name": "R",
      "name": "ir"
    }
  },
  "cells": [
    {
      "cell_type": "markdown",
      "metadata": {
        "id": "view-in-github",
        "colab_type": "text"
      },
      "source": [
        "<a href=\"https://colab.research.google.com/github/ikanx101/G-Colab/blob/main/Optimasi_Mebel.ipynb\" target=\"_parent\"><img src=\"https://colab.research.google.com/assets/colab-badge.svg\" alt=\"Open In Colab\"/></a>"
      ]
    },
    {
      "cell_type": "code",
      "metadata": {
        "id": "zBMEp-YXAJGg"
      },
      "source": [
        "#system(\"sudo apt-get install libglpk-dev\")\n",
        "#install.packages(\"ROI\")\n",
        "#install.packages(\"ompr\")\n",
        "#install.packages(\"ompr.roi\")\n",
        "#install.packages(\"ROI.plugin.glpk\")"
      ],
      "execution_count": 15,
      "outputs": []
    },
    {
      "cell_type": "code",
      "metadata": {
        "id": "3LxS87n8AQZs"
      },
      "source": [
        "library(dplyr)\n",
        "library(ompr)\n",
        "library(ompr.roi)\n",
        "library(ROI.plugin.glpk)\n",
        "library(ggplot2)\n",
        "\n",
        "rm(list=ls())"
      ],
      "execution_count": 16,
      "outputs": []
    },
    {
      "cell_type": "code",
      "metadata": {
        "colab": {
          "base_uri": "https://localhost:8080/",
          "height": 161
        },
        "id": "0wqhQVeSASqZ",
        "outputId": "0ee86ce9-2f95-4b93-a15e-b1037dc3e850"
      },
      "source": [
        "problem = \n",
        "data.frame(\n",
        "  keterangan = c(\"meja\",\"lemari\",\"kursi\", \"man days\"),\n",
        "  workshop_1 = c(\"2 man days\",\"5 man days\",\"1 man days\",\"10 man days per week\"),\n",
        "  workshop_2 = c(\"1 man days\",\"3 man days\",\"1 man days\",\"14 man days\"),\n",
        "  demand_perweeks = c(5,3,6,\"\"),\n",
        "  profit = c(150,250,100,\"\")\n",
        ")\n",
        "\n",
        "problem"
      ],
      "execution_count": 17,
      "outputs": [
        {
          "output_type": "display_data",
          "data": {
            "text/plain": [
              "  keterangan workshop_1           workshop_2  demand_perweeks profit\n",
              "1 meja       2 man days           1 man days  5               150   \n",
              "2 lemari     5 man days           3 man days  3               250   \n",
              "3 kursi      1 man days           1 man days  6               100   \n",
              "4 man days   10 man days per week 14 man days                       "
            ],
            "text/latex": "A data.frame: 4 × 5\n\\begin{tabular}{lllll}\n keterangan & workshop\\_1 & workshop\\_2 & demand\\_perweeks & profit\\\\\n <chr> & <chr> & <chr> & <chr> & <chr>\\\\\n\\hline\n\t meja     & 2 man days           & 1 man days  & 5 & 150\\\\\n\t lemari   & 5 man days           & 3 man days  & 3 & 250\\\\\n\t kursi    & 1 man days           & 1 man days  & 6 & 100\\\\\n\t man days & 10 man days per week & 14 man days &   &    \\\\\n\\end{tabular}\n",
            "text/markdown": "\nA data.frame: 4 × 5\n\n| keterangan &lt;chr&gt; | workshop_1 &lt;chr&gt; | workshop_2 &lt;chr&gt; | demand_perweeks &lt;chr&gt; | profit &lt;chr&gt; |\n|---|---|---|---|---|\n| meja     | 2 man days           | 1 man days  | 5 | 150 |\n| lemari   | 5 man days           | 3 man days  | 3 | 250 |\n| kursi    | 1 man days           | 1 man days  | 6 | 100 |\n| man days | 10 man days per week | 14 man days | <!----> | <!----> |\n\n",
            "text/html": [
              "<table>\n",
              "<caption>A data.frame: 4 × 5</caption>\n",
              "<thead>\n",
              "\t<tr><th scope=col>keterangan</th><th scope=col>workshop_1</th><th scope=col>workshop_2</th><th scope=col>demand_perweeks</th><th scope=col>profit</th></tr>\n",
              "\t<tr><th scope=col>&lt;chr&gt;</th><th scope=col>&lt;chr&gt;</th><th scope=col>&lt;chr&gt;</th><th scope=col>&lt;chr&gt;</th><th scope=col>&lt;chr&gt;</th></tr>\n",
              "</thead>\n",
              "<tbody>\n",
              "\t<tr><td>meja    </td><td>2 man days          </td><td>1 man days </td><td>5</td><td>150</td></tr>\n",
              "\t<tr><td>lemari  </td><td>5 man days          </td><td>3 man days </td><td>3</td><td>250</td></tr>\n",
              "\t<tr><td>kursi   </td><td>1 man days          </td><td>1 man days </td><td>6</td><td>100</td></tr>\n",
              "\t<tr><td>man days</td><td>10 man days per week</td><td>14 man days</td><td> </td><td>   </td></tr>\n",
              "</tbody>\n",
              "</table>\n"
            ]
          },
          "metadata": {
            "tags": []
          }
        }
      ]
    },
    {
      "cell_type": "code",
      "metadata": {
        "id": "KTmyf31vtG93"
      },
      "source": [
        "# misalkan:\n",
        "# i : banyak produk, i=1,2,3\n",
        "# j : banyak plant, j=1,2\n",
        "\n",
        "# x[i,j] banyaknya produk i yang diproduksi di plant j\n",
        "# profit[i] : profit pada produk i"
      ],
      "execution_count": 18,
      "outputs": []
    },
    {
      "cell_type": "code",
      "metadata": {
        "colab": {
          "base_uri": "https://localhost:8080/",
          "height": 139
        },
        "id": "iK74VEbhUPsq",
        "outputId": "18496129-6a6f-4371-8427-d30143a05142"
      },
      "source": [
        "profit = c(150,250,100)\n",
        "\n",
        "model = \n",
        "  MIPModel() %>%\n",
        "  add_variable(x[i,j],\n",
        "               i = 1:3,\n",
        "               j = 1:2,\n",
        "               type = \"integer\",\n",
        "               lb = 0) %>%\n",
        "  set_objective(sum_expr(x[i,j] * profit[i], i = 1:3,j = 1:2),\n",
        "                \"max\"\n",
        "               ) %>%\n",
        "  add_constraint(2 * x[1,1] + 5 * x[2,1] + x[3,1] <= 10) %>%\n",
        "  add_constraint(1 * x[1,2] + 3 * x[2,2] + x[3,2] <= 14) %>%\n",
        "  add_constraint(x[1,1] + x[1,2] >= 5) %>%\n",
        "  add_constraint(x[2,1] + x[2,2] >= 3) %>%\n",
        "  add_constraint(x[3,1] + x[3,2] >= 6)\n",
        "model\n"
      ],
      "execution_count": 19,
      "outputs": [
        {
          "output_type": "display_data",
          "data": {
            "text/plain": [
              "Mixed integer linear optimization problem\n",
              "Variables:\n",
              "  Continuous: 0 \n",
              "  Integer: 6 \n",
              "  Binary: 0 \n",
              "Model sense: maximize \n",
              "Constraints: 5 "
            ]
          },
          "metadata": {
            "tags": []
          }
        }
      ]
    },
    {
      "cell_type": "code",
      "metadata": {
        "colab": {
          "base_uri": "https://localhost:8080/"
        },
        "id": "gvrPOGG_WTZV",
        "outputId": "56cd7768-cacd-4589-8ecd-7409d54c9bca"
      },
      "source": [
        "result <- solve_model(model, with_ROI(solver = \"glpk\", verbose = TRUE))"
      ],
      "execution_count": 20,
      "outputs": [
        {
          "output_type": "stream",
          "text": [
            "<SOLVER MSG>  ----\n",
            "GLPK Simplex Optimizer, v4.65\n",
            "5 rows, 6 columns, 12 non-zeros\n",
            "      0: obj =  -0.000000000e+00 inf =   1.400e+01 (3)\n",
            "      5: obj =   2.100000000e+03 inf =   0.000e+00 (0)\n",
            "*     7: obj =   2.500000000e+03 inf =   0.000e+00 (0)\n",
            "OPTIMAL LP SOLUTION FOUND\n",
            "GLPK Integer Optimizer, v4.65\n",
            "5 rows, 6 columns, 12 non-zeros\n",
            "6 integer variables, none of which are binary\n",
            "Integer optimization begins...\n",
            "Long-step dual simplex will be used\n",
            "+     7: mip =     not found yet <=              +inf        (1; 0)\n",
            "+     7: >>>>>   2.500000000e+03 <=   2.500000000e+03   0.0% (1; 0)\n",
            "+     7: mip =   2.500000000e+03 <=     tree is empty   0.0% (0; 1)\n",
            "INTEGER OPTIMAL SOLUTION FOUND\n",
            "<!SOLVER MSG> ----\n"
          ],
          "name": "stdout"
        }
      ]
    },
    {
      "cell_type": "code",
      "metadata": {
        "colab": {
          "base_uri": "https://localhost:8080/",
          "height": 35
        },
        "id": "yR_hIvlLczux",
        "outputId": "155aa32d-4192-4433-a41a-d9b650aede54"
      },
      "source": [
        "result$solution"
      ],
      "execution_count": 21,
      "outputs": [
        {
          "output_type": "display_data",
          "data": {
            "text/plain": [
              "x[1,1] x[2,1] x[3,1] x[1,2] x[2,2] x[3,2] \n",
              "     0      0     10      5      3      0 "
            ],
            "text/latex": "\\begin{description*}\n\\item[x\\{{[}\\}1,1\\{{]}\\}] 0\n\\item[x\\{{[}\\}2,1\\{{]}\\}] 0\n\\item[x\\{{[}\\}3,1\\{{]}\\}] 10\n\\item[x\\{{[}\\}1,2\\{{]}\\}] 5\n\\item[x\\{{[}\\}2,2\\{{]}\\}] 3\n\\item[x\\{{[}\\}3,2\\{{]}\\}] 0\n\\end{description*}\n",
            "text/markdown": "x[1,1]\n:   0x[2,1]\n:   0x[3,1]\n:   10x[1,2]\n:   5x[2,2]\n:   3x[3,2]\n:   0\n\n",
            "text/html": [
              "<style>\n",
              ".dl-inline {width: auto; margin:0; padding: 0}\n",
              ".dl-inline>dt, .dl-inline>dd {float: none; width: auto; display: inline-block}\n",
              ".dl-inline>dt::after {content: \":\\0020\"; padding-right: .5ex}\n",
              ".dl-inline>dt:not(:first-of-type) {padding-left: .5ex}\n",
              "</style><dl class=dl-inline><dt>x[1,1]</dt><dd>0</dd><dt>x[2,1]</dt><dd>0</dd><dt>x[3,1]</dt><dd>10</dd><dt>x[1,2]</dt><dd>5</dd><dt>x[2,2]</dt><dd>3</dd><dt>x[3,2]</dt><dd>0</dd></dl>\n"
            ]
          },
          "metadata": {
            "tags": []
          }
        }
      ]
    },
    {
      "cell_type": "code",
      "metadata": {
        "colab": {
          "base_uri": "https://localhost:8080/",
          "height": 35
        },
        "id": "6ftf8taV-Stt",
        "outputId": "33c7b9fb-e66c-4d2a-f9bb-bf04abb4d65a"
      },
      "source": [
        "result$objective_value"
      ],
      "execution_count": 22,
      "outputs": [
        {
          "output_type": "display_data",
          "data": {
            "text/plain": [
              "[1] 2500"
            ],
            "text/latex": "2500",
            "text/markdown": "2500",
            "text/html": [
              "2500"
            ]
          },
          "metadata": {
            "tags": []
          }
        }
      ]
    }
  ]
}