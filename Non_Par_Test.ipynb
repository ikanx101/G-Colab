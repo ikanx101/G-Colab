{
  "nbformat": 4,
  "nbformat_minor": 0,
  "metadata": {
    "colab": {
      "name": "Non Par Test",
      "provenance": [],
      "authorship_tag": "ABX9TyMRZZG5SBSzksjGZfGQniOr",
      "include_colab_link": true
    },
    "kernelspec": {
      "name": "ir",
      "display_name": "R"
    }
  },
  "cells": [
    {
      "cell_type": "markdown",
      "metadata": {
        "id": "view-in-github",
        "colab_type": "text"
      },
      "source": [
        "<a href=\"https://colab.research.google.com/github/ikanx101/G-Colab/blob/main/Non_Par_Test.ipynb\" target=\"_parent\"><img src=\"https://colab.research.google.com/assets/colab-badge.svg\" alt=\"Open In Colab\"/></a>"
      ]
    },
    {
      "cell_type": "markdown",
      "metadata": {
        "id": "6PDPpjCe29Mh"
      },
      "source": [
        "# Uji dua rerata dua populasi\n",
        "## Dengan non parametrik"
      ]
    },
    {
      "cell_type": "code",
      "metadata": {
        "id": "ug0-_mcJ24xQ"
      },
      "source": [
        "rm(list = ls())\n",
        "library(dplyr)\n",
        "library(readxl)"
      ],
      "execution_count": null,
      "outputs": []
    },
    {
      "cell_type": "code",
      "metadata": {
        "colab": {
          "base_uri": "https://localhost:8080/"
        },
        "id": "5zn-BI-u3ICU",
        "outputId": "fc6bf603-00f1-4920-e095-9cc9a2931d1d"
      },
      "source": [
        "# import data\n",
        "data = read_excel(\"Before after WFH.xlsx\") %>% janitor::clean_names()\n",
        "str(data)"
      ],
      "execution_count": null,
      "outputs": [
        {
          "output_type": "stream",
          "text": [
            "tibble [96 × 5] (S3: tbl_df/tbl/data.frame)\n",
            " $ treatment         : chr [1:96] \"WFO\" \"WFO\" \"WFO\" \"WFH\" ...\n",
            " $ periode           : POSIXct[1:96], format: \"2020-01-01\" \"2020-02-01\" ...\n",
            " $ officer           : chr [1:96] \"A\" \"A\" \"A\" \"A\" ...\n",
            " $ jumlah_pad        : num [1:96] 201 376 275 337 177 298 292 198 257 257 ...\n",
            " $ jumlah_tepat_waktu: num [1:96] 173 362 231 292 160 285 283 186 250 231 ...\n"
          ],
          "name": "stdout"
        }
      ]
    },
    {
      "cell_type": "code",
      "metadata": {
        "colab": {
          "base_uri": "https://localhost:8080/",
          "height": 202
        },
        "id": "V8A-fM8U5SwO",
        "outputId": "e351c793-b1ff-4090-fb97-04f1fe92aacb"
      },
      "source": [
        "# lihat head data\n",
        "head(data)"
      ],
      "execution_count": null,
      "outputs": [
        {
          "output_type": "display_data",
          "data": {
            "text/plain": [
              "  treatment periode    officer jumlah_pad jumlah_tepat_waktu\n",
              "1 WFO       2020-01-01 A       201        173               \n",
              "2 WFO       2020-02-01 A       376        362               \n",
              "3 WFO       2020-03-01 A       275        231               \n",
              "4 WFH       2020-04-01 A       337        292               \n",
              "5 WFH       2020-05-01 A       177        160               \n",
              "6 WFH       2020-06-01 A       298        285               "
            ],
            "text/latex": "A tibble: 6 × 5\n\\begin{tabular}{lllll}\n treatment & periode & officer & jumlah\\_pad & jumlah\\_tepat\\_waktu\\\\\n <chr> & <dttm> & <chr> & <dbl> & <dbl>\\\\\n\\hline\n\t WFO & 2020-01-01 & A & 201 & 173\\\\\n\t WFO & 2020-02-01 & A & 376 & 362\\\\\n\t WFO & 2020-03-01 & A & 275 & 231\\\\\n\t WFH & 2020-04-01 & A & 337 & 292\\\\\n\t WFH & 2020-05-01 & A & 177 & 160\\\\\n\t WFH & 2020-06-01 & A & 298 & 285\\\\\n\\end{tabular}\n",
            "text/markdown": "\nA tibble: 6 × 5\n\n| treatment &lt;chr&gt; | periode &lt;dttm&gt; | officer &lt;chr&gt; | jumlah_pad &lt;dbl&gt; | jumlah_tepat_waktu &lt;dbl&gt; |\n|---|---|---|---|---|\n| WFO | 2020-01-01 | A | 201 | 173 |\n| WFO | 2020-02-01 | A | 376 | 362 |\n| WFO | 2020-03-01 | A | 275 | 231 |\n| WFH | 2020-04-01 | A | 337 | 292 |\n| WFH | 2020-05-01 | A | 177 | 160 |\n| WFH | 2020-06-01 | A | 298 | 285 |\n\n",
            "text/html": [
              "<table>\n",
              "<caption>A tibble: 6 × 5</caption>\n",
              "<thead>\n",
              "\t<tr><th scope=col>treatment</th><th scope=col>periode</th><th scope=col>officer</th><th scope=col>jumlah_pad</th><th scope=col>jumlah_tepat_waktu</th></tr>\n",
              "\t<tr><th scope=col>&lt;chr&gt;</th><th scope=col>&lt;dttm&gt;</th><th scope=col>&lt;chr&gt;</th><th scope=col>&lt;dbl&gt;</th><th scope=col>&lt;dbl&gt;</th></tr>\n",
              "</thead>\n",
              "<tbody>\n",
              "\t<tr><td>WFO</td><td>2020-01-01</td><td>A</td><td>201</td><td>173</td></tr>\n",
              "\t<tr><td>WFO</td><td>2020-02-01</td><td>A</td><td>376</td><td>362</td></tr>\n",
              "\t<tr><td>WFO</td><td>2020-03-01</td><td>A</td><td>275</td><td>231</td></tr>\n",
              "\t<tr><td>WFH</td><td>2020-04-01</td><td>A</td><td>337</td><td>292</td></tr>\n",
              "\t<tr><td>WFH</td><td>2020-05-01</td><td>A</td><td>177</td><td>160</td></tr>\n",
              "\t<tr><td>WFH</td><td>2020-06-01</td><td>A</td><td>298</td><td>285</td></tr>\n",
              "</tbody>\n",
              "</table>\n"
            ]
          },
          "metadata": {
            "tags": []
          }
        }
      ]
    },
    {
      "cell_type": "code",
      "metadata": {
        "colab": {
          "base_uri": "https://localhost:8080/",
          "height": 119
        },
        "id": "muGCuPKr30bW",
        "outputId": "a271bd6c-4e0d-41d3-8533-7c3986cf51c0"
      },
      "source": [
        "# Berapa banyak data treatment nya?\n",
        "data %>%\n",
        "   group_by(treatment) %>%\n",
        "   summarise(freq = n()) %>%\n",
        "   ungroup()"
      ],
      "execution_count": null,
      "outputs": [
        {
          "output_type": "display_data",
          "data": {
            "text/plain": [
              "  treatment freq\n",
              "1 WFH       36  \n",
              "2 WFO       60  "
            ],
            "text/latex": "A tibble: 2 × 2\n\\begin{tabular}{r|ll}\n  & treatment & freq\\\\\n  & <chr> & <int>\\\\\n\\hline\n\t1 & WFH & 36\\\\\n\t2 & WFO & 60\\\\\n\\end{tabular}\n",
            "text/markdown": "\nA tibble: 2 × 2\n\n| <!--/--> | treatment &lt;chr&gt; | freq &lt;int&gt; |\n|---|---|---|\n| 1 | WFH | 36 |\n| 2 | WFO | 60 |\n\n",
            "text/html": [
              "<table>\n",
              "<caption>A tibble: 2 × 2</caption>\n",
              "<thead>\n",
              "\t<tr><th></th><th scope=col>treatment</th><th scope=col>freq</th></tr>\n",
              "\t<tr><th></th><th scope=col>&lt;chr&gt;</th><th scope=col>&lt;int&gt;</th></tr>\n",
              "</thead>\n",
              "<tbody>\n",
              "\t<tr><th scope=row>1</th><td>WFH</td><td>36</td></tr>\n",
              "\t<tr><th scope=row>2</th><td>WFO</td><td>60</td></tr>\n",
              "</tbody>\n",
              "</table>\n"
            ]
          },
          "metadata": {
            "tags": []
          }
        }
      ]
    },
    {
      "cell_type": "code",
      "metadata": {
        "colab": {
          "base_uri": "https://localhost:8080/",
          "height": 139
        },
        "id": "tvr6jiY65ACM",
        "outputId": "ce0645bf-560a-4128-ec13-fdac0ec62753"
      },
      "source": [
        "# uji apakah ada perbedaan jumlah PAD antara WFH dan WFO?\n",
        "uji_pad = wilcox.test(jumlah_pad ~ treatment,data)\n",
        "uji_pad\n",
        "p_val = uji_pad$p.value\n",
        "hasil = if_else(p_val < .05,\n",
        "                \"Tolak HO: rata-rata PAD di WFH dan WFO berbeda\",\n",
        "                \"H0 tidak ditolak: rata-rata PAD di WFH dan WFO sama\")\n",
        "hasil"
      ],
      "execution_count": null,
      "outputs": [
        {
          "output_type": "display_data",
          "data": {
            "text/plain": [
              "\n",
              "\tWilcoxon rank sum test with continuity correction\n",
              "\n",
              "data:  jumlah_pad by treatment\n",
              "W = 1260, p-value = 0.1743\n",
              "alternative hypothesis: true location shift is not equal to 0\n"
            ]
          },
          "metadata": {
            "tags": []
          }
        },
        {
          "output_type": "display_data",
          "data": {
            "text/plain": [
              "[1] \"H0 tidak ditolak: rata-rata PAD di WFH dan WFO sama\""
            ],
            "text/latex": "'H0 tidak ditolak: rata-rata PAD di WFH dan WFO sama'",
            "text/markdown": "'H0 tidak ditolak: rata-rata PAD di WFH dan WFO sama'",
            "text/html": [
              "'H0 tidak ditolak: rata-rata PAD di WFH dan WFO sama'"
            ]
          },
          "metadata": {
            "tags": []
          }
        }
      ]
    },
    {
      "cell_type": "code",
      "metadata": {
        "colab": {
          "base_uri": "https://localhost:8080/",
          "height": 139
        },
        "id": "I0ZG0ozI68zh",
        "outputId": "aea58570-b741-4d4a-c53c-67f5cf043038"
      },
      "source": [
        "uji_waktu = wilcox.test(jumlah_tepat_waktu ~ treatment, data)\n",
        "uji_waktu\n",
        "p_val2 = uji_waktu$p.value\n",
        "hasil = if_else(p_val2 < .05,\n",
        "                \"Tolak H0: rata-rata waktu di WFH dan WFO berbeda\",\n",
        "                \"H0 tidak ditolak: rata-rata waktu di WFH dan WFO berbeda\")\n",
        "hasil"
      ],
      "execution_count": null,
      "outputs": [
        {
          "output_type": "display_data",
          "data": {
            "text/plain": [
              "\n",
              "\tWilcoxon rank sum test with continuity correction\n",
              "\n",
              "data:  jumlah_tepat_waktu by treatment\n",
              "W = 1081.5, p-value = 0.994\n",
              "alternative hypothesis: true location shift is not equal to 0\n"
            ]
          },
          "metadata": {
            "tags": []
          }
        },
        {
          "output_type": "display_data",
          "data": {
            "text/plain": [
              "[1] \"H0 tidak ditolak: rata-rata waktu di WFH dan WFO berbeda\""
            ],
            "text/latex": "'H0 tidak ditolak: rata-rata waktu di WFH dan WFO berbeda'",
            "text/markdown": "'H0 tidak ditolak: rata-rata waktu di WFH dan WFO berbeda'",
            "text/html": [
              "'H0 tidak ditolak: rata-rata waktu di WFH dan WFO berbeda'"
            ]
          },
          "metadata": {
            "tags": []
          }
        }
      ]
    }
  ]
}